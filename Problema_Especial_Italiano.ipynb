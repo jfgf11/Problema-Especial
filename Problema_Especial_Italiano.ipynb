{
  "nbformat": 4,
  "nbformat_minor": 0,
  "metadata": {
    "colab": {
      "name": "Problema Especial Italiano.ipynb",
      "provenance": [],
      "collapsed_sections": [],
      "toc_visible": true,
      "machine_shape": "hm",
      "include_colab_link": true
    },
    "kernelspec": {
      "name": "python3",
      "display_name": "Python 3"
    },
    "accelerator": "GPU"
  },
  "cells": [
    {
      "cell_type": "markdown",
      "metadata": {
        "id": "view-in-github",
        "colab_type": "text"
      },
      "source": [
        "<a href=\"https://colab.research.google.com/github/jfgf11/Problema-Especial/blob/master/Problema_Especial_Italiano.ipynb\" target=\"_parent\"><img src=\"https://colab.research.google.com/assets/colab-badge.svg\" alt=\"Open In Colab\"/></a>"
      ]
    },
    {
      "cell_type": "code",
      "metadata": {
        "id": "mtf-HdYxvLE9",
        "colab_type": "code",
        "outputId": "82adea0b-3046-4ce6-a8a9-2f345396182d",
        "colab": {
          "base_uri": "https://localhost:8080/",
          "height": 128
        }
      },
      "source": [
        "#Se monta el Drive para importar y guardar los datos y modelos.\n",
        "from google.colab import drive\n",
        "drive.mount('/content/drive')#,force_remount = True)"
      ],
      "execution_count": 0,
      "outputs": [
        {
          "output_type": "stream",
          "text": [
            "Go to this URL in a browser: https://accounts.google.com/o/oauth2/auth?client_id=947318989803-6bn6qk8qdgf4n4g3pfee6491hc0brc4i.apps.googleusercontent.com&redirect_uri=urn%3aietf%3awg%3aoauth%3a2.0%3aoob&response_type=code&scope=email%20https%3a%2f%2fwww.googleapis.com%2fauth%2fdocs.test%20https%3a%2f%2fwww.googleapis.com%2fauth%2fdrive%20https%3a%2f%2fwww.googleapis.com%2fauth%2fdrive.photos.readonly%20https%3a%2f%2fwww.googleapis.com%2fauth%2fpeopleapi.readonly\n",
            "\n",
            "Enter your authorization code:\n",
            "··········\n",
            "Mounted at /content/drive\n"
          ],
          "name": "stdout"
        }
      ]
    },
    {
      "cell_type": "code",
      "metadata": {
        "id": "gKEEuc5e9DuD",
        "colab_type": "code",
        "outputId": "a566a925-beed-442c-effe-9d391fdeaccd",
        "colab": {
          "base_uri": "https://localhost:8080/",
          "height": 272
        }
      },
      "source": [
        "# Se instalan las librerias necesarias\n",
        "!pip install librosa\n",
        "!pip install progressbar2"
      ],
      "execution_count": 0,
      "outputs": [
        {
          "output_type": "stream",
          "text": [
            "Requirement already satisfied: librosa in /usr/local/lib/python3.6/dist-packages (0.6.3)\n",
            "Requirement already satisfied: numba>=0.38.0 in /usr/local/lib/python3.6/dist-packages (from librosa) (0.47.0)\n",
            "Requirement already satisfied: joblib>=0.12 in /usr/local/lib/python3.6/dist-packages (from librosa) (0.14.1)\n",
            "Requirement already satisfied: resampy>=0.2.0 in /usr/local/lib/python3.6/dist-packages (from librosa) (0.2.2)\n",
            "Requirement already satisfied: decorator>=3.0.0 in /usr/local/lib/python3.6/dist-packages (from librosa) (4.4.2)\n",
            "Requirement already satisfied: audioread>=2.0.0 in /usr/local/lib/python3.6/dist-packages (from librosa) (2.1.8)\n",
            "Requirement already satisfied: six>=1.3 in /usr/local/lib/python3.6/dist-packages (from librosa) (1.12.0)\n",
            "Requirement already satisfied: scikit-learn!=0.19.0,>=0.14.0 in /usr/local/lib/python3.6/dist-packages (from librosa) (0.22.2.post1)\n",
            "Requirement already satisfied: numpy>=1.8.0 in /usr/local/lib/python3.6/dist-packages (from librosa) (1.18.2)\n",
            "Requirement already satisfied: scipy>=1.0.0 in /usr/local/lib/python3.6/dist-packages (from librosa) (1.4.1)\n",
            "Requirement already satisfied: setuptools in /usr/local/lib/python3.6/dist-packages (from numba>=0.38.0->librosa) (46.0.0)\n",
            "Requirement already satisfied: llvmlite>=0.31.0dev0 in /usr/local/lib/python3.6/dist-packages (from numba>=0.38.0->librosa) (0.31.0)\n",
            "Requirement already satisfied: progressbar2 in /usr/local/lib/python3.6/dist-packages (3.38.0)\n",
            "Requirement already satisfied: python-utils>=2.3.0 in /usr/local/lib/python3.6/dist-packages (from progressbar2) (2.4.0)\n",
            "Requirement already satisfied: six in /usr/local/lib/python3.6/dist-packages (from progressbar2) (1.12.0)\n"
          ],
          "name": "stdout"
        }
      ]
    },
    {
      "cell_type": "code",
      "metadata": {
        "id": "l_goXBoAPsnt",
        "colab_type": "code",
        "colab": {}
      },
      "source": [
        "import tensorflow.compat.v1 as tf\n",
        "tf.disable_v2_behavior()"
      ],
      "execution_count": 0,
      "outputs": []
    },
    {
      "cell_type": "markdown",
      "metadata": {
        "id": "cqWuMaqiELzW",
        "colab_type": "text"
      },
      "source": [
        "# Importar"
      ]
    },
    {
      "cell_type": "code",
      "metadata": {
        "id": "rV__vdiK4GUH",
        "colab_type": "code",
        "colab": {}
      },
      "source": [
        "import matplotlib.pyplot as plt\n",
        "\n",
        "# Tensor Flow\n",
        "from tensorflow.keras import Sequential\n",
        "from tensorflow.keras.layers import Dense\n",
        "from tensorflow.keras.layers import Dropout\n",
        "from tensorflow.keras.layers import Conv1D\n",
        "from tensorflow.keras.layers import MaxPooling1D\n",
        "from tensorflow.keras.layers import AveragePooling1D\n",
        "from tensorflow.keras.layers import GlobalAveragePooling1D\n",
        "from tensorflow.keras.layers import GlobalMaxPooling1D\n",
        "from tensorflow.keras.layers import Conv2D\n",
        "from tensorflow.keras.layers import MaxPooling2D\n",
        "from tensorflow.keras.layers import AveragePooling2D\n",
        "from tensorflow.keras.layers import GlobalAveragePooling2D\n",
        "from tensorflow.keras.layers import GlobalMaxPooling2D\n",
        "from tensorflow.keras.layers import Flatten\n",
        "from tensorflow.keras.layers import concatenate\n",
        "from tensorflow.keras.layers import Input\n",
        "from tensorflow.keras.layers import LSTM\n",
        "from tensorflow.keras.layers import Reshape\n",
        "from tensorflow.keras.layers import BatchNormalization\n",
        "from tensorflow.keras.layers import Activation\n",
        "from tensorflow.keras import optimizers\n",
        "from tensorflow.keras.regularizers import l2\n",
        "from tensorflow.keras.wrappers.scikit_learn import KerasClassifier\n",
        "from tensorflow.keras.models import model_from_json\n",
        "from tensorflow.keras.models import Model\n",
        "from tensorflow.keras.utils import model_to_dot\n",
        "from tensorflow.keras.utils import plot_model\n",
        "from IPython.display import SVG\n",
        "\n",
        "# Recopilacion de datos\n",
        "import xml.dom.minidom\n",
        "from scipy.io import wavfile\n",
        "import numpy as np\n",
        "\n",
        "# Para el preprocesamiento\n",
        "from sklearn.model_selection import train_test_split\n",
        "from imblearn.over_sampling import RandomOverSampler\n",
        "from imblearn.under_sampling import RandomUnderSampler\n",
        "from sklearn import preprocessing\n",
        "from collections import Counter\n",
        "\n",
        "import librosa\n",
        "import progressbar\n",
        "\n",
        "\n",
        "# Import libraries \n",
        "import librosa.display\n",
        "from matplotlib.pyplot import specgram\n",
        "import pandas as pd\n",
        "import glob \n",
        "from sklearn.metrics import confusion_matrix\n",
        "import IPython.display as ipd  # To play sound in the notebook\n",
        "import os\n",
        "import sys\n",
        "import warnings\n",
        "\n",
        "\n",
        "#Redes neuronales sklearn\n",
        "from sklearn.neural_network import MLPClassifier\n",
        "from sklearn.metrics import confusion_matrix\n",
        "from sklearn.metrics import plot_confusion_matrix \n",
        "import matplotlib.pyplot as plt\n",
        "import seaborn as sns\n",
        "from scipy import stats\n",
        "\n",
        "\n",
        "\n",
        "\n",
        "from sklearn.utils.class_weight import compute_class_weight\n",
        "\n"
      ],
      "execution_count": 0,
      "outputs": []
    },
    {
      "cell_type": "markdown",
      "metadata": {
        "id": "VhIXgu2x18kP",
        "colab_type": "text"
      },
      "source": [
        "# Funciones Resultados"
      ]
    },
    {
      "cell_type": "code",
      "metadata": {
        "id": "1HF9cm7zJN8R",
        "colab_type": "code",
        "colab": {}
      },
      "source": [
        "# De los creadores de EntrenamientoModelo*\n",
        "def graficarMatrizConfusion(y_true, y_pred):\n",
        "  cm = confusion_matrix(y_true, y_pred)\n",
        "  cm = cm.astype('float') / cm.sum(axis=1)[:, np.newaxis]  \n",
        "\n",
        "  plt.figure(figsize=(8,8))\n",
        "\n",
        "  ax = sns.heatmap(cm, annot = True, cbar = False);\n",
        "      \n",
        "  ax.xaxis.tick_top()\n",
        "  ax.xaxis.set_label_position('top')\n",
        "      \n",
        "  plt.xlabel(\"Clase Prediccion\")\n",
        "  plt.ylabel(\"Clase Verdadera\")\n",
        "  plt.title(\"Matriz de Confusion\")\n",
        "\n",
        "  plt.show()\n",
        "  "
      ],
      "execution_count": 0,
      "outputs": []
    },
    {
      "cell_type": "markdown",
      "metadata": {
        "id": "bZzT8SSv8nzk",
        "colab_type": "text"
      },
      "source": [
        "# Cargar y guardar modelos"
      ]
    },
    {
      "cell_type": "code",
      "metadata": {
        "id": "YK5RLFzj4hu9",
        "colab_type": "code",
        "colab": {}
      },
      "source": [
        "# De los creadores de EntrenamientoModelo*\n",
        "#Estas funciones permiten guardar y cargar un modelo, a partir de las rutas indicadas por parametro.\n",
        "def guardarModelo(pModelo, pRutaModelo, pRutaPesos, pRutaDiagrama):\n",
        "  modelo_json = pModelo.to_json()\n",
        "\n",
        "  with open(pRutaModelo, \"w\") as archivo_json:\n",
        "      archivo_json.write(modelo_json)\n",
        "\n",
        "  pModelo.save_weights(pRutaPesos)\n",
        "\n",
        "  plot_model(pModelo, to_file = pRutaDiagrama, show_shapes = True)\n",
        "\n",
        "def cargarModelo(pRutaModelo, pRutaPesos):\n",
        "  archivo_json = open(pRutaModelo, 'r')\n",
        "  modelo_json = archivo_json.read()\n",
        "  archivo_json.close()\n",
        "  modelo = model_from_json(modelo_json)\n",
        "\n",
        "  modelo.load_weights(pRutaPesos)\n",
        "\n",
        "  return modelo"
      ],
      "execution_count": 0,
      "outputs": []
    },
    {
      "cell_type": "markdown",
      "metadata": {
        "id": "rJf6aq0g378c",
        "colab_type": "text"
      },
      "source": [
        "Guardar modelo"
      ]
    },
    {
      "cell_type": "code",
      "metadata": {
        "id": "21Qz9FD_kWFx",
        "colab_type": "code",
        "colab": {}
      },
      "source": [
        "Nombre = \"Jorge\"\n",
        "Numero = \"1\"\n",
        "#utaModelo = \"drive/My Drive/Proyecto Especial Italiano/Modelos/Modelos raw_Conv/Modelo_\"+Nombre+\"_\"+Numero+\".json\"\n",
        "#rutaPesos = \"drive/My Drive/Proyecto Especial Italiano/Modelos/Modelos raw_Conv/Pesos_Modelo_\"+Nombre+\"_\"+Numero+\".h5\"\n",
        "#rutaDiagrama = \"drive/My Drive/Proyecto Especial Italiano/Modelos/Modelos raw_Conv/Diagrama_Modelo_\"+Nombre+\"_\"+Numero+\".png\"\n",
        "\n",
        "#guardarModelo(modelo1, rutaModelo, rutaPesos, rutaDiagrama)\n"
      ],
      "execution_count": 0,
      "outputs": []
    },
    {
      "cell_type": "markdown",
      "metadata": {
        "id": "_Saj0QSA3_eL",
        "colab_type": "text"
      },
      "source": [
        "Cargar Modelo"
      ]
    },
    {
      "cell_type": "code",
      "metadata": {
        "id": "yYU5l-IiFdrH",
        "colab_type": "code",
        "colab": {}
      },
      "source": [
        "Nombre = \"Jorge\"\n",
        "Numero = \"1\"\n",
        "#rutaModelo = \"drive/My Drive/Proyecto Especial Italiano/Modelos/Modelos raw_Conv/Modelo_\"+Nombre+\"_\"+Numero+\".json\"\n",
        "#rutaPesos =  \"drive/My Drive/Proyecto Especial Italiano/Modelos/Modelos raw_Conv/Pesos_Modelo_\"+Nombre+\"_\"+Numero+\".h5\"\n",
        "#modelo1 = cargarModelo(pRutaModelo=rutaModelo, pRutaPesos=rutaPesos)"
      ],
      "execution_count": 0,
      "outputs": []
    },
    {
      "cell_type": "code",
      "metadata": {
        "id": "3hlwalP_JqiY",
        "colab_type": "code",
        "colab": {}
      },
      "source": [
        "#a = np.zeros(1280000000)"
      ],
      "execution_count": 0,
      "outputs": []
    },
    {
      "cell_type": "markdown",
      "metadata": {
        "id": "NLQEssmxVerC",
        "colab_type": "text"
      },
      "source": [
        "# Recopilación de Datos"
      ]
    },
    {
      "cell_type": "code",
      "metadata": {
        "id": "KwMARXzLvh-F",
        "colab_type": "code",
        "colab": {}
      },
      "source": [
        "def ObtenerSonidos(Inicial_pNXML,   Final_pNXML,    Inicial_nAudios,               Final_nAudios,\n",
        "                  ventana_Tiempo=0.1,         salto_de_ventana=4,    Calcular_Features=False,       Sin_Background = False,\n",
        "                  rutaDatosXML=\"drive/My Drive/Proyecto Especial Italiano/MIVIA_DB4_dist/training\",\n",
        "                  rutaDatosSounds =\"drive/My Drive/Proyecto Especial Italiano/MIVIA_DB4_dist/training/sounds\", Solo_Background = False,\n",
        "                  sample_rate = 32000, MFCC = False, window_length_stft= 0.032, Step_size_stft=0.01, Espectogram = False ):\n",
        "\n",
        "\n",
        "  NMV = round(ventana_Tiempo*sample_rate) # Numero de muestras por ventana\n",
        "  NMV_advance = round(NMV/salto_de_ventana) # Numero de muestras por las cuales se avanza\n",
        "\n",
        "  if Calcular_Features: datos_x_totales=np.zeros((1,312)) \n",
        "  else: datos_x_totales=np.zeros((int(1280000000/NMV),NMV))\n",
        "  datos_y_totales=np.zeros(int(1280000000/NMV))\n",
        "  contador=0\n",
        "\n",
        "  with progressbar.ProgressBar(max_value=(Final_pNXML-Inicial_pNXML+1)*(Final_nAudios-Inicial_nAudios+1)) as bar:\n",
        "    longitud_actual = 0\n",
        "    for i in range(Inicial_pNXML_,(Final_pNXML_+1)):\n",
        "        \n",
        "        if i<10:  h=\"0\" # Se hace esto debido que en los audios hay elementos 00001_01 y 00010_1\n",
        "        else: h=\"\"\n",
        "\n",
        "        doc = xml.dom.minidom.parse(rutaDatosXML + \"/000\" + h + str(i) + \".xml\")\n",
        "        start = doc.getElementsByTagName(\"STARTSECOND\") #Vector que contiene el tiempo en segundos de inicio de todos los eventos \n",
        "        finish = doc.getElementsByTagName(\"ENDSECOND\") #Vector que contiene el tiempo en segundos de finalizacion de todos los eventos\n",
        "        ID = doc.getElementsByTagName(\"CLASS_ID\") # Vector que contiene la etiqueta de cada uno de los eventos\n",
        "        events = doc.getElementsByTagName(\"events\") # Indica informacion de todos los eventos en un archivo xml (tamaño)\n",
        "        a, b, c, d=(events[0].attributes[\"size\"].value) #Se obtiene el numero de eventos en un audio\n",
        "        nEventos = int(c+d) # numero de eventos en un audio\n",
        "\n",
        "\n",
        "        for a in range(Inicial_nAudios, (Final_nAudios)+1):# Numero de audios por xml\n",
        "          if a<2: # Se hace esto debido que en los audios hay elementos 00001_01 y 00010_1\n",
        "            r = \"0\"\n",
        "            t=str(a)\n",
        "          else:\n",
        "            t=str(a-1)\n",
        "            r=\"\"\n",
        "          frameData, fs = librosa.load(rutaDatosSounds + '/000' + h + str(i) +'_'+ r + t +'.wav', sr=sample_rate, res_type='kaiser_fast') #Audio seleccionado\n",
        "          datos_x = (librosa.util.frame(frameData, frame_length=NMV, hop_length=NMV_advance)).T # Reorganiza los datos dándole saltos de tiempo de NMV_advance y el número de muestras por ventana NMV\n",
        "          datos_y = np.zeros(len(frameData)) #Etiquetas de cada uno de los datos, los datos no asignados serán 0 y corresponderan a sonido ambiente\n",
        "\n",
        "          for j in range(0,nEventos): # Se recorre el numero de eventos para cada xml\n",
        "            startFrame = float(str(start[j].firstChild.data))*fs #Posicion inicial de evento con respecto a frameData\n",
        "            endFrame = float(str(finish[j].firstChild.data))*fs #Posicion final de evento con respecto a frameData\n",
        "            label = ID[j].firstChild.data #etiqueta del evento\n",
        "\n",
        "            datos_y[round(startFrame):round(endFrame)]=int(label) # Se asigna la etiqueta a cada uno de los datos recopilados\n",
        "\n",
        "          datos_y = (((stats.mode(librosa.util.frame(datos_y, frame_length=NMV, hop_length=NMV_advance)))[0]).T)# Con esto se asigna la etiqueta a datos desplazados en el tiempo\n",
        "          datos_y = np.reshape(datos_y, (-1), 'F')\n",
        "\n",
        "          if Sin_Background: # Si se quieren datos sin background\n",
        "            datos_x = datos_x[datos_y!=0,:]\n",
        "            datos_y =  datos_y[datos_y!=0]\n",
        "          \n",
        "          if Solo_Background:\n",
        "            datos_x = (datos_x[datos_y==0,:])[0:round(len(datos_y[datos_y==0])),:]\n",
        "            datos_y =  (datos_y[datos_y==0])[0:round(len(datos_y[datos_y==0]))]\n",
        "\n",
        "          longitud_siguiente = longitud_actual + len(datos_y)\n",
        "          datos_y_totales[longitud_actual:longitud_siguiente] = datos_y\n",
        "          datos_x_totales[longitud_actual:longitud_siguiente,:] = datos_x\n",
        "          longitud_actual = longitud_siguiente\n",
        "          \n",
        "\n",
        "          contador+=1\n",
        "          bar.update(contador) #Se actualiza la barra de progreso\n",
        "          \n",
        "    datos_x_totales = datos_x_totales[0:longitud_siguiente,:]\n",
        "    datos_y_totales = datos_y_totales[0:longitud_siguiente]\n",
        "\n",
        "    datos_y_totales[datos_y_totales==4] = 1\n",
        "    dato_x2_totales = None\n",
        "    if MFCC or Espectogram: # Se crea el Spectogram para cada dato\n",
        "      dato_x2_totales = Crear_Datos_MFCC_o_Espectogram(datos_x_totales ,fs, window_length_stft, Step_size_stft,MFCC, Espectogram)\n",
        "\n",
        "    \n",
        "  return datos_x_totales, dato_x2_totales ,datos_y_totales"
      ],
      "execution_count": 0,
      "outputs": []
    },
    {
      "cell_type": "markdown",
      "metadata": {
        "id": "gITetZEsAM8B",
        "colab_type": "text"
      },
      "source": [
        "Datos Espectograma"
      ]
    },
    {
      "cell_type": "code",
      "metadata": {
        "id": "mo3wD4ALNroy",
        "colab_type": "code",
        "colab": {}
      },
      "source": [
        "def Crear_Datos_MFCC_o_Espectogram(pX,sr_, window_length_stft, Step_size_stft,MFCC, Espectogram):\n",
        "  contador=0\n",
        "  with progressbar.ProgressBar(max_value=(len(pX))) as bar:\n",
        "    if Espectogram:\n",
        "      if window_length_stft>=0.05 and window_length_stft>=0.025: ps = librosa.feature.melspectrogram(y=pX[0],  sr=sr_, n_fft = int(window_length_stft*sr_), hop_length = int(Step_size_stft*sr_))\n",
        "      else: ps = librosa.feature.melspectrogram(y=pX[0],  sr=sr_)\n",
        "    elif MFCC:\n",
        "      if window_length_stft>=0.05 and window_length_stft>=0.03125: ps = librosa.feature.mfcc(y=pX[0], sr=fs, n_mfcc=13, n_fft = int(window_length_stft*sr_), hop_length = int(Step_size_stft*sr_), htk=True )\n",
        "      else: ps = librosa.feature.mfcc(y=pX[0], sr=fs, n_mfcc=13)\n",
        "\n",
        "    x_2 = np.zeros((len(pX)+1,len(ps),len(ps[0])))\n",
        "    for i in range(0,len(pX)):\n",
        "      if Espectogram:\n",
        "        if window_length_stft>=0.05 and window_length_stft>=0.025: ps = librosa.feature.melspectrogram(y=pX[i],  sr=sr_, n_fft = int(window_length_stft*sr_), hop_length = int(Step_size_stft*sr_))\n",
        "        else: ps = librosa.feature.melspectrogram(y=pX[i],  sr=sr_)\n",
        "        ps = librosa.power_to_db(ps, ref=np.max)\n",
        "      elif MFCC:\n",
        "        if window_length_stft>=0.05 and window_length_stft>=0.03125: ps = librosa.feature.mfcc(y=pX[i], sr=fs, n_mfcc=13, n_fft = int(window_length_stft*sr_), hop_length = int(Step_size_stft*sr_), htk=True )\n",
        "        else: ps = librosa.feature.mfcc(y=pX[i], sr=fs, n_mfcc=13)\n",
        "      x_2[i] = ps\n",
        "      contador+=1\n",
        "      bar.update(contador) #Se actualiza la barra de progreso\n",
        "  x_2 = x_2[0:-1,:]\n",
        "  return x_2"
      ],
      "execution_count": 0,
      "outputs": []
    },
    {
      "cell_type": "markdown",
      "metadata": {
        "id": "yw8G-HTuEpRI",
        "colab_type": "text"
      },
      "source": [
        "Lo siguiente permite obtener los datos de sonido y guardarlos. Al final se obtiene y se guarda lo siguiente:"
      ]
    },
    {
      "cell_type": "markdown",
      "metadata": {
        "id": "BwAHvnGHnx-7",
        "colab_type": "text"
      },
      "source": [
        "x: Vector que contiene datos crudos de sonido pasados por una ventana de hammin"
      ]
    },
    {
      "cell_type": "markdown",
      "metadata": {
        "id": "tVRiIQomn0nI",
        "colab_type": "text"
      },
      "source": [
        "x2: Vector que contiene MFCC o Espectogramas\n"
      ]
    },
    {
      "cell_type": "markdown",
      "metadata": {
        "id": "dJuv8ztgn3iW",
        "colab_type": "text"
      },
      "source": [
        "y: Vector que contiene las etiquetas de todos los datos"
      ]
    },
    {
      "cell_type": "code",
      "metadata": {
        "id": "INB19Yue-LQT",
        "colab_type": "code",
        "outputId": "7b122388-67a1-4529-8937-040e71d7e57f",
        "colab": {
          "base_uri": "https://localhost:8080/",
          "height": 67
        }
      },
      "source": [
        "ventana_Tiempo_ = 0.050 # La ventana de tiempo de cada muestra (XX_ms) \n",
        "ventana_Tiempo_String_ = \"050\" # La ventana de tiempo de cada muestra (XX_ms) \n",
        "salto_de_ventana_ = 4  # Corrimiento en tiempo (XXms/4)\n",
        "sample_rate_ = 16000 # Tasa remuestreo\n",
        "sample_rate_String = str(sample_rate_)\n",
        "# Si se está obteniendo el espectogramo, el valor de la ventana no puede ser menor a 0.025s\n",
        "# Si se está obteniendo el MFCC, el valor de la ventana no puede ser menor a 0.03125s\n",
        "window_length_stft_ = 0.025 # Ventana de tiempo para la short-Time Fourier Transform\n",
        "Step_size_stft_ = 0.010 # Saltos el en tiempo para la transformada de Fourier, fíjenlo menor a la ventana stft, si quieren pueden aumentar\n",
        "\n",
        "Sin_Background_ = False # True: no se obtienen datos de background; False: No se obtienen datos de background  NO MOVER\n",
        "Features_ = False # Obtener o no features NO MOVER\n",
        "Inicial_pNXML_ = 1 # Número inicial de archivos XML utilizados  NO MOVER, a menos de que se quiera obtener 45 a 55\n",
        "Final_pNXML_ = 10 # Número final de archivos XML utilizados  NO MOVER, a menos de que se quiera obtener 45 a 55\n",
        "Inicial_nAudios_ = 0 # Número inicial de audios que se obtendrán (esto no aplica para nuestros audios)  NO MOVER\n",
        "Final_nAudios_ = 7 # Número final de audios que se obtendrán (esto no aplica para nuestros audios)  NO MOVER\n",
        "rutaDatosXML_ = \"drive/My Drive/Proyecto Especial Italiano/MIVIA_DB4_dist/training\" #Ruta para encontrar archivos xml  NO MOVER\n",
        "rutaDatosSounds_ = \"drive/My Drive/Proyecto Especial Italiano/MIVIA_DB4_dist/training/sounds\"  #Ruta para encontrar Audios  NO MOVER\n",
        "Solo_Background_ = False #Solo obtener datos de background  NO MOVER\n",
        "Nombre = \"Jorge\" ## PONER NOMBRE QUIEN REALIZA LA PRUEBA\n",
        "#a,b,c,d,e=str(ventana_Tiempo_)\n",
        "\n",
        "\n",
        "# Si ambos son True, se obtendrá únicamente el espectogram\n",
        "Espectogram_ = True #Calcular el espectograma\n",
        "MFCC_ = False #Calcular a su vez el MFCC  \n",
        "\n",
        "\n",
        "x, x2, y =ObtenerSonidos(Inicial_pNXML = Inicial_pNXML_, Final_pNXML = Final_pNXML_,     Inicial_nAudios = Inicial_nAudios_,\n",
        "                    Final_nAudios = Final_nAudios_,  ventana_Tiempo=ventana_Tiempo_, salto_de_ventana=salto_de_ventana_, \n",
        "                    Calcular_Features=Features_,        Sin_Background =Sin_Background_, \n",
        "                    rutaDatosXML = rutaDatosXML_,   rutaDatosSounds=rutaDatosSounds_, Solo_Background = Solo_Background_, \n",
        "                    sample_rate=sample_rate_,        MFCC=MFCC_, window_length_stft= window_length_stft_, Step_size_stft=Step_size_stft_\n",
        "                    ,Espectogram = Espectogram_)\n",
        "\n",
        "if Sin_Background_: Back = \"_SIN_BACK\"\n",
        "elif Solo_Background_: Back = \"_SOLO_BACK\"\n",
        "else: Back = \"\"\n",
        "if Features_: Features_or_raw = \" Features\"\n",
        "else: Features_or_raw = \" raw_Conv\"\n",
        "\n",
        "if Espectogram_: Esp_o_Mfcc = \"Spectopgram\"\n",
        "elif MFCC_:Esp_o_Mfcc = \"MFCC\"\n",
        "else: Esp_o_Mfcc = \"\"\n",
        "\n",
        "if MFCC_ or Espectogram_:\n",
        "  np.save(\"drive/My Drive/Proyecto Especial Italiano/Datos Procesados/Datos\" + Features_or_raw +\"/x2_\"+str(Inicial_pNXML_)+\"-\"\n",
        "       + str(Final_pNXML_)+ \"_XML_\"+str(Inicial_nAudios_)+\"-\"+ str(Final_nAudios_) +\"_Audios_\"+ventana_Tiempo_String_+\"s_\"+ sample_rate_String + \"_\"+Nombre+  Back+ \"_\" \n",
        "       + Esp_o_Mfcc , x2)\n",
        "x2 = [] #Para poder guardar se deben eliminar los datos x2, esto puesto que los datos x se pasaran por una ventana de hammin\n",
        "NMV = round(ventana_Tiempo_*sample_rate_) # Numero de muestras por ventana\n",
        "window = np.hamming(NMV) # se crea la ventana de hamming\n",
        "x = x*window #Se pasa cada uno de los datos por una ventana de hamming\n",
        "\n",
        "np.save(\"drive/My Drive/Proyecto Especial Italiano/Datos Procesados/Datos\" + Features_or_raw +\"/x_\"+str(Inicial_pNXML_)+\"-\"\n",
        "        + str(Final_pNXML_)+ \"_XML_\"+str(Inicial_nAudios_)+\"-\"+ str(Final_nAudios_) +\"_Audios_\"+ventana_Tiempo_String_+\"s_\"+sample_rate_String + \"_\"+Nombre +Back, x)\n",
        "np.save(\"drive/My Drive/Proyecto Especial Italiano/Datos Procesados/Datos\" + Features_or_raw +\"/y_\"+str(Inicial_pNXML_)+\"-\"\n",
        "        + str(Final_pNXML_)+ \"_XML_\"+str(Inicial_nAudios_)+\"-\"+ str(Final_nAudios_) +\"_Audios_\"+ventana_Tiempo_String_+\"s_\"+sample_rate_String + \"_\" + Nombre  + Back, y)\n",
        "print(\"Se acabo\")"
      ],
      "execution_count": 0,
      "outputs": [
        {
          "output_type": "stream",
          "text": [
            "100% (1174056 of 1174056) |##############| Elapsed Time: 1:29:15 Time:  1:29:15\n",
            "100% (80 of 80) |########################| Elapsed Time: 1:33:32 Time:  1:33:32\n"
          ],
          "name": "stderr"
        },
        {
          "output_type": "stream",
          "text": [
            "Se acabo\n"
          ],
          "name": "stdout"
        }
      ]
    },
    {
      "cell_type": "markdown",
      "metadata": {
        "id": "leHL4EhjsoqB",
        "colab_type": "text"
      },
      "source": [
        "El objetivo de la siguiente función es acoplar los datos de los descriptores o de los datos raw obtenidos en un solo vector."
      ]
    },
    {
      "cell_type": "markdown",
      "metadata": {
        "id": "zlXJ9xvrWOvH",
        "colab_type": "text"
      },
      "source": [
        "# Preprocesamiento de los datos\n",
        "Aquí se debe realizar todo el preprocesamiento de los datos. Se debe considerar el desbalance en los datos de entrenamiento. Primero se separan los datos de entrenamiento y validación."
      ]
    },
    {
      "cell_type": "markdown",
      "metadata": {
        "id": "UgWAcY2YVhvk",
        "colab_type": "text"
      },
      "source": [
        "Se extraen los datos guardados:"
      ]
    },
    {
      "cell_type": "markdown",
      "metadata": {
        "id": "hy0LM1NK4cv-",
        "colab_type": "text"
      },
      "source": [
        "Extraer datos específicos"
      ]
    },
    {
      "cell_type": "code",
      "metadata": {
        "id": "AHZbEBZwOf79",
        "colab_type": "code",
        "colab": {}
      },
      "source": [
        "Numero = \"200\"\n",
        "Nombre = \"Male\"\n",
        "Esp_o_Mfcc = \"Spectopgram\"\n",
        "sample_rate_String = \"16000\"\n",
        "x = np.load(\"drive/My Drive/Proyecto Especial Italiano/Datos Procesados/Datos raw_Conv/x_1-10_XML_0-7_Audios_\"+Numero+\"s_\"+sample_rate_String + \"_\"+Nombre+\".npy\")\n",
        "x2 = np.load(\"drive/My Drive/Proyecto Especial Italiano/Datos Procesados/Datos raw_Conv/x2_1-10_XML_0-7_Audios_\"+Numero+\"s_\"+sample_rate_String + \"_\"+Nombre+\"_\"+Esp_o_Mfcc+\".npy\")\n",
        "y = np.load(\"drive/My Drive/Proyecto Especial Italiano/Datos Procesados/Datos raw_Conv/y_1-10_XML_0-7_Audios_\"+Numero+\"s_\"+sample_rate_String + \"_\"+Nombre+\".npy\")"
      ],
      "execution_count": 0,
      "outputs": []
    },
    {
      "cell_type": "code",
      "metadata": {
        "id": "THQZW9ue5tmx",
        "colab_type": "code",
        "outputId": "aae0374e-6a71-4e80-dfb1-7b2ebd67d7d1",
        "colab": {
          "base_uri": "https://localhost:8080/",
          "height": 35
        }
      },
      "source": [
        "y.shape"
      ],
      "execution_count": 0,
      "outputs": [
        {
          "output_type": "execute_result",
          "data": {
            "text/plain": [
              "(293312,)"
            ]
          },
          "metadata": {
            "tags": []
          },
          "execution_count": 14
        }
      ]
    },
    {
      "cell_type": "markdown",
      "metadata": {
        "id": "Ae2TIwGBBo5A",
        "colab_type": "text"
      },
      "source": [
        "La siguiente celda permite dividir los datos en datos de entrenamiento y datos de validación"
      ]
    },
    {
      "cell_type": "code",
      "metadata": {
        "id": "_1OKZiZQVnUN",
        "colab_type": "code",
        "colab": {}
      },
      "source": [
        "x_train_1, x_test_1, y_train, y_test = train_test_split(x, y , random_state = 0, test_size=0.20)\n",
        "x=[]\n",
        "x_train_2, x_test_2, y_train, y_test = train_test_split(x2, y, random_state = 0, test_size=0.20)\n",
        "x2 = []\n",
        "y=[]"
      ],
      "execution_count": 0,
      "outputs": []
    },
    {
      "cell_type": "markdown",
      "metadata": {
        "id": "puzIWlNSbH4n",
        "colab_type": "text"
      },
      "source": [
        "A continuación se muestra el número de datos de cada etiqueta para datos de entrenamiento."
      ]
    },
    {
      "cell_type": "code",
      "metadata": {
        "id": "zobiHSMjhnVo",
        "colab_type": "code",
        "outputId": "d993cea3-6531-4e79-bc79-903a9e30b5c3",
        "colab": {
          "base_uri": "https://localhost:8080/",
          "height": 35
        }
      },
      "source": [
        "print('Original dataset shape %s' % Counter(y_train))"
      ],
      "execution_count": 0,
      "outputs": [
        {
          "output_type": "stream",
          "text": [
            "Original dataset shape Counter({0.0: 190414, 1.0: 19212, 2.0: 18548, 3.0: 6475})\n"
          ],
          "name": "stdout"
        }
      ]
    },
    {
      "cell_type": "markdown",
      "metadata": {
        "id": "NSkN6slhzwjn",
        "colab_type": "text"
      },
      "source": [
        "Si se desean realizar pruebas sin datos de background ejecutar el siguiente código:"
      ]
    },
    {
      "cell_type": "code",
      "metadata": {
        "id": "5AzfRWG0CT8i",
        "colab_type": "code",
        "colab": {}
      },
      "source": [
        "#x_train=x_train[y_train!=0]\n",
        "#y_train=y_train[y_train!=0]\n",
        "#x_test=x_test[y_test!=1]\n",
        "#y_test=y_test[y_test!=1]\n",
        "#y_test[y_test==1]=0\n",
        "#y_test[y_test==2]=1\n",
        "#y_test[y_test==3]=2\n",
        "#y_train[y_train==1]=0\n",
        "#y_train[y_train==2]=1\n",
        "#y_train[y_train==3]=2"
      ],
      "execution_count": 0,
      "outputs": []
    },
    {
      "cell_type": "markdown",
      "metadata": {
        "id": "MXoqbJrtYEPC",
        "colab_type": "text"
      },
      "source": [
        "Random under Sampling\n",
        "\n",
        "Esto quita datos en exceso pero como hay muy pocos de gunshot si no se maneja bien no va tener sentido utilizarlo."
      ]
    },
    {
      "cell_type": "code",
      "metadata": {
        "id": "erkI7P6UWdCd",
        "colab_type": "code",
        "colab": {}
      },
      "source": [
        "Numero_Datos, alto_1, ancho_1=x_train_1.shape\n",
        "Numero_Datos, alto_2, ancho_2=x_train_2.shape\n",
        "\n",
        "#x_train_1 = np.reshape(x_train_1, (-1, 1600), 'F')\n",
        "x_train_2 = np.reshape(x_train_2, (-1, alto_2*ancho_2), 'F')\n",
        "\n",
        "print('Original dataset shape %s' % Counter(y_train))\n",
        "\n",
        "rus = RandomUnderSampler(random_state=42)\n",
        "x_train_1, l = rus.fit_resample(x_train_1, y_train)\n",
        "l=[]\n",
        "x_train_2, y_train = rus.fit_resample(x_train_2, y_train)\n",
        "\n",
        "print('Resampled dataset shape %s' % Counter(y_train))\n",
        "\n",
        "#x_train_1 = np.reshape(x_train_1, (-1, 1600), 'F')\n",
        "x_train_2 = np.reshape(x_train_2, (-1, alto_2, ancho_2), 'F')"
      ],
      "execution_count": 0,
      "outputs": []
    },
    {
      "cell_type": "markdown",
      "metadata": {
        "id": "VV9GnndmcxxW",
        "colab_type": "text"
      },
      "source": [
        "\n",
        "Random Over Sampler.\n",
        "\n",
        "\n",
        "Esto va a hacer que todo colapse si hay muchos datos.\n"
      ]
    },
    {
      "cell_type": "code",
      "metadata": {
        "id": "xZv1PirZcxP5",
        "colab_type": "code",
        "colab": {}
      },
      "source": [
        "Numero_Datos, alto_1, ancho_1=x_train_1.shape\n",
        "Numero_Datos, alto_2, ancho_2=x_train_2.shape\n",
        "\n",
        "#x_train_1 = np.reshape(x_train_1, (-1, 1600), 'F')\n",
        "x_train_2 = np.reshape(x_train_2, (-1, alto_2*ancho_2), 'F')\n",
        "\n",
        "print('Original dataset shape %s' % Counter(y_train_))\n",
        "print(\"Oversampling...\")\n",
        "\n",
        "randomOverSampler = RandomOverSampler(sampling_strategy = 'not majority', random_state = 0)\n",
        "x_train_1, l = randomOverSampler.fit_resample(x_train_1, y_train)\n",
        "l=[]\n",
        "x_train_2, y_train = randomOverSampler.fit_resample(x_train_2, y_train)\n",
        "\n",
        "\n",
        "print(\"Reshaping...\")\n",
        "print('Resampled dataset shape %s' % Counter(y_train_))\n",
        "\n",
        "#x_train_1 = np.reshape(x_train_1, (-1, 1600), 'F')\n",
        "x_train_2 = np.reshape(x_train_2, (-1, alto_2, ancho_2), 'F')"
      ],
      "execution_count": 0,
      "outputs": []
    },
    {
      "cell_type": "markdown",
      "metadata": {
        "id": "89Sx-tobDCui",
        "colab_type": "text"
      },
      "source": [
        "Si se utiliza Keras, se debe correr la siguiente celda por el formato de como deben estar los datos"
      ]
    },
    {
      "cell_type": "code",
      "metadata": {
        "id": "X-YNTQpwZ80L",
        "colab_type": "code",
        "colab": {}
      },
      "source": [
        "alto_1, ancho_1=x_train_1.shape\n",
        "Numero_Datos, alto_2, ancho_2=x_train_2.shape\n",
        "x_train_1 = np.reshape(x_train_1, (-1, ancho_1, 1), 'F')\n",
        "x_test_1 = np.reshape(x_test_1, (-1, ancho_1, 1), 'F')\n",
        "x_train_2 = np.reshape(x_train_2, (-1,1, alto_2, ancho_2), 'F')\n",
        "x_test_2 = np.reshape(x_test_2, (-1,1, alto_2, ancho_2), 'F')  "
      ],
      "execution_count": 0,
      "outputs": []
    },
    {
      "cell_type": "markdown",
      "metadata": {
        "id": "sTJNaRepVFKw",
        "colab_type": "text"
      },
      "source": [
        "En esta celda se calculan los pesos de cada clase, a partir de la cantidad de cada una en los datos de entrenamiento.Estos pesos también pueden ser variados manualmente."
      ]
    },
    {
      "cell_type": "code",
      "metadata": {
        "id": "MjS9Cr4GVD_F",
        "colab_type": "code",
        "outputId": "2bcdb843-e622-47d1-a935-e5d8e19a6b07",
        "colab": {
          "base_uri": "https://localhost:8080/",
          "height": 35
        }
      },
      "source": [
        "pesosClases = compute_class_weight(class_weight = 'balanced', classes = np.array([0, 1, 2,3]), y = y_train)\n",
        "PesosClases = {0: pesosClases[0]*0.0001,\n",
        "               1: pesosClases[1]+10,\n",
        "               2: pesosClases[2]+10,\n",
        "               3: pesosClases[3]+30}\n",
        "print(PesosClases)"
      ],
      "execution_count": 0,
      "outputs": [
        {
          "output_type": "stream",
          "text": [
            "{0: 3.080773997710252e-05, 1: 13.053417135123881, 2: 13.162726439508303, 3: 39.05980694980695}\n"
          ],
          "name": "stdout"
        }
      ]
    },
    {
      "cell_type": "markdown",
      "metadata": {
        "id": "6MuYTEDh0F-i",
        "colab_type": "text"
      },
      "source": [
        "# Entrenamiento con diferentes Modelos"
      ]
    },
    {
      "cell_type": "markdown",
      "metadata": {
        "id": "FiQv5-M_HV7X",
        "colab_type": "text"
      },
      "source": [
        "# Modelos Convolucionales"
      ]
    },
    {
      "cell_type": "markdown",
      "metadata": {
        "id": "dxisMR-rIPke",
        "colab_type": "text"
      },
      "source": [
        "Trabajo a futuro, agregar parámetros de regularización..."
      ]
    },
    {
      "cell_type": "markdown",
      "metadata": {
        "id": "Ks2p-3735N0-",
        "colab_type": "text"
      },
      "source": [
        "# Modelo CNN 1D\n",
        "Las siguientes tres celdas de código crean el modelo. La cuarta celda empieza el entrenamiento. La quinta grafica la matriz de confusión, si no funciona se debe correr la función de matriz de confusión que está en la sección Funciones Resultados."
      ]
    },
    {
      "cell_type": "code",
      "metadata": {
        "id": "kb67wNlZcjIz",
        "colab_type": "code",
        "colab": {}
      },
      "source": [
        "def crearModelo_1D(pTasa, pAlpha, pNumFiltros, pTamFiltros, pTamPooling, pNumNeuronas, pOptimizer, T_entrada):\n",
        "\n",
        "  modelo = Sequential()\n",
        "\n",
        "  modelo.add(Input(shape = (T_entrada,1)))\n",
        "\n",
        "  modelo.add(Conv1D(pNumFiltros[0], (int(pTamFiltros[0])), padding='same', activation = 'relu'))\n",
        "  modelo.add(Conv1D(pNumFiltros[1], (int(pTamFiltros[1])), padding='same', activation = 'relu'))\n",
        " \n",
        "  modelo.add(Conv1D(pNumFiltros[2], (int(pTamFiltros[2])), padding='same', activation = 'relu'))\n",
        "  #modelo.add(Conv1D(pNumFiltros[3], (int(pTamFiltros[3])), padding='same', activation = 'relu'))\n",
        "\n",
        "  modelo.add(MaxPooling1D((int(pTamFiltros[0])), padding='same'))\n",
        "\n",
        "\n",
        "  modelo.add(Dropout(0.5))\n",
        "  modelo.add(Flatten())\n",
        "\n",
        "  modelo.add(Dense(pNumNeuronas[0], activation='relu'))\n",
        "  modelo.add(Dense(pNumNeuronas[1], activation='relu'))\n",
        "\n",
        "  modelo.add(Dense(4, activation='softmax'))\n",
        "\n",
        "\n",
        "  sgd = optimizers.SGD(lr = pTasa)#, momentum=0.9)\n",
        "  adam = optimizers.Adam(learning_rate = pTasa)\n",
        "  if pOptimizer == \"adam\":\n",
        "    opt=adam\n",
        "  elif pOptimizer ==\"sgd\":\n",
        "    opt=sgd\n",
        "  elif pOptimizer ==\"rmsprop\":\n",
        "    opt = \"rmsprop\"\n",
        "  \n",
        "  modelo.compile(loss='sparse_categorical_crossentropy', optimizer = opt, metrics = ['sparse_categorical_accuracy'])\n",
        "  modelo.summary()\n",
        "  \n",
        "  return modelo"
      ],
      "execution_count": 0,
      "outputs": []
    },
    {
      "cell_type": "code",
      "metadata": {
        "id": "bHkFvPP3aBEy",
        "colab_type": "code",
        "colab": {}
      },
      "source": [
        "#Esta define los parametros especificados por cada una de las siguientes variables.\n",
        "#Es el numero de filtros que cada capa convolucional utiliza.\n",
        "numFiltros = np.array([5, 5, 5, 100, 100, 10])\n",
        "\n",
        "#Es el tamaño de los filtros utilizados en cada capa convolucional.\n",
        "tamFiltros = np.array([10, 10, 5, 8, 8, 5])\n",
        "\n",
        "#Es el tamaño de cada capa de Pooling.\n",
        "tamPooling = np.array([4, 2, 3, 3, 3, 3])\n",
        "\n",
        "#Es el numero de neuronas en cada capa de la red neuronal que sigue despues de la parte convolucional.\n",
        "numNeuronas = np.array([10, 10, 10])\n",
        "\n",
        "#Es el tipo de optimizador a utilizar.\n",
        "#Se pueden especificar: \"sgd\", \"adam\" o \"rmsprop\"\n",
        "optimizer=\"rmsprop\"\n",
        "\n",
        "#Es la tasa de aprendizaje del optimizador.\n",
        "tasa = 0.1\n",
        "\n",
        "#Es el parametro de regularizacion a utilizar.\n",
        "alpha = 0.01"
      ],
      "execution_count": 0,
      "outputs": []
    },
    {
      "cell_type": "code",
      "metadata": {
        "id": "uQ1gG_FRaVOi",
        "colab_type": "code",
        "outputId": "12d12f0e-a5f3-46b1-cd99-65360dee9889",
        "colab": {
          "base_uri": "https://localhost:8080/",
          "height": 1000
        }
      },
      "source": [
        "Numero_Datos, ancho_1, alto_1, =x_train_1.shape\n",
        "\n",
        "modelo1 = crearModelo_1D(tasa, alpha, numFiltros, tamFiltros, tamPooling, numNeuronas, optimizer, T_entrada = ancho_1)\n",
        "\n",
        "#Esta linea muestra un diagrama de la red neuronal.\n",
        "SVG(model_to_dot(modelo1, show_shapes = True, expand_nested = True, dpi = 50).create(prog='dot', format='svg'))"
      ],
      "execution_count": 0,
      "outputs": [
        {
          "output_type": "stream",
          "text": [
            "WARNING:tensorflow:From /usr/local/lib/python3.6/dist-packages/tensorflow/python/ops/resource_variable_ops.py:1666: calling BaseResourceVariable.__init__ (from tensorflow.python.ops.resource_variable_ops) with constraint is deprecated and will be removed in a future version.\n",
            "Instructions for updating:\n",
            "If using Keras pass *_constraint arguments to layers.\n",
            "Model: \"sequential\"\n",
            "_________________________________________________________________\n",
            "Layer (type)                 Output Shape              Param #   \n",
            "=================================================================\n",
            "conv1d (Conv1D)              (None, 3200, 5)           55        \n",
            "_________________________________________________________________\n",
            "conv1d_1 (Conv1D)            (None, 3200, 5)           255       \n",
            "_________________________________________________________________\n",
            "conv1d_2 (Conv1D)            (None, 3200, 5)           130       \n",
            "_________________________________________________________________\n",
            "max_pooling1d (MaxPooling1D) (None, 320, 5)            0         \n",
            "_________________________________________________________________\n",
            "dropout (Dropout)            (None, 320, 5)            0         \n",
            "_________________________________________________________________\n",
            "flatten (Flatten)            (None, 1600)              0         \n",
            "_________________________________________________________________\n",
            "dense (Dense)                (None, 10)                16010     \n",
            "_________________________________________________________________\n",
            "dense_1 (Dense)              (None, 10)                110       \n",
            "_________________________________________________________________\n",
            "dense_2 (Dense)              (None, 4)                 44        \n",
            "=================================================================\n",
            "Total params: 16,604\n",
            "Trainable params: 16,604\n",
            "Non-trainable params: 0\n",
            "_________________________________________________________________\n"
          ],
          "name": "stdout"
        },
        {
          "output_type": "execute_result",
          "data": {
            "text/plain": [
              "<IPython.core.display.SVG object>"
            ],
            "image/svg+xml": "<svg height=\"557pt\" viewBox=\"0.00 0.00 356.00 802.00\" width=\"247pt\" xmlns=\"http://www.w3.org/2000/svg\" xmlns:xlink=\"http://www.w3.org/1999/xlink\">\n<g class=\"graph\" id=\"graph0\" transform=\"scale(.6944 .6944) rotate(0) translate(4 798)\">\n<title>G</title>\n<polygon fill=\"#ffffff\" points=\"-4,4 -4,-798 352,-798 352,4 -4,4\" stroke=\"transparent\"/>\n<!-- 140257799416464 -->\n<g class=\"node\" id=\"node1\">\n<title>140257799416464</title>\n<polygon fill=\"none\" points=\"32,-747.5 32,-793.5 316,-793.5 316,-747.5 32,-747.5\" stroke=\"#000000\"/>\n<text fill=\"#000000\" font-family=\"Times,serif\" font-size=\"14.00\" text-anchor=\"middle\" x=\"98.5\" y=\"-766.8\">input_1: InputLayer</text>\n<polyline fill=\"none\" points=\"165,-747.5 165,-793.5 \" stroke=\"#000000\"/>\n<text fill=\"#000000\" font-family=\"Times,serif\" font-size=\"14.00\" text-anchor=\"middle\" x=\"194\" y=\"-778.3\">input:</text>\n<polyline fill=\"none\" points=\"165,-770.5 223,-770.5 \" stroke=\"#000000\"/>\n<text fill=\"#000000\" font-family=\"Times,serif\" font-size=\"14.00\" text-anchor=\"middle\" x=\"194\" y=\"-755.3\">output:</text>\n<polyline fill=\"none\" points=\"223,-747.5 223,-793.5 \" stroke=\"#000000\"/>\n<text fill=\"#000000\" font-family=\"Times,serif\" font-size=\"14.00\" text-anchor=\"middle\" x=\"269.5\" y=\"-778.3\">[(?, 3200, 1)]</text>\n<polyline fill=\"none\" points=\"223,-770.5 316,-770.5 \" stroke=\"#000000\"/>\n<text fill=\"#000000\" font-family=\"Times,serif\" font-size=\"14.00\" text-anchor=\"middle\" x=\"269.5\" y=\"-755.3\">[(?, 3200, 1)]</text>\n</g>\n<!-- 140257799416128 -->\n<g class=\"node\" id=\"node2\">\n<title>140257799416128</title>\n<polygon fill=\"none\" points=\"44,-664.5 44,-710.5 304,-710.5 304,-664.5 44,-664.5\" stroke=\"#000000\"/>\n<text fill=\"#000000\" font-family=\"Times,serif\" font-size=\"14.00\" text-anchor=\"middle\" x=\"103\" y=\"-683.8\">conv1d: Conv1D</text>\n<polyline fill=\"none\" points=\"162,-664.5 162,-710.5 \" stroke=\"#000000\"/>\n<text fill=\"#000000\" font-family=\"Times,serif\" font-size=\"14.00\" text-anchor=\"middle\" x=\"191\" y=\"-695.3\">input:</text>\n<polyline fill=\"none\" points=\"162,-687.5 220,-687.5 \" stroke=\"#000000\"/>\n<text fill=\"#000000\" font-family=\"Times,serif\" font-size=\"14.00\" text-anchor=\"middle\" x=\"191\" y=\"-672.3\">output:</text>\n<polyline fill=\"none\" points=\"220,-664.5 220,-710.5 \" stroke=\"#000000\"/>\n<text fill=\"#000000\" font-family=\"Times,serif\" font-size=\"14.00\" text-anchor=\"middle\" x=\"262\" y=\"-695.3\">(?, 3200, 1)</text>\n<polyline fill=\"none\" points=\"220,-687.5 304,-687.5 \" stroke=\"#000000\"/>\n<text fill=\"#000000\" font-family=\"Times,serif\" font-size=\"14.00\" text-anchor=\"middle\" x=\"262\" y=\"-672.3\">(?, 3200, 5)</text>\n</g>\n<!-- 140257799416464&#45;&gt;140257799416128 -->\n<g class=\"edge\" id=\"edge1\">\n<title>140257799416464-&gt;140257799416128</title>\n<path d=\"M174,-747.3799C174,-739.1745 174,-729.7679 174,-720.8786\" fill=\"none\" stroke=\"#000000\"/>\n<polygon fill=\"#000000\" points=\"177.5001,-720.784 174,-710.784 170.5001,-720.784 177.5001,-720.784\" stroke=\"#000000\"/>\n</g>\n<!-- 140257790650688 -->\n<g class=\"node\" id=\"node3\">\n<title>140257790650688</title>\n<polygon fill=\"none\" points=\"36.5,-581.5 36.5,-627.5 311.5,-627.5 311.5,-581.5 36.5,-581.5\" stroke=\"#000000\"/>\n<text fill=\"#000000\" font-family=\"Times,serif\" font-size=\"14.00\" text-anchor=\"middle\" x=\"103\" y=\"-600.8\">conv1d_1: Conv1D</text>\n<polyline fill=\"none\" points=\"169.5,-581.5 169.5,-627.5 \" stroke=\"#000000\"/>\n<text fill=\"#000000\" font-family=\"Times,serif\" font-size=\"14.00\" text-anchor=\"middle\" x=\"198.5\" y=\"-612.3\">input:</text>\n<polyline fill=\"none\" points=\"169.5,-604.5 227.5,-604.5 \" stroke=\"#000000\"/>\n<text fill=\"#000000\" font-family=\"Times,serif\" font-size=\"14.00\" text-anchor=\"middle\" x=\"198.5\" y=\"-589.3\">output:</text>\n<polyline fill=\"none\" points=\"227.5,-581.5 227.5,-627.5 \" stroke=\"#000000\"/>\n<text fill=\"#000000\" font-family=\"Times,serif\" font-size=\"14.00\" text-anchor=\"middle\" x=\"269.5\" y=\"-612.3\">(?, 3200, 5)</text>\n<polyline fill=\"none\" points=\"227.5,-604.5 311.5,-604.5 \" stroke=\"#000000\"/>\n<text fill=\"#000000\" font-family=\"Times,serif\" font-size=\"14.00\" text-anchor=\"middle\" x=\"269.5\" y=\"-589.3\">(?, 3200, 5)</text>\n</g>\n<!-- 140257799416128&#45;&gt;140257790650688 -->\n<g class=\"edge\" id=\"edge2\">\n<title>140257799416128-&gt;140257790650688</title>\n<path d=\"M174,-664.3799C174,-656.1745 174,-646.7679 174,-637.8786\" fill=\"none\" stroke=\"#000000\"/>\n<polygon fill=\"#000000\" points=\"177.5001,-637.784 174,-627.784 170.5001,-637.784 177.5001,-637.784\" stroke=\"#000000\"/>\n</g>\n<!-- 140257790880176 -->\n<g class=\"node\" id=\"node4\">\n<title>140257790880176</title>\n<polygon fill=\"none\" points=\"36.5,-498.5 36.5,-544.5 311.5,-544.5 311.5,-498.5 36.5,-498.5\" stroke=\"#000000\"/>\n<text fill=\"#000000\" font-family=\"Times,serif\" font-size=\"14.00\" text-anchor=\"middle\" x=\"103\" y=\"-517.8\">conv1d_2: Conv1D</text>\n<polyline fill=\"none\" points=\"169.5,-498.5 169.5,-544.5 \" stroke=\"#000000\"/>\n<text fill=\"#000000\" font-family=\"Times,serif\" font-size=\"14.00\" text-anchor=\"middle\" x=\"198.5\" y=\"-529.3\">input:</text>\n<polyline fill=\"none\" points=\"169.5,-521.5 227.5,-521.5 \" stroke=\"#000000\"/>\n<text fill=\"#000000\" font-family=\"Times,serif\" font-size=\"14.00\" text-anchor=\"middle\" x=\"198.5\" y=\"-506.3\">output:</text>\n<polyline fill=\"none\" points=\"227.5,-498.5 227.5,-544.5 \" stroke=\"#000000\"/>\n<text fill=\"#000000\" font-family=\"Times,serif\" font-size=\"14.00\" text-anchor=\"middle\" x=\"269.5\" y=\"-529.3\">(?, 3200, 5)</text>\n<polyline fill=\"none\" points=\"227.5,-521.5 311.5,-521.5 \" stroke=\"#000000\"/>\n<text fill=\"#000000\" font-family=\"Times,serif\" font-size=\"14.00\" text-anchor=\"middle\" x=\"269.5\" y=\"-506.3\">(?, 3200, 5)</text>\n</g>\n<!-- 140257790650688&#45;&gt;140257790880176 -->\n<g class=\"edge\" id=\"edge3\">\n<title>140257790650688-&gt;140257790880176</title>\n<path d=\"M174,-581.3799C174,-573.1745 174,-563.7679 174,-554.8786\" fill=\"none\" stroke=\"#000000\"/>\n<polygon fill=\"#000000\" points=\"177.5001,-554.784 174,-544.784 170.5001,-554.784 177.5001,-554.784\" stroke=\"#000000\"/>\n</g>\n<!-- 140257790430960 -->\n<g class=\"node\" id=\"node5\">\n<title>140257790430960</title>\n<polygon fill=\"none\" points=\"0,-415.5 0,-461.5 348,-461.5 348,-415.5 0,-415.5\" stroke=\"#000000\"/>\n<text fill=\"#000000\" font-family=\"Times,serif\" font-size=\"14.00\" text-anchor=\"middle\" x=\"103\" y=\"-434.8\">max_pooling1d: MaxPooling1D</text>\n<polyline fill=\"none\" points=\"206,-415.5 206,-461.5 \" stroke=\"#000000\"/>\n<text fill=\"#000000\" font-family=\"Times,serif\" font-size=\"14.00\" text-anchor=\"middle\" x=\"235\" y=\"-446.3\">input:</text>\n<polyline fill=\"none\" points=\"206,-438.5 264,-438.5 \" stroke=\"#000000\"/>\n<text fill=\"#000000\" font-family=\"Times,serif\" font-size=\"14.00\" text-anchor=\"middle\" x=\"235\" y=\"-423.3\">output:</text>\n<polyline fill=\"none\" points=\"264,-415.5 264,-461.5 \" stroke=\"#000000\"/>\n<text fill=\"#000000\" font-family=\"Times,serif\" font-size=\"14.00\" text-anchor=\"middle\" x=\"306\" y=\"-446.3\">(?, 3200, 5)</text>\n<polyline fill=\"none\" points=\"264,-438.5 348,-438.5 \" stroke=\"#000000\"/>\n<text fill=\"#000000\" font-family=\"Times,serif\" font-size=\"14.00\" text-anchor=\"middle\" x=\"306\" y=\"-423.3\">(?, 320, 5)</text>\n</g>\n<!-- 140257790880176&#45;&gt;140257790430960 -->\n<g class=\"edge\" id=\"edge4\">\n<title>140257790880176-&gt;140257790430960</title>\n<path d=\"M174,-498.3799C174,-490.1745 174,-480.7679 174,-471.8786\" fill=\"none\" stroke=\"#000000\"/>\n<polygon fill=\"#000000\" points=\"177.5001,-471.784 174,-461.784 170.5001,-471.784 177.5001,-471.784\" stroke=\"#000000\"/>\n</g>\n<!-- 140257790879784 -->\n<g class=\"node\" id=\"node6\">\n<title>140257790879784</title>\n<polygon fill=\"none\" points=\"47,-332.5 47,-378.5 301,-378.5 301,-332.5 47,-332.5\" stroke=\"#000000\"/>\n<text fill=\"#000000\" font-family=\"Times,serif\" font-size=\"14.00\" text-anchor=\"middle\" x=\"106.5\" y=\"-351.8\">dropout: Dropout</text>\n<polyline fill=\"none\" points=\"166,-332.5 166,-378.5 \" stroke=\"#000000\"/>\n<text fill=\"#000000\" font-family=\"Times,serif\" font-size=\"14.00\" text-anchor=\"middle\" x=\"195\" y=\"-363.3\">input:</text>\n<polyline fill=\"none\" points=\"166,-355.5 224,-355.5 \" stroke=\"#000000\"/>\n<text fill=\"#000000\" font-family=\"Times,serif\" font-size=\"14.00\" text-anchor=\"middle\" x=\"195\" y=\"-340.3\">output:</text>\n<polyline fill=\"none\" points=\"224,-332.5 224,-378.5 \" stroke=\"#000000\"/>\n<text fill=\"#000000\" font-family=\"Times,serif\" font-size=\"14.00\" text-anchor=\"middle\" x=\"262.5\" y=\"-363.3\">(?, 320, 5)</text>\n<polyline fill=\"none\" points=\"224,-355.5 301,-355.5 \" stroke=\"#000000\"/>\n<text fill=\"#000000\" font-family=\"Times,serif\" font-size=\"14.00\" text-anchor=\"middle\" x=\"262.5\" y=\"-340.3\">(?, 320, 5)</text>\n</g>\n<!-- 140257790430960&#45;&gt;140257790879784 -->\n<g class=\"edge\" id=\"edge5\">\n<title>140257790430960-&gt;140257790879784</title>\n<path d=\"M174,-415.3799C174,-407.1745 174,-397.7679 174,-388.8786\" fill=\"none\" stroke=\"#000000\"/>\n<polygon fill=\"#000000\" points=\"177.5001,-388.784 174,-378.784 170.5001,-388.784 177.5001,-388.784\" stroke=\"#000000\"/>\n</g>\n<!-- 140257790452064 -->\n<g class=\"node\" id=\"node7\">\n<title>140257790452064</title>\n<polygon fill=\"none\" points=\"57.5,-249.5 57.5,-295.5 290.5,-295.5 290.5,-249.5 57.5,-249.5\" stroke=\"#000000\"/>\n<text fill=\"#000000\" font-family=\"Times,serif\" font-size=\"14.00\" text-anchor=\"middle\" x=\"106.5\" y=\"-268.8\">flatten: Flatten</text>\n<polyline fill=\"none\" points=\"155.5,-249.5 155.5,-295.5 \" stroke=\"#000000\"/>\n<text fill=\"#000000\" font-family=\"Times,serif\" font-size=\"14.00\" text-anchor=\"middle\" x=\"184.5\" y=\"-280.3\">input:</text>\n<polyline fill=\"none\" points=\"155.5,-272.5 213.5,-272.5 \" stroke=\"#000000\"/>\n<text fill=\"#000000\" font-family=\"Times,serif\" font-size=\"14.00\" text-anchor=\"middle\" x=\"184.5\" y=\"-257.3\">output:</text>\n<polyline fill=\"none\" points=\"213.5,-249.5 213.5,-295.5 \" stroke=\"#000000\"/>\n<text fill=\"#000000\" font-family=\"Times,serif\" font-size=\"14.00\" text-anchor=\"middle\" x=\"252\" y=\"-280.3\">(?, 320, 5)</text>\n<polyline fill=\"none\" points=\"213.5,-272.5 290.5,-272.5 \" stroke=\"#000000\"/>\n<text fill=\"#000000\" font-family=\"Times,serif\" font-size=\"14.00\" text-anchor=\"middle\" x=\"252\" y=\"-257.3\">(?, 1600)</text>\n</g>\n<!-- 140257790879784&#45;&gt;140257790452064 -->\n<g class=\"edge\" id=\"edge6\">\n<title>140257790879784-&gt;140257790452064</title>\n<path d=\"M174,-332.3799C174,-324.1745 174,-314.7679 174,-305.8786\" fill=\"none\" stroke=\"#000000\"/>\n<polygon fill=\"#000000\" points=\"177.5001,-305.784 174,-295.784 170.5001,-305.784 177.5001,-305.784\" stroke=\"#000000\"/>\n</g>\n<!-- 140257790430904 -->\n<g class=\"node\" id=\"node8\">\n<title>140257790430904</title>\n<polygon fill=\"none\" points=\"64.5,-166.5 64.5,-212.5 283.5,-212.5 283.5,-166.5 64.5,-166.5\" stroke=\"#000000\"/>\n<text fill=\"#000000\" font-family=\"Times,serif\" font-size=\"14.00\" text-anchor=\"middle\" x=\"110.5\" y=\"-185.8\">dense: Dense</text>\n<polyline fill=\"none\" points=\"156.5,-166.5 156.5,-212.5 \" stroke=\"#000000\"/>\n<text fill=\"#000000\" font-family=\"Times,serif\" font-size=\"14.00\" text-anchor=\"middle\" x=\"185.5\" y=\"-197.3\">input:</text>\n<polyline fill=\"none\" points=\"156.5,-189.5 214.5,-189.5 \" stroke=\"#000000\"/>\n<text fill=\"#000000\" font-family=\"Times,serif\" font-size=\"14.00\" text-anchor=\"middle\" x=\"185.5\" y=\"-174.3\">output:</text>\n<polyline fill=\"none\" points=\"214.5,-166.5 214.5,-212.5 \" stroke=\"#000000\"/>\n<text fill=\"#000000\" font-family=\"Times,serif\" font-size=\"14.00\" text-anchor=\"middle\" x=\"249\" y=\"-197.3\">(?, 1600)</text>\n<polyline fill=\"none\" points=\"214.5,-189.5 283.5,-189.5 \" stroke=\"#000000\"/>\n<text fill=\"#000000\" font-family=\"Times,serif\" font-size=\"14.00\" text-anchor=\"middle\" x=\"249\" y=\"-174.3\">(?, 10)</text>\n</g>\n<!-- 140257790452064&#45;&gt;140257790430904 -->\n<g class=\"edge\" id=\"edge7\">\n<title>140257790452064-&gt;140257790430904</title>\n<path d=\"M174,-249.3799C174,-241.1745 174,-231.7679 174,-222.8786\" fill=\"none\" stroke=\"#000000\"/>\n<polygon fill=\"#000000\" points=\"177.5001,-222.784 174,-212.784 170.5001,-222.784 177.5001,-222.784\" stroke=\"#000000\"/>\n</g>\n<!-- 140257790430848 -->\n<g class=\"node\" id=\"node9\">\n<title>140257790430848</title>\n<polygon fill=\"none\" points=\"64.5,-83.5 64.5,-129.5 283.5,-129.5 283.5,-83.5 64.5,-83.5\" stroke=\"#000000\"/>\n<text fill=\"#000000\" font-family=\"Times,serif\" font-size=\"14.00\" text-anchor=\"middle\" x=\"118\" y=\"-102.8\">dense_1: Dense</text>\n<polyline fill=\"none\" points=\"171.5,-83.5 171.5,-129.5 \" stroke=\"#000000\"/>\n<text fill=\"#000000\" font-family=\"Times,serif\" font-size=\"14.00\" text-anchor=\"middle\" x=\"200.5\" y=\"-114.3\">input:</text>\n<polyline fill=\"none\" points=\"171.5,-106.5 229.5,-106.5 \" stroke=\"#000000\"/>\n<text fill=\"#000000\" font-family=\"Times,serif\" font-size=\"14.00\" text-anchor=\"middle\" x=\"200.5\" y=\"-91.3\">output:</text>\n<polyline fill=\"none\" points=\"229.5,-83.5 229.5,-129.5 \" stroke=\"#000000\"/>\n<text fill=\"#000000\" font-family=\"Times,serif\" font-size=\"14.00\" text-anchor=\"middle\" x=\"256.5\" y=\"-114.3\">(?, 10)</text>\n<polyline fill=\"none\" points=\"229.5,-106.5 283.5,-106.5 \" stroke=\"#000000\"/>\n<text fill=\"#000000\" font-family=\"Times,serif\" font-size=\"14.00\" text-anchor=\"middle\" x=\"256.5\" y=\"-91.3\">(?, 10)</text>\n</g>\n<!-- 140257790430904&#45;&gt;140257790430848 -->\n<g class=\"edge\" id=\"edge8\">\n<title>140257790430904-&gt;140257790430848</title>\n<path d=\"M174,-166.3799C174,-158.1745 174,-148.7679 174,-139.8786\" fill=\"none\" stroke=\"#000000\"/>\n<polygon fill=\"#000000\" points=\"177.5001,-139.784 174,-129.784 170.5001,-139.784 177.5001,-139.784\" stroke=\"#000000\"/>\n</g>\n<!-- 140257790452848 -->\n<g class=\"node\" id=\"node10\">\n<title>140257790452848</title>\n<polygon fill=\"none\" points=\"64.5,-.5 64.5,-46.5 283.5,-46.5 283.5,-.5 64.5,-.5\" stroke=\"#000000\"/>\n<text fill=\"#000000\" font-family=\"Times,serif\" font-size=\"14.00\" text-anchor=\"middle\" x=\"118\" y=\"-19.8\">dense_2: Dense</text>\n<polyline fill=\"none\" points=\"171.5,-.5 171.5,-46.5 \" stroke=\"#000000\"/>\n<text fill=\"#000000\" font-family=\"Times,serif\" font-size=\"14.00\" text-anchor=\"middle\" x=\"200.5\" y=\"-31.3\">input:</text>\n<polyline fill=\"none\" points=\"171.5,-23.5 229.5,-23.5 \" stroke=\"#000000\"/>\n<text fill=\"#000000\" font-family=\"Times,serif\" font-size=\"14.00\" text-anchor=\"middle\" x=\"200.5\" y=\"-8.3\">output:</text>\n<polyline fill=\"none\" points=\"229.5,-.5 229.5,-46.5 \" stroke=\"#000000\"/>\n<text fill=\"#000000\" font-family=\"Times,serif\" font-size=\"14.00\" text-anchor=\"middle\" x=\"256.5\" y=\"-31.3\">(?, 10)</text>\n<polyline fill=\"none\" points=\"229.5,-23.5 283.5,-23.5 \" stroke=\"#000000\"/>\n<text fill=\"#000000\" font-family=\"Times,serif\" font-size=\"14.00\" text-anchor=\"middle\" x=\"256.5\" y=\"-8.3\">(?, 4)</text>\n</g>\n<!-- 140257790430848&#45;&gt;140257790452848 -->\n<g class=\"edge\" id=\"edge9\">\n<title>140257790430848-&gt;140257790452848</title>\n<path d=\"M174,-83.3799C174,-75.1745 174,-65.7679 174,-56.8786\" fill=\"none\" stroke=\"#000000\"/>\n<polygon fill=\"#000000\" points=\"177.5001,-56.784 174,-46.784 170.5001,-56.784 177.5001,-56.784\" stroke=\"#000000\"/>\n</g>\n</g>\n</svg>"
          },
          "metadata": {
            "tags": []
          },
          "execution_count": 21
        }
      ]
    },
    {
      "cell_type": "code",
      "metadata": {
        "id": "Og0JuJs6a_Xj",
        "colab_type": "code",
        "outputId": "c57eafc5-12f8-4dac-e64d-8edc9fb10fe4",
        "colab": {
          "base_uri": "https://localhost:8080/",
          "height": 1000
        }
      },
      "source": [
        "epocas = 100\n",
        "batchSize = 5000\n",
        "\n",
        "#modelo1.compile(loss='sparse_categorical_crossentropy', optimizer = \"rmsprop\", metrics = ['sparse_categorical_accuracy'])\n",
        "\n",
        "for i in range(0,1):\n",
        "  hist = modelo1.fit(x_train_1, y_train, validation_data=(x_test_1, y_test), epochs = epocas, batch_size = batchSize, class_weight = pesosClases)\n",
        " \n",
        "                        \n",
        "\n",
        "  #SVG(model_to_dot(modelo1, show_shapes = True, expand_nested = True, dpi = 60).create(prog='dot', format='svg'))\n"
      ],
      "execution_count": 0,
      "outputs": [
        {
          "output_type": "stream",
          "text": [
            "Train on 234649 samples, validate on 58663 samples\n",
            "Epoch 1/100\n",
            "234649/234649 [==============================] - 13s 56us/sample - loss: 0.8330 - sparse_categorical_accuracy: 0.7958 - val_loss: 0.6719 - val_sparse_categorical_accuracy: 0.8108\n",
            "Epoch 2/100\n",
            "234649/234649 [==============================] - 12s 52us/sample - loss: 0.6214 - sparse_categorical_accuracy: 0.8118 - val_loss: 0.5692 - val_sparse_categorical_accuracy: 0.8199\n",
            "Epoch 3/100\n",
            "234649/234649 [==============================] - 12s 52us/sample - loss: 0.5482 - sparse_categorical_accuracy: 0.8231 - val_loss: 0.5235 - val_sparse_categorical_accuracy: 0.8290\n",
            "Epoch 4/100\n",
            "234649/234649 [==============================] - 12s 52us/sample - loss: 0.5191 - sparse_categorical_accuracy: 0.8323 - val_loss: 0.5132 - val_sparse_categorical_accuracy: 0.8368\n",
            "Epoch 5/100\n",
            "234649/234649 [==============================] - 12s 52us/sample - loss: 0.4981 - sparse_categorical_accuracy: 0.8381 - val_loss: 0.4935 - val_sparse_categorical_accuracy: 0.8385\n",
            "Epoch 6/100\n",
            "234649/234649 [==============================] - 12s 52us/sample - loss: 0.4778 - sparse_categorical_accuracy: 0.8435 - val_loss: 0.4553 - val_sparse_categorical_accuracy: 0.8502\n",
            "Epoch 7/100\n",
            "234649/234649 [==============================] - 12s 52us/sample - loss: 0.4553 - sparse_categorical_accuracy: 0.8562 - val_loss: 0.4488 - val_sparse_categorical_accuracy: 0.8582\n",
            "Epoch 8/100\n",
            "234649/234649 [==============================] - 12s 52us/sample - loss: 0.4315 - sparse_categorical_accuracy: 0.8668 - val_loss: 0.4179 - val_sparse_categorical_accuracy: 0.8752\n",
            "Epoch 9/100\n",
            "234649/234649 [==============================] - 12s 52us/sample - loss: 0.4089 - sparse_categorical_accuracy: 0.8736 - val_loss: 0.3854 - val_sparse_categorical_accuracy: 0.8772\n",
            "Epoch 10/100\n",
            "234649/234649 [==============================] - 12s 52us/sample - loss: 0.3898 - sparse_categorical_accuracy: 0.8781 - val_loss: 0.3678 - val_sparse_categorical_accuracy: 0.8842\n",
            "Epoch 11/100\n",
            "234649/234649 [==============================] - 12s 52us/sample - loss: 0.3743 - sparse_categorical_accuracy: 0.8821 - val_loss: 0.3787 - val_sparse_categorical_accuracy: 0.8821\n",
            "Epoch 12/100\n",
            "234649/234649 [==============================] - 12s 52us/sample - loss: 0.3629 - sparse_categorical_accuracy: 0.8860 - val_loss: 0.3480 - val_sparse_categorical_accuracy: 0.8883\n",
            "Epoch 13/100\n",
            "234649/234649 [==============================] - 12s 52us/sample - loss: 0.3535 - sparse_categorical_accuracy: 0.8880 - val_loss: 0.3331 - val_sparse_categorical_accuracy: 0.8917\n",
            "Epoch 14/100\n",
            "234649/234649 [==============================] - 12s 52us/sample - loss: 0.3430 - sparse_categorical_accuracy: 0.8913 - val_loss: 0.3427 - val_sparse_categorical_accuracy: 0.8930\n",
            "Epoch 15/100\n",
            "234649/234649 [==============================] - 12s 52us/sample - loss: 0.3371 - sparse_categorical_accuracy: 0.8933 - val_loss: 0.3159 - val_sparse_categorical_accuracy: 0.8993\n",
            "Epoch 16/100\n",
            "234649/234649 [==============================] - 12s 52us/sample - loss: 0.3294 - sparse_categorical_accuracy: 0.8958 - val_loss: 0.3347 - val_sparse_categorical_accuracy: 0.8933\n",
            "Epoch 17/100\n",
            "234649/234649 [==============================] - 12s 52us/sample - loss: 0.3239 - sparse_categorical_accuracy: 0.8972 - val_loss: 0.3064 - val_sparse_categorical_accuracy: 0.9038\n",
            "Epoch 18/100\n",
            "234649/234649 [==============================] - 12s 52us/sample - loss: 0.3200 - sparse_categorical_accuracy: 0.8989 - val_loss: 0.3213 - val_sparse_categorical_accuracy: 0.8971\n",
            "Epoch 19/100\n",
            "234649/234649 [==============================] - 12s 52us/sample - loss: 0.3132 - sparse_categorical_accuracy: 0.9008 - val_loss: 0.3048 - val_sparse_categorical_accuracy: 0.9058\n",
            "Epoch 20/100\n",
            "234649/234649 [==============================] - 12s 52us/sample - loss: 0.3088 - sparse_categorical_accuracy: 0.9033 - val_loss: 0.3169 - val_sparse_categorical_accuracy: 0.9017\n",
            "Epoch 21/100\n",
            "234649/234649 [==============================] - 12s 52us/sample - loss: 0.3046 - sparse_categorical_accuracy: 0.9041 - val_loss: 0.2840 - val_sparse_categorical_accuracy: 0.9091\n",
            "Epoch 22/100\n",
            "234649/234649 [==============================] - 12s 52us/sample - loss: 0.3010 - sparse_categorical_accuracy: 0.9056 - val_loss: 0.2807 - val_sparse_categorical_accuracy: 0.9108\n",
            "Epoch 23/100\n",
            "234649/234649 [==============================] - 12s 52us/sample - loss: 0.2976 - sparse_categorical_accuracy: 0.9064 - val_loss: 0.2932 - val_sparse_categorical_accuracy: 0.9118\n",
            "Epoch 24/100\n",
            "234649/234649 [==============================] - 12s 52us/sample - loss: 0.2952 - sparse_categorical_accuracy: 0.9075 - val_loss: 0.2743 - val_sparse_categorical_accuracy: 0.9124\n",
            "Epoch 25/100\n",
            "234649/234649 [==============================] - 12s 52us/sample - loss: 0.2903 - sparse_categorical_accuracy: 0.9091 - val_loss: 0.2950 - val_sparse_categorical_accuracy: 0.9080\n",
            "Epoch 26/100\n",
            "234649/234649 [==============================] - 12s 52us/sample - loss: 0.2882 - sparse_categorical_accuracy: 0.9093 - val_loss: 0.2815 - val_sparse_categorical_accuracy: 0.9114\n",
            "Epoch 27/100\n",
            "234649/234649 [==============================] - 12s 52us/sample - loss: 0.2861 - sparse_categorical_accuracy: 0.9103 - val_loss: 0.2680 - val_sparse_categorical_accuracy: 0.9147\n",
            "Epoch 28/100\n",
            "234649/234649 [==============================] - 12s 52us/sample - loss: 0.2826 - sparse_categorical_accuracy: 0.9114 - val_loss: 0.2746 - val_sparse_categorical_accuracy: 0.9137\n",
            "Epoch 29/100\n",
            "234649/234649 [==============================] - 12s 52us/sample - loss: 0.2807 - sparse_categorical_accuracy: 0.9124 - val_loss: 0.2686 - val_sparse_categorical_accuracy: 0.9183\n",
            "Epoch 30/100\n",
            "234649/234649 [==============================] - 12s 52us/sample - loss: 0.2782 - sparse_categorical_accuracy: 0.9126 - val_loss: 0.2698 - val_sparse_categorical_accuracy: 0.9191\n",
            "Epoch 31/100\n",
            "234649/234649 [==============================] - 12s 52us/sample - loss: 0.2758 - sparse_categorical_accuracy: 0.9134 - val_loss: 0.2624 - val_sparse_categorical_accuracy: 0.9175\n",
            "Epoch 32/100\n",
            "234649/234649 [==============================] - 12s 52us/sample - loss: 0.2734 - sparse_categorical_accuracy: 0.9146 - val_loss: 0.2577 - val_sparse_categorical_accuracy: 0.9207\n",
            "Epoch 33/100\n",
            "234649/234649 [==============================] - 12s 52us/sample - loss: 0.2719 - sparse_categorical_accuracy: 0.9147 - val_loss: 0.2577 - val_sparse_categorical_accuracy: 0.9191\n",
            "Epoch 34/100\n",
            "234649/234649 [==============================] - 12s 52us/sample - loss: 0.2689 - sparse_categorical_accuracy: 0.9159 - val_loss: 0.2502 - val_sparse_categorical_accuracy: 0.9214\n",
            "Epoch 35/100\n",
            "234649/234649 [==============================] - 12s 52us/sample - loss: 0.2673 - sparse_categorical_accuracy: 0.9158 - val_loss: 0.2497 - val_sparse_categorical_accuracy: 0.9215\n",
            "Epoch 36/100\n",
            "234649/234649 [==============================] - 12s 52us/sample - loss: 0.2651 - sparse_categorical_accuracy: 0.9168 - val_loss: 0.2551 - val_sparse_categorical_accuracy: 0.9208\n",
            "Epoch 37/100\n",
            "234649/234649 [==============================] - 12s 52us/sample - loss: 0.2636 - sparse_categorical_accuracy: 0.9171 - val_loss: 0.2450 - val_sparse_categorical_accuracy: 0.9236\n",
            "Epoch 38/100\n",
            "234649/234649 [==============================] - 12s 52us/sample - loss: 0.2620 - sparse_categorical_accuracy: 0.9186 - val_loss: 0.2434 - val_sparse_categorical_accuracy: 0.9243\n",
            "Epoch 39/100\n",
            "234649/234649 [==============================] - 12s 52us/sample - loss: 0.2600 - sparse_categorical_accuracy: 0.9186 - val_loss: 0.2635 - val_sparse_categorical_accuracy: 0.9177\n",
            "Epoch 40/100\n",
            "234649/234649 [==============================] - 12s 52us/sample - loss: 0.2579 - sparse_categorical_accuracy: 0.9191 - val_loss: 0.2460 - val_sparse_categorical_accuracy: 0.9242\n",
            "Epoch 41/100\n",
            "234649/234649 [==============================] - 12s 52us/sample - loss: 0.2576 - sparse_categorical_accuracy: 0.9189 - val_loss: 0.2404 - val_sparse_categorical_accuracy: 0.9249\n",
            "Epoch 42/100\n",
            "234649/234649 [==============================] - 12s 52us/sample - loss: 0.2537 - sparse_categorical_accuracy: 0.9204 - val_loss: 0.2370 - val_sparse_categorical_accuracy: 0.9262\n",
            "Epoch 43/100\n",
            "234649/234649 [==============================] - 12s 52us/sample - loss: 0.2534 - sparse_categorical_accuracy: 0.9210 - val_loss: 0.2363 - val_sparse_categorical_accuracy: 0.9255\n",
            "Epoch 44/100\n",
            "234649/234649 [==============================] - 12s 52us/sample - loss: 0.2518 - sparse_categorical_accuracy: 0.9209 - val_loss: 0.2330 - val_sparse_categorical_accuracy: 0.9262\n",
            "Epoch 45/100\n",
            "234649/234649 [==============================] - 12s 52us/sample - loss: 0.2507 - sparse_categorical_accuracy: 0.9214 - val_loss: 0.2442 - val_sparse_categorical_accuracy: 0.9241\n",
            "Epoch 46/100\n",
            "234649/234649 [==============================] - 12s 52us/sample - loss: 0.2494 - sparse_categorical_accuracy: 0.9220 - val_loss: 0.2346 - val_sparse_categorical_accuracy: 0.9267\n",
            "Epoch 47/100\n",
            "234649/234649 [==============================] - 12s 52us/sample - loss: 0.2484 - sparse_categorical_accuracy: 0.9225 - val_loss: 0.2325 - val_sparse_categorical_accuracy: 0.9267\n",
            "Epoch 48/100\n",
            "234649/234649 [==============================] - 12s 52us/sample - loss: 0.2456 - sparse_categorical_accuracy: 0.9236 - val_loss: 0.2447 - val_sparse_categorical_accuracy: 0.9227\n",
            "Epoch 49/100\n",
            "234649/234649 [==============================] - 12s 52us/sample - loss: 0.2440 - sparse_categorical_accuracy: 0.9234 - val_loss: 0.2321 - val_sparse_categorical_accuracy: 0.9278\n",
            "Epoch 50/100\n",
            "234649/234649 [==============================] - 12s 52us/sample - loss: 0.2437 - sparse_categorical_accuracy: 0.9238 - val_loss: 0.2243 - val_sparse_categorical_accuracy: 0.9302\n",
            "Epoch 51/100\n",
            "234649/234649 [==============================] - 12s 52us/sample - loss: 0.2422 - sparse_categorical_accuracy: 0.9248 - val_loss: 0.2471 - val_sparse_categorical_accuracy: 0.9232\n",
            "Epoch 52/100\n",
            "234649/234649 [==============================] - 12s 52us/sample - loss: 0.2418 - sparse_categorical_accuracy: 0.9250 - val_loss: 0.2212 - val_sparse_categorical_accuracy: 0.9322\n",
            "Epoch 53/100\n",
            "234649/234649 [==============================] - 12s 52us/sample - loss: 0.2399 - sparse_categorical_accuracy: 0.9260 - val_loss: 0.2232 - val_sparse_categorical_accuracy: 0.9285\n",
            "Epoch 54/100\n",
            "234649/234649 [==============================] - 12s 52us/sample - loss: 0.2386 - sparse_categorical_accuracy: 0.9258 - val_loss: 0.2204 - val_sparse_categorical_accuracy: 0.9324\n",
            "Epoch 55/100\n",
            "234649/234649 [==============================] - 12s 52us/sample - loss: 0.2373 - sparse_categorical_accuracy: 0.9261 - val_loss: 0.2210 - val_sparse_categorical_accuracy: 0.9315\n",
            "Epoch 56/100\n",
            "234649/234649 [==============================] - 12s 52us/sample - loss: 0.2374 - sparse_categorical_accuracy: 0.9262 - val_loss: 0.2231 - val_sparse_categorical_accuracy: 0.9312\n",
            "Epoch 57/100\n",
            "234649/234649 [==============================] - 12s 52us/sample - loss: 0.2353 - sparse_categorical_accuracy: 0.9270 - val_loss: 0.2180 - val_sparse_categorical_accuracy: 0.9335\n",
            "Epoch 58/100\n",
            "234649/234649 [==============================] - 12s 52us/sample - loss: 0.2346 - sparse_categorical_accuracy: 0.9269 - val_loss: 0.2142 - val_sparse_categorical_accuracy: 0.9347\n",
            "Epoch 59/100\n",
            "234649/234649 [==============================] - 12s 52us/sample - loss: 0.2328 - sparse_categorical_accuracy: 0.9281 - val_loss: 0.2213 - val_sparse_categorical_accuracy: 0.9348\n",
            "Epoch 60/100\n",
            "234649/234649 [==============================] - 12s 52us/sample - loss: 0.2313 - sparse_categorical_accuracy: 0.9285 - val_loss: 0.2121 - val_sparse_categorical_accuracy: 0.9344\n",
            "Epoch 61/100\n",
            "234649/234649 [==============================] - 12s 52us/sample - loss: 0.2304 - sparse_categorical_accuracy: 0.9285 - val_loss: 0.2160 - val_sparse_categorical_accuracy: 0.9334\n",
            "Epoch 62/100\n",
            "234649/234649 [==============================] - 12s 52us/sample - loss: 0.2300 - sparse_categorical_accuracy: 0.9281 - val_loss: 0.2088 - val_sparse_categorical_accuracy: 0.9355\n",
            "Epoch 63/100\n",
            "234649/234649 [==============================] - 12s 52us/sample - loss: 0.2276 - sparse_categorical_accuracy: 0.9294 - val_loss: 0.2083 - val_sparse_categorical_accuracy: 0.9363\n",
            "Epoch 64/100\n",
            "234649/234649 [==============================] - 12s 52us/sample - loss: 0.2266 - sparse_categorical_accuracy: 0.9301 - val_loss: 0.2238 - val_sparse_categorical_accuracy: 0.9303\n",
            "Epoch 65/100\n",
            "234649/234649 [==============================] - 12s 52us/sample - loss: 0.2266 - sparse_categorical_accuracy: 0.9297 - val_loss: 0.2235 - val_sparse_categorical_accuracy: 0.9310\n",
            "Epoch 66/100\n",
            "234649/234649 [==============================] - 12s 52us/sample - loss: 0.2253 - sparse_categorical_accuracy: 0.9302 - val_loss: 0.2106 - val_sparse_categorical_accuracy: 0.9342\n",
            "Epoch 67/100\n",
            "234649/234649 [==============================] - 12s 52us/sample - loss: 0.2226 - sparse_categorical_accuracy: 0.9310 - val_loss: 0.2267 - val_sparse_categorical_accuracy: 0.9283\n",
            "Epoch 68/100\n",
            "234649/234649 [==============================] - 12s 52us/sample - loss: 0.2228 - sparse_categorical_accuracy: 0.9309 - val_loss: 0.2073 - val_sparse_categorical_accuracy: 0.9353\n",
            "Epoch 69/100\n",
            "234649/234649 [==============================] - 12s 52us/sample - loss: 0.2208 - sparse_categorical_accuracy: 0.9310 - val_loss: 0.2079 - val_sparse_categorical_accuracy: 0.9355\n",
            "Epoch 70/100\n",
            "234649/234649 [==============================] - 12s 53us/sample - loss: 0.2205 - sparse_categorical_accuracy: 0.9314 - val_loss: 0.2033 - val_sparse_categorical_accuracy: 0.9365\n",
            "Epoch 71/100\n",
            "234649/234649 [==============================] - 12s 52us/sample - loss: 0.2184 - sparse_categorical_accuracy: 0.9317 - val_loss: 0.2022 - val_sparse_categorical_accuracy: 0.9367\n",
            "Epoch 72/100\n",
            "234649/234649 [==============================] - 12s 52us/sample - loss: 0.2175 - sparse_categorical_accuracy: 0.9323 - val_loss: 0.2047 - val_sparse_categorical_accuracy: 0.9369\n",
            "Epoch 73/100\n",
            "234649/234649 [==============================] - 12s 52us/sample - loss: 0.2163 - sparse_categorical_accuracy: 0.9329 - val_loss: 0.1988 - val_sparse_categorical_accuracy: 0.9383\n",
            "Epoch 74/100\n",
            "234649/234649 [==============================] - 12s 52us/sample - loss: 0.2150 - sparse_categorical_accuracy: 0.9327 - val_loss: 0.1997 - val_sparse_categorical_accuracy: 0.9368\n",
            "Epoch 75/100\n",
            "234649/234649 [==============================] - 12s 52us/sample - loss: 0.2145 - sparse_categorical_accuracy: 0.9332 - val_loss: 0.1980 - val_sparse_categorical_accuracy: 0.9400\n",
            "Epoch 76/100\n",
            "234649/234649 [==============================] - 12s 52us/sample - loss: 0.2120 - sparse_categorical_accuracy: 0.9341 - val_loss: 0.1936 - val_sparse_categorical_accuracy: 0.9399\n",
            "Epoch 77/100\n",
            "234649/234649 [==============================] - 12s 52us/sample - loss: 0.2109 - sparse_categorical_accuracy: 0.9344 - val_loss: 0.1930 - val_sparse_categorical_accuracy: 0.9390\n",
            "Epoch 78/100\n",
            "234649/234649 [==============================] - 12s 52us/sample - loss: 0.2093 - sparse_categorical_accuracy: 0.9352 - val_loss: 0.1929 - val_sparse_categorical_accuracy: 0.9414\n",
            "Epoch 79/100\n",
            "234649/234649 [==============================] - 12s 52us/sample - loss: 0.2090 - sparse_categorical_accuracy: 0.9354 - val_loss: 0.1885 - val_sparse_categorical_accuracy: 0.9427\n",
            "Epoch 80/100\n",
            "234649/234649 [==============================] - 12s 52us/sample - loss: 0.2079 - sparse_categorical_accuracy: 0.9354 - val_loss: 0.1899 - val_sparse_categorical_accuracy: 0.9422\n",
            "Epoch 81/100\n",
            "234649/234649 [==============================] - 12s 52us/sample - loss: 0.2057 - sparse_categorical_accuracy: 0.9363 - val_loss: 0.2083 - val_sparse_categorical_accuracy: 0.9334\n",
            "Epoch 82/100\n",
            "234649/234649 [==============================] - 12s 52us/sample - loss: 0.2054 - sparse_categorical_accuracy: 0.9365 - val_loss: 0.1895 - val_sparse_categorical_accuracy: 0.9411\n",
            "Epoch 83/100\n",
            "234649/234649 [==============================] - 12s 52us/sample - loss: 0.2031 - sparse_categorical_accuracy: 0.9377 - val_loss: 0.1874 - val_sparse_categorical_accuracy: 0.9413\n",
            "Epoch 84/100\n",
            "234649/234649 [==============================] - 12s 52us/sample - loss: 0.2028 - sparse_categorical_accuracy: 0.9372 - val_loss: 0.2000 - val_sparse_categorical_accuracy: 0.9374\n",
            "Epoch 85/100\n",
            "234649/234649 [==============================] - 12s 52us/sample - loss: 0.2020 - sparse_categorical_accuracy: 0.9382 - val_loss: 0.1857 - val_sparse_categorical_accuracy: 0.9438\n",
            "Epoch 86/100\n",
            "234649/234649 [==============================] - 12s 52us/sample - loss: 0.1998 - sparse_categorical_accuracy: 0.9386 - val_loss: 0.1832 - val_sparse_categorical_accuracy: 0.9435\n",
            "Epoch 87/100\n",
            "234649/234649 [==============================] - 12s 52us/sample - loss: 0.2000 - sparse_categorical_accuracy: 0.9384 - val_loss: 0.1890 - val_sparse_categorical_accuracy: 0.9421\n",
            "Epoch 88/100\n",
            "234649/234649 [==============================] - 12s 52us/sample - loss: 0.1990 - sparse_categorical_accuracy: 0.9387 - val_loss: 0.1885 - val_sparse_categorical_accuracy: 0.9406\n",
            "Epoch 89/100\n",
            "234649/234649 [==============================] - 12s 52us/sample - loss: 0.1976 - sparse_categorical_accuracy: 0.9391 - val_loss: 0.1885 - val_sparse_categorical_accuracy: 0.9411\n",
            "Epoch 90/100\n",
            "234649/234649 [==============================] - 12s 52us/sample - loss: 0.1957 - sparse_categorical_accuracy: 0.9399 - val_loss: 0.1762 - val_sparse_categorical_accuracy: 0.9464\n",
            "Epoch 91/100\n",
            "234649/234649 [==============================] - 12s 52us/sample - loss: 0.1969 - sparse_categorical_accuracy: 0.9395 - val_loss: 0.1764 - val_sparse_categorical_accuracy: 0.9461\n",
            "Epoch 92/100\n",
            "234649/234649 [==============================] - 12s 52us/sample - loss: 0.1945 - sparse_categorical_accuracy: 0.9401 - val_loss: 0.1823 - val_sparse_categorical_accuracy: 0.9443\n",
            "Epoch 93/100\n",
            "234649/234649 [==============================] - 12s 52us/sample - loss: 0.1951 - sparse_categorical_accuracy: 0.9399 - val_loss: 0.1795 - val_sparse_categorical_accuracy: 0.9441\n",
            "Epoch 94/100\n",
            "234649/234649 [==============================] - 12s 52us/sample - loss: 0.1934 - sparse_categorical_accuracy: 0.9404 - val_loss: 0.1910 - val_sparse_categorical_accuracy: 0.9393\n",
            "Epoch 95/100\n",
            "234649/234649 [==============================] - 12s 52us/sample - loss: 0.1937 - sparse_categorical_accuracy: 0.9401 - val_loss: 0.1731 - val_sparse_categorical_accuracy: 0.9465\n",
            "Epoch 96/100\n",
            "234649/234649 [==============================] - 12s 52us/sample - loss: 0.1921 - sparse_categorical_accuracy: 0.9411 - val_loss: 0.1764 - val_sparse_categorical_accuracy: 0.9460\n",
            "Epoch 97/100\n",
            "234649/234649 [==============================] - 12s 52us/sample - loss: 0.1916 - sparse_categorical_accuracy: 0.9408 - val_loss: 0.1886 - val_sparse_categorical_accuracy: 0.9404\n",
            "Epoch 98/100\n",
            "234649/234649 [==============================] - 12s 52us/sample - loss: 0.1907 - sparse_categorical_accuracy: 0.9414 - val_loss: 0.1765 - val_sparse_categorical_accuracy: 0.9455\n",
            "Epoch 99/100\n",
            "234649/234649 [==============================] - 12s 52us/sample - loss: 0.1916 - sparse_categorical_accuracy: 0.9411 - val_loss: 0.1752 - val_sparse_categorical_accuracy: 0.9453\n",
            "Epoch 100/100\n",
            "234649/234649 [==============================] - 12s 52us/sample - loss: 0.1886 - sparse_categorical_accuracy: 0.9422 - val_loss: 0.1699 - val_sparse_categorical_accuracy: 0.9476\n"
          ],
          "name": "stdout"
        }
      ]
    },
    {
      "cell_type": "code",
      "metadata": {
        "id": "_RUSN-Yc4oHz",
        "colab_type": "code",
        "outputId": "81593cfb-a729-4131-f473-b8f262bd7d24",
        "colab": {
          "base_uri": "https://localhost:8080/",
          "height": 586
        }
      },
      "source": [
        "graficarMatrizConfusion(y_true=y_test, y_pred=modelo1.predict_classes(x_test_1))"
      ],
      "execution_count": 0,
      "outputs": [
        {
          "output_type": "stream",
          "text": [
            "WARNING:tensorflow:From <ipython-input-23-35f703ade7e7>:1: Sequential.predict_classes (from tensorflow.python.keras.engine.sequential) is deprecated and will be removed after 2021-01-01.\n",
            "Instructions for updating:\n",
            "Please use instead:* `np.argmax(model.predict(x), axis=-1)`,   if your model does multi-class classification   (e.g. if it uses a `softmax` last-layer activation).* `(model.predict(x) > 0.5).astype(\"int32\")`,   if your model does binary classification   (e.g. if it uses a `sigmoid` last-layer activation).\n"
          ],
          "name": "stdout"
        },
        {
          "output_type": "display_data",
          "data": {
            "image/png": "[encoded data removed]",
            "text/plain": [
              "<Figure size 576x576 with 1 Axes>"
            ]
          },
          "metadata": {
            "tags": []
          }
        }
      ]
    },
    {
      "cell_type": "markdown",
      "metadata": {
        "id": "vDtsAO4oE9I9",
        "colab_type": "text"
      },
      "source": [
        "# Modelo CNN 2D"
      ]
    },
    {
      "cell_type": "code",
      "metadata": {
        "id": "Dv1RWDQcYdv1",
        "colab_type": "code",
        "colab": {}
      },
      "source": [
        "def crearModelo2D(pTasa, pAlpha, pNumFiltros, pTamFiltros, pTamPooling, pNumNeuronas, pOptimizer, T_entrada_1, T_entrada_2):\n",
        "\n",
        "  modelo = Sequential()\n",
        "\n",
        "  modelo.add(Input(shape = (1,T_entrada_1,T_entrada_2)))\n",
        "\n",
        "  modelo.add(Conv2D(pNumFiltros[0], (int(pTamFiltros[0]),int(pTamFiltros[0])), padding='same', activation = 'relu'))\n",
        "  modelo.add(Conv2D(pNumFiltros[1], (int(pTamFiltros[1]),int(pTamFiltros[1])), padding='same', activation = 'relu'))\n",
        "  modelo.add(Conv2D(pNumFiltros[2], (int(pTamFiltros[2]),int(pTamFiltros[2])), padding='same', activation = 'relu'))\n",
        "  modelo.add(Conv2D(pNumFiltros[3], (int(pTamFiltros[3]),int(pTamFiltros[3])), padding='same', activation = 'relu'))\n",
        "  #modelo.add(Conv2D(pNumFiltros[4], (int(pTamFiltros[4]),int(pTamFiltros[4])), padding='same', activation = 'relu'))\n",
        "  #modelo.add(Conv2D(pNumFiltros[5], (int(pTamFiltros[5]),int(pTamFiltros[5])), padding='same', activation = 'relu'))\n",
        "\n",
        "  modelo.add(MaxPooling2D((int(pTamFiltros[1]),int(pTamFiltros[1])), padding='same'))\n",
        "\n",
        "\n",
        "\n",
        "  modelo.add(Dropout(0.5))\n",
        "  modelo.add(Flatten())\n",
        "\n",
        "  modelo.add(Dense(pNumNeuronas[0], activation='relu'))\n",
        "  modelo.add(Dense(pNumNeuronas[1], activation='relu'))\n",
        "  modelo.add(Dense(pNumNeuronas[2], activation='relu'))\n",
        "  #modelo.add(Dense(pNumNeuronas[3], activation='relu'))\n",
        "\n",
        "  modelo.add(Dense(4, activation='softmax'))\n",
        "\n",
        "\n",
        "  sgd = optimizers.SGD(lr = pTasa)#, momentum=0.9)\n",
        "  adam = optimizers.Adam(learning_rate = pTasa)\n",
        "  if pOptimizer == \"adam\":\n",
        "    opt=adam\n",
        "  elif pOptimizer ==\"sgd\":\n",
        "    opt=sgd\n",
        "  elif pOptimizer ==\"rmsprop\":\n",
        "    opt = \"rmsprop\"\n",
        "  \n",
        "  modelo.compile(loss='sparse_categorical_crossentropy', optimizer = opt, metrics = ['sparse_categorical_accuracy'])\n",
        "  modelo.summary()\n",
        "  \n",
        "  return modelo"
      ],
      "execution_count": 0,
      "outputs": []
    },
    {
      "cell_type": "code",
      "metadata": {
        "id": "3WMqRdTt2U2h",
        "colab_type": "code",
        "colab": {}
      },
      "source": [
        "#Esta celda construye los modelos, a partir de los parametros especificados por cada una de las siguientes variables.\n",
        "#Es el numero de filtros que cada capa convolucional utiliza.\n",
        "numFiltros = np.array([10, 10, 10, 10, 10, 512])\n",
        "\n",
        "#Es el tamaño de los filtros utilizados en cada capa convolucional.\n",
        "tamFiltros = np.array([2, 4, 4, 3, 3, 5])\n",
        "\n",
        "#Es el tamaño de cada capa de Pooling.\n",
        "tamPooling = np.array([4, 2, 3, 3, 3, 3])\n",
        "\n",
        "#Es el numero de neuronas en cada capa de la red neuronal que sigue despues de la parte convolucional.\n",
        "numNeuronas = np.array([10, 10, 10, 16])\n",
        "\n",
        "#Es el tipo de optimizador a utilizar.\n",
        "#Se pueden especificar: \"sgd\", \"adam\" o \"rmsprop\"\n",
        "optimizer=\"rmsprop\"\n",
        "\n",
        "#Es la tasa de aprendizaje del optimizador.\n",
        "tasa = 0.1\n",
        "\n",
        "#Es el parametro de regularizacion a utilizar.\n",
        "alpha = 0.01"
      ],
      "execution_count": 0,
      "outputs": []
    },
    {
      "cell_type": "code",
      "metadata": {
        "id": "3LJXcB-i2fQb",
        "colab_type": "code",
        "outputId": "d5b42965-0a40-4971-b738-83d20e54aff6",
        "colab": {
          "base_uri": "https://localhost:8080/",
          "height": 1000
        }
      },
      "source": [
        "Numero_Datos, uno, alto_2, ancho_2=x_train_2.shape\n",
        "\n",
        "modelo2 = crearModelo2D(tasa, alpha, numFiltros, tamFiltros, tamPooling, numNeuronas, optimizer, T_entrada_1 = alto_2 , T_entrada_2 = ancho_2 )\n",
        "\n",
        "#Esta linea muestra un diagrama de la red neuronal.\n",
        "SVG(model_to_dot(modelo2, show_shapes = True, expand_nested = True, dpi = 50).create(prog='dot', format='svg'))"
      ],
      "execution_count": 0,
      "outputs": [
        {
          "output_type": "stream",
          "text": [
            "Model: \"sequential_6\"\n",
            "_________________________________________________________________\n",
            "Layer (type)                 Output Shape              Param #   \n",
            "=================================================================\n",
            "conv2d_16 (Conv2D)           (None, 1, 128, 16)        144       \n",
            "_________________________________________________________________\n",
            "conv2d_17 (Conv2D)           (None, 1, 128, 32)        8224      \n",
            "_________________________________________________________________\n",
            "conv2d_18 (Conv2D)           (None, 1, 128, 64)        32832     \n",
            "_________________________________________________________________\n",
            "conv2d_19 (Conv2D)           (None, 1, 128, 128)       73856     \n",
            "_________________________________________________________________\n",
            "max_pooling2d_4 (MaxPooling2 (None, 1, 32, 128)        0         \n",
            "_________________________________________________________________\n",
            "dropout_6 (Dropout)          (None, 1, 32, 128)        0         \n",
            "_________________________________________________________________\n",
            "flatten_6 (Flatten)          (None, 4096)              0         \n",
            "_________________________________________________________________\n",
            "dense_22 (Dense)             (None, 10)                40970     \n",
            "_________________________________________________________________\n",
            "dense_23 (Dense)             (None, 10)                110       \n",
            "_________________________________________________________________\n",
            "dense_24 (Dense)             (None, 10)                110       \n",
            "_________________________________________________________________\n",
            "dense_25 (Dense)             (None, 4)                 44        \n",
            "=================================================================\n",
            "Total params: 156,290\n",
            "Trainable params: 156,290\n",
            "Non-trainable params: 0\n",
            "_________________________________________________________________\n"
          ],
          "name": "stdout"
        },
        {
          "output_type": "execute_result",
          "data": {
            "text/plain": [
              "<IPython.core.display.SVG object>"
            ],
            "image/svg+xml": "<svg height=\"672pt\" viewBox=\"0.00 0.00 394.00 968.00\" width=\"274pt\" xmlns=\"http://www.w3.org/2000/svg\" xmlns:xlink=\"http://www.w3.org/1999/xlink\">\n<g class=\"graph\" id=\"graph0\" transform=\"scale(.6944 .6944) rotate(0) translate(4 964)\">\n<title>G</title>\n<polygon fill=\"#ffffff\" points=\"-4,4 -4,-964 390,-964 390,4 -4,4\" stroke=\"transparent\"/>\n<!-- 139800649671064 -->\n<g class=\"node\" id=\"node1\">\n<title>139800649671064</title>\n<polygon fill=\"none\" points=\"47,-913.5 47,-959.5 339,-959.5 339,-913.5 47,-913.5\" stroke=\"#000000\"/>\n<text fill=\"#000000\" font-family=\"Times,serif\" font-size=\"14.00\" text-anchor=\"middle\" x=\"113.5\" y=\"-932.8\">input_7: InputLayer</text>\n<polyline fill=\"none\" points=\"180,-913.5 180,-959.5 \" stroke=\"#000000\"/>\n<text fill=\"#000000\" font-family=\"Times,serif\" font-size=\"14.00\" text-anchor=\"middle\" x=\"209\" y=\"-944.3\">input:</text>\n<polyline fill=\"none\" points=\"180,-936.5 238,-936.5 \" stroke=\"#000000\"/>\n<text fill=\"#000000\" font-family=\"Times,serif\" font-size=\"14.00\" text-anchor=\"middle\" x=\"209\" y=\"-921.3\">output:</text>\n<polyline fill=\"none\" points=\"238,-913.5 238,-959.5 \" stroke=\"#000000\"/>\n<text fill=\"#000000\" font-family=\"Times,serif\" font-size=\"14.00\" text-anchor=\"middle\" x=\"288.5\" y=\"-944.3\">[(?, 1, 128, 2)]</text>\n<polyline fill=\"none\" points=\"238,-936.5 339,-936.5 \" stroke=\"#000000\"/>\n<text fill=\"#000000\" font-family=\"Times,serif\" font-size=\"14.00\" text-anchor=\"middle\" x=\"288.5\" y=\"-921.3\">[(?, 1, 128, 2)]</text>\n</g>\n<!-- 139800649671680 -->\n<g class=\"node\" id=\"node2\">\n<title>139800649671680</title>\n<polygon fill=\"none\" points=\"44.5,-830.5 44.5,-876.5 341.5,-876.5 341.5,-830.5 44.5,-830.5\" stroke=\"#000000\"/>\n<text fill=\"#000000\" font-family=\"Times,serif\" font-size=\"14.00\" text-anchor=\"middle\" x=\"114.5\" y=\"-849.8\">conv2d_16: Conv2D</text>\n<polyline fill=\"none\" points=\"184.5,-830.5 184.5,-876.5 \" stroke=\"#000000\"/>\n<text fill=\"#000000\" font-family=\"Times,serif\" font-size=\"14.00\" text-anchor=\"middle\" x=\"213.5\" y=\"-861.3\">input:</text>\n<polyline fill=\"none\" points=\"184.5,-853.5 242.5,-853.5 \" stroke=\"#000000\"/>\n<text fill=\"#000000\" font-family=\"Times,serif\" font-size=\"14.00\" text-anchor=\"middle\" x=\"213.5\" y=\"-838.3\">output:</text>\n<polyline fill=\"none\" points=\"242.5,-830.5 242.5,-876.5 \" stroke=\"#000000\"/>\n<text fill=\"#000000\" font-family=\"Times,serif\" font-size=\"14.00\" text-anchor=\"middle\" x=\"292\" y=\"-861.3\">(?, 1, 128, 2)</text>\n<polyline fill=\"none\" points=\"242.5,-853.5 341.5,-853.5 \" stroke=\"#000000\"/>\n<text fill=\"#000000\" font-family=\"Times,serif\" font-size=\"14.00\" text-anchor=\"middle\" x=\"292\" y=\"-838.3\">(?, 1, 128, 16)</text>\n</g>\n<!-- 139800649671064&#45;&gt;139800649671680 -->\n<g class=\"edge\" id=\"edge1\">\n<title>139800649671064-&gt;139800649671680</title>\n<path d=\"M193,-913.3799C193,-905.1745 193,-895.7679 193,-886.8786\" fill=\"none\" stroke=\"#000000\"/>\n<polygon fill=\"#000000\" points=\"196.5001,-886.784 193,-876.784 189.5001,-886.784 196.5001,-886.784\" stroke=\"#000000\"/>\n</g>\n<!-- 139800649672856 -->\n<g class=\"node\" id=\"node3\">\n<title>139800649672856</title>\n<polygon fill=\"none\" points=\"44.5,-747.5 44.5,-793.5 341.5,-793.5 341.5,-747.5 44.5,-747.5\" stroke=\"#000000\"/>\n<text fill=\"#000000\" font-family=\"Times,serif\" font-size=\"14.00\" text-anchor=\"middle\" x=\"114.5\" y=\"-766.8\">conv2d_17: Conv2D</text>\n<polyline fill=\"none\" points=\"184.5,-747.5 184.5,-793.5 \" stroke=\"#000000\"/>\n<text fill=\"#000000\" font-family=\"Times,serif\" font-size=\"14.00\" text-anchor=\"middle\" x=\"213.5\" y=\"-778.3\">input:</text>\n<polyline fill=\"none\" points=\"184.5,-770.5 242.5,-770.5 \" stroke=\"#000000\"/>\n<text fill=\"#000000\" font-family=\"Times,serif\" font-size=\"14.00\" text-anchor=\"middle\" x=\"213.5\" y=\"-755.3\">output:</text>\n<polyline fill=\"none\" points=\"242.5,-747.5 242.5,-793.5 \" stroke=\"#000000\"/>\n<text fill=\"#000000\" font-family=\"Times,serif\" font-size=\"14.00\" text-anchor=\"middle\" x=\"292\" y=\"-778.3\">(?, 1, 128, 16)</text>\n<polyline fill=\"none\" points=\"242.5,-770.5 341.5,-770.5 \" stroke=\"#000000\"/>\n<text fill=\"#000000\" font-family=\"Times,serif\" font-size=\"14.00\" text-anchor=\"middle\" x=\"292\" y=\"-755.3\">(?, 1, 128, 32)</text>\n</g>\n<!-- 139800649671680&#45;&gt;139800649672856 -->\n<g class=\"edge\" id=\"edge2\">\n<title>139800649671680-&gt;139800649672856</title>\n<path d=\"M193,-830.3799C193,-822.1745 193,-812.7679 193,-803.8786\" fill=\"none\" stroke=\"#000000\"/>\n<polygon fill=\"#000000\" points=\"196.5001,-803.784 193,-793.784 189.5001,-803.784 196.5001,-803.784\" stroke=\"#000000\"/>\n</g>\n<!-- 139800649477536 -->\n<g class=\"node\" id=\"node4\">\n<title>139800649477536</title>\n<polygon fill=\"none\" points=\"44.5,-664.5 44.5,-710.5 341.5,-710.5 341.5,-664.5 44.5,-664.5\" stroke=\"#000000\"/>\n<text fill=\"#000000\" font-family=\"Times,serif\" font-size=\"14.00\" text-anchor=\"middle\" x=\"114.5\" y=\"-683.8\">conv2d_18: Conv2D</text>\n<polyline fill=\"none\" points=\"184.5,-664.5 184.5,-710.5 \" stroke=\"#000000\"/>\n<text fill=\"#000000\" font-family=\"Times,serif\" font-size=\"14.00\" text-anchor=\"middle\" x=\"213.5\" y=\"-695.3\">input:</text>\n<polyline fill=\"none\" points=\"184.5,-687.5 242.5,-687.5 \" stroke=\"#000000\"/>\n<text fill=\"#000000\" font-family=\"Times,serif\" font-size=\"14.00\" text-anchor=\"middle\" x=\"213.5\" y=\"-672.3\">output:</text>\n<polyline fill=\"none\" points=\"242.5,-664.5 242.5,-710.5 \" stroke=\"#000000\"/>\n<text fill=\"#000000\" font-family=\"Times,serif\" font-size=\"14.00\" text-anchor=\"middle\" x=\"292\" y=\"-695.3\">(?, 1, 128, 32)</text>\n<polyline fill=\"none\" points=\"242.5,-687.5 341.5,-687.5 \" stroke=\"#000000\"/>\n<text fill=\"#000000\" font-family=\"Times,serif\" font-size=\"14.00\" text-anchor=\"middle\" x=\"292\" y=\"-672.3\">(?, 1, 128, 64)</text>\n</g>\n<!-- 139800649672856&#45;&gt;139800649477536 -->\n<g class=\"edge\" id=\"edge3\">\n<title>139800649672856-&gt;139800649477536</title>\n<path d=\"M193,-747.3799C193,-739.1745 193,-729.7679 193,-720.8786\" fill=\"none\" stroke=\"#000000\"/>\n<polygon fill=\"#000000\" points=\"196.5001,-720.784 193,-710.784 189.5001,-720.784 196.5001,-720.784\" stroke=\"#000000\"/>\n</g>\n<!-- 139799020208704 -->\n<g class=\"node\" id=\"node5\">\n<title>139799020208704</title>\n<polygon fill=\"none\" points=\"40.5,-581.5 40.5,-627.5 345.5,-627.5 345.5,-581.5 40.5,-581.5\" stroke=\"#000000\"/>\n<text fill=\"#000000\" font-family=\"Times,serif\" font-size=\"14.00\" text-anchor=\"middle\" x=\"110.5\" y=\"-600.8\">conv2d_19: Conv2D</text>\n<polyline fill=\"none\" points=\"180.5,-581.5 180.5,-627.5 \" stroke=\"#000000\"/>\n<text fill=\"#000000\" font-family=\"Times,serif\" font-size=\"14.00\" text-anchor=\"middle\" x=\"209.5\" y=\"-612.3\">input:</text>\n<polyline fill=\"none\" points=\"180.5,-604.5 238.5,-604.5 \" stroke=\"#000000\"/>\n<text fill=\"#000000\" font-family=\"Times,serif\" font-size=\"14.00\" text-anchor=\"middle\" x=\"209.5\" y=\"-589.3\">output:</text>\n<polyline fill=\"none\" points=\"238.5,-581.5 238.5,-627.5 \" stroke=\"#000000\"/>\n<text fill=\"#000000\" font-family=\"Times,serif\" font-size=\"14.00\" text-anchor=\"middle\" x=\"292\" y=\"-612.3\">(?, 1, 128, 64)</text>\n<polyline fill=\"none\" points=\"238.5,-604.5 345.5,-604.5 \" stroke=\"#000000\"/>\n<text fill=\"#000000\" font-family=\"Times,serif\" font-size=\"14.00\" text-anchor=\"middle\" x=\"292\" y=\"-589.3\">(?, 1, 128, 128)</text>\n</g>\n<!-- 139800649477536&#45;&gt;139799020208704 -->\n<g class=\"edge\" id=\"edge4\">\n<title>139800649477536-&gt;139799020208704</title>\n<path d=\"M193,-664.3799C193,-656.1745 193,-646.7679 193,-637.8786\" fill=\"none\" stroke=\"#000000\"/>\n<polygon fill=\"#000000\" points=\"196.5001,-637.784 193,-627.784 189.5001,-637.784 196.5001,-637.784\" stroke=\"#000000\"/>\n</g>\n<!-- 139800649368296 -->\n<g class=\"node\" id=\"node6\">\n<title>139800649368296</title>\n<polygon fill=\"none\" points=\"0,-498.5 0,-544.5 386,-544.5 386,-498.5 0,-498.5\" stroke=\"#000000\"/>\n<text fill=\"#000000\" font-family=\"Times,serif\" font-size=\"14.00\" text-anchor=\"middle\" x=\"110.5\" y=\"-517.8\">max_pooling2d_4: MaxPooling2D</text>\n<polyline fill=\"none\" points=\"221,-498.5 221,-544.5 \" stroke=\"#000000\"/>\n<text fill=\"#000000\" font-family=\"Times,serif\" font-size=\"14.00\" text-anchor=\"middle\" x=\"250\" y=\"-529.3\">input:</text>\n<polyline fill=\"none\" points=\"221,-521.5 279,-521.5 \" stroke=\"#000000\"/>\n<text fill=\"#000000\" font-family=\"Times,serif\" font-size=\"14.00\" text-anchor=\"middle\" x=\"250\" y=\"-506.3\">output:</text>\n<polyline fill=\"none\" points=\"279,-498.5 279,-544.5 \" stroke=\"#000000\"/>\n<text fill=\"#000000\" font-family=\"Times,serif\" font-size=\"14.00\" text-anchor=\"middle\" x=\"332.5\" y=\"-529.3\">(?, 1, 128, 128)</text>\n<polyline fill=\"none\" points=\"279,-521.5 386,-521.5 \" stroke=\"#000000\"/>\n<text fill=\"#000000\" font-family=\"Times,serif\" font-size=\"14.00\" text-anchor=\"middle\" x=\"332.5\" y=\"-506.3\">(?, 1, 32, 128)</text>\n</g>\n<!-- 139799020208704&#45;&gt;139800649368296 -->\n<g class=\"edge\" id=\"edge5\">\n<title>139799020208704-&gt;139800649368296</title>\n<path d=\"M193,-581.3799C193,-573.1745 193,-563.7679 193,-554.8786\" fill=\"none\" stroke=\"#000000\"/>\n<polygon fill=\"#000000\" points=\"196.5001,-554.784 193,-544.784 189.5001,-554.784 196.5001,-554.784\" stroke=\"#000000\"/>\n</g>\n<!-- 139800649672912 -->\n<g class=\"node\" id=\"node7\">\n<title>139800649672912</title>\n<polygon fill=\"none\" points=\"47.5,-415.5 47.5,-461.5 338.5,-461.5 338.5,-415.5 47.5,-415.5\" stroke=\"#000000\"/>\n<text fill=\"#000000\" font-family=\"Times,serif\" font-size=\"14.00\" text-anchor=\"middle\" x=\"114.5\" y=\"-434.8\">dropout_6: Dropout</text>\n<polyline fill=\"none\" points=\"181.5,-415.5 181.5,-461.5 \" stroke=\"#000000\"/>\n<text fill=\"#000000\" font-family=\"Times,serif\" font-size=\"14.00\" text-anchor=\"middle\" x=\"210.5\" y=\"-446.3\">input:</text>\n<polyline fill=\"none\" points=\"181.5,-438.5 239.5,-438.5 \" stroke=\"#000000\"/>\n<text fill=\"#000000\" font-family=\"Times,serif\" font-size=\"14.00\" text-anchor=\"middle\" x=\"210.5\" y=\"-423.3\">output:</text>\n<polyline fill=\"none\" points=\"239.5,-415.5 239.5,-461.5 \" stroke=\"#000000\"/>\n<text fill=\"#000000\" font-family=\"Times,serif\" font-size=\"14.00\" text-anchor=\"middle\" x=\"289\" y=\"-446.3\">(?, 1, 32, 128)</text>\n<polyline fill=\"none\" points=\"239.5,-438.5 338.5,-438.5 \" stroke=\"#000000\"/>\n<text fill=\"#000000\" font-family=\"Times,serif\" font-size=\"14.00\" text-anchor=\"middle\" x=\"289\" y=\"-423.3\">(?, 1, 32, 128)</text>\n</g>\n<!-- 139800649368296&#45;&gt;139800649672912 -->\n<g class=\"edge\" id=\"edge6\">\n<title>139800649368296-&gt;139800649672912</title>\n<path d=\"M193,-498.3799C193,-490.1745 193,-480.7679 193,-471.8786\" fill=\"none\" stroke=\"#000000\"/>\n<polygon fill=\"#000000\" points=\"196.5001,-471.784 193,-461.784 189.5001,-471.784 196.5001,-471.784\" stroke=\"#000000\"/>\n</g>\n<!-- 139800649249680 -->\n<g class=\"node\" id=\"node8\">\n<title>139800649249680</title>\n<polygon fill=\"none\" points=\"58,-332.5 58,-378.5 328,-378.5 328,-332.5 58,-332.5\" stroke=\"#000000\"/>\n<text fill=\"#000000\" font-family=\"Times,serif\" font-size=\"14.00\" text-anchor=\"middle\" x=\"114.5\" y=\"-351.8\">flatten_6: Flatten</text>\n<polyline fill=\"none\" points=\"171,-332.5 171,-378.5 \" stroke=\"#000000\"/>\n<text fill=\"#000000\" font-family=\"Times,serif\" font-size=\"14.00\" text-anchor=\"middle\" x=\"200\" y=\"-363.3\">input:</text>\n<polyline fill=\"none\" points=\"171,-355.5 229,-355.5 \" stroke=\"#000000\"/>\n<text fill=\"#000000\" font-family=\"Times,serif\" font-size=\"14.00\" text-anchor=\"middle\" x=\"200\" y=\"-340.3\">output:</text>\n<polyline fill=\"none\" points=\"229,-332.5 229,-378.5 \" stroke=\"#000000\"/>\n<text fill=\"#000000\" font-family=\"Times,serif\" font-size=\"14.00\" text-anchor=\"middle\" x=\"278.5\" y=\"-363.3\">(?, 1, 32, 128)</text>\n<polyline fill=\"none\" points=\"229,-355.5 328,-355.5 \" stroke=\"#000000\"/>\n<text fill=\"#000000\" font-family=\"Times,serif\" font-size=\"14.00\" text-anchor=\"middle\" x=\"278.5\" y=\"-340.3\">(?, 4096)</text>\n</g>\n<!-- 139800649672912&#45;&gt;139800649249680 -->\n<g class=\"edge\" id=\"edge7\">\n<title>139800649672912-&gt;139800649249680</title>\n<path d=\"M193,-415.3799C193,-407.1745 193,-397.7679 193,-388.8786\" fill=\"none\" stroke=\"#000000\"/>\n<polygon fill=\"#000000\" points=\"196.5001,-388.784 193,-378.784 189.5001,-388.784 196.5001,-388.784\" stroke=\"#000000\"/>\n</g>\n<!-- 139800649272400 -->\n<g class=\"node\" id=\"node9\">\n<title>139800649272400</title>\n<polygon fill=\"none\" points=\"72.5,-249.5 72.5,-295.5 313.5,-295.5 313.5,-249.5 72.5,-249.5\" stroke=\"#000000\"/>\n<text fill=\"#000000\" font-family=\"Times,serif\" font-size=\"14.00\" text-anchor=\"middle\" x=\"129.5\" y=\"-268.8\">dense_22: Dense</text>\n<polyline fill=\"none\" points=\"186.5,-249.5 186.5,-295.5 \" stroke=\"#000000\"/>\n<text fill=\"#000000\" font-family=\"Times,serif\" font-size=\"14.00\" text-anchor=\"middle\" x=\"215.5\" y=\"-280.3\">input:</text>\n<polyline fill=\"none\" points=\"186.5,-272.5 244.5,-272.5 \" stroke=\"#000000\"/>\n<text fill=\"#000000\" font-family=\"Times,serif\" font-size=\"14.00\" text-anchor=\"middle\" x=\"215.5\" y=\"-257.3\">output:</text>\n<polyline fill=\"none\" points=\"244.5,-249.5 244.5,-295.5 \" stroke=\"#000000\"/>\n<text fill=\"#000000\" font-family=\"Times,serif\" font-size=\"14.00\" text-anchor=\"middle\" x=\"279\" y=\"-280.3\">(?, 4096)</text>\n<polyline fill=\"none\" points=\"244.5,-272.5 313.5,-272.5 \" stroke=\"#000000\"/>\n<text fill=\"#000000\" font-family=\"Times,serif\" font-size=\"14.00\" text-anchor=\"middle\" x=\"279\" y=\"-257.3\">(?, 10)</text>\n</g>\n<!-- 139800649249680&#45;&gt;139800649272400 -->\n<g class=\"edge\" id=\"edge8\">\n<title>139800649249680-&gt;139800649272400</title>\n<path d=\"M193,-332.3799C193,-324.1745 193,-314.7679 193,-305.8786\" fill=\"none\" stroke=\"#000000\"/>\n<polygon fill=\"#000000\" points=\"196.5001,-305.784 193,-295.784 189.5001,-305.784 196.5001,-305.784\" stroke=\"#000000\"/>\n</g>\n<!-- 139799019788384 -->\n<g class=\"node\" id=\"node10\">\n<title>139799019788384</title>\n<polygon fill=\"none\" points=\"80,-166.5 80,-212.5 306,-212.5 306,-166.5 80,-166.5\" stroke=\"#000000\"/>\n<text fill=\"#000000\" font-family=\"Times,serif\" font-size=\"14.00\" text-anchor=\"middle\" x=\"137\" y=\"-185.8\">dense_23: Dense</text>\n<polyline fill=\"none\" points=\"194,-166.5 194,-212.5 \" stroke=\"#000000\"/>\n<text fill=\"#000000\" font-family=\"Times,serif\" font-size=\"14.00\" text-anchor=\"middle\" x=\"223\" y=\"-197.3\">input:</text>\n<polyline fill=\"none\" points=\"194,-189.5 252,-189.5 \" stroke=\"#000000\"/>\n<text fill=\"#000000\" font-family=\"Times,serif\" font-size=\"14.00\" text-anchor=\"middle\" x=\"223\" y=\"-174.3\">output:</text>\n<polyline fill=\"none\" points=\"252,-166.5 252,-212.5 \" stroke=\"#000000\"/>\n<text fill=\"#000000\" font-family=\"Times,serif\" font-size=\"14.00\" text-anchor=\"middle\" x=\"279\" y=\"-197.3\">(?, 10)</text>\n<polyline fill=\"none\" points=\"252,-189.5 306,-189.5 \" stroke=\"#000000\"/>\n<text fill=\"#000000\" font-family=\"Times,serif\" font-size=\"14.00\" text-anchor=\"middle\" x=\"279\" y=\"-174.3\">(?, 10)</text>\n</g>\n<!-- 139800649272400&#45;&gt;139799019788384 -->\n<g class=\"edge\" id=\"edge9\">\n<title>139800649272400-&gt;139799019788384</title>\n<path d=\"M193,-249.3799C193,-241.1745 193,-231.7679 193,-222.8786\" fill=\"none\" stroke=\"#000000\"/>\n<polygon fill=\"#000000\" points=\"196.5001,-222.784 193,-212.784 189.5001,-222.784 196.5001,-222.784\" stroke=\"#000000\"/>\n</g>\n<!-- 139799019758144 -->\n<g class=\"node\" id=\"node11\">\n<title>139799019758144</title>\n<polygon fill=\"none\" points=\"80,-83.5 80,-129.5 306,-129.5 306,-83.5 80,-83.5\" stroke=\"#000000\"/>\n<text fill=\"#000000\" font-family=\"Times,serif\" font-size=\"14.00\" text-anchor=\"middle\" x=\"137\" y=\"-102.8\">dense_24: Dense</text>\n<polyline fill=\"none\" points=\"194,-83.5 194,-129.5 \" stroke=\"#000000\"/>\n<text fill=\"#000000\" font-family=\"Times,serif\" font-size=\"14.00\" text-anchor=\"middle\" x=\"223\" y=\"-114.3\">input:</text>\n<polyline fill=\"none\" points=\"194,-106.5 252,-106.5 \" stroke=\"#000000\"/>\n<text fill=\"#000000\" font-family=\"Times,serif\" font-size=\"14.00\" text-anchor=\"middle\" x=\"223\" y=\"-91.3\">output:</text>\n<polyline fill=\"none\" points=\"252,-83.5 252,-129.5 \" stroke=\"#000000\"/>\n<text fill=\"#000000\" font-family=\"Times,serif\" font-size=\"14.00\" text-anchor=\"middle\" x=\"279\" y=\"-114.3\">(?, 10)</text>\n<polyline fill=\"none\" points=\"252,-106.5 306,-106.5 \" stroke=\"#000000\"/>\n<text fill=\"#000000\" font-family=\"Times,serif\" font-size=\"14.00\" text-anchor=\"middle\" x=\"279\" y=\"-91.3\">(?, 10)</text>\n</g>\n<!-- 139799019788384&#45;&gt;139799019758144 -->\n<g class=\"edge\" id=\"edge10\">\n<title>139799019788384-&gt;139799019758144</title>\n<path d=\"M193,-166.3799C193,-158.1745 193,-148.7679 193,-139.8786\" fill=\"none\" stroke=\"#000000\"/>\n<polygon fill=\"#000000\" points=\"196.5001,-139.784 193,-129.784 189.5001,-139.784 196.5001,-139.784\" stroke=\"#000000\"/>\n</g>\n<!-- 139799019759712 -->\n<g class=\"node\" id=\"node12\">\n<title>139799019759712</title>\n<polygon fill=\"none\" points=\"80,-.5 80,-46.5 306,-46.5 306,-.5 80,-.5\" stroke=\"#000000\"/>\n<text fill=\"#000000\" font-family=\"Times,serif\" font-size=\"14.00\" text-anchor=\"middle\" x=\"137\" y=\"-19.8\">dense_25: Dense</text>\n<polyline fill=\"none\" points=\"194,-.5 194,-46.5 \" stroke=\"#000000\"/>\n<text fill=\"#000000\" font-family=\"Times,serif\" font-size=\"14.00\" text-anchor=\"middle\" x=\"223\" y=\"-31.3\">input:</text>\n<polyline fill=\"none\" points=\"194,-23.5 252,-23.5 \" stroke=\"#000000\"/>\n<text fill=\"#000000\" font-family=\"Times,serif\" font-size=\"14.00\" text-anchor=\"middle\" x=\"223\" y=\"-8.3\">output:</text>\n<polyline fill=\"none\" points=\"252,-.5 252,-46.5 \" stroke=\"#000000\"/>\n<text fill=\"#000000\" font-family=\"Times,serif\" font-size=\"14.00\" text-anchor=\"middle\" x=\"279\" y=\"-31.3\">(?, 10)</text>\n<polyline fill=\"none\" points=\"252,-23.5 306,-23.5 \" stroke=\"#000000\"/>\n<text fill=\"#000000\" font-family=\"Times,serif\" font-size=\"14.00\" text-anchor=\"middle\" x=\"279\" y=\"-8.3\">(?, 4)</text>\n</g>\n<!-- 139799019758144&#45;&gt;139799019759712 -->\n<g class=\"edge\" id=\"edge11\">\n<title>139799019758144-&gt;139799019759712</title>\n<path d=\"M193,-83.3799C193,-75.1745 193,-65.7679 193,-56.8786\" fill=\"none\" stroke=\"#000000\"/>\n<polygon fill=\"#000000\" points=\"196.5001,-56.784 193,-46.784 189.5001,-56.784 196.5001,-56.784\" stroke=\"#000000\"/>\n</g>\n</g>\n</svg>"
          },
          "metadata": {
            "tags": []
          },
          "execution_count": 43
        }
      ]
    },
    {
      "cell_type": "code",
      "metadata": {
        "id": "MgTxJfoc2ava",
        "colab_type": "code",
        "outputId": "4bae1bac-c5ef-4fbb-a6f6-8331839b7a8e",
        "colab": {
          "base_uri": "https://localhost:8080/",
          "height": 1000
        }
      },
      "source": [
        "epocas = 100\n",
        "batchSize = 5000\n",
        "\n",
        "#modelo1.compile(loss='sparse_categorical_crossentropy', optimizer = \"rmsprop\", metrics = ['sparse_categorical_accuracy'])\n",
        "\n",
        "for i in range(0,1):\n",
        "  #hist = modelo1.fit(x, y, verbose = 1, validation_data=(x, y), epochs = epocas, batch_size = batchSize)#, class_weight = pesosClases)\n",
        "  hist = modelo2.fit(x_train_2, y_train, validation_data=(x_test_2, y_test), epochs = epocas, batch_size = batchSize, class_weight = pesosClases)\n",
        " \n",
        "                        \n",
        "\n",
        "  #SVG(model_to_dot(modelo1, show_shapes = True, expand_nested = True, dpi = 60).create(prog='dot', format='svg'))"
      ],
      "execution_count": 0,
      "outputs": [
        {
          "output_type": "stream",
          "text": [
            "Train on 1019232 samples, validate on 254808 samples\n",
            "Epoch 1/100\n",
            "1019232/1019232 [==============================] - 31s 30us/sample - loss: 0.5502 - sparse_categorical_accuracy: 0.8324 - val_loss: 0.3916 - val_sparse_categorical_accuracy: 0.8936\n",
            "Epoch 2/100\n",
            "1019232/1019232 [==============================] - 29s 29us/sample - loss: 0.3560 - sparse_categorical_accuracy: 0.8995 - val_loss: 0.3160 - val_sparse_categorical_accuracy: 0.9143\n",
            "Epoch 3/100\n",
            "1019232/1019232 [==============================] - 32s 32us/sample - loss: 0.2779 - sparse_categorical_accuracy: 0.9234 - val_loss: 0.2572 - val_sparse_categorical_accuracy: 0.9281\n",
            "Epoch 4/100\n",
            "1019232/1019232 [==============================] - 32s 32us/sample - loss: 0.2368 - sparse_categorical_accuracy: 0.9362 - val_loss: 0.1926 - val_sparse_categorical_accuracy: 0.9504\n",
            "Epoch 5/100\n",
            "1019232/1019232 [==============================] - 29s 29us/sample - loss: 0.2123 - sparse_categorical_accuracy: 0.9436 - val_loss: 0.1796 - val_sparse_categorical_accuracy: 0.9518\n",
            "Epoch 6/100\n",
            "1019232/1019232 [==============================] - 32s 32us/sample - loss: 0.1989 - sparse_categorical_accuracy: 0.9468 - val_loss: 0.2401 - val_sparse_categorical_accuracy: 0.9395\n",
            "Epoch 7/100\n",
            "1019232/1019232 [==============================] - 29s 29us/sample - loss: 0.1854 - sparse_categorical_accuracy: 0.9512 - val_loss: 0.1846 - val_sparse_categorical_accuracy: 0.9527\n",
            "Epoch 8/100\n",
            "1019232/1019232 [==============================] - 32s 32us/sample - loss: 0.1776 - sparse_categorical_accuracy: 0.9536 - val_loss: 0.1474 - val_sparse_categorical_accuracy: 0.9628\n",
            "Epoch 9/100\n",
            "1019232/1019232 [==============================] - 29s 29us/sample - loss: 0.1701 - sparse_categorical_accuracy: 0.9554 - val_loss: 0.1898 - val_sparse_categorical_accuracy: 0.9507\n",
            "Epoch 10/100\n",
            "1019232/1019232 [==============================] - 32s 32us/sample - loss: 0.1622 - sparse_categorical_accuracy: 0.9576 - val_loss: 0.1770 - val_sparse_categorical_accuracy: 0.9556\n",
            "Epoch 11/100\n",
            "1019232/1019232 [==============================] - 29s 29us/sample - loss: 0.1562 - sparse_categorical_accuracy: 0.9595 - val_loss: 0.1414 - val_sparse_categorical_accuracy: 0.9631\n",
            "Epoch 12/100\n",
            "1019232/1019232 [==============================] - 32s 32us/sample - loss: 0.1518 - sparse_categorical_accuracy: 0.9604 - val_loss: 0.1335 - val_sparse_categorical_accuracy: 0.9659\n",
            "Epoch 13/100\n",
            "1019232/1019232 [==============================] - 29s 29us/sample - loss: 0.1469 - sparse_categorical_accuracy: 0.9620 - val_loss: 0.1364 - val_sparse_categorical_accuracy: 0.9646\n",
            "Epoch 14/100\n",
            "1019232/1019232 [==============================] - 32s 32us/sample - loss: 0.1432 - sparse_categorical_accuracy: 0.9629 - val_loss: 0.1570 - val_sparse_categorical_accuracy: 0.9592\n",
            "Epoch 15/100\n",
            "1019232/1019232 [==============================] - 29s 29us/sample - loss: 0.1396 - sparse_categorical_accuracy: 0.9639 - val_loss: 0.1151 - val_sparse_categorical_accuracy: 0.9711\n",
            "Epoch 16/100\n",
            "1019232/1019232 [==============================] - 32s 32us/sample - loss: 0.1382 - sparse_categorical_accuracy: 0.9643 - val_loss: 0.1142 - val_sparse_categorical_accuracy: 0.9713\n",
            "Epoch 17/100\n",
            "1019232/1019232 [==============================] - 29s 29us/sample - loss: 0.1341 - sparse_categorical_accuracy: 0.9653 - val_loss: 0.1126 - val_sparse_categorical_accuracy: 0.9715\n",
            "Epoch 18/100\n",
            "1019232/1019232 [==============================] - 32s 32us/sample - loss: 0.1325 - sparse_categorical_accuracy: 0.9656 - val_loss: 0.1429 - val_sparse_categorical_accuracy: 0.9632\n",
            "Epoch 19/100\n",
            "1019232/1019232 [==============================] - 29s 29us/sample - loss: 0.1305 - sparse_categorical_accuracy: 0.9662 - val_loss: 0.1096 - val_sparse_categorical_accuracy: 0.9724\n",
            "Epoch 20/100\n",
            "1019232/1019232 [==============================] - 32s 32us/sample - loss: 0.1284 - sparse_categorical_accuracy: 0.9666 - val_loss: 0.1338 - val_sparse_categorical_accuracy: 0.9655\n",
            "Epoch 21/100\n",
            "1019232/1019232 [==============================] - 29s 29us/sample - loss: 0.1277 - sparse_categorical_accuracy: 0.9668 - val_loss: 0.1080 - val_sparse_categorical_accuracy: 0.9725\n",
            "Epoch 22/100\n",
            "1019232/1019232 [==============================] - 32s 32us/sample - loss: 0.1247 - sparse_categorical_accuracy: 0.9677 - val_loss: 0.1146 - val_sparse_categorical_accuracy: 0.9702\n",
            "Epoch 23/100\n",
            "1019232/1019232 [==============================] - 29s 29us/sample - loss: 0.1247 - sparse_categorical_accuracy: 0.9678 - val_loss: 0.1056 - val_sparse_categorical_accuracy: 0.9732\n",
            "Epoch 24/100\n",
            "1019232/1019232 [==============================] - 32s 32us/sample - loss: 0.1222 - sparse_categorical_accuracy: 0.9682 - val_loss: 0.1230 - val_sparse_categorical_accuracy: 0.9685\n",
            "Epoch 25/100\n",
            "1019232/1019232 [==============================] - 29s 29us/sample - loss: 0.1210 - sparse_categorical_accuracy: 0.9686 - val_loss: 0.1047 - val_sparse_categorical_accuracy: 0.9730\n",
            "Epoch 26/100\n",
            "1019232/1019232 [==============================] - 32s 32us/sample - loss: 0.1197 - sparse_categorical_accuracy: 0.9689 - val_loss: 0.1277 - val_sparse_categorical_accuracy: 0.9675\n",
            "Epoch 27/100\n",
            "1019232/1019232 [==============================] - 29s 29us/sample - loss: 0.1190 - sparse_categorical_accuracy: 0.9692 - val_loss: 0.1136 - val_sparse_categorical_accuracy: 0.9713\n",
            "Epoch 28/100\n",
            "1019232/1019232 [==============================] - 32s 32us/sample - loss: 0.1175 - sparse_categorical_accuracy: 0.9695 - val_loss: 0.1304 - val_sparse_categorical_accuracy: 0.9663\n",
            "Epoch 29/100\n",
            "1019232/1019232 [==============================] - 29s 29us/sample - loss: 0.1168 - sparse_categorical_accuracy: 0.9696 - val_loss: 0.1051 - val_sparse_categorical_accuracy: 0.9736\n",
            "Epoch 30/100\n",
            "1019232/1019232 [==============================] - 32s 32us/sample - loss: 0.1157 - sparse_categorical_accuracy: 0.9700 - val_loss: 0.1074 - val_sparse_categorical_accuracy: 0.9727\n",
            "Epoch 31/100\n",
            "1019232/1019232 [==============================] - 29s 29us/sample - loss: 0.1141 - sparse_categorical_accuracy: 0.9702 - val_loss: 0.1057 - val_sparse_categorical_accuracy: 0.9727\n",
            "Epoch 32/100\n",
            "1019232/1019232 [==============================] - 32s 32us/sample - loss: 0.1135 - sparse_categorical_accuracy: 0.9704 - val_loss: 0.1108 - val_sparse_categorical_accuracy: 0.9720\n",
            "Epoch 33/100\n",
            "1019232/1019232 [==============================] - 29s 29us/sample - loss: 0.1126 - sparse_categorical_accuracy: 0.9706 - val_loss: 0.0999 - val_sparse_categorical_accuracy: 0.9744\n",
            "Epoch 34/100\n",
            "1019232/1019232 [==============================] - 32s 32us/sample - loss: 0.1121 - sparse_categorical_accuracy: 0.9709 - val_loss: 0.0954 - val_sparse_categorical_accuracy: 0.9757\n",
            "Epoch 35/100\n",
            "1019232/1019232 [==============================] - 29s 29us/sample - loss: 0.1110 - sparse_categorical_accuracy: 0.9710 - val_loss: 0.1081 - val_sparse_categorical_accuracy: 0.9726\n",
            "Epoch 36/100\n",
            "1019232/1019232 [==============================] - 32s 32us/sample - loss: 0.1107 - sparse_categorical_accuracy: 0.9711 - val_loss: 0.1031 - val_sparse_categorical_accuracy: 0.9733\n",
            "Epoch 37/100\n",
            "1019232/1019232 [==============================] - 29s 29us/sample - loss: 0.1094 - sparse_categorical_accuracy: 0.9714 - val_loss: 0.0936 - val_sparse_categorical_accuracy: 0.9758\n",
            "Epoch 38/100\n",
            "1019232/1019232 [==============================] - 32s 32us/sample - loss: 0.1089 - sparse_categorical_accuracy: 0.9715 - val_loss: 0.0944 - val_sparse_categorical_accuracy: 0.9758\n",
            "Epoch 39/100\n",
            "1019232/1019232 [==============================] - 29s 29us/sample - loss: 0.1081 - sparse_categorical_accuracy: 0.9717 - val_loss: 0.1099 - val_sparse_categorical_accuracy: 0.9715\n",
            "Epoch 40/100\n",
            "1019232/1019232 [==============================] - 32s 32us/sample - loss: 0.1076 - sparse_categorical_accuracy: 0.9720 - val_loss: 0.0962 - val_sparse_categorical_accuracy: 0.9750\n",
            "Epoch 41/100\n",
            "1019232/1019232 [==============================] - 29s 29us/sample - loss: 0.1069 - sparse_categorical_accuracy: 0.9719 - val_loss: 0.0944 - val_sparse_categorical_accuracy: 0.9757\n",
            "Epoch 42/100\n",
            "1019232/1019232 [==============================] - 32s 32us/sample - loss: 0.1062 - sparse_categorical_accuracy: 0.9722 - val_loss: 0.1050 - val_sparse_categorical_accuracy: 0.9732\n",
            "Epoch 43/100\n",
            " 840000/1019232 [=======================>......] - ETA: 4s - loss: 0.1064 - sparse_categorical_accuracy: 0.9721"
          ],
          "name": "stdout"
        },
        {
          "output_type": "error",
          "ename": "KeyboardInterrupt",
          "evalue": "ignored",
          "traceback": [
            "\u001b[0;31m---------------------------------------------------------------------------\u001b[0m",
            "\u001b[0;31mKeyboardInterrupt\u001b[0m                         Traceback (most recent call last)",
            "\u001b[0;32m<ipython-input-44-6499a5aa6f5a>\u001b[0m in \u001b[0;36m<module>\u001b[0;34m()\u001b[0m\n\u001b[1;32m      6\u001b[0m \u001b[0;32mfor\u001b[0m \u001b[0mi\u001b[0m \u001b[0;32min\u001b[0m \u001b[0mrange\u001b[0m\u001b[0;34m(\u001b[0m\u001b[0;36m0\u001b[0m\u001b[0;34m,\u001b[0m\u001b[0;36m1\u001b[0m\u001b[0;34m)\u001b[0m\u001b[0;34m:\u001b[0m\u001b[0;34m\u001b[0m\u001b[0;34m\u001b[0m\u001b[0m\n\u001b[1;32m      7\u001b[0m   \u001b[0;31m#hist = modelo1.fit(x, y, verbose = 1, validation_data=(x, y), epochs = epocas, batch_size = batchSize)#, class_weight = pesosClases)\u001b[0m\u001b[0;34m\u001b[0m\u001b[0;34m\u001b[0m\u001b[0;34m\u001b[0m\u001b[0m\n\u001b[0;32m----> 8\u001b[0;31m   \u001b[0mhist\u001b[0m \u001b[0;34m=\u001b[0m \u001b[0mmodelo2\u001b[0m\u001b[0;34m.\u001b[0m\u001b[0mfit\u001b[0m\u001b[0;34m(\u001b[0m\u001b[0mx_train_2\u001b[0m\u001b[0;34m,\u001b[0m \u001b[0my_train\u001b[0m\u001b[0;34m,\u001b[0m \u001b[0mvalidation_data\u001b[0m\u001b[0;34m=\u001b[0m\u001b[0;34m(\u001b[0m\u001b[0mx_test_2\u001b[0m\u001b[0;34m,\u001b[0m \u001b[0my_test\u001b[0m\u001b[0;34m)\u001b[0m\u001b[0;34m,\u001b[0m \u001b[0mepochs\u001b[0m \u001b[0;34m=\u001b[0m \u001b[0mepocas\u001b[0m\u001b[0;34m,\u001b[0m \u001b[0mbatch_size\u001b[0m \u001b[0;34m=\u001b[0m \u001b[0mbatchSize\u001b[0m\u001b[0;34m,\u001b[0m \u001b[0mclass_weight\u001b[0m \u001b[0;34m=\u001b[0m \u001b[0mpesosClases\u001b[0m\u001b[0;34m)\u001b[0m\u001b[0;34m\u001b[0m\u001b[0;34m\u001b[0m\u001b[0m\n\u001b[0m\u001b[1;32m      9\u001b[0m \u001b[0;34m\u001b[0m\u001b[0m\n\u001b[1;32m     10\u001b[0m \u001b[0;34m\u001b[0m\u001b[0m\n",
            "\u001b[0;32m/tensorflow-1.15.0/python3.6/tensorflow_core/python/keras/engine/training.py\u001b[0m in \u001b[0;36mfit\u001b[0;34m(self, x, y, batch_size, epochs, verbose, callbacks, validation_split, validation_data, shuffle, class_weight, sample_weight, initial_epoch, steps_per_epoch, validation_steps, validation_freq, max_queue_size, workers, use_multiprocessing, **kwargs)\u001b[0m\n\u001b[1;32m    725\u001b[0m         \u001b[0mmax_queue_size\u001b[0m\u001b[0;34m=\u001b[0m\u001b[0mmax_queue_size\u001b[0m\u001b[0;34m,\u001b[0m\u001b[0;34m\u001b[0m\u001b[0;34m\u001b[0m\u001b[0m\n\u001b[1;32m    726\u001b[0m         \u001b[0mworkers\u001b[0m\u001b[0;34m=\u001b[0m\u001b[0mworkers\u001b[0m\u001b[0;34m,\u001b[0m\u001b[0;34m\u001b[0m\u001b[0;34m\u001b[0m\u001b[0m\n\u001b[0;32m--> 727\u001b[0;31m         use_multiprocessing=use_multiprocessing)\n\u001b[0m\u001b[1;32m    728\u001b[0m \u001b[0;34m\u001b[0m\u001b[0m\n\u001b[1;32m    729\u001b[0m   def evaluate(self,\n",
            "\u001b[0;32m/tensorflow-1.15.0/python3.6/tensorflow_core/python/keras/engine/training_arrays.py\u001b[0m in \u001b[0;36mfit\u001b[0;34m(self, model, x, y, batch_size, epochs, verbose, callbacks, validation_split, validation_data, shuffle, class_weight, sample_weight, initial_epoch, steps_per_epoch, validation_steps, validation_freq, **kwargs)\u001b[0m\n\u001b[1;32m    673\u001b[0m         \u001b[0mvalidation_steps\u001b[0m\u001b[0;34m=\u001b[0m\u001b[0mvalidation_steps\u001b[0m\u001b[0;34m,\u001b[0m\u001b[0;34m\u001b[0m\u001b[0;34m\u001b[0m\u001b[0m\n\u001b[1;32m    674\u001b[0m         \u001b[0mvalidation_freq\u001b[0m\u001b[0;34m=\u001b[0m\u001b[0mvalidation_freq\u001b[0m\u001b[0;34m,\u001b[0m\u001b[0;34m\u001b[0m\u001b[0;34m\u001b[0m\u001b[0m\n\u001b[0;32m--> 675\u001b[0;31m         steps_name='steps_per_epoch')\n\u001b[0m\u001b[1;32m    676\u001b[0m \u001b[0;34m\u001b[0m\u001b[0m\n\u001b[1;32m    677\u001b[0m   def evaluate(self,\n",
            "\u001b[0;32m/tensorflow-1.15.0/python3.6/tensorflow_core/python/keras/engine/training_arrays.py\u001b[0m in \u001b[0;36mmodel_iteration\u001b[0;34m(model, inputs, targets, sample_weights, batch_size, epochs, verbose, callbacks, val_inputs, val_targets, val_sample_weights, shuffle, initial_epoch, steps_per_epoch, validation_steps, validation_freq, mode, validation_in_fit, prepared_feed_values_from_dataset, steps_name, **kwargs)\u001b[0m\n\u001b[1;32m    392\u001b[0m \u001b[0;34m\u001b[0m\u001b[0m\n\u001b[1;32m    393\u001b[0m         \u001b[0;31m# Get outputs.\u001b[0m\u001b[0;34m\u001b[0m\u001b[0;34m\u001b[0m\u001b[0;34m\u001b[0m\u001b[0m\n\u001b[0;32m--> 394\u001b[0;31m         \u001b[0mbatch_outs\u001b[0m \u001b[0;34m=\u001b[0m \u001b[0mf\u001b[0m\u001b[0;34m(\u001b[0m\u001b[0mins_batch\u001b[0m\u001b[0;34m)\u001b[0m\u001b[0;34m\u001b[0m\u001b[0;34m\u001b[0m\u001b[0m\n\u001b[0m\u001b[1;32m    395\u001b[0m         \u001b[0;32mif\u001b[0m \u001b[0;32mnot\u001b[0m \u001b[0misinstance\u001b[0m\u001b[0;34m(\u001b[0m\u001b[0mbatch_outs\u001b[0m\u001b[0;34m,\u001b[0m \u001b[0mlist\u001b[0m\u001b[0;34m)\u001b[0m\u001b[0;34m:\u001b[0m\u001b[0;34m\u001b[0m\u001b[0;34m\u001b[0m\u001b[0m\n\u001b[1;32m    396\u001b[0m           \u001b[0mbatch_outs\u001b[0m \u001b[0;34m=\u001b[0m \u001b[0;34m[\u001b[0m\u001b[0mbatch_outs\u001b[0m\u001b[0;34m]\u001b[0m\u001b[0;34m\u001b[0m\u001b[0;34m\u001b[0m\u001b[0m\n",
            "\u001b[0;32m/tensorflow-1.15.0/python3.6/tensorflow_core/python/keras/backend.py\u001b[0m in \u001b[0;36m__call__\u001b[0;34m(self, inputs)\u001b[0m\n\u001b[1;32m   3474\u001b[0m \u001b[0;34m\u001b[0m\u001b[0m\n\u001b[1;32m   3475\u001b[0m     fetched = self._callable_fn(*array_vals,\n\u001b[0;32m-> 3476\u001b[0;31m                                 run_metadata=self.run_metadata)\n\u001b[0m\u001b[1;32m   3477\u001b[0m     \u001b[0mself\u001b[0m\u001b[0;34m.\u001b[0m\u001b[0m_call_fetch_callbacks\u001b[0m\u001b[0;34m(\u001b[0m\u001b[0mfetched\u001b[0m\u001b[0;34m[\u001b[0m\u001b[0;34m-\u001b[0m\u001b[0mlen\u001b[0m\u001b[0;34m(\u001b[0m\u001b[0mself\u001b[0m\u001b[0;34m.\u001b[0m\u001b[0m_fetches\u001b[0m\u001b[0;34m)\u001b[0m\u001b[0;34m:\u001b[0m\u001b[0;34m]\u001b[0m\u001b[0;34m)\u001b[0m\u001b[0;34m\u001b[0m\u001b[0;34m\u001b[0m\u001b[0m\n\u001b[1;32m   3478\u001b[0m     output_structure = nest.pack_sequence_as(\n",
            "\u001b[0;32m/tensorflow-1.15.0/python3.6/tensorflow_core/python/client/session.py\u001b[0m in \u001b[0;36m__call__\u001b[0;34m(self, *args, **kwargs)\u001b[0m\n\u001b[1;32m   1470\u001b[0m         ret = tf_session.TF_SessionRunCallable(self._session._session,\n\u001b[1;32m   1471\u001b[0m                                                \u001b[0mself\u001b[0m\u001b[0;34m.\u001b[0m\u001b[0m_handle\u001b[0m\u001b[0;34m,\u001b[0m \u001b[0margs\u001b[0m\u001b[0;34m,\u001b[0m\u001b[0;34m\u001b[0m\u001b[0;34m\u001b[0m\u001b[0m\n\u001b[0;32m-> 1472\u001b[0;31m                                                run_metadata_ptr)\n\u001b[0m\u001b[1;32m   1473\u001b[0m         \u001b[0;32mif\u001b[0m \u001b[0mrun_metadata\u001b[0m\u001b[0;34m:\u001b[0m\u001b[0;34m\u001b[0m\u001b[0;34m\u001b[0m\u001b[0m\n\u001b[1;32m   1474\u001b[0m           \u001b[0mproto_data\u001b[0m \u001b[0;34m=\u001b[0m \u001b[0mtf_session\u001b[0m\u001b[0;34m.\u001b[0m\u001b[0mTF_GetBuffer\u001b[0m\u001b[0;34m(\u001b[0m\u001b[0mrun_metadata_ptr\u001b[0m\u001b[0;34m)\u001b[0m\u001b[0;34m\u001b[0m\u001b[0;34m\u001b[0m\u001b[0m\n",
            "\u001b[0;31mKeyboardInterrupt\u001b[0m: "
          ]
        }
      ]
    },
    {
      "cell_type": "code",
      "metadata": {
        "id": "SdyWApH34tHk",
        "colab_type": "code",
        "outputId": "0640ffc9-33f0-4005-c9b0-0d618c8135bf",
        "colab": {
          "base_uri": "https://localhost:8080/",
          "height": 511
        }
      },
      "source": [
        "graficarMatrizConfusion(y_true=y_test, y_pred=modelo2.predict_classes(x_test_2))"
      ],
      "execution_count": 0,
      "outputs": [
        {
          "output_type": "display_data",
          "data": {
            "image/png": "[encoded data removed]",
            "text/plain": [
              "<Figure size 576x576 with 1 Axes>"
            ]
          },
          "metadata": {
            "tags": []
          }
        }
      ]
    },
    {
      "cell_type": "code",
      "metadata": {
        "id": "OQWpeq3ShE7J",
        "colab_type": "code",
        "colab": {}
      },
      "source": [
        "graficarMatrizConfusion(y_true=y_test, y_pred=modelo2.predict_classes(x_test_2))"
      ],
      "execution_count": 0,
      "outputs": []
    },
    {
      "cell_type": "markdown",
      "metadata": {
        "id": "f8gAttxY9S12",
        "colab_type": "text"
      },
      "source": [
        "# Modelo CNN 1D y 2D"
      ]
    },
    {
      "cell_type": "code",
      "metadata": {
        "id": "l7VWpqoH9Sjf",
        "colab_type": "code",
        "colab": {}
      },
      "source": [
        "def crearModelo_1D_y_2D(pTasa, pAlpha, pNumFiltros, pTamFiltros, pTamPooling, pNumNeuronas, pOptimizer, T_entrada_1, T_entrada_2, T_entrada_3):\n",
        "  # CONV 1D\n",
        "  capaEntrada_1 = Input(shape = (T_entrada_3,1))\n",
        "\n",
        "  capa1_1 = Conv1D(pNumFiltros[0], int(pTamFiltros[0]), padding='same', activation = 'relu')(capaEntrada_1)\n",
        "  pooling1_1 = MaxPooling1D(int(pTamPooling[0]), padding='same')(capa1_1)\n",
        "\n",
        "  capa2_1 = Conv1D(pNumFiltros[1], int(pTamFiltros[1]), padding='same', activation = 'relu')(pooling1_1)\n",
        "  pooling2_1 = MaxPooling1D(int(pTamPooling[1]), padding='same')(capa2_1)\n",
        "  \n",
        "  flatten_1 = Flatten()(pooling2_1)\n",
        "\n",
        "  # CONV 2D\n",
        "  capaEntrada_2 = Input(shape = (1,T_entrada_1,T_entrada_2))\n",
        "\n",
        "  capa1_2 = Conv2D(pNumFiltros[0], int(pTamFiltros[0]), padding='same', activation = 'relu')(capaEntrada_2)\n",
        "  pooling1_2 = MaxPooling2D(int(pTamPooling[0]), padding='same')(capa1_2)\n",
        "\n",
        "  capa2_2 = Conv2D(pNumFiltros[1], int(pTamFiltros[1]), padding='same', activation = 'relu')(pooling1_2)\n",
        "  pooling2_2 = MaxPooling2D(int(pTamPooling[1]), padding='same')(capa2_2)\n",
        "  \n",
        "  flatten_2 = Flatten()(pooling2_2)\n",
        "\n",
        "\n",
        "  capas = concatenate([flatten_1, flatten_2])\n",
        "\n",
        "  capas = Dropout(0.5)(capas)\n",
        "  \n",
        "  capas = Dense(pNumNeuronas[0], activation='relu')(capas)\n",
        "  capas = Dense(pNumNeuronas[1], activation='relu')(capas)\n",
        "\n",
        "  capaSalida = Dense(4, activation='softmax')(capas)\n",
        "\n",
        "  #modelo = Sequential()\n",
        "  modelo = Model(inputs = [capaEntrada_1, capaEntrada_2], outputs = capaSalida)\n",
        "\n",
        "  sgd = optimizers.SGD(lr = pTasa)#, momentum=0.9)\n",
        "  adam = optimizers.Adam(learning_rate = pTasa)\n",
        "  if pOptimizer == \"adam\":\n",
        "    opt=adam\n",
        "  elif pOptimizer ==\"sgd\":\n",
        "    opt=sgd\n",
        "  elif pOptimizer ==\"rmsprop\":\n",
        "    opt = \"rmsprop\"\n",
        "  \n",
        "  modelo.compile(loss='sparse_categorical_crossentropy', optimizer = opt, metrics = ['sparse_categorical_accuracy'])\n",
        "  modelo.summary()\n",
        "  \n",
        "  return modelo"
      ],
      "execution_count": 0,
      "outputs": []
    },
    {
      "cell_type": "code",
      "metadata": {
        "id": "wmDDpgu-_V7l",
        "colab_type": "code",
        "colab": {}
      },
      "source": [
        "#Esta celda construye los modelos, a partir de los parametros especificados por cada una de las siguientes variables.\n",
        "#Es el numero de filtros que cada capa convolucional utiliza.\n",
        "numFiltros = np.array([5, 10, 10, 10, 10, 10])\n",
        "\n",
        "#Es el tamaño de los filtros utilizados en cada capa convolucional.\n",
        "tamFiltros = np.array([10, 10, 10, 8, 8, 5])\n",
        "\n",
        "#Es el tamaño de cada capa de Pooling.\n",
        "tamPooling = np.array([5, 5, 3, 3, 3, 3])\n",
        "\n",
        "#Es el numero de neuronas en cada capa de la red neuronal que sigue despues de la parte convolucional.\n",
        "numNeuronas = np.array([4, 4, 10])\n",
        "\n",
        "#Es el tipo de optimizador a utilizar.\n",
        "#Se pueden especificar: \"sgd\", \"adam\" o \"rmsprop\"\n",
        "optimizer=\"rmsprop\"\n",
        "\n",
        "#Es la tasa de aprendizaje del optimizador.\n",
        "tasa = 0.1\n",
        "\n",
        "#Es el parametro de regularizacion a utilizar.\n",
        "alpha = 0.01"
      ],
      "execution_count": 0,
      "outputs": []
    },
    {
      "cell_type": "code",
      "metadata": {
        "id": "GlKCT9-R_cDz",
        "colab_type": "code",
        "colab": {}
      },
      "source": [
        "Numero_Datos, ancho_1, alto_1, =x_train_1.shape\n",
        "Numero_Datos, uno, alto_2, ancho_2=x_train_2.shape\n",
        "\n",
        "modelo3 = crearModelo_1D_y_2D(tasa, alpha, numFiltros, tamFiltros, tamPooling, numNeuronas, optimizer,T_entrada_1=alto_2, T_entrada_2=ancho_2, T_entrada_3=ancho_1)\n",
        "\n",
        "#Esta linea muestra un diagrama de la red neuronal.\n",
        "SVG(model_to_dot(modelo3, show_shapes = True, expand_nested = True, dpi = 50).create(prog='dot', format='svg'))"
      ],
      "execution_count": 0,
      "outputs": []
    },
    {
      "cell_type": "code",
      "metadata": {
        "id": "j5MslqxyAg29",
        "colab_type": "code",
        "colab": {}
      },
      "source": [
        "epocas = 100\n",
        "batchSize = 5000\n",
        "\n",
        "#modelo1.compile(loss='sparse_categorical_crossentropy', optimizer = \"rmsprop\", metrics = ['sparse_categorical_accuracy'])\n",
        "\n",
        "for i in range(0,1):\n",
        "  #hist = modelo1.fit(x, y, verbose = 1, validation_data=(x, y), epochs = epocas, batch_size = batchSize)#, class_weight = pesosClases)\n",
        "  hist = modelo3.fit([x_train_1,x_train_2], y_train, validation_data=([x_test_1,x_test_2], y_test), epochs = epocas, batch_size = batchSize, class_weight = pesosClases)\n",
        " \n",
        "                        \n"
      ],
      "execution_count": 0,
      "outputs": []
    },
    {
      "cell_type": "code",
      "metadata": {
        "id": "-ZPM86uRAxgr",
        "colab_type": "code",
        "colab": {}
      },
      "source": [
        "y_prob = modelo3.predict ([x_test_1,x_test_2])\n",
        "y_pred_=y_prob.argmax(axis=-1)\n",
        "graficarMatrizConfusion(y_true=y_test, y_pred=y_pred_)"
      ],
      "execution_count": 0,
      "outputs": []
    },
    {
      "cell_type": "code",
      "metadata": {
        "id": "DCoBXf9oj9VB",
        "colab_type": "code",
        "colab": {}
      },
      "source": [
        "y_prob = modelo3.predict ([x_test_1,x_test_2])\n",
        "y_pred_=y_prob.argmax(axis=-1)\n",
        "graficarMatrizConfusion(y_true=y_test, y_pred=y_pred_)"
      ],
      "execution_count": 0,
      "outputs": []
    },
    {
      "cell_type": "markdown",
      "metadata": {
        "id": "9VxRH3Mb0TaM",
        "colab_type": "text"
      },
      "source": [
        "# Pruebas"
      ]
    },
    {
      "cell_type": "code",
      "metadata": {
        "id": "goaQsTYDEQ_S",
        "colab_type": "code",
        "outputId": "319ea8d2-ddb6-47fc-a67f-d3b233d44f5e",
        "colab": {
          "base_uri": "https://localhost:8080/",
          "height": 366
        }
      },
      "source": [
        "frameData, fs = librosa.load(\"drive/My Drive/Proyecto Especial Italiano/MIVIA_DB4_dist/training/sounds/00001_6.wav\", sr=16000, res_type='kaiser_fast') #Audio seleccionado\n",
        "ps = librosa.feature.melspectrogram(y=frameData[0:1000], sr=fs, n_fft = 335, hop_length = int(50) )\n",
        "print(ps.shape)\n",
        "S_dB = librosa.power_to_db(ps, ref=np.max)\n",
        "librosa.display.specshow(S_dB, x_axis='time',\n",
        "                        y_axis='mel', sr=fs,hop_length=int(512/4),\n",
        "                          fmax=8000)\n",
        "\n"
      ],
      "execution_count": 0,
      "outputs": [
        {
          "output_type": "stream",
          "text": [
            "(128, 20)\n"
          ],
          "name": "stdout"
        },
        {
          "output_type": "stream",
          "text": [
            "/usr/local/lib/python3.6/dist-packages/librosa/filters.py:284: UserWarning: Empty filters detected in mel frequency basis. Some channels will produce empty responses. Try increasing your sampling rate (and fmax) or reducing n_mels.\n",
            "  warnings.warn('Empty filters detected in mel frequency basis. '\n"
          ],
          "name": "stderr"
        },
        {
          "output_type": "execute_result",
          "data": {
            "text/plain": [
              "<matplotlib.axes._subplots.AxesSubplot at 0x7f5babe27b00>"
            ]
          },
          "metadata": {
            "tags": []
          },
          "execution_count": 29
        },
        {
          "output_type": "display_data",
          "data": {
            "image/png": "[encoded data removed]",
            "text/plain": [
              "<Figure size 432x288 with 1 Axes>"
            ]
          },
          "metadata": {
            "tags": []
          }
        }
      ]
    },
    {
      "cell_type": "code",
      "metadata": {
        "id": "JOm0ZL2a-TYe",
        "colab_type": "code",
        "outputId": "134eee98-77fa-4d72-d000-ad0db16caf10",
        "colab": {
          "base_uri": "https://localhost:8080/",
          "height": 430
        }
      },
      "source": [
        "frameData, fs = librosa.load(\"drive/My Drive/Proyecto Especial Italiano/MIVIA_DB4_dist/training/sounds/00001_6.wav\", sr=16000, res_type='kaiser_fast') #Audio seleccionado\n",
        "ps = librosa.feature.mfcc(y=frameData[0:800], sr=fs, n_mfcc=13, n_fft = 490, hop_length = 10, htk=True )\n",
        "#ps = preprocessing.scale(ps, axis=1)\n",
        "print(fs)\n",
        "print(ps.shape)\n",
        "print (ps.mean(axis=1))\n",
        "print (ps.var(axis=1))\n",
        "\n",
        "#S_dB = librosa.power_to_db(ps, ref=np.max)\n",
        "librosa.display.specshow(ps, x_axis='time', sr=fs,hop_length=int(512/4))\n",
        "plt.colorbar()"
      ],
      "execution_count": 0,
      "outputs": [
        {
          "output_type": "stream",
          "text": [
            "16000\n",
            "(13, 81)\n",
            "[-636.97328165  112.89538908  -55.27235917  -39.35811879  -26.96385187\n",
            "   14.45549824  -17.89835475   14.50935849  -10.4594912    -2.75587904\n",
            "  -11.64079737    4.61169338  -23.34611949]\n",
            "[148.17815613  50.86374099  84.80027241  17.56353333 103.31218257\n",
            "  39.67582151  38.52561358  55.89333215  26.13029353  23.96737997\n",
            "  26.78672775  43.68347741  23.70562007]\n"
          ],
          "name": "stdout"
        },
        {
          "output_type": "execute_result",
          "data": {
            "text/plain": [
              "<matplotlib.colorbar.Colorbar at 0x7f5ba6d5b208>"
            ]
          },
          "metadata": {
            "tags": []
          },
          "execution_count": 51
        },
        {
          "output_type": "display_data",
          "data": {
            "image/png": "[encoded data removed]",
            "text/plain": [
              "<Figure size 432x288 with 2 Axes>"
            ]
          },
          "metadata": {
            "tags": []
          }
        }
      ]
    }
  ]
}