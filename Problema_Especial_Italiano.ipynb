{
  "nbformat": 4,
  "nbformat_minor": 0,
  "metadata": {
    "colab": {
      "name": "Problema Especial Italiano.ipynb",
      "provenance": [],
      "collapsed_sections": [],
      "toc_visible": true,
      "machine_shape": "hm",
      "include_colab_link": true
    },
    "kernelspec": {
      "name": "python3",
      "display_name": "Python 3"
    },
    "accelerator": "GPU"
  },
  "cells": [
    {
      "cell_type": "markdown",
      "metadata": {
        "id": "view-in-github",
        "colab_type": "text"
      },
      "source": [
        "<a href=\"https://colab.research.google.com/github/jfgf11/Problema-Especial/blob/master/Problema_Especial_Italiano.ipynb\" target=\"_parent\"><img src=\"https://colab.research.google.com/assets/colab-badge.svg\" alt=\"Open In Colab\"/></a>"
      ]
    },
    {
      "cell_type": "code",
      "metadata": {
        "id": "mtf-HdYxvLE9",
        "colab_type": "code",
        "outputId": "8608c297-fc57-4153-a1bc-df6e09f54a6e",
        "colab": {
          "base_uri": "https://localhost:8080/",
          "height": 121
        }
      },
      "source": [
        "#Se monta el Drive para importar y guardar los datos y modelos.\n",
        "from google.colab import drive\n",
        "drive.mount('/content/drive')#,force_remount = True)"
      ],
      "execution_count": 1,
      "outputs": [
        {
          "output_type": "stream",
          "text": [
            "Go to this URL in a browser: https://accounts.google.com/o/oauth2/auth?client_id=947318989803-6bn6qk8qdgf4n4g3pfee6491hc0brc4i.apps.googleusercontent.com&redirect_uri=urn%3aietf%3awg%3aoauth%3a2.0%3aoob&response_type=code&scope=email%20https%3a%2f%2fwww.googleapis.com%2fauth%2fdocs.test%20https%3a%2f%2fwww.googleapis.com%2fauth%2fdrive%20https%3a%2f%2fwww.googleapis.com%2fauth%2fdrive.photos.readonly%20https%3a%2f%2fwww.googleapis.com%2fauth%2fpeopleapi.readonly\n",
            "\n",
            "Enter your authorization code:\n",
            "··········\n",
            "Mounted at /content/drive\n"
          ],
          "name": "stdout"
        }
      ]
    },
    {
      "cell_type": "code",
      "metadata": {
        "id": "gKEEuc5e9DuD",
        "colab_type": "code",
        "outputId": "02c83f9e-1fe0-45bc-a568-238ae52566a7",
        "colab": {
          "base_uri": "https://localhost:8080/",
          "height": 269
        }
      },
      "source": [
        "# Se instalan las librerias necesarias\n",
        "!pip install librosa\n",
        "!pip install progressbar2"
      ],
      "execution_count": 2,
      "outputs": [
        {
          "output_type": "stream",
          "text": [
            "Requirement already satisfied: librosa in /usr/local/lib/python3.6/dist-packages (0.6.3)\n",
            "Requirement already satisfied: scikit-learn!=0.19.0,>=0.14.0 in /usr/local/lib/python3.6/dist-packages (from librosa) (0.22.2.post1)\n",
            "Requirement already satisfied: resampy>=0.2.0 in /usr/local/lib/python3.6/dist-packages (from librosa) (0.2.2)\n",
            "Requirement already satisfied: audioread>=2.0.0 in /usr/local/lib/python3.6/dist-packages (from librosa) (2.1.8)\n",
            "Requirement already satisfied: decorator>=3.0.0 in /usr/local/lib/python3.6/dist-packages (from librosa) (4.4.2)\n",
            "Requirement already satisfied: numba>=0.38.0 in /usr/local/lib/python3.6/dist-packages (from librosa) (0.47.0)\n",
            "Requirement already satisfied: numpy>=1.8.0 in /usr/local/lib/python3.6/dist-packages (from librosa) (1.18.2)\n",
            "Requirement already satisfied: joblib>=0.12 in /usr/local/lib/python3.6/dist-packages (from librosa) (0.14.1)\n",
            "Requirement already satisfied: scipy>=1.0.0 in /usr/local/lib/python3.6/dist-packages (from librosa) (1.4.1)\n",
            "Requirement already satisfied: six>=1.3 in /usr/local/lib/python3.6/dist-packages (from librosa) (1.12.0)\n",
            "Requirement already satisfied: setuptools in /usr/local/lib/python3.6/dist-packages (from numba>=0.38.0->librosa) (46.0.0)\n",
            "Requirement already satisfied: llvmlite>=0.31.0dev0 in /usr/local/lib/python3.6/dist-packages (from numba>=0.38.0->librosa) (0.31.0)\n",
            "Requirement already satisfied: progressbar2 in /usr/local/lib/python3.6/dist-packages (3.38.0)\n",
            "Requirement already satisfied: six in /usr/local/lib/python3.6/dist-packages (from progressbar2) (1.12.0)\n",
            "Requirement already satisfied: python-utils>=2.3.0 in /usr/local/lib/python3.6/dist-packages (from progressbar2) (2.4.0)\n"
          ],
          "name": "stdout"
        }
      ]
    },
    {
      "cell_type": "code",
      "metadata": {
        "id": "l_goXBoAPsnt",
        "colab_type": "code",
        "outputId": "1d60a2cb-1d2c-4ab1-ca7d-36aedb3245e8",
        "colab": {
          "base_uri": "https://localhost:8080/",
          "height": 133
        }
      },
      "source": [
        "import tensorflow.compat.v1 as tf\n",
        "tf.disable_v2_behavior()"
      ],
      "execution_count": 3,
      "outputs": [
        {
          "output_type": "display_data",
          "data": {
            "text/html": [
              "<p style=\"color: red;\">\n",
              "The default version of TensorFlow in Colab will switch to TensorFlow 2.x on the 27th of March, 2020.<br>\n",
              "We recommend you <a href=\"https://www.tensorflow.org/guide/migrate\" target=\"_blank\">upgrade</a> now\n",
              "or ensure your notebook will continue to use TensorFlow 1.x via the <code>%tensorflow_version 1.x</code> magic:\n",
              "<a href=\"https://colab.research.google.com/notebooks/tensorflow_version.ipynb\" target=\"_blank\">more info</a>.</p>\n"
            ],
            "text/plain": [
              "<IPython.core.display.HTML object>"
            ]
          },
          "metadata": {
            "tags": []
          }
        },
        {
          "output_type": "stream",
          "text": [
            "WARNING:tensorflow:From /tensorflow-1.15.0/python3.6/tensorflow_core/python/compat/v2_compat.py:68: disable_resource_variables (from tensorflow.python.ops.variable_scope) is deprecated and will be removed in a future version.\n",
            "Instructions for updating:\n",
            "non-resource variables are not supported in the long term\n"
          ],
          "name": "stdout"
        }
      ]
    },
    {
      "cell_type": "markdown",
      "metadata": {
        "id": "cqWuMaqiELzW",
        "colab_type": "text"
      },
      "source": [
        "# Importar"
      ]
    },
    {
      "cell_type": "code",
      "metadata": {
        "id": "rV__vdiK4GUH",
        "colab_type": "code",
        "outputId": "e59981e6-75c7-455a-b8bc-74406427a3a8",
        "colab": {
          "base_uri": "https://localhost:8080/",
          "height": 150
        }
      },
      "source": [
        "import matplotlib.pyplot as plt\n",
        "\n",
        "# Tensor Flow\n",
        "from tensorflow.keras import Sequential\n",
        "from tensorflow.keras.layers import Dense\n",
        "from tensorflow.keras.layers import Dropout\n",
        "from tensorflow.keras.layers import Conv1D\n",
        "from tensorflow.keras.layers import MaxPooling1D\n",
        "from tensorflow.keras.layers import AveragePooling1D\n",
        "from tensorflow.keras.layers import GlobalAveragePooling1D\n",
        "from tensorflow.keras.layers import GlobalMaxPooling1D\n",
        "from tensorflow.keras.layers import Conv2D\n",
        "from tensorflow.keras.layers import MaxPooling2D\n",
        "from tensorflow.keras.layers import AveragePooling2D\n",
        "from tensorflow.keras.layers import GlobalAveragePooling2D\n",
        "from tensorflow.keras.layers import GlobalMaxPooling2D\n",
        "from tensorflow.keras.layers import Flatten\n",
        "from tensorflow.keras.layers import concatenate\n",
        "from tensorflow.keras.layers import Input\n",
        "from tensorflow.keras.layers import LSTM\n",
        "from tensorflow.keras.layers import Reshape\n",
        "from tensorflow.keras.layers import BatchNormalization\n",
        "from tensorflow.keras.layers import Activation\n",
        "from tensorflow.keras import optimizers\n",
        "from tensorflow.keras.regularizers import l2\n",
        "from tensorflow.keras.wrappers.scikit_learn import KerasClassifier\n",
        "from tensorflow.keras.models import model_from_json\n",
        "from tensorflow.keras.models import Model\n",
        "from tensorflow.keras.utils import model_to_dot\n",
        "from tensorflow.keras.utils import plot_model\n",
        "from IPython.display import SVG\n",
        "\n",
        "# Recopilacion de datos\n",
        "import xml.dom.minidom\n",
        "from scipy.io import wavfile\n",
        "import numpy as np\n",
        "\n",
        "# Para el preprocesamiento\n",
        "from sklearn.model_selection import train_test_split\n",
        "from imblearn.over_sampling import RandomOverSampler\n",
        "from imblearn.under_sampling import RandomUnderSampler\n",
        "from sklearn import preprocessing\n",
        "from collections import Counter\n",
        "\n",
        "import librosa\n",
        "import progressbar\n",
        "\n",
        "\n",
        "# Import libraries \n",
        "import librosa.display\n",
        "from matplotlib.pyplot import specgram\n",
        "import pandas as pd\n",
        "import glob \n",
        "from sklearn.metrics import confusion_matrix\n",
        "import IPython.display as ipd  # To play sound in the notebook\n",
        "import os\n",
        "import sys\n",
        "import warnings\n",
        "\n",
        "\n",
        "#Redes neuronales sklearn\n",
        "from sklearn.neural_network import MLPClassifier\n",
        "from sklearn.metrics import confusion_matrix\n",
        "from sklearn.metrics import plot_confusion_matrix \n",
        "import matplotlib.pyplot as plt\n",
        "import seaborn as sns\n",
        "from scipy import stats\n",
        "\n",
        "\n",
        "\n",
        "\n",
        "from sklearn.utils.class_weight import compute_class_weight\n",
        "\n"
      ],
      "execution_count": 1,
      "outputs": [
        {
          "output_type": "display_data",
          "data": {
            "text/html": [
              "<p style=\"color: red;\">\n",
              "The default version of TensorFlow in Colab will switch to TensorFlow 2.x on the 27th of March, 2020.<br>\n",
              "We recommend you <a href=\"https://www.tensorflow.org/guide/migrate\" target=\"_blank\">upgrade</a> now\n",
              "or ensure your notebook will continue to use TensorFlow 1.x via the <code>%tensorflow_version 1.x</code> magic:\n",
              "<a href=\"https://colab.research.google.com/notebooks/tensorflow_version.ipynb\" target=\"_blank\">more info</a>.</p>\n"
            ],
            "text/plain": [
              "<IPython.core.display.HTML object>"
            ]
          },
          "metadata": {
            "tags": []
          }
        },
        {
          "output_type": "stream",
          "text": [
            "/usr/local/lib/python3.6/dist-packages/sklearn/externals/six.py:31: FutureWarning: The module is deprecated in version 0.21 and will be removed in version 0.23 since we've dropped support for Python 2.7. Please rely on the official version of six (https://pypi.org/project/six/).\n",
            "  \"(https://pypi.org/project/six/).\", FutureWarning)\n",
            "/usr/local/lib/python3.6/dist-packages/sklearn/utils/deprecation.py:144: FutureWarning: The sklearn.neighbors.base module is  deprecated in version 0.22 and will be removed in version 0.24. The corresponding classes / functions should instead be imported from sklearn.neighbors. Anything that cannot be imported from sklearn.neighbors is now part of the private API.\n",
            "  warnings.warn(message, FutureWarning)\n"
          ],
          "name": "stderr"
        }
      ]
    },
    {
      "cell_type": "markdown",
      "metadata": {
        "id": "VhIXgu2x18kP",
        "colab_type": "text"
      },
      "source": [
        "# Funciones Resultados"
      ]
    },
    {
      "cell_type": "code",
      "metadata": {
        "id": "1HF9cm7zJN8R",
        "colab_type": "code",
        "colab": {}
      },
      "source": [
        "def graficarMatrizConfusion(y_true, y_pred):\n",
        "  cm = confusion_matrix(y_true, y_pred)\n",
        "  cm = cm.astype('float') / cm.sum(axis=1)[:, np.newaxis]  \n",
        "\n",
        "  plt.figure(figsize=(8,8))\n",
        "\n",
        "  ax = sns.heatmap(cm, annot = True, cbar = False);\n",
        "      \n",
        "  ax.xaxis.tick_top()\n",
        "  ax.xaxis.set_label_position('top')\n",
        "      \n",
        "  plt.xlabel(\"Clase Prediccion\")\n",
        "  plt.ylabel(\"Clase Verdadera\")\n",
        "  plt.title(\"Matriz de Confusion\")\n",
        "\n",
        "  plt.show()\n",
        "  "
      ],
      "execution_count": 0,
      "outputs": []
    },
    {
      "cell_type": "markdown",
      "metadata": {
        "id": "bZzT8SSv8nzk",
        "colab_type": "text"
      },
      "source": [
        "# Cargar y guardar modelos"
      ]
    },
    {
      "cell_type": "code",
      "metadata": {
        "id": "YK5RLFzj4hu9",
        "colab_type": "code",
        "colab": {}
      },
      "source": [
        "#Estas funciones permiten guardar y cargar un modelo, a partir de las rutas indicadas por parametro.\n",
        "def guardarModelo(pModelo, pRutaModelo, pRutaPesos, pRutaDiagrama):\n",
        "  modelo_json = pModelo.to_json()\n",
        "\n",
        "  with open(pRutaModelo, \"w\") as archivo_json:\n",
        "      archivo_json.write(modelo_json)\n",
        "\n",
        "  pModelo.save_weights(pRutaPesos)\n",
        "\n",
        "  plot_model(pModelo, to_file = pRutaDiagrama, show_shapes = True)\n",
        "\n",
        "def cargarModelo(pRutaModelo, pRutaPesos):\n",
        "  archivo_json = open(pRutaModelo, 'r')\n",
        "  modelo_json = archivo_json.read()\n",
        "  archivo_json.close()\n",
        "  modelo = model_from_json(modelo_json)\n",
        "\n",
        "  modelo.load_weights(pRutaPesos)\n",
        "\n",
        "  return modelo"
      ],
      "execution_count": 0,
      "outputs": []
    },
    {
      "cell_type": "markdown",
      "metadata": {
        "id": "rJf6aq0g378c",
        "colab_type": "text"
      },
      "source": [
        "Guardar modelo"
      ]
    },
    {
      "cell_type": "code",
      "metadata": {
        "id": "21Qz9FD_kWFx",
        "colab_type": "code",
        "colab": {}
      },
      "source": [
        "#rutaModelo = \"drive/My Drive/Proyecto Especial Italiano/Modelos/Modelos raw_Conv/Modelo85.json\"\n",
        "#rutaPesos = \"drive/My Drive/Proyecto Especial Italiano/Modelos/Modelos raw_Conv/PesosModelo85.h5\"\n",
        "#rutaDiagrama = \"drive/My Drive/Proyecto Especial Italiano/Modelos/Modelos raw_Conv/DiagramaModelo85.png\"\n",
        "\n",
        "#guardarModelo(modelo1, rutaModelo, rutaPesos, rutaDiagrama)\n"
      ],
      "execution_count": 0,
      "outputs": []
    },
    {
      "cell_type": "markdown",
      "metadata": {
        "id": "_Saj0QSA3_eL",
        "colab_type": "text"
      },
      "source": [
        "Cargar Modelo"
      ]
    },
    {
      "cell_type": "code",
      "metadata": {
        "id": "yYU5l-IiFdrH",
        "colab_type": "code",
        "colab": {}
      },
      "source": [
        "#rutaModelo = \"drive/My Drive/Proyecto Especial Italiano/Modelos/Modelos raw_Conv/Modelo85.json\"\n",
        "#rutaPesos = \"drive/My Drive/Proyecto Especial Italiano/Modelos/Modelos raw_Conv/PesosModelo85.h5\"\n",
        "#modelo1 = cargarModelo(pRutaModelo=rutaModelo, pRutaPesos=rutaPesos)"
      ],
      "execution_count": 0,
      "outputs": []
    },
    {
      "cell_type": "markdown",
      "metadata": {
        "id": "NLQEssmxVerC",
        "colab_type": "text"
      },
      "source": [
        "# Recopilación de Datos"
      ]
    },
    {
      "cell_type": "code",
      "metadata": {
        "id": "KwMARXzLvh-F",
        "colab_type": "code",
        "colab": {}
      },
      "source": [
        "def ObtenerSonidos(Inicial_pNXML,   Final_pNXML,    Inicial_nAudios,               Final_nAudios,\n",
        "                  ventana_Tiempo=0.1,         salto_de_ventana=4,    Calcular_Features=False,       Sin_Background = False,\n",
        "                  rutaDatosXML=\"drive/My Drive/Proyecto Especial Italiano/MIVIA_DB4_dist/training\",\n",
        "                  rutaDatosSounds =\"drive/My Drive/Proyecto Especial Italiano/MIVIA_DB4_dist/training/sounds\", Solo_Background = False, sample_rate = 32000, MFCC = False,\n",
        "                  window_length_stft= 0.032, Step_size_stft=0.01):\n",
        "\n",
        "\n",
        "  NMV = round(ventana_Tiempo*sample_rate) # Numero de muestras por ventana\n",
        "  NMV_advance = round(NMV/salto_de_ventana) # Numero de muestras por las cuales se avanza\n",
        "  window = np.hamming(NMV)\n",
        "\n",
        "  if Calcular_Features: datos_x_totales=np.zeros((1,312)) \n",
        "  else: datos_x_totales=np.zeros((NMV*1500,NMV))\n",
        "  datos_y_totales=np.zeros(NMV*1500)\n",
        "  contador=0\n",
        "  with progressbar.ProgressBar(max_value=(Final_pNXML-Inicial_pNXML+1)*(Final_nAudios-Inicial_nAudios+1)) as bar:\n",
        "    longitud_actual = 0\n",
        "    for i in range(Inicial_pNXML_,(Final_pNXML_+1)):\n",
        "        \n",
        "        if i<10:  h=\"0\" # Se hace esto debido que en los audios hay elementos 00001_01 y 00010_1\n",
        "        else: h=\"\"\n",
        "\n",
        "        doc = xml.dom.minidom.parse(rutaDatosXML + \"/000\" + h + str(i) + \".xml\")\n",
        "        start = doc.getElementsByTagName(\"STARTSECOND\") #Vector que contiene el tiempo en segundos de inicio de todos los eventos \n",
        "        finish = doc.getElementsByTagName(\"ENDSECOND\") #Vector que contiene el tiempo en segundos de finalizacion de todos los eventos\n",
        "        ID = doc.getElementsByTagName(\"CLASS_ID\") # Vector que contiene la etiqueta de cada uno de los eventos\n",
        "        events = doc.getElementsByTagName(\"events\") # Indica informacion de todos los eventos en un archivo xml (tamaño)\n",
        "        a, b, c, d=(events[0].attributes[\"size\"].value) #Se obtiene el numero de eventos en un audio\n",
        "        nEventos = int(c+d) # numero de eventos en un audio\n",
        "\n",
        "\n",
        "        \n",
        "        for a in range(Inicial_nAudios, (Final_nAudios)+1):# Numero de audios por xml\n",
        "          if a<2: # Se hace esto debido que en los audios hay elementos 00001_01 y 00010_1\n",
        "            r = \"0\"\n",
        "            t=str(a)\n",
        "          else:\n",
        "            t=str(a-1)\n",
        "            r=\"\"\n",
        "          frameData, fs = librosa.load(rutaDatosSounds + '/000' + h + str(i) +'_'+ r + t +'.wav', sr=sample_rate, res_type='kaiser_fast') #Audio seleccionado\n",
        "          datos_x = (librosa.util.frame(frameData, frame_length=NMV, hop_length=NMV_advance)).T # Reorganiza los datos dándole saltos de tiempo de NMV_advance y el número de muestras por ventana NMV\n",
        "          datos_y = np.zeros(len(frameData)) #Etiquetas de cada uno de los datos, los datos no asignados serán 0 y corresponderan a sonido ambiente\n",
        "   \n",
        "\n",
        "\n",
        "          for j in range(0,nEventos): # Se recorre el numero de eventos para cada xml\n",
        "            startFrame = float(str(start[j].firstChild.data))*fs #Posicion inicial de evento con respecto a frameData\n",
        "            endFrame = float(str(finish[j].firstChild.data))*fs #Posicion final de evento con respecto a frameData\n",
        "            label = ID[j].firstChild.data #etiqueta del evento\n",
        "\n",
        "            datos_y[round(startFrame):round(endFrame)]=int(label) # Se asigna la etiqueta a cada uno de los datos recopilados\n",
        "\n",
        "          datos_y = (((stats.mode(librosa.util.frame(datos_y, frame_length=NMV, hop_length=NMV_advance)))[0]).T)# Con esto se asigna la etiqueta a datos desplazados en el tiempo\n",
        "          datos_y = np.reshape(datos_y, (-1), 'F')\n",
        "\n",
        "          if Sin_Background: # Si se quieren datos sin background\n",
        "            datos_x = datos_x[datos_y!=0,:]\n",
        "            datos_y =  datos_y[datos_y!=0]\n",
        "          \n",
        "          if Solo_Background:\n",
        "            datos_x = (datos_x[datos_y==0,:])[0:round(len(datos_y[datos_y==0])),:]\n",
        "            datos_y =  (datos_y[datos_y==0])[0:round(len(datos_y[datos_y==0]))]\n",
        "\n",
        "          #if Calcular_Features: # Si se quieren datos con Features\n",
        "          #  datos_x= features(np.float32(datos_x),fs)\n",
        "          longitud_siguiente = longitud_actual + len(datos_y)\n",
        "          datos_y_totales[longitud_actual:longitud_siguiente] = datos_y\n",
        "          datos_x_totales[longitud_actual:longitud_siguiente,:] = datos_x\n",
        "          longitud_actual = longitud_siguiente\n",
        "          \n",
        "          #datos_x_totales = np.r_[datos_x,datos_x_totales]\n",
        "          #datos_y_totales = np.r_[datos_y,datos_y_totales]\n",
        "          \n",
        "          contador+=1\n",
        "          bar.update(contador) #Se actualiza la barra de progreso\n",
        "          \n",
        "    datos_x_totales = datos_x_totales[0:longitud_siguiente,:]\n",
        "    datos_y_totales = datos_y_totales[0:longitud_siguiente]\n",
        "\n",
        "    datos_y_totales[datos_y_totales==4] = 1\n",
        "    dato_x2_totales = None\n",
        "    if MFCC: # Se crea el Spectogram para cada dato\n",
        "      dato_x2_totales = Crear_Datos_MFCC(datos_x_totales ,fs, window_length_stft, Step_size_stft)\n",
        "\n",
        "    \n",
        "  return datos_x_totales, dato_x2_totales ,datos_y_totales"
      ],
      "execution_count": 0,
      "outputs": []
    },
    {
      "cell_type": "markdown",
      "metadata": {
        "id": "gITetZEsAM8B",
        "colab_type": "text"
      },
      "source": [
        "Datos Espectograma"
      ]
    },
    {
      "cell_type": "code",
      "metadata": {
        "id": "mo3wD4ALNroy",
        "colab_type": "code",
        "colab": {}
      },
      "source": [
        "def Crear_Datos_MFCC(pX,sr_, window_length_stft, Step_size_stft):\n",
        "  contador=0\n",
        "  with progressbar.ProgressBar(max_value=(len(pX))) as bar:\n",
        "    ps = librosa.feature.melspectrogram(y=pX[0],  sr=sr_)# n_mfcc=13)#, n_fft = int(window_length_stft*sr_), hop_length = int(Step_size_stft*sr_),htk=True)\n",
        "    x_2 = np.zeros((len(pX)+1,len(ps),len(ps[0])))\n",
        "    for i in range(0,len(pX)):\n",
        "      ps = librosa.feature.melspectrogram(y=pX[i], sr=sr_)\n",
        "      ps = librosa.power_to_db(ps, ref=np.max)\n",
        "      x_2[i] = ps\n",
        "      contador+=1\n",
        "      bar.update(contador) #Se actualiza la barra de progreso\n",
        "  x_2 = x_2[0:-1,:]\n",
        "  return x_2"
      ],
      "execution_count": 0,
      "outputs": []
    },
    {
      "cell_type": "markdown",
      "metadata": {
        "id": "yw8G-HTuEpRI",
        "colab_type": "text"
      },
      "source": [
        "Lo siguiente permite obtener los datos e sonido y guardarlos. Por mantener un formato de deben seleccionar o 5 xml o únicamente 1. EJM: de 1-5 ó de 1-1"
      ]
    },
    {
      "cell_type": "code",
      "metadata": {
        "id": "INB19Yue-LQT",
        "colab_type": "code",
        "outputId": "4ed50c41-dee1-440e-bee7-e72935dfddb2",
        "colab": {
          "base_uri": "https://localhost:8080/",
          "height": 34
        }
      },
      "source": [
        "ventana_Tiempo_ = 0.046 #La ventana de tiempo de cada muestra (32ms)\n",
        "salto_de_ventana_ = 4  #Corrimiento en tiempo (32ms/4)\n",
        "sample_rate_ = 22050\n",
        "window_length_stft_ = 0.032 # Ventana de tiempo para la short-Time Fourier Transform\n",
        "Step_size_stft_ = 0.010 # Saltos el en tiempo para la transformada de Fourier\n",
        "Sin_Background_ = False # True: no se obtienen datos de background; False: No se obtienen datos de background\n",
        "Features_ = False # Obtener o no features\n",
        "Inicial_pNXML_ = 1 # Número inicial de archivos XML utilizados\n",
        "Final_pNXML_ = 10 # Número final de archivos XML utilizados\n",
        "Inicial_nAudios_ = 0 # Número inicial de audios que se obtendrán (esto no aplica para nuestros audios)\n",
        "Final_nAudios_ = 7 # Número final de audios que se obtendrán (esto no aplica para nuestros audios)\n",
        "rutaDatosXML_ = \"drive/My Drive/Proyecto Especial Italiano/MIVIA_DB4_dist/training\" #Ruta para encontrar archivos xml\n",
        "rutaDatosSounds_ = \"drive/My Drive/Proyecto Especial Italiano/MIVIA_DB4_dist/training/sounds\"  #Ruta para encontrar Audios\n",
        "Solo_Background_ = False #Solo obtener datos de background\n",
        "\n",
        "MFCC_ = True #Calcular a su vez el MFCC\n",
        "\n",
        "\n",
        "#nXML=66 # Numero de archivos XML \n",
        "#nAudios=nXML*8 # Numero de audios totales \n",
        "\n",
        "x, x2, y =ObtenerSonidos(Inicial_pNXML = Inicial_pNXML_, Final_pNXML = Final_pNXML_,     Inicial_nAudios = Inicial_nAudios_,\n",
        "                    Final_nAudios = Final_nAudios_,  ventana_Tiempo=ventana_Tiempo_, salto_de_ventana=salto_de_ventana_, \n",
        "                    Calcular_Features=Features_,        Sin_Background =Sin_Background_, \n",
        "                    rutaDatosXML = rutaDatosXML_,   rutaDatosSounds=rutaDatosSounds_, Solo_Background = Solo_Background_, \n",
        "                    sample_rate=sample_rate_,        MFCC=MFCC_, window_length_stft= window_length_stft_, Step_size_stft=Step_size_stft_)\n",
        "\n",
        "if Sin_Background_: Back = \"_SIN_BACK\"\n",
        "elif Solo_Background_: Back = \"_SOLO_BACK\"\n",
        "else: Back = \"\"\n",
        "if Features_: Features_or_raw = \" Features\"\n",
        "else: Features_or_raw = \" raw_Conv\"\n",
        "\n",
        "if MFCC_:\n",
        "  np.save(\"drive/My Drive/Proyecto Especial Italiano/Datos Procesados/Datos\" + Features_or_raw +\"/x2_\"+str(Inicial_pNXML_)+\"-\"\n",
        "        + str(Final_pNXML_)+ \"_XML_\"+str(Inicial_nAudios_)+\"-\"+ str(Final_nAudios_) +\"_Audios_46ms\" + Back, x2)\n",
        "x2 = []\n",
        "NMV = round(ventana_Tiempo_*sample_rate_) # Numero de muestras por ventana\n",
        "window = np.hamming(NMV)\n",
        "datos_x_totales = datos_x_totales*window #Se pasa cada uno de los datos por una ventana de hamming\n",
        "\n",
        "np.save(\"drive/My Drive/Proyecto Especial Italiano/Datos Procesados/Datos\" + Features_or_raw +\"/x_\"+str(Inicial_pNXML_)+\"-\"\n",
        "        + str(Final_pNXML_)+ \"_XML_\"+str(Inicial_nAudios_)+\"-\"+ str(Final_nAudios_) +\"_Audios_46ms\" + Back, x)\n",
        "np.save(\"drive/My Drive/Proyecto Especial Italiano/Datos Procesados/Datos\" + Features_or_raw +\"/y_\"+str(Inicial_pNXML_)+\"-\"\n",
        "        + str(Final_pNXML_)+ \"_XML_\"+str(Inicial_nAudios_)+\"-\"+ str(Final_nAudios_) +\"_Audios_46ms\" + Back, y)"
      ],
      "execution_count": 0,
      "outputs": [
        {
          "output_type": "stream",
          "text": [
            " 37% (30 of 80) |#########               | Elapsed Time: 0:01:45 ETA:   0:03:00"
          ],
          "name": "stderr"
        }
      ]
    },
    {
      "cell_type": "markdown",
      "metadata": {
        "id": "leHL4EhjsoqB",
        "colab_type": "text"
      },
      "source": [
        "El objetivo de la siguiente función es acoplar los datos de los descriptores o de los datos raw obtenidos en un solo vector."
      ]
    },
    {
      "cell_type": "markdown",
      "metadata": {
        "id": "zlXJ9xvrWOvH",
        "colab_type": "text"
      },
      "source": [
        "# Preprocesamiento de los datos\n",
        "Aquí se debe realizar todo el preprocesamiento de los datos. Se debe considerar el desbalance en los datos de entrenamiento. Primero se separan los datos de entrenamiento y validación."
      ]
    },
    {
      "cell_type": "markdown",
      "metadata": {
        "id": "UgWAcY2YVhvk",
        "colab_type": "text"
      },
      "source": [
        "Se extraen los datos guardados:"
      ]
    },
    {
      "cell_type": "markdown",
      "metadata": {
        "id": "tXXvbTZAAMR9",
        "colab_type": "text"
      },
      "source": [
        "La siguiente celda permite extraer los datos raw (caso particular con ventanas de 1024), sin features y únicamente pasados a través de una ventana de hamming."
      ]
    },
    {
      "cell_type": "code",
      "metadata": {
        "id": "OjPvwYgoaJvW",
        "colab_type": "code",
        "colab": {}
      },
      "source": [
        "def Extraer_Datos_Guardados(Features, pInicial, pFinal):\n",
        "  if Features: Features_or_raw = \" Features/\"\n",
        "  else: Features_or_raw = \" raw_Conv/\"\n",
        "  x_1 = np.load(\"drive/My Drive/Proyecto Especial Italiano/Datos Procesados/Datos\" + Features_or_raw + \"x_\"+pInicial+\"-\"+pFinal+\"_0-7_Audios.npy\")\n",
        "  x_2 = np.load(\"drive/My Drive/Proyecto Especial Italiano/Datos Procesados/Datos\" + Features_or_raw + \"/y_train_\"+pInicial+\"-\"+pFinal+\"_0-7_Audios.npy\")\n",
        "  y = np.load(\"drive/My Drive/Proyecto Especial Italiano/Datos Procesados/Datos\" + Features_or_raw + \"/x_test_\"+pInicial+\"-\"+pFinal+\"_0-7_Audios.npy\")\n",
        "  return x_1, x_2, y"
      ],
      "execution_count": 0,
      "outputs": []
    },
    {
      "cell_type": "markdown",
      "metadata": {
        "id": "-Z0Gj7kbA305",
        "colab_type": "text"
      },
      "source": [
        "La siguiente celda permite extraer los datos\n",
        "\n",
        "\n"
      ]
    },
    {
      "cell_type": "code",
      "metadata": {
        "id": "LetVa1XuBN3Y",
        "colab_type": "code",
        "colab": {}
      },
      "source": [
        "Features_Datos_Actuales = False\n",
        "pInicial_ = \"1\"\n",
        "pFinal_ = \"5\"\n",
        "x1, x2, y = Extraer_Datos_Guardados(Features=Features_Datos_Actuales, pInicial = pInicial_, pFinal = pFinal_)\n",
        "print(\"DONE\")"
      ],
      "execution_count": 0,
      "outputs": []
    },
    {
      "cell_type": "markdown",
      "metadata": {
        "id": "hy0LM1NK4cv-",
        "colab_type": "text"
      },
      "source": [
        "Extraer datos específicos"
      ]
    },
    {
      "cell_type": "code",
      "metadata": {
        "id": "AHZbEBZwOf79",
        "colab_type": "code",
        "colab": {}
      },
      "source": [
        "x = np.load(\"drive/My Drive/Proyecto Especial Italiano/Datos Procesados/Datos raw_Conv/x_1-10_XML_0-7_Audios_46ms_H.npy\")\n",
        "x2 = np.load(\"drive/My Drive/Proyecto Especial Italiano/Datos Procesados/Datos raw_Conv/x2_1-10_XML_0-7_Audios_46ms_H.npy\")\n",
        "y = np.load(\"drive/My Drive/Proyecto Especial Italiano/Datos Procesados/Datos raw_Conv/y_1-10_XML_0-7_Audios_46ms_H.npy\")"
      ],
      "execution_count": 0,
      "outputs": []
    },
    {
      "cell_type": "code",
      "metadata": {
        "id": "ROznqgwTX5Tn",
        "colab_type": "code",
        "colab": {}
      },
      "source": [
        "print('Original dataset shape %s' % Counter(y_train))"
      ],
      "execution_count": 0,
      "outputs": []
    },
    {
      "cell_type": "markdown",
      "metadata": {
        "id": "Ae2TIwGBBo5A",
        "colab_type": "text"
      },
      "source": [
        "La siguiente celda permite dividir los datos en datos de entrenamiento y datos de validación"
      ]
    },
    {
      "cell_type": "code",
      "metadata": {
        "id": "_1OKZiZQVnUN",
        "colab_type": "code",
        "colab": {}
      },
      "source": [
        "x_train_1, x_test_1, y_train, y_test = train_test_split(x, y , random_state = 0, test_size=0.20)\n",
        "x=[]\n",
        "x_train_2, x_test_2, y_train, y_test = train_test_split(x2, y, random_state = 0, test_size=0.20)\n",
        "x2 = []\n",
        "y=[]\n"
      ],
      "execution_count": 0,
      "outputs": []
    },
    {
      "cell_type": "code",
      "metadata": {
        "id": "zobiHSMjhnVo",
        "colab_type": "code",
        "outputId": "de119f97-3ba3-42e0-c4ae-26ea6dcbc540",
        "colab": {
          "base_uri": "https://localhost:8080/",
          "height": 34
        }
      },
      "source": [
        "print('Original dataset shape %s' % Counter(y_train))"
      ],
      "execution_count": 0,
      "outputs": [
        {
          "output_type": "stream",
          "text": [
            "Original dataset shape Counter({0.0: 821731, 1.0: 87377, 2.0: 82552, 3.0: 27572})\n"
          ],
          "name": "stdout"
        }
      ]
    },
    {
      "cell_type": "code",
      "metadata": {
        "id": "Yp7nDAhiXGKs",
        "colab_type": "code",
        "outputId": "9439d0c0-0941-4582-897f-0fba4d81023b",
        "colab": {
          "base_uri": "https://localhost:8080/",
          "height": 34
        }
      },
      "source": [
        "x_train_1.shape"
      ],
      "execution_count": 0,
      "outputs": [
        {
          "output_type": "execute_result",
          "data": {
            "text/plain": [
              "(1019232, 1014)"
            ]
          },
          "metadata": {
            "tags": []
          },
          "execution_count": 11
        }
      ]
    },
    {
      "cell_type": "markdown",
      "metadata": {
        "id": "NSkN6slhzwjn",
        "colab_type": "text"
      },
      "source": [
        "Si se desean realizar pruebas sin datos de background ejecutar el siguiente código:"
      ]
    },
    {
      "cell_type": "code",
      "metadata": {
        "id": "5AzfRWG0CT8i",
        "colab_type": "code",
        "colab": {}
      },
      "source": [
        "#x_train=x_train[y_train!=0]\n",
        "#y_train=y_train[y_train!=0]\n",
        "#x_test=x_test[y_test!=1]\n",
        "#y_test=y_test[y_test!=1]\n",
        "#y_test[y_test==1]=0\n",
        "#y_test[y_test==2]=1\n",
        "#y_test[y_test==3]=2\n",
        "#y_train[y_train==1]=0\n",
        "#y_train[y_train==2]=1\n",
        "#y_train[y_train==3]=2"
      ],
      "execution_count": 0,
      "outputs": []
    },
    {
      "cell_type": "markdown",
      "metadata": {
        "id": "MXoqbJrtYEPC",
        "colab_type": "text"
      },
      "source": [
        "Random under Sampling"
      ]
    },
    {
      "cell_type": "code",
      "metadata": {
        "id": "erkI7P6UWdCd",
        "colab_type": "code",
        "colab": {}
      },
      "source": [
        "#x_train_1 = np.reshape(x_train_1, (-1, 1600), 'F')\n",
        "x_train_2 = np.reshape(x_train_2, (-1, 13*11), 'F')\n",
        "\n",
        "print('Original dataset shape %s' % Counter(y_train))\n",
        "\n",
        "rus = RandomUnderSampler(random_state=42)\n",
        "x_train_1, l = rus.fit_resample(x_train_1, y_train)\n",
        "l=[]\n",
        "x_train_2, y_train = rus.fit_resample(x_train_2, y_train)\n",
        "\n",
        "print('Resampled dataset shape %s' % Counter(y_train))\n",
        "\n",
        "#x_train_1 = np.reshape(x_train_1, (-1, 1600), 'F')\n",
        "x_train_2 = np.reshape(x_train_2, (-1, 13, 11), 'F')"
      ],
      "execution_count": 0,
      "outputs": []
    },
    {
      "cell_type": "markdown",
      "metadata": {
        "id": "VV9GnndmcxxW",
        "colab_type": "text"
      },
      "source": [
        "\n",
        "Random Over Sampler.\n",
        "\n",
        "\n",
        "Esto va a hacer que todo colapse si hay muchos datos\n"
      ]
    },
    {
      "cell_type": "code",
      "metadata": {
        "id": "xZv1PirZcxP5",
        "colab_type": "code",
        "colab": {}
      },
      "source": [
        "#x_train_1 = np.reshape(x_train_1, (-1, 1600), 'F')\n",
        "x_train_2 = np.reshape(x_train_2, (-1, 13*11), 'F')\n",
        "\n",
        "print('Original dataset shape %s' % Counter(y_train_))\n",
        "print(\"Oversampling...\")\n",
        "\n",
        "randomOverSampler = RandomOverSampler(sampling_strategy = 'not majority', random_state = 0)\n",
        "x_train_1, l = randomOverSampler.fit_resample(x_train_1, y_train)\n",
        "l=[]\n",
        "x_train_2, y_train = randomOverSampler.fit_resample(x_train_2, y_train)\n",
        "\n",
        "\n",
        "print(\"Reshaping...\")\n",
        "print('Resampled dataset shape %s' % Counter(y_train_))\n",
        "\n",
        "#x_train_1 = np.reshape(x_train_1, (-1, 1600), 'F')\n",
        "x_train_2 = np.reshape(x_train_2, (-1, 13, 11), 'F')"
      ],
      "execution_count": 0,
      "outputs": []
    },
    {
      "cell_type": "markdown",
      "metadata": {
        "id": "89Sx-tobDCui",
        "colab_type": "text"
      },
      "source": [
        "Si se utiliza Keras, se debe correr la siguiente celda por el formato de como deben estar los datos"
      ]
    },
    {
      "cell_type": "code",
      "metadata": {
        "id": "X-YNTQpwZ80L",
        "colab_type": "code",
        "colab": {}
      },
      "source": [
        "Features_Datos_Actuales=False\n",
        "if Features_Datos_Actuales:\n",
        "  x_train_1 = np.reshape(x_train_1, (-1, 312, 1), 'F')\n",
        "  x_test_1 = np.reshape(x_test_1, (-1, 312, 1), 'F')\n",
        "else:\n",
        "  x_train_1 = np.reshape(x_train_1, (-1, 1014, 1), 'F')\n",
        "  x_test_1 = np.reshape(x_test_1, (-1, 1014, 1), 'F')\n",
        "  x_train_2 = np.reshape(x_train_2, (-1,1, 128, 2), 'F')\n",
        "  x_test_2 = np.reshape(x_test_2, (-1,1, 128, 2), 'F')  "
      ],
      "execution_count": 0,
      "outputs": []
    },
    {
      "cell_type": "markdown",
      "metadata": {
        "id": "sTJNaRepVFKw",
        "colab_type": "text"
      },
      "source": [
        "En esta celda se calculan los pesos de cada clase, a partir de la cantidad de cada una en los datos de entrenamiento.Estos pesos también pueden ser variados manualmente."
      ]
    },
    {
      "cell_type": "code",
      "metadata": {
        "id": "MjS9Cr4GVD_F",
        "colab_type": "code",
        "outputId": "d168d319-7c72-484a-a91b-0f81bbff19ba",
        "colab": {
          "base_uri": "https://localhost:8080/",
          "height": 34
        }
      },
      "source": [
        "\n",
        "pesosClases = compute_class_weight(class_weight = 'balanced', classes = np.array([0, 1, 2,3]), y = y_train)\n",
        "\n",
        "PesosClases = {0: pesosClases[0]*0.0001,\n",
        "               1: pesosClases[1]+10,\n",
        "               2: pesosClases[2]+10,\n",
        "               3: pesosClases[3]+30}\n",
        "#PesosClases2 = {0: 1.07,\n",
        "#               1: 0.85,\n",
        "#               2: 1.1,\n",
        "#               3: 1.05}\n",
        "print(PesosClases)"
      ],
      "execution_count": 0,
      "outputs": [
        {
          "output_type": "stream",
          "text": [
            "{0: 3.100868775791591e-05, 1: 12.91619075958204, 2: 13.086636301967244, 3: 39.24154939793994}\n"
          ],
          "name": "stdout"
        }
      ]
    },
    {
      "cell_type": "markdown",
      "metadata": {
        "id": "6MuYTEDh0F-i",
        "colab_type": "text"
      },
      "source": [
        "# Entrenamiento con diferentes Modelos"
      ]
    },
    {
      "cell_type": "markdown",
      "metadata": {
        "id": "FiQv5-M_HV7X",
        "colab_type": "text"
      },
      "source": [
        "# Modelos Convolucionales"
      ]
    },
    {
      "cell_type": "markdown",
      "metadata": {
        "id": "dxisMR-rIPke",
        "colab_type": "text"
      },
      "source": [
        "Trabajo a futuro, agregar parámetros de regularización..."
      ]
    },
    {
      "cell_type": "markdown",
      "metadata": {
        "id": "Ks2p-3735N0-",
        "colab_type": "text"
      },
      "source": [
        "# Modelo CNN 1D"
      ]
    },
    {
      "cell_type": "code",
      "metadata": {
        "id": "kb67wNlZcjIz",
        "colab_type": "code",
        "colab": {}
      },
      "source": [
        "def crearModelo2(pTasa, pAlpha, pNumFiltros, pTamFiltros, pTamPooling, pNumNeuronas, pOptimizer):\n",
        "\n",
        "  modelo = Sequential()\n",
        "\n",
        "  modelo.add(Input(shape = (1014,1)))\n",
        "\n",
        "  modelo.add(Conv1D(pNumFiltros[0], (int(pTamFiltros[0])), padding='same', activation = 'relu'))\n",
        "  modelo.add(Conv1D(pNumFiltros[1], (int(pTamFiltros[1])), padding='same', activation = 'relu'))\n",
        "  modelo.add(Conv1D(pNumFiltros[2], (int(pTamFiltros[2])), padding='same', activation = 'relu'))\n",
        "  #modelo.add(Conv1D(pNumFiltros[3], (int(pTamFiltros[3])), padding='same', activation = 'relu'))\n",
        "\n",
        "  modelo.add(MaxPooling1D((int(pTamFiltros[0])), padding='same'))\n",
        "\n",
        "\n",
        "\n",
        "  modelo.add(Dropout(0.5))\n",
        "  modelo.add(Flatten())\n",
        "\n",
        "  modelo.add(Dense(pNumNeuronas[0], activation='relu'))\n",
        "  modelo.add(Dense(pNumNeuronas[1], activation='relu'))\n",
        "\n",
        "  modelo.add(Dense(4, activation='softmax'))\n",
        "\n",
        "\n",
        "  sgd = optimizers.SGD(lr = pTasa)#, momentum=0.9)\n",
        "  adam = optimizers.Adam(learning_rate = pTasa)\n",
        "  if pOptimizer == \"adam\":\n",
        "    opt=adam\n",
        "  elif pOptimizer ==\"sgd\":\n",
        "    opt=sgd\n",
        "  elif pOptimizer ==\"rmsprop\":\n",
        "    opt = \"rmsprop\"\n",
        "  \n",
        "  modelo.compile(loss='sparse_categorical_crossentropy', optimizer = opt, metrics = ['sparse_categorical_accuracy'])\n",
        "  modelo.summary()\n",
        "  \n",
        "  return modelo"
      ],
      "execution_count": 0,
      "outputs": []
    },
    {
      "cell_type": "code",
      "metadata": {
        "id": "51Oy63hu8akL",
        "colab_type": "code",
        "colab": {}
      },
      "source": [
        "def crearModelo(pTasa, pAlpha, pNumFiltros, pTamFiltros, pTamPooling, pNumNeuronas, pOptimizer):\n",
        "\n",
        "  capaEntrada = Input(shape = (706,1))\n",
        "\n",
        "  capa1 = Conv1D(pNumFiltros[0], int(pTamFiltros[0]), padding='same', activation = 'relu')(capaEntrada)\n",
        "  #pooling1 = MaxPooling1D(int(pTamPooling[0]), padding='same')(capa1)\n",
        "\n",
        "  capa2 = Conv1D(pNumFiltros[1], int(pTamFiltros[1]), padding='same', activation = 'relu')(capa1)\n",
        "  pooling2 = MaxPooling1D(int(pTamPooling[1]), padding='same')(capa2)\n",
        "\n",
        "  capas = Flatten()(pooling2)\n",
        "  capas = Dropout(0.5)(capas)\n",
        "  \n",
        "  capas = Dense(pNumNeuronas[0], activation='relu')(capas)\n",
        "  #capas = Dense(pNumNeuronas[1], activation='relu')(capas)\n",
        "\n",
        "  capaSalida = Dense(4, activation='softmax')(capas)\n",
        "\n",
        "  modelo = Sequential()\n",
        "  modelo.add(Model(capaEntrada, capaSalida))\n",
        "\n",
        "  sgd = optimizers.SGD(lr = pTasa)#, momentum=0.9)\n",
        "  adam = optimizers.Adam(learning_rate = pTasa)\n",
        "  if pOptimizer == \"adam\":\n",
        "    opt=adam\n",
        "  elif pOptimizer ==\"sgd\":\n",
        "    opt=sgd\n",
        "  elif pOptimizer ==\"rmsprop\":\n",
        "    opt = \"rmsprop\"\n",
        "  \n",
        "  modelo.compile(loss='sparse_categorical_crossentropy', optimizer = opt, metrics = ['sparse_categorical_accuracy'])\n",
        "  modelo.layers[0].summary()\n",
        "  \n",
        "  return modelo"
      ],
      "execution_count": 0,
      "outputs": []
    },
    {
      "cell_type": "code",
      "metadata": {
        "id": "bHkFvPP3aBEy",
        "colab_type": "code",
        "colab": {}
      },
      "source": [
        "#Esta celda construye los modelos, a partir de los parametros especificados por cada una de las siguientes variables.\n",
        "#Es el numero de filtros que cada capa convolucional utiliza.\n",
        "numFiltros = np.array([10, 10, 15, 100, 100, 10])\n",
        "\n",
        "#Es el tamaño de los filtros utilizados en cada capa convolucional.\n",
        "tamFiltros = np.array([20, 10, 5, 8, 8, 5])\n",
        "\n",
        "#Es el tamaño de cada capa de Pooling.\n",
        "tamPooling = np.array([4, 2, 3, 3, 3, 3])\n",
        "\n",
        "#Es el numero de neuronas en cada capa de la red neuronal que sigue despues de la parte convolucional.\n",
        "numNeuronas = np.array([10, 10, 10])\n",
        "\n",
        "#Es el tipo de optimizador a utilizar.\n",
        "#Se pueden especificar: \"sgd\", \"adam\" o \"rmsprop\"\n",
        "optimizer=\"rmsprop\"\n",
        "\n",
        "#Es la tasa de aprendizaje del optimizador.\n",
        "tasa = 0.1\n",
        "\n",
        "#Es el parametro de regularizacion a utilizar.\n",
        "alpha = 0.01"
      ],
      "execution_count": 0,
      "outputs": []
    },
    {
      "cell_type": "code",
      "metadata": {
        "id": "uQ1gG_FRaVOi",
        "colab_type": "code",
        "outputId": "d1c4de14-4531-4451-e381-ac612c46c3b9",
        "colab": {
          "base_uri": "https://localhost:8080/",
          "height": 1000
        }
      },
      "source": [
        "modelo1 = crearModelo2(tasa, alpha, numFiltros, tamFiltros, tamPooling, numNeuronas, optimizer)\n",
        "\n",
        "#Esta linea muestra un diagrama de la red neuronal.\n",
        "SVG(model_to_dot(modelo1, show_shapes = True, expand_nested = True, dpi = 50).create(prog='dot', format='svg'))"
      ],
      "execution_count": 0,
      "outputs": [
        {
          "output_type": "stream",
          "text": [
            "Model: \"sequential_1\"\n",
            "_________________________________________________________________\n",
            "Layer (type)                 Output Shape              Param #   \n",
            "=================================================================\n",
            "conv1d_3 (Conv1D)            (None, 1014, 10)          210       \n",
            "_________________________________________________________________\n",
            "conv1d_4 (Conv1D)            (None, 1014, 10)          1010      \n",
            "_________________________________________________________________\n",
            "conv1d_5 (Conv1D)            (None, 1014, 15)          765       \n",
            "_________________________________________________________________\n",
            "max_pooling1d_1 (MaxPooling1 (None, 51, 15)            0         \n",
            "_________________________________________________________________\n",
            "dropout_1 (Dropout)          (None, 51, 15)            0         \n",
            "_________________________________________________________________\n",
            "flatten_1 (Flatten)          (None, 765)               0         \n",
            "_________________________________________________________________\n",
            "dense_3 (Dense)              (None, 10)                7660      \n",
            "_________________________________________________________________\n",
            "dense_4 (Dense)              (None, 10)                110       \n",
            "_________________________________________________________________\n",
            "dense_5 (Dense)              (None, 4)                 44        \n",
            "=================================================================\n",
            "Total params: 9,799\n",
            "Trainable params: 9,799\n",
            "Non-trainable params: 0\n",
            "_________________________________________________________________\n"
          ],
          "name": "stdout"
        },
        {
          "output_type": "execute_result",
          "data": {
            "text/plain": [
              "<IPython.core.display.SVG object>"
            ],
            "image/svg+xml": "<svg height=\"557pt\" viewBox=\"0.00 0.00 379.00 802.00\" width=\"263pt\" xmlns=\"http://www.w3.org/2000/svg\" xmlns:xlink=\"http://www.w3.org/1999/xlink\">\n<g class=\"graph\" id=\"graph0\" transform=\"scale(.6944 .6944) rotate(0) translate(4 798)\">\n<title>G</title>\n<polygon fill=\"#ffffff\" points=\"-4,4 -4,-798 375,-798 375,4 -4,4\" stroke=\"transparent\"/>\n<!-- 139800977751680 -->\n<g class=\"node\" id=\"node1\">\n<title>139800977751680</title>\n<polygon fill=\"none\" points=\"43.5,-747.5 43.5,-793.5 327.5,-793.5 327.5,-747.5 43.5,-747.5\" stroke=\"#000000\"/>\n<text fill=\"#000000\" font-family=\"Times,serif\" font-size=\"14.00\" text-anchor=\"middle\" x=\"110\" y=\"-766.8\">input_2: InputLayer</text>\n<polyline fill=\"none\" points=\"176.5,-747.5 176.5,-793.5 \" stroke=\"#000000\"/>\n<text fill=\"#000000\" font-family=\"Times,serif\" font-size=\"14.00\" text-anchor=\"middle\" x=\"205.5\" y=\"-778.3\">input:</text>\n<polyline fill=\"none\" points=\"176.5,-770.5 234.5,-770.5 \" stroke=\"#000000\"/>\n<text fill=\"#000000\" font-family=\"Times,serif\" font-size=\"14.00\" text-anchor=\"middle\" x=\"205.5\" y=\"-755.3\">output:</text>\n<polyline fill=\"none\" points=\"234.5,-747.5 234.5,-793.5 \" stroke=\"#000000\"/>\n<text fill=\"#000000\" font-family=\"Times,serif\" font-size=\"14.00\" text-anchor=\"middle\" x=\"281\" y=\"-778.3\">[(?, 1014, 1)]</text>\n<polyline fill=\"none\" points=\"234.5,-770.5 327.5,-770.5 \" stroke=\"#000000\"/>\n<text fill=\"#000000\" font-family=\"Times,serif\" font-size=\"14.00\" text-anchor=\"middle\" x=\"281\" y=\"-755.3\">[(?, 1014, 1)]</text>\n</g>\n<!-- 139800977750784 -->\n<g class=\"node\" id=\"node2\">\n<title>139800977750784</title>\n<polygon fill=\"none\" points=\"44,-664.5 44,-710.5 327,-710.5 327,-664.5 44,-664.5\" stroke=\"#000000\"/>\n<text fill=\"#000000\" font-family=\"Times,serif\" font-size=\"14.00\" text-anchor=\"middle\" x=\"110.5\" y=\"-683.8\">conv1d_3: Conv1D</text>\n<polyline fill=\"none\" points=\"177,-664.5 177,-710.5 \" stroke=\"#000000\"/>\n<text fill=\"#000000\" font-family=\"Times,serif\" font-size=\"14.00\" text-anchor=\"middle\" x=\"206\" y=\"-695.3\">input:</text>\n<polyline fill=\"none\" points=\"177,-687.5 235,-687.5 \" stroke=\"#000000\"/>\n<text fill=\"#000000\" font-family=\"Times,serif\" font-size=\"14.00\" text-anchor=\"middle\" x=\"206\" y=\"-672.3\">output:</text>\n<polyline fill=\"none\" points=\"235,-664.5 235,-710.5 \" stroke=\"#000000\"/>\n<text fill=\"#000000\" font-family=\"Times,serif\" font-size=\"14.00\" text-anchor=\"middle\" x=\"281\" y=\"-695.3\">(?, 1014, 1)</text>\n<polyline fill=\"none\" points=\"235,-687.5 327,-687.5 \" stroke=\"#000000\"/>\n<text fill=\"#000000\" font-family=\"Times,serif\" font-size=\"14.00\" text-anchor=\"middle\" x=\"281\" y=\"-672.3\">(?, 1014, 10)</text>\n</g>\n<!-- 139800977751680&#45;&gt;139800977750784 -->\n<g class=\"edge\" id=\"edge1\">\n<title>139800977751680-&gt;139800977750784</title>\n<path d=\"M185.5,-747.3799C185.5,-739.1745 185.5,-729.7679 185.5,-720.8786\" fill=\"none\" stroke=\"#000000\"/>\n<polygon fill=\"#000000\" points=\"189.0001,-720.784 185.5,-710.784 182.0001,-720.784 189.0001,-720.784\" stroke=\"#000000\"/>\n</g>\n<!-- 139800977635144 -->\n<g class=\"node\" id=\"node3\">\n<title>139800977635144</title>\n<polygon fill=\"none\" points=\"44,-581.5 44,-627.5 327,-627.5 327,-581.5 44,-581.5\" stroke=\"#000000\"/>\n<text fill=\"#000000\" font-family=\"Times,serif\" font-size=\"14.00\" text-anchor=\"middle\" x=\"110.5\" y=\"-600.8\">conv1d_4: Conv1D</text>\n<polyline fill=\"none\" points=\"177,-581.5 177,-627.5 \" stroke=\"#000000\"/>\n<text fill=\"#000000\" font-family=\"Times,serif\" font-size=\"14.00\" text-anchor=\"middle\" x=\"206\" y=\"-612.3\">input:</text>\n<polyline fill=\"none\" points=\"177,-604.5 235,-604.5 \" stroke=\"#000000\"/>\n<text fill=\"#000000\" font-family=\"Times,serif\" font-size=\"14.00\" text-anchor=\"middle\" x=\"206\" y=\"-589.3\">output:</text>\n<polyline fill=\"none\" points=\"235,-581.5 235,-627.5 \" stroke=\"#000000\"/>\n<text fill=\"#000000\" font-family=\"Times,serif\" font-size=\"14.00\" text-anchor=\"middle\" x=\"281\" y=\"-612.3\">(?, 1014, 10)</text>\n<polyline fill=\"none\" points=\"235,-604.5 327,-604.5 \" stroke=\"#000000\"/>\n<text fill=\"#000000\" font-family=\"Times,serif\" font-size=\"14.00\" text-anchor=\"middle\" x=\"281\" y=\"-589.3\">(?, 1014, 10)</text>\n</g>\n<!-- 139800977750784&#45;&gt;139800977635144 -->\n<g class=\"edge\" id=\"edge2\">\n<title>139800977750784-&gt;139800977635144</title>\n<path d=\"M185.5,-664.3799C185.5,-656.1745 185.5,-646.7679 185.5,-637.8786\" fill=\"none\" stroke=\"#000000\"/>\n<polygon fill=\"#000000\" points=\"189.0001,-637.784 185.5,-627.784 182.0001,-637.784 189.0001,-637.784\" stroke=\"#000000\"/>\n</g>\n<!-- 139800977752016 -->\n<g class=\"node\" id=\"node4\">\n<title>139800977752016</title>\n<polygon fill=\"none\" points=\"44,-498.5 44,-544.5 327,-544.5 327,-498.5 44,-498.5\" stroke=\"#000000\"/>\n<text fill=\"#000000\" font-family=\"Times,serif\" font-size=\"14.00\" text-anchor=\"middle\" x=\"110.5\" y=\"-517.8\">conv1d_5: Conv1D</text>\n<polyline fill=\"none\" points=\"177,-498.5 177,-544.5 \" stroke=\"#000000\"/>\n<text fill=\"#000000\" font-family=\"Times,serif\" font-size=\"14.00\" text-anchor=\"middle\" x=\"206\" y=\"-529.3\">input:</text>\n<polyline fill=\"none\" points=\"177,-521.5 235,-521.5 \" stroke=\"#000000\"/>\n<text fill=\"#000000\" font-family=\"Times,serif\" font-size=\"14.00\" text-anchor=\"middle\" x=\"206\" y=\"-506.3\">output:</text>\n<polyline fill=\"none\" points=\"235,-498.5 235,-544.5 \" stroke=\"#000000\"/>\n<text fill=\"#000000\" font-family=\"Times,serif\" font-size=\"14.00\" text-anchor=\"middle\" x=\"281\" y=\"-529.3\">(?, 1014, 10)</text>\n<polyline fill=\"none\" points=\"235,-521.5 327,-521.5 \" stroke=\"#000000\"/>\n<text fill=\"#000000\" font-family=\"Times,serif\" font-size=\"14.00\" text-anchor=\"middle\" x=\"281\" y=\"-506.3\">(?, 1014, 15)</text>\n</g>\n<!-- 139800977635144&#45;&gt;139800977752016 -->\n<g class=\"edge\" id=\"edge3\">\n<title>139800977635144-&gt;139800977752016</title>\n<path d=\"M185.5,-581.3799C185.5,-573.1745 185.5,-563.7679 185.5,-554.8786\" fill=\"none\" stroke=\"#000000\"/>\n<polygon fill=\"#000000\" points=\"189.0001,-554.784 185.5,-544.784 182.0001,-554.784 189.0001,-554.784\" stroke=\"#000000\"/>\n</g>\n<!-- 139800977769080 -->\n<g class=\"node\" id=\"node5\">\n<title>139800977769080</title>\n<polygon fill=\"none\" points=\"0,-415.5 0,-461.5 371,-461.5 371,-415.5 0,-415.5\" stroke=\"#000000\"/>\n<text fill=\"#000000\" font-family=\"Times,serif\" font-size=\"14.00\" text-anchor=\"middle\" x=\"110.5\" y=\"-434.8\">max_pooling1d_1: MaxPooling1D</text>\n<polyline fill=\"none\" points=\"221,-415.5 221,-461.5 \" stroke=\"#000000\"/>\n<text fill=\"#000000\" font-family=\"Times,serif\" font-size=\"14.00\" text-anchor=\"middle\" x=\"250\" y=\"-446.3\">input:</text>\n<polyline fill=\"none\" points=\"221,-438.5 279,-438.5 \" stroke=\"#000000\"/>\n<text fill=\"#000000\" font-family=\"Times,serif\" font-size=\"14.00\" text-anchor=\"middle\" x=\"250\" y=\"-423.3\">output:</text>\n<polyline fill=\"none\" points=\"279,-415.5 279,-461.5 \" stroke=\"#000000\"/>\n<text fill=\"#000000\" font-family=\"Times,serif\" font-size=\"14.00\" text-anchor=\"middle\" x=\"325\" y=\"-446.3\">(?, 1014, 15)</text>\n<polyline fill=\"none\" points=\"279,-438.5 371,-438.5 \" stroke=\"#000000\"/>\n<text fill=\"#000000\" font-family=\"Times,serif\" font-size=\"14.00\" text-anchor=\"middle\" x=\"325\" y=\"-423.3\">(?, 51, 15)</text>\n</g>\n<!-- 139800977752016&#45;&gt;139800977769080 -->\n<g class=\"edge\" id=\"edge4\">\n<title>139800977752016-&gt;139800977769080</title>\n<path d=\"M185.5,-498.3799C185.5,-490.1745 185.5,-480.7679 185.5,-471.8786\" fill=\"none\" stroke=\"#000000\"/>\n<polygon fill=\"#000000\" points=\"189.0001,-471.784 185.5,-461.784 182.0001,-471.784 189.0001,-471.784\" stroke=\"#000000\"/>\n</g>\n<!-- 139800977768968 -->\n<g class=\"node\" id=\"node6\">\n<title>139800977768968</title>\n<polygon fill=\"none\" points=\"51,-332.5 51,-378.5 320,-378.5 320,-332.5 51,-332.5\" stroke=\"#000000\"/>\n<text fill=\"#000000\" font-family=\"Times,serif\" font-size=\"14.00\" text-anchor=\"middle\" x=\"118\" y=\"-351.8\">dropout_1: Dropout</text>\n<polyline fill=\"none\" points=\"185,-332.5 185,-378.5 \" stroke=\"#000000\"/>\n<text fill=\"#000000\" font-family=\"Times,serif\" font-size=\"14.00\" text-anchor=\"middle\" x=\"214\" y=\"-363.3\">input:</text>\n<polyline fill=\"none\" points=\"185,-355.5 243,-355.5 \" stroke=\"#000000\"/>\n<text fill=\"#000000\" font-family=\"Times,serif\" font-size=\"14.00\" text-anchor=\"middle\" x=\"214\" y=\"-340.3\">output:</text>\n<polyline fill=\"none\" points=\"243,-332.5 243,-378.5 \" stroke=\"#000000\"/>\n<text fill=\"#000000\" font-family=\"Times,serif\" font-size=\"14.00\" text-anchor=\"middle\" x=\"281.5\" y=\"-363.3\">(?, 51, 15)</text>\n<polyline fill=\"none\" points=\"243,-355.5 320,-355.5 \" stroke=\"#000000\"/>\n<text fill=\"#000000\" font-family=\"Times,serif\" font-size=\"14.00\" text-anchor=\"middle\" x=\"281.5\" y=\"-340.3\">(?, 51, 15)</text>\n</g>\n<!-- 139800977769080&#45;&gt;139800977768968 -->\n<g class=\"edge\" id=\"edge5\">\n<title>139800977769080-&gt;139800977768968</title>\n<path d=\"M185.5,-415.3799C185.5,-407.1745 185.5,-397.7679 185.5,-388.8786\" fill=\"none\" stroke=\"#000000\"/>\n<polygon fill=\"#000000\" points=\"189.0001,-388.784 185.5,-378.784 182.0001,-388.784 189.0001,-388.784\" stroke=\"#000000\"/>\n</g>\n<!-- 139800977826648 -->\n<g class=\"node\" id=\"node7\">\n<title>139800977826648</title>\n<polygon fill=\"none\" points=\"61.5,-249.5 61.5,-295.5 309.5,-295.5 309.5,-249.5 61.5,-249.5\" stroke=\"#000000\"/>\n<text fill=\"#000000\" font-family=\"Times,serif\" font-size=\"14.00\" text-anchor=\"middle\" x=\"118\" y=\"-268.8\">flatten_1: Flatten</text>\n<polyline fill=\"none\" points=\"174.5,-249.5 174.5,-295.5 \" stroke=\"#000000\"/>\n<text fill=\"#000000\" font-family=\"Times,serif\" font-size=\"14.00\" text-anchor=\"middle\" x=\"203.5\" y=\"-280.3\">input:</text>\n<polyline fill=\"none\" points=\"174.5,-272.5 232.5,-272.5 \" stroke=\"#000000\"/>\n<text fill=\"#000000\" font-family=\"Times,serif\" font-size=\"14.00\" text-anchor=\"middle\" x=\"203.5\" y=\"-257.3\">output:</text>\n<polyline fill=\"none\" points=\"232.5,-249.5 232.5,-295.5 \" stroke=\"#000000\"/>\n<text fill=\"#000000\" font-family=\"Times,serif\" font-size=\"14.00\" text-anchor=\"middle\" x=\"271\" y=\"-280.3\">(?, 51, 15)</text>\n<polyline fill=\"none\" points=\"232.5,-272.5 309.5,-272.5 \" stroke=\"#000000\"/>\n<text fill=\"#000000\" font-family=\"Times,serif\" font-size=\"14.00\" text-anchor=\"middle\" x=\"271\" y=\"-257.3\">(?, 765)</text>\n</g>\n<!-- 139800977768968&#45;&gt;139800977826648 -->\n<g class=\"edge\" id=\"edge6\">\n<title>139800977768968-&gt;139800977826648</title>\n<path d=\"M185.5,-332.3799C185.5,-324.1745 185.5,-314.7679 185.5,-305.8786\" fill=\"none\" stroke=\"#000000\"/>\n<polygon fill=\"#000000\" points=\"189.0001,-305.784 185.5,-295.784 182.0001,-305.784 189.0001,-305.784\" stroke=\"#000000\"/>\n</g>\n<!-- 139800977804144 -->\n<g class=\"node\" id=\"node8\">\n<title>139800977804144</title>\n<polygon fill=\"none\" points=\"72,-166.5 72,-212.5 299,-212.5 299,-166.5 72,-166.5\" stroke=\"#000000\"/>\n<text fill=\"#000000\" font-family=\"Times,serif\" font-size=\"14.00\" text-anchor=\"middle\" x=\"125.5\" y=\"-185.8\">dense_3: Dense</text>\n<polyline fill=\"none\" points=\"179,-166.5 179,-212.5 \" stroke=\"#000000\"/>\n<text fill=\"#000000\" font-family=\"Times,serif\" font-size=\"14.00\" text-anchor=\"middle\" x=\"208\" y=\"-197.3\">input:</text>\n<polyline fill=\"none\" points=\"179,-189.5 237,-189.5 \" stroke=\"#000000\"/>\n<text fill=\"#000000\" font-family=\"Times,serif\" font-size=\"14.00\" text-anchor=\"middle\" x=\"208\" y=\"-174.3\">output:</text>\n<polyline fill=\"none\" points=\"237,-166.5 237,-212.5 \" stroke=\"#000000\"/>\n<text fill=\"#000000\" font-family=\"Times,serif\" font-size=\"14.00\" text-anchor=\"middle\" x=\"268\" y=\"-197.3\">(?, 765)</text>\n<polyline fill=\"none\" points=\"237,-189.5 299,-189.5 \" stroke=\"#000000\"/>\n<text fill=\"#000000\" font-family=\"Times,serif\" font-size=\"14.00\" text-anchor=\"middle\" x=\"268\" y=\"-174.3\">(?, 10)</text>\n</g>\n<!-- 139800977826648&#45;&gt;139800977804144 -->\n<g class=\"edge\" id=\"edge7\">\n<title>139800977826648-&gt;139800977804144</title>\n<path d=\"M185.5,-249.3799C185.5,-241.1745 185.5,-231.7679 185.5,-222.8786\" fill=\"none\" stroke=\"#000000\"/>\n<polygon fill=\"#000000\" points=\"189.0001,-222.784 185.5,-212.784 182.0001,-222.784 189.0001,-222.784\" stroke=\"#000000\"/>\n</g>\n<!-- 139800977384560 -->\n<g class=\"node\" id=\"node9\">\n<title>139800977384560</title>\n<polygon fill=\"none\" points=\"76,-83.5 76,-129.5 295,-129.5 295,-83.5 76,-83.5\" stroke=\"#000000\"/>\n<text fill=\"#000000\" font-family=\"Times,serif\" font-size=\"14.00\" text-anchor=\"middle\" x=\"129.5\" y=\"-102.8\">dense_4: Dense</text>\n<polyline fill=\"none\" points=\"183,-83.5 183,-129.5 \" stroke=\"#000000\"/>\n<text fill=\"#000000\" font-family=\"Times,serif\" font-size=\"14.00\" text-anchor=\"middle\" x=\"212\" y=\"-114.3\">input:</text>\n<polyline fill=\"none\" points=\"183,-106.5 241,-106.5 \" stroke=\"#000000\"/>\n<text fill=\"#000000\" font-family=\"Times,serif\" font-size=\"14.00\" text-anchor=\"middle\" x=\"212\" y=\"-91.3\">output:</text>\n<polyline fill=\"none\" points=\"241,-83.5 241,-129.5 \" stroke=\"#000000\"/>\n<text fill=\"#000000\" font-family=\"Times,serif\" font-size=\"14.00\" text-anchor=\"middle\" x=\"268\" y=\"-114.3\">(?, 10)</text>\n<polyline fill=\"none\" points=\"241,-106.5 295,-106.5 \" stroke=\"#000000\"/>\n<text fill=\"#000000\" font-family=\"Times,serif\" font-size=\"14.00\" text-anchor=\"middle\" x=\"268\" y=\"-91.3\">(?, 10)</text>\n</g>\n<!-- 139800977804144&#45;&gt;139800977384560 -->\n<g class=\"edge\" id=\"edge8\">\n<title>139800977804144-&gt;139800977384560</title>\n<path d=\"M185.5,-166.3799C185.5,-158.1745 185.5,-148.7679 185.5,-139.8786\" fill=\"none\" stroke=\"#000000\"/>\n<polygon fill=\"#000000\" points=\"189.0001,-139.784 185.5,-129.784 182.0001,-139.784 189.0001,-139.784\" stroke=\"#000000\"/>\n</g>\n<!-- 139800977366432 -->\n<g class=\"node\" id=\"node10\">\n<title>139800977366432</title>\n<polygon fill=\"none\" points=\"76,-.5 76,-46.5 295,-46.5 295,-.5 76,-.5\" stroke=\"#000000\"/>\n<text fill=\"#000000\" font-family=\"Times,serif\" font-size=\"14.00\" text-anchor=\"middle\" x=\"129.5\" y=\"-19.8\">dense_5: Dense</text>\n<polyline fill=\"none\" points=\"183,-.5 183,-46.5 \" stroke=\"#000000\"/>\n<text fill=\"#000000\" font-family=\"Times,serif\" font-size=\"14.00\" text-anchor=\"middle\" x=\"212\" y=\"-31.3\">input:</text>\n<polyline fill=\"none\" points=\"183,-23.5 241,-23.5 \" stroke=\"#000000\"/>\n<text fill=\"#000000\" font-family=\"Times,serif\" font-size=\"14.00\" text-anchor=\"middle\" x=\"212\" y=\"-8.3\">output:</text>\n<polyline fill=\"none\" points=\"241,-.5 241,-46.5 \" stroke=\"#000000\"/>\n<text fill=\"#000000\" font-family=\"Times,serif\" font-size=\"14.00\" text-anchor=\"middle\" x=\"268\" y=\"-31.3\">(?, 10)</text>\n<polyline fill=\"none\" points=\"241,-23.5 295,-23.5 \" stroke=\"#000000\"/>\n<text fill=\"#000000\" font-family=\"Times,serif\" font-size=\"14.00\" text-anchor=\"middle\" x=\"268\" y=\"-8.3\">(?, 4)</text>\n</g>\n<!-- 139800977384560&#45;&gt;139800977366432 -->\n<g class=\"edge\" id=\"edge9\">\n<title>139800977384560-&gt;139800977366432</title>\n<path d=\"M185.5,-83.3799C185.5,-75.1745 185.5,-65.7679 185.5,-56.8786\" fill=\"none\" stroke=\"#000000\"/>\n<polygon fill=\"#000000\" points=\"189.0001,-56.784 185.5,-46.784 182.0001,-56.784 189.0001,-56.784\" stroke=\"#000000\"/>\n</g>\n</g>\n</svg>"
          },
          "metadata": {
            "tags": []
          },
          "execution_count": 22
        }
      ]
    },
    {
      "cell_type": "code",
      "metadata": {
        "id": "Og0JuJs6a_Xj",
        "colab_type": "code",
        "outputId": "2aa89464-ee07-4c03-cfcd-a904ec3d166b",
        "colab": {
          "base_uri": "https://localhost:8080/",
          "height": 508
        }
      },
      "source": [
        "epocas = 100\n",
        "batchSize = 5000\n",
        "\n",
        "#modelo1.compile(loss='sparse_categorical_crossentropy', optimizer = \"rmsprop\", metrics = ['sparse_categorical_accuracy'])\n",
        "\n",
        "for i in range(0,1):\n",
        "  #hist = modelo1.fit(x, y, verbose = 1, validation_data=(x, y), epochs = epocas, batch_size = batchSize)#, class_weight = pesosClases)\n",
        "  hist = modelo1.fit(x_train_1, y_train, validation_data=(x_test_1, y_test), epochs = epocas, batch_size = batchSize, class_weight = pesosClases)\n",
        " \n",
        "                        \n",
        "\n",
        "  #SVG(model_to_dot(modelo1, show_shapes = True, expand_nested = True, dpi = 60).create(prog='dot', format='svg'))\n"
      ],
      "execution_count": 0,
      "outputs": [
        {
          "output_type": "stream",
          "text": [
            "Train on 1019232 samples, validate on 254808 samples\n",
            "Epoch 1/100\n",
            "1019232/1019232 [==============================] - 38s 37us/sample - loss: 0.6226 - sparse_categorical_accuracy: 0.8147 - val_loss: 0.4634 - val_sparse_categorical_accuracy: 0.8518\n",
            "Epoch 2/100\n",
            "1019232/1019232 [==============================] - 30s 30us/sample - loss: 0.4115 - sparse_categorical_accuracy: 0.8702 - val_loss: 0.3766 - val_sparse_categorical_accuracy: 0.8861\n",
            "Epoch 3/100\n",
            " 840000/1019232 [=======================>......] - ETA: 4s - loss: 0.3672 - sparse_categorical_accuracy: 0.8871"
          ],
          "name": "stdout"
        },
        {
          "output_type": "error",
          "ename": "KeyboardInterrupt",
          "evalue": "ignored",
          "traceback": [
            "\u001b[0;31m---------------------------------------------------------------------------\u001b[0m",
            "\u001b[0;31mKeyboardInterrupt\u001b[0m                         Traceback (most recent call last)",
            "\u001b[0;32m<ipython-input-23-a9c36cf21d0b>\u001b[0m in \u001b[0;36m<module>\u001b[0;34m()\u001b[0m\n\u001b[1;32m      6\u001b[0m \u001b[0;32mfor\u001b[0m \u001b[0mi\u001b[0m \u001b[0;32min\u001b[0m \u001b[0mrange\u001b[0m\u001b[0;34m(\u001b[0m\u001b[0;36m0\u001b[0m\u001b[0;34m,\u001b[0m\u001b[0;36m1\u001b[0m\u001b[0;34m)\u001b[0m\u001b[0;34m:\u001b[0m\u001b[0;34m\u001b[0m\u001b[0;34m\u001b[0m\u001b[0m\n\u001b[1;32m      7\u001b[0m   \u001b[0;31m#hist = modelo1.fit(x, y, verbose = 1, validation_data=(x, y), epochs = epocas, batch_size = batchSize)#, class_weight = pesosClases)\u001b[0m\u001b[0;34m\u001b[0m\u001b[0;34m\u001b[0m\u001b[0;34m\u001b[0m\u001b[0m\n\u001b[0;32m----> 8\u001b[0;31m   \u001b[0mhist\u001b[0m \u001b[0;34m=\u001b[0m \u001b[0mmodelo1\u001b[0m\u001b[0;34m.\u001b[0m\u001b[0mfit\u001b[0m\u001b[0;34m(\u001b[0m\u001b[0mx_train_1\u001b[0m\u001b[0;34m,\u001b[0m \u001b[0my_train\u001b[0m\u001b[0;34m,\u001b[0m \u001b[0mvalidation_data\u001b[0m\u001b[0;34m=\u001b[0m\u001b[0;34m(\u001b[0m\u001b[0mx_test_1\u001b[0m\u001b[0;34m,\u001b[0m \u001b[0my_test\u001b[0m\u001b[0;34m)\u001b[0m\u001b[0;34m,\u001b[0m \u001b[0mepochs\u001b[0m \u001b[0;34m=\u001b[0m \u001b[0mepocas\u001b[0m\u001b[0;34m,\u001b[0m \u001b[0mbatch_size\u001b[0m \u001b[0;34m=\u001b[0m \u001b[0mbatchSize\u001b[0m\u001b[0;34m,\u001b[0m \u001b[0mclass_weight\u001b[0m \u001b[0;34m=\u001b[0m \u001b[0mpesosClases\u001b[0m\u001b[0;34m)\u001b[0m\u001b[0;34m\u001b[0m\u001b[0;34m\u001b[0m\u001b[0m\n\u001b[0m\u001b[1;32m      9\u001b[0m \u001b[0;34m\u001b[0m\u001b[0m\n\u001b[1;32m     10\u001b[0m \u001b[0;34m\u001b[0m\u001b[0m\n",
            "\u001b[0;32m/tensorflow-1.15.0/python3.6/tensorflow_core/python/keras/engine/training.py\u001b[0m in \u001b[0;36mfit\u001b[0;34m(self, x, y, batch_size, epochs, verbose, callbacks, validation_split, validation_data, shuffle, class_weight, sample_weight, initial_epoch, steps_per_epoch, validation_steps, validation_freq, max_queue_size, workers, use_multiprocessing, **kwargs)\u001b[0m\n\u001b[1;32m    725\u001b[0m         \u001b[0mmax_queue_size\u001b[0m\u001b[0;34m=\u001b[0m\u001b[0mmax_queue_size\u001b[0m\u001b[0;34m,\u001b[0m\u001b[0;34m\u001b[0m\u001b[0;34m\u001b[0m\u001b[0m\n\u001b[1;32m    726\u001b[0m         \u001b[0mworkers\u001b[0m\u001b[0;34m=\u001b[0m\u001b[0mworkers\u001b[0m\u001b[0;34m,\u001b[0m\u001b[0;34m\u001b[0m\u001b[0;34m\u001b[0m\u001b[0m\n\u001b[0;32m--> 727\u001b[0;31m         use_multiprocessing=use_multiprocessing)\n\u001b[0m\u001b[1;32m    728\u001b[0m \u001b[0;34m\u001b[0m\u001b[0m\n\u001b[1;32m    729\u001b[0m   def evaluate(self,\n",
            "\u001b[0;32m/tensorflow-1.15.0/python3.6/tensorflow_core/python/keras/engine/training_arrays.py\u001b[0m in \u001b[0;36mfit\u001b[0;34m(self, model, x, y, batch_size, epochs, verbose, callbacks, validation_split, validation_data, shuffle, class_weight, sample_weight, initial_epoch, steps_per_epoch, validation_steps, validation_freq, **kwargs)\u001b[0m\n\u001b[1;32m    673\u001b[0m         \u001b[0mvalidation_steps\u001b[0m\u001b[0;34m=\u001b[0m\u001b[0mvalidation_steps\u001b[0m\u001b[0;34m,\u001b[0m\u001b[0;34m\u001b[0m\u001b[0;34m\u001b[0m\u001b[0m\n\u001b[1;32m    674\u001b[0m         \u001b[0mvalidation_freq\u001b[0m\u001b[0;34m=\u001b[0m\u001b[0mvalidation_freq\u001b[0m\u001b[0;34m,\u001b[0m\u001b[0;34m\u001b[0m\u001b[0;34m\u001b[0m\u001b[0m\n\u001b[0;32m--> 675\u001b[0;31m         steps_name='steps_per_epoch')\n\u001b[0m\u001b[1;32m    676\u001b[0m \u001b[0;34m\u001b[0m\u001b[0m\n\u001b[1;32m    677\u001b[0m   def evaluate(self,\n",
            "\u001b[0;32m/tensorflow-1.15.0/python3.6/tensorflow_core/python/keras/engine/training_arrays.py\u001b[0m in \u001b[0;36mmodel_iteration\u001b[0;34m(model, inputs, targets, sample_weights, batch_size, epochs, verbose, callbacks, val_inputs, val_targets, val_sample_weights, shuffle, initial_epoch, steps_per_epoch, validation_steps, validation_freq, mode, validation_in_fit, prepared_feed_values_from_dataset, steps_name, **kwargs)\u001b[0m\n\u001b[1;32m    375\u001b[0m               \u001b[0mins_batch\u001b[0m \u001b[0;34m=\u001b[0m \u001b[0mslice_arrays\u001b[0m\u001b[0;34m(\u001b[0m\u001b[0mins\u001b[0m\u001b[0;34m[\u001b[0m\u001b[0;34m:\u001b[0m\u001b[0;34m-\u001b[0m\u001b[0;36m1\u001b[0m\u001b[0;34m]\u001b[0m\u001b[0;34m,\u001b[0m \u001b[0mbatch_ids\u001b[0m\u001b[0;34m)\u001b[0m \u001b[0;34m+\u001b[0m \u001b[0;34m[\u001b[0m\u001b[0mins\u001b[0m\u001b[0;34m[\u001b[0m\u001b[0;34m-\u001b[0m\u001b[0;36m1\u001b[0m\u001b[0;34m]\u001b[0m\u001b[0;34m]\u001b[0m\u001b[0;34m\u001b[0m\u001b[0;34m\u001b[0m\u001b[0m\n\u001b[1;32m    376\u001b[0m             \u001b[0;32melse\u001b[0m\u001b[0;34m:\u001b[0m\u001b[0;34m\u001b[0m\u001b[0;34m\u001b[0m\u001b[0m\n\u001b[0;32m--> 377\u001b[0;31m               \u001b[0mins_batch\u001b[0m \u001b[0;34m=\u001b[0m \u001b[0mslice_arrays\u001b[0m\u001b[0;34m(\u001b[0m\u001b[0mins\u001b[0m\u001b[0;34m,\u001b[0m \u001b[0mbatch_ids\u001b[0m\u001b[0;34m)\u001b[0m\u001b[0;34m\u001b[0m\u001b[0;34m\u001b[0m\u001b[0m\n\u001b[0m\u001b[1;32m    378\u001b[0m           \u001b[0;32mexcept\u001b[0m \u001b[0mTypeError\u001b[0m\u001b[0;34m:\u001b[0m\u001b[0;34m\u001b[0m\u001b[0;34m\u001b[0m\u001b[0m\n\u001b[1;32m    379\u001b[0m             raise TypeError('TypeError while preparing batch. '\n",
            "\u001b[0;31mKeyboardInterrupt\u001b[0m: "
          ]
        }
      ]
    },
    {
      "cell_type": "code",
      "metadata": {
        "id": "_RUSN-Yc4oHz",
        "colab_type": "code",
        "outputId": "d912bc25-8241-4440-ff34-74129ba5320c",
        "colab": {
          "base_uri": "https://localhost:8080/",
          "height": 511
        }
      },
      "source": [
        "graficarMatrizConfusion(y_true=y_test, y_pred=modelo1.predict_classes(x_test_1))"
      ],
      "execution_count": 0,
      "outputs": [
        {
          "output_type": "display_data",
          "data": {
            "image/png": "[encoded data removed]",
            "text/plain": [
              "<Figure size 576x576 with 1 Axes>"
            ]
          },
          "metadata": {
            "tags": []
          }
        }
      ]
    },
    {
      "cell_type": "markdown",
      "metadata": {
        "id": "vDtsAO4oE9I9",
        "colab_type": "text"
      },
      "source": [
        "# Modelo CNN 2D"
      ]
    },
    {
      "cell_type": "code",
      "metadata": {
        "id": "Dv1RWDQcYdv1",
        "colab_type": "code",
        "colab": {}
      },
      "source": [
        "def crearModelo2D(pTasa, pAlpha, pNumFiltros, pTamFiltros, pTamPooling, pNumNeuronas, pOptimizer):\n",
        "\n",
        "  modelo = Sequential()\n",
        "\n",
        "  modelo.add(Input(shape = (1,128,2)))\n",
        "\n",
        "  modelo.add(Conv2D(pNumFiltros[0], (int(pTamFiltros[0]),int(pTamFiltros[0])), padding='same', activation = 'relu'))\n",
        "  modelo.add(Conv2D(pNumFiltros[1], (int(pTamFiltros[1]),int(pTamFiltros[1])), padding='same', activation = 'relu'))\n",
        "  modelo.add(Conv2D(pNumFiltros[2], (int(pTamFiltros[2]),int(pTamFiltros[2])), padding='same', activation = 'relu'))\n",
        "  modelo.add(Conv2D(pNumFiltros[3], (int(pTamFiltros[3]),int(pTamFiltros[3])), padding='same', activation = 'relu'))\n",
        "  #modelo.add(Conv2D(pNumFiltros[4], (int(pTamFiltros[4]),int(pTamFiltros[4])), padding='same', activation = 'relu'))\n",
        "  #modelo.add(Conv2D(pNumFiltros[5], (int(pTamFiltros[5]),int(pTamFiltros[5])), padding='same', activation = 'relu'))\n",
        "\n",
        "  modelo.add(MaxPooling2D((int(pTamFiltros[1]),int(pTamFiltros[1])), padding='same'))\n",
        "\n",
        "\n",
        "\n",
        "  modelo.add(Dropout(0.5))\n",
        "  modelo.add(Flatten())\n",
        "\n",
        "  modelo.add(Dense(pNumNeuronas[0], activation='relu'))\n",
        "  modelo.add(Dense(pNumNeuronas[1], activation='relu'))\n",
        "  modelo.add(Dense(pNumNeuronas[2], activation='relu'))\n",
        "  #modelo.add(Dense(pNumNeuronas[3], activation='relu'))\n",
        "\n",
        "  modelo.add(Dense(4, activation='softmax'))\n",
        "\n",
        "\n",
        "  sgd = optimizers.SGD(lr = pTasa)#, momentum=0.9)\n",
        "  adam = optimizers.Adam(learning_rate = pTasa)\n",
        "  if pOptimizer == \"adam\":\n",
        "    opt=adam\n",
        "  elif pOptimizer ==\"sgd\":\n",
        "    opt=sgd\n",
        "  elif pOptimizer ==\"rmsprop\":\n",
        "    opt = \"rmsprop\"\n",
        "  \n",
        "  modelo.compile(loss='sparse_categorical_crossentropy', optimizer = opt, metrics = ['sparse_categorical_accuracy'])\n",
        "  modelo.summary()\n",
        "  \n",
        "  return modelo"
      ],
      "execution_count": 0,
      "outputs": []
    },
    {
      "cell_type": "code",
      "metadata": {
        "id": "3WMqRdTt2U2h",
        "colab_type": "code",
        "colab": {}
      },
      "source": [
        "#Esta celda construye los modelos, a partir de los parametros especificados por cada una de las siguientes variables.\n",
        "#Es el numero de filtros que cada capa convolucional utiliza.\n",
        "numFiltros = np.array([16, 32, 64, 128, 256, 512])\n",
        "\n",
        "#Es el tamaño de los filtros utilizados en cada capa convolucional.\n",
        "tamFiltros = np.array([2, 4, 4, 3, 3, 5])\n",
        "\n",
        "#Es el tamaño de cada capa de Pooling.\n",
        "tamPooling = np.array([4, 2, 3, 3, 3, 3])\n",
        "\n",
        "#Es el numero de neuronas en cada capa de la red neuronal que sigue despues de la parte convolucional.\n",
        "numNeuronas = np.array([10, 10, 10, 16])\n",
        "\n",
        "#Es el tipo de optimizador a utilizar.\n",
        "#Se pueden especificar: \"sgd\", \"adam\" o \"rmsprop\"\n",
        "optimizer=\"rmsprop\"\n",
        "\n",
        "#Es la tasa de aprendizaje del optimizador.\n",
        "tasa = 0.1\n",
        "\n",
        "#Es el parametro de regularizacion a utilizar.\n",
        "alpha = 0.01"
      ],
      "execution_count": 0,
      "outputs": []
    },
    {
      "cell_type": "code",
      "metadata": {
        "id": "3LJXcB-i2fQb",
        "colab_type": "code",
        "outputId": "d5b42965-0a40-4971-b738-83d20e54aff6",
        "colab": {
          "base_uri": "https://localhost:8080/",
          "height": 1000
        }
      },
      "source": [
        "modelo2 = crearModelo2D(tasa, alpha, numFiltros, tamFiltros, tamPooling, numNeuronas, optimizer)\n",
        "\n",
        "#Esta linea muestra un diagrama de la red neuronal.\n",
        "SVG(model_to_dot(modelo2, show_shapes = True, expand_nested = True, dpi = 50).create(prog='dot', format='svg'))"
      ],
      "execution_count": 0,
      "outputs": [
        {
          "output_type": "stream",
          "text": [
            "Model: \"sequential_6\"\n",
            "_________________________________________________________________\n",
            "Layer (type)                 Output Shape              Param #   \n",
            "=================================================================\n",
            "conv2d_16 (Conv2D)           (None, 1, 128, 16)        144       \n",
            "_________________________________________________________________\n",
            "conv2d_17 (Conv2D)           (None, 1, 128, 32)        8224      \n",
            "_________________________________________________________________\n",
            "conv2d_18 (Conv2D)           (None, 1, 128, 64)        32832     \n",
            "_________________________________________________________________\n",
            "conv2d_19 (Conv2D)           (None, 1, 128, 128)       73856     \n",
            "_________________________________________________________________\n",
            "max_pooling2d_4 (MaxPooling2 (None, 1, 32, 128)        0         \n",
            "_________________________________________________________________\n",
            "dropout_6 (Dropout)          (None, 1, 32, 128)        0         \n",
            "_________________________________________________________________\n",
            "flatten_6 (Flatten)          (None, 4096)              0         \n",
            "_________________________________________________________________\n",
            "dense_22 (Dense)             (None, 10)                40970     \n",
            "_________________________________________________________________\n",
            "dense_23 (Dense)             (None, 10)                110       \n",
            "_________________________________________________________________\n",
            "dense_24 (Dense)             (None, 10)                110       \n",
            "_________________________________________________________________\n",
            "dense_25 (Dense)             (None, 4)                 44        \n",
            "=================================================================\n",
            "Total params: 156,290\n",
            "Trainable params: 156,290\n",
            "Non-trainable params: 0\n",
            "_________________________________________________________________\n"
          ],
          "name": "stdout"
        },
        {
          "output_type": "execute_result",
          "data": {
            "text/plain": [
              "<IPython.core.display.SVG object>"
            ],
            "image/svg+xml": "<svg height=\"672pt\" viewBox=\"0.00 0.00 394.00 968.00\" width=\"274pt\" xmlns=\"http://www.w3.org/2000/svg\" xmlns:xlink=\"http://www.w3.org/1999/xlink\">\n<g class=\"graph\" id=\"graph0\" transform=\"scale(.6944 .6944) rotate(0) translate(4 964)\">\n<title>G</title>\n<polygon fill=\"#ffffff\" points=\"-4,4 -4,-964 390,-964 390,4 -4,4\" stroke=\"transparent\"/>\n<!-- 139800649671064 -->\n<g class=\"node\" id=\"node1\">\n<title>139800649671064</title>\n<polygon fill=\"none\" points=\"47,-913.5 47,-959.5 339,-959.5 339,-913.5 47,-913.5\" stroke=\"#000000\"/>\n<text fill=\"#000000\" font-family=\"Times,serif\" font-size=\"14.00\" text-anchor=\"middle\" x=\"113.5\" y=\"-932.8\">input_7: InputLayer</text>\n<polyline fill=\"none\" points=\"180,-913.5 180,-959.5 \" stroke=\"#000000\"/>\n<text fill=\"#000000\" font-family=\"Times,serif\" font-size=\"14.00\" text-anchor=\"middle\" x=\"209\" y=\"-944.3\">input:</text>\n<polyline fill=\"none\" points=\"180,-936.5 238,-936.5 \" stroke=\"#000000\"/>\n<text fill=\"#000000\" font-family=\"Times,serif\" font-size=\"14.00\" text-anchor=\"middle\" x=\"209\" y=\"-921.3\">output:</text>\n<polyline fill=\"none\" points=\"238,-913.5 238,-959.5 \" stroke=\"#000000\"/>\n<text fill=\"#000000\" font-family=\"Times,serif\" font-size=\"14.00\" text-anchor=\"middle\" x=\"288.5\" y=\"-944.3\">[(?, 1, 128, 2)]</text>\n<polyline fill=\"none\" points=\"238,-936.5 339,-936.5 \" stroke=\"#000000\"/>\n<text fill=\"#000000\" font-family=\"Times,serif\" font-size=\"14.00\" text-anchor=\"middle\" x=\"288.5\" y=\"-921.3\">[(?, 1, 128, 2)]</text>\n</g>\n<!-- 139800649671680 -->\n<g class=\"node\" id=\"node2\">\n<title>139800649671680</title>\n<polygon fill=\"none\" points=\"44.5,-830.5 44.5,-876.5 341.5,-876.5 341.5,-830.5 44.5,-830.5\" stroke=\"#000000\"/>\n<text fill=\"#000000\" font-family=\"Times,serif\" font-size=\"14.00\" text-anchor=\"middle\" x=\"114.5\" y=\"-849.8\">conv2d_16: Conv2D</text>\n<polyline fill=\"none\" points=\"184.5,-830.5 184.5,-876.5 \" stroke=\"#000000\"/>\n<text fill=\"#000000\" font-family=\"Times,serif\" font-size=\"14.00\" text-anchor=\"middle\" x=\"213.5\" y=\"-861.3\">input:</text>\n<polyline fill=\"none\" points=\"184.5,-853.5 242.5,-853.5 \" stroke=\"#000000\"/>\n<text fill=\"#000000\" font-family=\"Times,serif\" font-size=\"14.00\" text-anchor=\"middle\" x=\"213.5\" y=\"-838.3\">output:</text>\n<polyline fill=\"none\" points=\"242.5,-830.5 242.5,-876.5 \" stroke=\"#000000\"/>\n<text fill=\"#000000\" font-family=\"Times,serif\" font-size=\"14.00\" text-anchor=\"middle\" x=\"292\" y=\"-861.3\">(?, 1, 128, 2)</text>\n<polyline fill=\"none\" points=\"242.5,-853.5 341.5,-853.5 \" stroke=\"#000000\"/>\n<text fill=\"#000000\" font-family=\"Times,serif\" font-size=\"14.00\" text-anchor=\"middle\" x=\"292\" y=\"-838.3\">(?, 1, 128, 16)</text>\n</g>\n<!-- 139800649671064&#45;&gt;139800649671680 -->\n<g class=\"edge\" id=\"edge1\">\n<title>139800649671064-&gt;139800649671680</title>\n<path d=\"M193,-913.3799C193,-905.1745 193,-895.7679 193,-886.8786\" fill=\"none\" stroke=\"#000000\"/>\n<polygon fill=\"#000000\" points=\"196.5001,-886.784 193,-876.784 189.5001,-886.784 196.5001,-886.784\" stroke=\"#000000\"/>\n</g>\n<!-- 139800649672856 -->\n<g class=\"node\" id=\"node3\">\n<title>139800649672856</title>\n<polygon fill=\"none\" points=\"44.5,-747.5 44.5,-793.5 341.5,-793.5 341.5,-747.5 44.5,-747.5\" stroke=\"#000000\"/>\n<text fill=\"#000000\" font-family=\"Times,serif\" font-size=\"14.00\" text-anchor=\"middle\" x=\"114.5\" y=\"-766.8\">conv2d_17: Conv2D</text>\n<polyline fill=\"none\" points=\"184.5,-747.5 184.5,-793.5 \" stroke=\"#000000\"/>\n<text fill=\"#000000\" font-family=\"Times,serif\" font-size=\"14.00\" text-anchor=\"middle\" x=\"213.5\" y=\"-778.3\">input:</text>\n<polyline fill=\"none\" points=\"184.5,-770.5 242.5,-770.5 \" stroke=\"#000000\"/>\n<text fill=\"#000000\" font-family=\"Times,serif\" font-size=\"14.00\" text-anchor=\"middle\" x=\"213.5\" y=\"-755.3\">output:</text>\n<polyline fill=\"none\" points=\"242.5,-747.5 242.5,-793.5 \" stroke=\"#000000\"/>\n<text fill=\"#000000\" font-family=\"Times,serif\" font-size=\"14.00\" text-anchor=\"middle\" x=\"292\" y=\"-778.3\">(?, 1, 128, 16)</text>\n<polyline fill=\"none\" points=\"242.5,-770.5 341.5,-770.5 \" stroke=\"#000000\"/>\n<text fill=\"#000000\" font-family=\"Times,serif\" font-size=\"14.00\" text-anchor=\"middle\" x=\"292\" y=\"-755.3\">(?, 1, 128, 32)</text>\n</g>\n<!-- 139800649671680&#45;&gt;139800649672856 -->\n<g class=\"edge\" id=\"edge2\">\n<title>139800649671680-&gt;139800649672856</title>\n<path d=\"M193,-830.3799C193,-822.1745 193,-812.7679 193,-803.8786\" fill=\"none\" stroke=\"#000000\"/>\n<polygon fill=\"#000000\" points=\"196.5001,-803.784 193,-793.784 189.5001,-803.784 196.5001,-803.784\" stroke=\"#000000\"/>\n</g>\n<!-- 139800649477536 -->\n<g class=\"node\" id=\"node4\">\n<title>139800649477536</title>\n<polygon fill=\"none\" points=\"44.5,-664.5 44.5,-710.5 341.5,-710.5 341.5,-664.5 44.5,-664.5\" stroke=\"#000000\"/>\n<text fill=\"#000000\" font-family=\"Times,serif\" font-size=\"14.00\" text-anchor=\"middle\" x=\"114.5\" y=\"-683.8\">conv2d_18: Conv2D</text>\n<polyline fill=\"none\" points=\"184.5,-664.5 184.5,-710.5 \" stroke=\"#000000\"/>\n<text fill=\"#000000\" font-family=\"Times,serif\" font-size=\"14.00\" text-anchor=\"middle\" x=\"213.5\" y=\"-695.3\">input:</text>\n<polyline fill=\"none\" points=\"184.5,-687.5 242.5,-687.5 \" stroke=\"#000000\"/>\n<text fill=\"#000000\" font-family=\"Times,serif\" font-size=\"14.00\" text-anchor=\"middle\" x=\"213.5\" y=\"-672.3\">output:</text>\n<polyline fill=\"none\" points=\"242.5,-664.5 242.5,-710.5 \" stroke=\"#000000\"/>\n<text fill=\"#000000\" font-family=\"Times,serif\" font-size=\"14.00\" text-anchor=\"middle\" x=\"292\" y=\"-695.3\">(?, 1, 128, 32)</text>\n<polyline fill=\"none\" points=\"242.5,-687.5 341.5,-687.5 \" stroke=\"#000000\"/>\n<text fill=\"#000000\" font-family=\"Times,serif\" font-size=\"14.00\" text-anchor=\"middle\" x=\"292\" y=\"-672.3\">(?, 1, 128, 64)</text>\n</g>\n<!-- 139800649672856&#45;&gt;139800649477536 -->\n<g class=\"edge\" id=\"edge3\">\n<title>139800649672856-&gt;139800649477536</title>\n<path d=\"M193,-747.3799C193,-739.1745 193,-729.7679 193,-720.8786\" fill=\"none\" stroke=\"#000000\"/>\n<polygon fill=\"#000000\" points=\"196.5001,-720.784 193,-710.784 189.5001,-720.784 196.5001,-720.784\" stroke=\"#000000\"/>\n</g>\n<!-- 139799020208704 -->\n<g class=\"node\" id=\"node5\">\n<title>139799020208704</title>\n<polygon fill=\"none\" points=\"40.5,-581.5 40.5,-627.5 345.5,-627.5 345.5,-581.5 40.5,-581.5\" stroke=\"#000000\"/>\n<text fill=\"#000000\" font-family=\"Times,serif\" font-size=\"14.00\" text-anchor=\"middle\" x=\"110.5\" y=\"-600.8\">conv2d_19: Conv2D</text>\n<polyline fill=\"none\" points=\"180.5,-581.5 180.5,-627.5 \" stroke=\"#000000\"/>\n<text fill=\"#000000\" font-family=\"Times,serif\" font-size=\"14.00\" text-anchor=\"middle\" x=\"209.5\" y=\"-612.3\">input:</text>\n<polyline fill=\"none\" points=\"180.5,-604.5 238.5,-604.5 \" stroke=\"#000000\"/>\n<text fill=\"#000000\" font-family=\"Times,serif\" font-size=\"14.00\" text-anchor=\"middle\" x=\"209.5\" y=\"-589.3\">output:</text>\n<polyline fill=\"none\" points=\"238.5,-581.5 238.5,-627.5 \" stroke=\"#000000\"/>\n<text fill=\"#000000\" font-family=\"Times,serif\" font-size=\"14.00\" text-anchor=\"middle\" x=\"292\" y=\"-612.3\">(?, 1, 128, 64)</text>\n<polyline fill=\"none\" points=\"238.5,-604.5 345.5,-604.5 \" stroke=\"#000000\"/>\n<text fill=\"#000000\" font-family=\"Times,serif\" font-size=\"14.00\" text-anchor=\"middle\" x=\"292\" y=\"-589.3\">(?, 1, 128, 128)</text>\n</g>\n<!-- 139800649477536&#45;&gt;139799020208704 -->\n<g class=\"edge\" id=\"edge4\">\n<title>139800649477536-&gt;139799020208704</title>\n<path d=\"M193,-664.3799C193,-656.1745 193,-646.7679 193,-637.8786\" fill=\"none\" stroke=\"#000000\"/>\n<polygon fill=\"#000000\" points=\"196.5001,-637.784 193,-627.784 189.5001,-637.784 196.5001,-637.784\" stroke=\"#000000\"/>\n</g>\n<!-- 139800649368296 -->\n<g class=\"node\" id=\"node6\">\n<title>139800649368296</title>\n<polygon fill=\"none\" points=\"0,-498.5 0,-544.5 386,-544.5 386,-498.5 0,-498.5\" stroke=\"#000000\"/>\n<text fill=\"#000000\" font-family=\"Times,serif\" font-size=\"14.00\" text-anchor=\"middle\" x=\"110.5\" y=\"-517.8\">max_pooling2d_4: MaxPooling2D</text>\n<polyline fill=\"none\" points=\"221,-498.5 221,-544.5 \" stroke=\"#000000\"/>\n<text fill=\"#000000\" font-family=\"Times,serif\" font-size=\"14.00\" text-anchor=\"middle\" x=\"250\" y=\"-529.3\">input:</text>\n<polyline fill=\"none\" points=\"221,-521.5 279,-521.5 \" stroke=\"#000000\"/>\n<text fill=\"#000000\" font-family=\"Times,serif\" font-size=\"14.00\" text-anchor=\"middle\" x=\"250\" y=\"-506.3\">output:</text>\n<polyline fill=\"none\" points=\"279,-498.5 279,-544.5 \" stroke=\"#000000\"/>\n<text fill=\"#000000\" font-family=\"Times,serif\" font-size=\"14.00\" text-anchor=\"middle\" x=\"332.5\" y=\"-529.3\">(?, 1, 128, 128)</text>\n<polyline fill=\"none\" points=\"279,-521.5 386,-521.5 \" stroke=\"#000000\"/>\n<text fill=\"#000000\" font-family=\"Times,serif\" font-size=\"14.00\" text-anchor=\"middle\" x=\"332.5\" y=\"-506.3\">(?, 1, 32, 128)</text>\n</g>\n<!-- 139799020208704&#45;&gt;139800649368296 -->\n<g class=\"edge\" id=\"edge5\">\n<title>139799020208704-&gt;139800649368296</title>\n<path d=\"M193,-581.3799C193,-573.1745 193,-563.7679 193,-554.8786\" fill=\"none\" stroke=\"#000000\"/>\n<polygon fill=\"#000000\" points=\"196.5001,-554.784 193,-544.784 189.5001,-554.784 196.5001,-554.784\" stroke=\"#000000\"/>\n</g>\n<!-- 139800649672912 -->\n<g class=\"node\" id=\"node7\">\n<title>139800649672912</title>\n<polygon fill=\"none\" points=\"47.5,-415.5 47.5,-461.5 338.5,-461.5 338.5,-415.5 47.5,-415.5\" stroke=\"#000000\"/>\n<text fill=\"#000000\" font-family=\"Times,serif\" font-size=\"14.00\" text-anchor=\"middle\" x=\"114.5\" y=\"-434.8\">dropout_6: Dropout</text>\n<polyline fill=\"none\" points=\"181.5,-415.5 181.5,-461.5 \" stroke=\"#000000\"/>\n<text fill=\"#000000\" font-family=\"Times,serif\" font-size=\"14.00\" text-anchor=\"middle\" x=\"210.5\" y=\"-446.3\">input:</text>\n<polyline fill=\"none\" points=\"181.5,-438.5 239.5,-438.5 \" stroke=\"#000000\"/>\n<text fill=\"#000000\" font-family=\"Times,serif\" font-size=\"14.00\" text-anchor=\"middle\" x=\"210.5\" y=\"-423.3\">output:</text>\n<polyline fill=\"none\" points=\"239.5,-415.5 239.5,-461.5 \" stroke=\"#000000\"/>\n<text fill=\"#000000\" font-family=\"Times,serif\" font-size=\"14.00\" text-anchor=\"middle\" x=\"289\" y=\"-446.3\">(?, 1, 32, 128)</text>\n<polyline fill=\"none\" points=\"239.5,-438.5 338.5,-438.5 \" stroke=\"#000000\"/>\n<text fill=\"#000000\" font-family=\"Times,serif\" font-size=\"14.00\" text-anchor=\"middle\" x=\"289\" y=\"-423.3\">(?, 1, 32, 128)</text>\n</g>\n<!-- 139800649368296&#45;&gt;139800649672912 -->\n<g class=\"edge\" id=\"edge6\">\n<title>139800649368296-&gt;139800649672912</title>\n<path d=\"M193,-498.3799C193,-490.1745 193,-480.7679 193,-471.8786\" fill=\"none\" stroke=\"#000000\"/>\n<polygon fill=\"#000000\" points=\"196.5001,-471.784 193,-461.784 189.5001,-471.784 196.5001,-471.784\" stroke=\"#000000\"/>\n</g>\n<!-- 139800649249680 -->\n<g class=\"node\" id=\"node8\">\n<title>139800649249680</title>\n<polygon fill=\"none\" points=\"58,-332.5 58,-378.5 328,-378.5 328,-332.5 58,-332.5\" stroke=\"#000000\"/>\n<text fill=\"#000000\" font-family=\"Times,serif\" font-size=\"14.00\" text-anchor=\"middle\" x=\"114.5\" y=\"-351.8\">flatten_6: Flatten</text>\n<polyline fill=\"none\" points=\"171,-332.5 171,-378.5 \" stroke=\"#000000\"/>\n<text fill=\"#000000\" font-family=\"Times,serif\" font-size=\"14.00\" text-anchor=\"middle\" x=\"200\" y=\"-363.3\">input:</text>\n<polyline fill=\"none\" points=\"171,-355.5 229,-355.5 \" stroke=\"#000000\"/>\n<text fill=\"#000000\" font-family=\"Times,serif\" font-size=\"14.00\" text-anchor=\"middle\" x=\"200\" y=\"-340.3\">output:</text>\n<polyline fill=\"none\" points=\"229,-332.5 229,-378.5 \" stroke=\"#000000\"/>\n<text fill=\"#000000\" font-family=\"Times,serif\" font-size=\"14.00\" text-anchor=\"middle\" x=\"278.5\" y=\"-363.3\">(?, 1, 32, 128)</text>\n<polyline fill=\"none\" points=\"229,-355.5 328,-355.5 \" stroke=\"#000000\"/>\n<text fill=\"#000000\" font-family=\"Times,serif\" font-size=\"14.00\" text-anchor=\"middle\" x=\"278.5\" y=\"-340.3\">(?, 4096)</text>\n</g>\n<!-- 139800649672912&#45;&gt;139800649249680 -->\n<g class=\"edge\" id=\"edge7\">\n<title>139800649672912-&gt;139800649249680</title>\n<path d=\"M193,-415.3799C193,-407.1745 193,-397.7679 193,-388.8786\" fill=\"none\" stroke=\"#000000\"/>\n<polygon fill=\"#000000\" points=\"196.5001,-388.784 193,-378.784 189.5001,-388.784 196.5001,-388.784\" stroke=\"#000000\"/>\n</g>\n<!-- 139800649272400 -->\n<g class=\"node\" id=\"node9\">\n<title>139800649272400</title>\n<polygon fill=\"none\" points=\"72.5,-249.5 72.5,-295.5 313.5,-295.5 313.5,-249.5 72.5,-249.5\" stroke=\"#000000\"/>\n<text fill=\"#000000\" font-family=\"Times,serif\" font-size=\"14.00\" text-anchor=\"middle\" x=\"129.5\" y=\"-268.8\">dense_22: Dense</text>\n<polyline fill=\"none\" points=\"186.5,-249.5 186.5,-295.5 \" stroke=\"#000000\"/>\n<text fill=\"#000000\" font-family=\"Times,serif\" font-size=\"14.00\" text-anchor=\"middle\" x=\"215.5\" y=\"-280.3\">input:</text>\n<polyline fill=\"none\" points=\"186.5,-272.5 244.5,-272.5 \" stroke=\"#000000\"/>\n<text fill=\"#000000\" font-family=\"Times,serif\" font-size=\"14.00\" text-anchor=\"middle\" x=\"215.5\" y=\"-257.3\">output:</text>\n<polyline fill=\"none\" points=\"244.5,-249.5 244.5,-295.5 \" stroke=\"#000000\"/>\n<text fill=\"#000000\" font-family=\"Times,serif\" font-size=\"14.00\" text-anchor=\"middle\" x=\"279\" y=\"-280.3\">(?, 4096)</text>\n<polyline fill=\"none\" points=\"244.5,-272.5 313.5,-272.5 \" stroke=\"#000000\"/>\n<text fill=\"#000000\" font-family=\"Times,serif\" font-size=\"14.00\" text-anchor=\"middle\" x=\"279\" y=\"-257.3\">(?, 10)</text>\n</g>\n<!-- 139800649249680&#45;&gt;139800649272400 -->\n<g class=\"edge\" id=\"edge8\">\n<title>139800649249680-&gt;139800649272400</title>\n<path d=\"M193,-332.3799C193,-324.1745 193,-314.7679 193,-305.8786\" fill=\"none\" stroke=\"#000000\"/>\n<polygon fill=\"#000000\" points=\"196.5001,-305.784 193,-295.784 189.5001,-305.784 196.5001,-305.784\" stroke=\"#000000\"/>\n</g>\n<!-- 139799019788384 -->\n<g class=\"node\" id=\"node10\">\n<title>139799019788384</title>\n<polygon fill=\"none\" points=\"80,-166.5 80,-212.5 306,-212.5 306,-166.5 80,-166.5\" stroke=\"#000000\"/>\n<text fill=\"#000000\" font-family=\"Times,serif\" font-size=\"14.00\" text-anchor=\"middle\" x=\"137\" y=\"-185.8\">dense_23: Dense</text>\n<polyline fill=\"none\" points=\"194,-166.5 194,-212.5 \" stroke=\"#000000\"/>\n<text fill=\"#000000\" font-family=\"Times,serif\" font-size=\"14.00\" text-anchor=\"middle\" x=\"223\" y=\"-197.3\">input:</text>\n<polyline fill=\"none\" points=\"194,-189.5 252,-189.5 \" stroke=\"#000000\"/>\n<text fill=\"#000000\" font-family=\"Times,serif\" font-size=\"14.00\" text-anchor=\"middle\" x=\"223\" y=\"-174.3\">output:</text>\n<polyline fill=\"none\" points=\"252,-166.5 252,-212.5 \" stroke=\"#000000\"/>\n<text fill=\"#000000\" font-family=\"Times,serif\" font-size=\"14.00\" text-anchor=\"middle\" x=\"279\" y=\"-197.3\">(?, 10)</text>\n<polyline fill=\"none\" points=\"252,-189.5 306,-189.5 \" stroke=\"#000000\"/>\n<text fill=\"#000000\" font-family=\"Times,serif\" font-size=\"14.00\" text-anchor=\"middle\" x=\"279\" y=\"-174.3\">(?, 10)</text>\n</g>\n<!-- 139800649272400&#45;&gt;139799019788384 -->\n<g class=\"edge\" id=\"edge9\">\n<title>139800649272400-&gt;139799019788384</title>\n<path d=\"M193,-249.3799C193,-241.1745 193,-231.7679 193,-222.8786\" fill=\"none\" stroke=\"#000000\"/>\n<polygon fill=\"#000000\" points=\"196.5001,-222.784 193,-212.784 189.5001,-222.784 196.5001,-222.784\" stroke=\"#000000\"/>\n</g>\n<!-- 139799019758144 -->\n<g class=\"node\" id=\"node11\">\n<title>139799019758144</title>\n<polygon fill=\"none\" points=\"80,-83.5 80,-129.5 306,-129.5 306,-83.5 80,-83.5\" stroke=\"#000000\"/>\n<text fill=\"#000000\" font-family=\"Times,serif\" font-size=\"14.00\" text-anchor=\"middle\" x=\"137\" y=\"-102.8\">dense_24: Dense</text>\n<polyline fill=\"none\" points=\"194,-83.5 194,-129.5 \" stroke=\"#000000\"/>\n<text fill=\"#000000\" font-family=\"Times,serif\" font-size=\"14.00\" text-anchor=\"middle\" x=\"223\" y=\"-114.3\">input:</text>\n<polyline fill=\"none\" points=\"194,-106.5 252,-106.5 \" stroke=\"#000000\"/>\n<text fill=\"#000000\" font-family=\"Times,serif\" font-size=\"14.00\" text-anchor=\"middle\" x=\"223\" y=\"-91.3\">output:</text>\n<polyline fill=\"none\" points=\"252,-83.5 252,-129.5 \" stroke=\"#000000\"/>\n<text fill=\"#000000\" font-family=\"Times,serif\" font-size=\"14.00\" text-anchor=\"middle\" x=\"279\" y=\"-114.3\">(?, 10)</text>\n<polyline fill=\"none\" points=\"252,-106.5 306,-106.5 \" stroke=\"#000000\"/>\n<text fill=\"#000000\" font-family=\"Times,serif\" font-size=\"14.00\" text-anchor=\"middle\" x=\"279\" y=\"-91.3\">(?, 10)</text>\n</g>\n<!-- 139799019788384&#45;&gt;139799019758144 -->\n<g class=\"edge\" id=\"edge10\">\n<title>139799019788384-&gt;139799019758144</title>\n<path d=\"M193,-166.3799C193,-158.1745 193,-148.7679 193,-139.8786\" fill=\"none\" stroke=\"#000000\"/>\n<polygon fill=\"#000000\" points=\"196.5001,-139.784 193,-129.784 189.5001,-139.784 196.5001,-139.784\" stroke=\"#000000\"/>\n</g>\n<!-- 139799019759712 -->\n<g class=\"node\" id=\"node12\">\n<title>139799019759712</title>\n<polygon fill=\"none\" points=\"80,-.5 80,-46.5 306,-46.5 306,-.5 80,-.5\" stroke=\"#000000\"/>\n<text fill=\"#000000\" font-family=\"Times,serif\" font-size=\"14.00\" text-anchor=\"middle\" x=\"137\" y=\"-19.8\">dense_25: Dense</text>\n<polyline fill=\"none\" points=\"194,-.5 194,-46.5 \" stroke=\"#000000\"/>\n<text fill=\"#000000\" font-family=\"Times,serif\" font-size=\"14.00\" text-anchor=\"middle\" x=\"223\" y=\"-31.3\">input:</text>\n<polyline fill=\"none\" points=\"194,-23.5 252,-23.5 \" stroke=\"#000000\"/>\n<text fill=\"#000000\" font-family=\"Times,serif\" font-size=\"14.00\" text-anchor=\"middle\" x=\"223\" y=\"-8.3\">output:</text>\n<polyline fill=\"none\" points=\"252,-.5 252,-46.5 \" stroke=\"#000000\"/>\n<text fill=\"#000000\" font-family=\"Times,serif\" font-size=\"14.00\" text-anchor=\"middle\" x=\"279\" y=\"-31.3\">(?, 10)</text>\n<polyline fill=\"none\" points=\"252,-23.5 306,-23.5 \" stroke=\"#000000\"/>\n<text fill=\"#000000\" font-family=\"Times,serif\" font-size=\"14.00\" text-anchor=\"middle\" x=\"279\" y=\"-8.3\">(?, 4)</text>\n</g>\n<!-- 139799019758144&#45;&gt;139799019759712 -->\n<g class=\"edge\" id=\"edge11\">\n<title>139799019758144-&gt;139799019759712</title>\n<path d=\"M193,-83.3799C193,-75.1745 193,-65.7679 193,-56.8786\" fill=\"none\" stroke=\"#000000\"/>\n<polygon fill=\"#000000\" points=\"196.5001,-56.784 193,-46.784 189.5001,-56.784 196.5001,-56.784\" stroke=\"#000000\"/>\n</g>\n</g>\n</svg>"
          },
          "metadata": {
            "tags": []
          },
          "execution_count": 43
        }
      ]
    },
    {
      "cell_type": "code",
      "metadata": {
        "id": "MgTxJfoc2ava",
        "colab_type": "code",
        "outputId": "4bae1bac-c5ef-4fbb-a6f6-8331839b7a8e",
        "colab": {
          "base_uri": "https://localhost:8080/",
          "height": 1000
        }
      },
      "source": [
        "epocas = 100\n",
        "batchSize = 5000\n",
        "\n",
        "#modelo1.compile(loss='sparse_categorical_crossentropy', optimizer = \"rmsprop\", metrics = ['sparse_categorical_accuracy'])\n",
        "\n",
        "for i in range(0,1):\n",
        "  #hist = modelo1.fit(x, y, verbose = 1, validation_data=(x, y), epochs = epocas, batch_size = batchSize)#, class_weight = pesosClases)\n",
        "  hist = modelo2.fit(x_train_2, y_train, validation_data=(x_test_2, y_test), epochs = epocas, batch_size = batchSize, class_weight = pesosClases)\n",
        " \n",
        "                        \n",
        "\n",
        "  #SVG(model_to_dot(modelo1, show_shapes = True, expand_nested = True, dpi = 60).create(prog='dot', format='svg'))"
      ],
      "execution_count": 0,
      "outputs": [
        {
          "output_type": "stream",
          "text": [
            "Train on 1019232 samples, validate on 254808 samples\n",
            "Epoch 1/100\n",
            "1019232/1019232 [==============================] - 31s 30us/sample - loss: 0.5502 - sparse_categorical_accuracy: 0.8324 - val_loss: 0.3916 - val_sparse_categorical_accuracy: 0.8936\n",
            "Epoch 2/100\n",
            "1019232/1019232 [==============================] - 29s 29us/sample - loss: 0.3560 - sparse_categorical_accuracy: 0.8995 - val_loss: 0.3160 - val_sparse_categorical_accuracy: 0.9143\n",
            "Epoch 3/100\n",
            "1019232/1019232 [==============================] - 32s 32us/sample - loss: 0.2779 - sparse_categorical_accuracy: 0.9234 - val_loss: 0.2572 - val_sparse_categorical_accuracy: 0.9281\n",
            "Epoch 4/100\n",
            "1019232/1019232 [==============================] - 32s 32us/sample - loss: 0.2368 - sparse_categorical_accuracy: 0.9362 - val_loss: 0.1926 - val_sparse_categorical_accuracy: 0.9504\n",
            "Epoch 5/100\n",
            "1019232/1019232 [==============================] - 29s 29us/sample - loss: 0.2123 - sparse_categorical_accuracy: 0.9436 - val_loss: 0.1796 - val_sparse_categorical_accuracy: 0.9518\n",
            "Epoch 6/100\n",
            "1019232/1019232 [==============================] - 32s 32us/sample - loss: 0.1989 - sparse_categorical_accuracy: 0.9468 - val_loss: 0.2401 - val_sparse_categorical_accuracy: 0.9395\n",
            "Epoch 7/100\n",
            "1019232/1019232 [==============================] - 29s 29us/sample - loss: 0.1854 - sparse_categorical_accuracy: 0.9512 - val_loss: 0.1846 - val_sparse_categorical_accuracy: 0.9527\n",
            "Epoch 8/100\n",
            "1019232/1019232 [==============================] - 32s 32us/sample - loss: 0.1776 - sparse_categorical_accuracy: 0.9536 - val_loss: 0.1474 - val_sparse_categorical_accuracy: 0.9628\n",
            "Epoch 9/100\n",
            "1019232/1019232 [==============================] - 29s 29us/sample - loss: 0.1701 - sparse_categorical_accuracy: 0.9554 - val_loss: 0.1898 - val_sparse_categorical_accuracy: 0.9507\n",
            "Epoch 10/100\n",
            "1019232/1019232 [==============================] - 32s 32us/sample - loss: 0.1622 - sparse_categorical_accuracy: 0.9576 - val_loss: 0.1770 - val_sparse_categorical_accuracy: 0.9556\n",
            "Epoch 11/100\n",
            "1019232/1019232 [==============================] - 29s 29us/sample - loss: 0.1562 - sparse_categorical_accuracy: 0.9595 - val_loss: 0.1414 - val_sparse_categorical_accuracy: 0.9631\n",
            "Epoch 12/100\n",
            "1019232/1019232 [==============================] - 32s 32us/sample - loss: 0.1518 - sparse_categorical_accuracy: 0.9604 - val_loss: 0.1335 - val_sparse_categorical_accuracy: 0.9659\n",
            "Epoch 13/100\n",
            "1019232/1019232 [==============================] - 29s 29us/sample - loss: 0.1469 - sparse_categorical_accuracy: 0.9620 - val_loss: 0.1364 - val_sparse_categorical_accuracy: 0.9646\n",
            "Epoch 14/100\n",
            "1019232/1019232 [==============================] - 32s 32us/sample - loss: 0.1432 - sparse_categorical_accuracy: 0.9629 - val_loss: 0.1570 - val_sparse_categorical_accuracy: 0.9592\n",
            "Epoch 15/100\n",
            "1019232/1019232 [==============================] - 29s 29us/sample - loss: 0.1396 - sparse_categorical_accuracy: 0.9639 - val_loss: 0.1151 - val_sparse_categorical_accuracy: 0.9711\n",
            "Epoch 16/100\n",
            "1019232/1019232 [==============================] - 32s 32us/sample - loss: 0.1382 - sparse_categorical_accuracy: 0.9643 - val_loss: 0.1142 - val_sparse_categorical_accuracy: 0.9713\n",
            "Epoch 17/100\n",
            "1019232/1019232 [==============================] - 29s 29us/sample - loss: 0.1341 - sparse_categorical_accuracy: 0.9653 - val_loss: 0.1126 - val_sparse_categorical_accuracy: 0.9715\n",
            "Epoch 18/100\n",
            "1019232/1019232 [==============================] - 32s 32us/sample - loss: 0.1325 - sparse_categorical_accuracy: 0.9656 - val_loss: 0.1429 - val_sparse_categorical_accuracy: 0.9632\n",
            "Epoch 19/100\n",
            "1019232/1019232 [==============================] - 29s 29us/sample - loss: 0.1305 - sparse_categorical_accuracy: 0.9662 - val_loss: 0.1096 - val_sparse_categorical_accuracy: 0.9724\n",
            "Epoch 20/100\n",
            "1019232/1019232 [==============================] - 32s 32us/sample - loss: 0.1284 - sparse_categorical_accuracy: 0.9666 - val_loss: 0.1338 - val_sparse_categorical_accuracy: 0.9655\n",
            "Epoch 21/100\n",
            "1019232/1019232 [==============================] - 29s 29us/sample - loss: 0.1277 - sparse_categorical_accuracy: 0.9668 - val_loss: 0.1080 - val_sparse_categorical_accuracy: 0.9725\n",
            "Epoch 22/100\n",
            "1019232/1019232 [==============================] - 32s 32us/sample - loss: 0.1247 - sparse_categorical_accuracy: 0.9677 - val_loss: 0.1146 - val_sparse_categorical_accuracy: 0.9702\n",
            "Epoch 23/100\n",
            "1019232/1019232 [==============================] - 29s 29us/sample - loss: 0.1247 - sparse_categorical_accuracy: 0.9678 - val_loss: 0.1056 - val_sparse_categorical_accuracy: 0.9732\n",
            "Epoch 24/100\n",
            "1019232/1019232 [==============================] - 32s 32us/sample - loss: 0.1222 - sparse_categorical_accuracy: 0.9682 - val_loss: 0.1230 - val_sparse_categorical_accuracy: 0.9685\n",
            "Epoch 25/100\n",
            "1019232/1019232 [==============================] - 29s 29us/sample - loss: 0.1210 - sparse_categorical_accuracy: 0.9686 - val_loss: 0.1047 - val_sparse_categorical_accuracy: 0.9730\n",
            "Epoch 26/100\n",
            "1019232/1019232 [==============================] - 32s 32us/sample - loss: 0.1197 - sparse_categorical_accuracy: 0.9689 - val_loss: 0.1277 - val_sparse_categorical_accuracy: 0.9675\n",
            "Epoch 27/100\n",
            "1019232/1019232 [==============================] - 29s 29us/sample - loss: 0.1190 - sparse_categorical_accuracy: 0.9692 - val_loss: 0.1136 - val_sparse_categorical_accuracy: 0.9713\n",
            "Epoch 28/100\n",
            "1019232/1019232 [==============================] - 32s 32us/sample - loss: 0.1175 - sparse_categorical_accuracy: 0.9695 - val_loss: 0.1304 - val_sparse_categorical_accuracy: 0.9663\n",
            "Epoch 29/100\n",
            "1019232/1019232 [==============================] - 29s 29us/sample - loss: 0.1168 - sparse_categorical_accuracy: 0.9696 - val_loss: 0.1051 - val_sparse_categorical_accuracy: 0.9736\n",
            "Epoch 30/100\n",
            "1019232/1019232 [==============================] - 32s 32us/sample - loss: 0.1157 - sparse_categorical_accuracy: 0.9700 - val_loss: 0.1074 - val_sparse_categorical_accuracy: 0.9727\n",
            "Epoch 31/100\n",
            "1019232/1019232 [==============================] - 29s 29us/sample - loss: 0.1141 - sparse_categorical_accuracy: 0.9702 - val_loss: 0.1057 - val_sparse_categorical_accuracy: 0.9727\n",
            "Epoch 32/100\n",
            "1019232/1019232 [==============================] - 32s 32us/sample - loss: 0.1135 - sparse_categorical_accuracy: 0.9704 - val_loss: 0.1108 - val_sparse_categorical_accuracy: 0.9720\n",
            "Epoch 33/100\n",
            "1019232/1019232 [==============================] - 29s 29us/sample - loss: 0.1126 - sparse_categorical_accuracy: 0.9706 - val_loss: 0.0999 - val_sparse_categorical_accuracy: 0.9744\n",
            "Epoch 34/100\n",
            "1019232/1019232 [==============================] - 32s 32us/sample - loss: 0.1121 - sparse_categorical_accuracy: 0.9709 - val_loss: 0.0954 - val_sparse_categorical_accuracy: 0.9757\n",
            "Epoch 35/100\n",
            "1019232/1019232 [==============================] - 29s 29us/sample - loss: 0.1110 - sparse_categorical_accuracy: 0.9710 - val_loss: 0.1081 - val_sparse_categorical_accuracy: 0.9726\n",
            "Epoch 36/100\n",
            "1019232/1019232 [==============================] - 32s 32us/sample - loss: 0.1107 - sparse_categorical_accuracy: 0.9711 - val_loss: 0.1031 - val_sparse_categorical_accuracy: 0.9733\n",
            "Epoch 37/100\n",
            "1019232/1019232 [==============================] - 29s 29us/sample - loss: 0.1094 - sparse_categorical_accuracy: 0.9714 - val_loss: 0.0936 - val_sparse_categorical_accuracy: 0.9758\n",
            "Epoch 38/100\n",
            "1019232/1019232 [==============================] - 32s 32us/sample - loss: 0.1089 - sparse_categorical_accuracy: 0.9715 - val_loss: 0.0944 - val_sparse_categorical_accuracy: 0.9758\n",
            "Epoch 39/100\n",
            "1019232/1019232 [==============================] - 29s 29us/sample - loss: 0.1081 - sparse_categorical_accuracy: 0.9717 - val_loss: 0.1099 - val_sparse_categorical_accuracy: 0.9715\n",
            "Epoch 40/100\n",
            "1019232/1019232 [==============================] - 32s 32us/sample - loss: 0.1076 - sparse_categorical_accuracy: 0.9720 - val_loss: 0.0962 - val_sparse_categorical_accuracy: 0.9750\n",
            "Epoch 41/100\n",
            "1019232/1019232 [==============================] - 29s 29us/sample - loss: 0.1069 - sparse_categorical_accuracy: 0.9719 - val_loss: 0.0944 - val_sparse_categorical_accuracy: 0.9757\n",
            "Epoch 42/100\n",
            "1019232/1019232 [==============================] - 32s 32us/sample - loss: 0.1062 - sparse_categorical_accuracy: 0.9722 - val_loss: 0.1050 - val_sparse_categorical_accuracy: 0.9732\n",
            "Epoch 43/100\n",
            " 840000/1019232 [=======================>......] - ETA: 4s - loss: 0.1064 - sparse_categorical_accuracy: 0.9721"
          ],
          "name": "stdout"
        },
        {
          "output_type": "error",
          "ename": "KeyboardInterrupt",
          "evalue": "ignored",
          "traceback": [
            "\u001b[0;31m---------------------------------------------------------------------------\u001b[0m",
            "\u001b[0;31mKeyboardInterrupt\u001b[0m                         Traceback (most recent call last)",
            "\u001b[0;32m<ipython-input-44-6499a5aa6f5a>\u001b[0m in \u001b[0;36m<module>\u001b[0;34m()\u001b[0m\n\u001b[1;32m      6\u001b[0m \u001b[0;32mfor\u001b[0m \u001b[0mi\u001b[0m \u001b[0;32min\u001b[0m \u001b[0mrange\u001b[0m\u001b[0;34m(\u001b[0m\u001b[0;36m0\u001b[0m\u001b[0;34m,\u001b[0m\u001b[0;36m1\u001b[0m\u001b[0;34m)\u001b[0m\u001b[0;34m:\u001b[0m\u001b[0;34m\u001b[0m\u001b[0;34m\u001b[0m\u001b[0m\n\u001b[1;32m      7\u001b[0m   \u001b[0;31m#hist = modelo1.fit(x, y, verbose = 1, validation_data=(x, y), epochs = epocas, batch_size = batchSize)#, class_weight = pesosClases)\u001b[0m\u001b[0;34m\u001b[0m\u001b[0;34m\u001b[0m\u001b[0;34m\u001b[0m\u001b[0m\n\u001b[0;32m----> 8\u001b[0;31m   \u001b[0mhist\u001b[0m \u001b[0;34m=\u001b[0m \u001b[0mmodelo2\u001b[0m\u001b[0;34m.\u001b[0m\u001b[0mfit\u001b[0m\u001b[0;34m(\u001b[0m\u001b[0mx_train_2\u001b[0m\u001b[0;34m,\u001b[0m \u001b[0my_train\u001b[0m\u001b[0;34m,\u001b[0m \u001b[0mvalidation_data\u001b[0m\u001b[0;34m=\u001b[0m\u001b[0;34m(\u001b[0m\u001b[0mx_test_2\u001b[0m\u001b[0;34m,\u001b[0m \u001b[0my_test\u001b[0m\u001b[0;34m)\u001b[0m\u001b[0;34m,\u001b[0m \u001b[0mepochs\u001b[0m \u001b[0;34m=\u001b[0m \u001b[0mepocas\u001b[0m\u001b[0;34m,\u001b[0m \u001b[0mbatch_size\u001b[0m \u001b[0;34m=\u001b[0m \u001b[0mbatchSize\u001b[0m\u001b[0;34m,\u001b[0m \u001b[0mclass_weight\u001b[0m \u001b[0;34m=\u001b[0m \u001b[0mpesosClases\u001b[0m\u001b[0;34m)\u001b[0m\u001b[0;34m\u001b[0m\u001b[0;34m\u001b[0m\u001b[0m\n\u001b[0m\u001b[1;32m      9\u001b[0m \u001b[0;34m\u001b[0m\u001b[0m\n\u001b[1;32m     10\u001b[0m \u001b[0;34m\u001b[0m\u001b[0m\n",
            "\u001b[0;32m/tensorflow-1.15.0/python3.6/tensorflow_core/python/keras/engine/training.py\u001b[0m in \u001b[0;36mfit\u001b[0;34m(self, x, y, batch_size, epochs, verbose, callbacks, validation_split, validation_data, shuffle, class_weight, sample_weight, initial_epoch, steps_per_epoch, validation_steps, validation_freq, max_queue_size, workers, use_multiprocessing, **kwargs)\u001b[0m\n\u001b[1;32m    725\u001b[0m         \u001b[0mmax_queue_size\u001b[0m\u001b[0;34m=\u001b[0m\u001b[0mmax_queue_size\u001b[0m\u001b[0;34m,\u001b[0m\u001b[0;34m\u001b[0m\u001b[0;34m\u001b[0m\u001b[0m\n\u001b[1;32m    726\u001b[0m         \u001b[0mworkers\u001b[0m\u001b[0;34m=\u001b[0m\u001b[0mworkers\u001b[0m\u001b[0;34m,\u001b[0m\u001b[0;34m\u001b[0m\u001b[0;34m\u001b[0m\u001b[0m\n\u001b[0;32m--> 727\u001b[0;31m         use_multiprocessing=use_multiprocessing)\n\u001b[0m\u001b[1;32m    728\u001b[0m \u001b[0;34m\u001b[0m\u001b[0m\n\u001b[1;32m    729\u001b[0m   def evaluate(self,\n",
            "\u001b[0;32m/tensorflow-1.15.0/python3.6/tensorflow_core/python/keras/engine/training_arrays.py\u001b[0m in \u001b[0;36mfit\u001b[0;34m(self, model, x, y, batch_size, epochs, verbose, callbacks, validation_split, validation_data, shuffle, class_weight, sample_weight, initial_epoch, steps_per_epoch, validation_steps, validation_freq, **kwargs)\u001b[0m\n\u001b[1;32m    673\u001b[0m         \u001b[0mvalidation_steps\u001b[0m\u001b[0;34m=\u001b[0m\u001b[0mvalidation_steps\u001b[0m\u001b[0;34m,\u001b[0m\u001b[0;34m\u001b[0m\u001b[0;34m\u001b[0m\u001b[0m\n\u001b[1;32m    674\u001b[0m         \u001b[0mvalidation_freq\u001b[0m\u001b[0;34m=\u001b[0m\u001b[0mvalidation_freq\u001b[0m\u001b[0;34m,\u001b[0m\u001b[0;34m\u001b[0m\u001b[0;34m\u001b[0m\u001b[0m\n\u001b[0;32m--> 675\u001b[0;31m         steps_name='steps_per_epoch')\n\u001b[0m\u001b[1;32m    676\u001b[0m \u001b[0;34m\u001b[0m\u001b[0m\n\u001b[1;32m    677\u001b[0m   def evaluate(self,\n",
            "\u001b[0;32m/tensorflow-1.15.0/python3.6/tensorflow_core/python/keras/engine/training_arrays.py\u001b[0m in \u001b[0;36mmodel_iteration\u001b[0;34m(model, inputs, targets, sample_weights, batch_size, epochs, verbose, callbacks, val_inputs, val_targets, val_sample_weights, shuffle, initial_epoch, steps_per_epoch, validation_steps, validation_freq, mode, validation_in_fit, prepared_feed_values_from_dataset, steps_name, **kwargs)\u001b[0m\n\u001b[1;32m    392\u001b[0m \u001b[0;34m\u001b[0m\u001b[0m\n\u001b[1;32m    393\u001b[0m         \u001b[0;31m# Get outputs.\u001b[0m\u001b[0;34m\u001b[0m\u001b[0;34m\u001b[0m\u001b[0;34m\u001b[0m\u001b[0m\n\u001b[0;32m--> 394\u001b[0;31m         \u001b[0mbatch_outs\u001b[0m \u001b[0;34m=\u001b[0m \u001b[0mf\u001b[0m\u001b[0;34m(\u001b[0m\u001b[0mins_batch\u001b[0m\u001b[0;34m)\u001b[0m\u001b[0;34m\u001b[0m\u001b[0;34m\u001b[0m\u001b[0m\n\u001b[0m\u001b[1;32m    395\u001b[0m         \u001b[0;32mif\u001b[0m \u001b[0;32mnot\u001b[0m \u001b[0misinstance\u001b[0m\u001b[0;34m(\u001b[0m\u001b[0mbatch_outs\u001b[0m\u001b[0;34m,\u001b[0m \u001b[0mlist\u001b[0m\u001b[0;34m)\u001b[0m\u001b[0;34m:\u001b[0m\u001b[0;34m\u001b[0m\u001b[0;34m\u001b[0m\u001b[0m\n\u001b[1;32m    396\u001b[0m           \u001b[0mbatch_outs\u001b[0m \u001b[0;34m=\u001b[0m \u001b[0;34m[\u001b[0m\u001b[0mbatch_outs\u001b[0m\u001b[0;34m]\u001b[0m\u001b[0;34m\u001b[0m\u001b[0;34m\u001b[0m\u001b[0m\n",
            "\u001b[0;32m/tensorflow-1.15.0/python3.6/tensorflow_core/python/keras/backend.py\u001b[0m in \u001b[0;36m__call__\u001b[0;34m(self, inputs)\u001b[0m\n\u001b[1;32m   3474\u001b[0m \u001b[0;34m\u001b[0m\u001b[0m\n\u001b[1;32m   3475\u001b[0m     fetched = self._callable_fn(*array_vals,\n\u001b[0;32m-> 3476\u001b[0;31m                                 run_metadata=self.run_metadata)\n\u001b[0m\u001b[1;32m   3477\u001b[0m     \u001b[0mself\u001b[0m\u001b[0;34m.\u001b[0m\u001b[0m_call_fetch_callbacks\u001b[0m\u001b[0;34m(\u001b[0m\u001b[0mfetched\u001b[0m\u001b[0;34m[\u001b[0m\u001b[0;34m-\u001b[0m\u001b[0mlen\u001b[0m\u001b[0;34m(\u001b[0m\u001b[0mself\u001b[0m\u001b[0;34m.\u001b[0m\u001b[0m_fetches\u001b[0m\u001b[0;34m)\u001b[0m\u001b[0;34m:\u001b[0m\u001b[0;34m]\u001b[0m\u001b[0;34m)\u001b[0m\u001b[0;34m\u001b[0m\u001b[0;34m\u001b[0m\u001b[0m\n\u001b[1;32m   3478\u001b[0m     output_structure = nest.pack_sequence_as(\n",
            "\u001b[0;32m/tensorflow-1.15.0/python3.6/tensorflow_core/python/client/session.py\u001b[0m in \u001b[0;36m__call__\u001b[0;34m(self, *args, **kwargs)\u001b[0m\n\u001b[1;32m   1470\u001b[0m         ret = tf_session.TF_SessionRunCallable(self._session._session,\n\u001b[1;32m   1471\u001b[0m                                                \u001b[0mself\u001b[0m\u001b[0;34m.\u001b[0m\u001b[0m_handle\u001b[0m\u001b[0;34m,\u001b[0m \u001b[0margs\u001b[0m\u001b[0;34m,\u001b[0m\u001b[0;34m\u001b[0m\u001b[0;34m\u001b[0m\u001b[0m\n\u001b[0;32m-> 1472\u001b[0;31m                                                run_metadata_ptr)\n\u001b[0m\u001b[1;32m   1473\u001b[0m         \u001b[0;32mif\u001b[0m \u001b[0mrun_metadata\u001b[0m\u001b[0;34m:\u001b[0m\u001b[0;34m\u001b[0m\u001b[0;34m\u001b[0m\u001b[0m\n\u001b[1;32m   1474\u001b[0m           \u001b[0mproto_data\u001b[0m \u001b[0;34m=\u001b[0m \u001b[0mtf_session\u001b[0m\u001b[0;34m.\u001b[0m\u001b[0mTF_GetBuffer\u001b[0m\u001b[0;34m(\u001b[0m\u001b[0mrun_metadata_ptr\u001b[0m\u001b[0;34m)\u001b[0m\u001b[0;34m\u001b[0m\u001b[0;34m\u001b[0m\u001b[0m\n",
            "\u001b[0;31mKeyboardInterrupt\u001b[0m: "
          ]
        }
      ]
    },
    {
      "cell_type": "code",
      "metadata": {
        "id": "SdyWApH34tHk",
        "colab_type": "code",
        "outputId": "0640ffc9-33f0-4005-c9b0-0d618c8135bf",
        "colab": {
          "base_uri": "https://localhost:8080/",
          "height": 511
        }
      },
      "source": [
        "graficarMatrizConfusion(y_true=y_test, y_pred=modelo2.predict_classes(x_test_2))"
      ],
      "execution_count": 0,
      "outputs": [
        {
          "output_type": "display_data",
          "data": {
            "image/png": "[encoded data removed]",
            "text/plain": [
              "<Figure size 576x576 with 1 Axes>"
            ]
          },
          "metadata": {
            "tags": []
          }
        }
      ]
    },
    {
      "cell_type": "code",
      "metadata": {
        "id": "OQWpeq3ShE7J",
        "colab_type": "code",
        "colab": {}
      },
      "source": [
        "graficarMatrizConfusion(y_true=y_test, y_pred=modelo2.predict_classes(x_test_2))"
      ],
      "execution_count": 0,
      "outputs": []
    },
    {
      "cell_type": "markdown",
      "metadata": {
        "id": "f8gAttxY9S12",
        "colab_type": "text"
      },
      "source": [
        "# Modelo CNN 1D y 2D"
      ]
    },
    {
      "cell_type": "code",
      "metadata": {
        "id": "l7VWpqoH9Sjf",
        "colab_type": "code",
        "colab": {}
      },
      "source": [
        "def crearModelo_1D_y_2D(pTasa, pAlpha, pNumFiltros, pTamFiltros, pTamPooling, pNumNeuronas, pOptimizer):\n",
        "  # CONV 1D\n",
        "  capaEntrada_1 = Input(shape = (1600,1))\n",
        "\n",
        "  capa1_1 = Conv1D(pNumFiltros[0], int(pTamFiltros[0]), padding='same', activation = 'relu')(capaEntrada_1)\n",
        "  pooling1_1 = MaxPooling1D(int(pTamPooling[0]), padding='same')(capa1_1)\n",
        "\n",
        "  capa2_1 = Conv1D(pNumFiltros[1], int(pTamFiltros[1]), padding='same', activation = 'relu')(pooling1_1)\n",
        "  pooling2_1 = MaxPooling1D(int(pTamPooling[1]), padding='same')(capa2_1)\n",
        "  \n",
        "  flatten_1 = Flatten()(pooling2_1)\n",
        "\n",
        "  # CONV 2D\n",
        "  capaEntrada_2 = Input(shape = (1,13,11))\n",
        "\n",
        "  capa1_2 = Conv2D(pNumFiltros[0], int(pTamFiltros[0]), padding='same', activation = 'relu')(capaEntrada_2)\n",
        "  pooling1_2 = MaxPooling2D(int(pTamPooling[0]), padding='same')(capa1_2)\n",
        "\n",
        "  capa2_2 = Conv2D(pNumFiltros[1], int(pTamFiltros[1]), padding='same', activation = 'relu')(pooling1_2)\n",
        "  pooling2_2 = MaxPooling2D(int(pTamPooling[1]), padding='same')(capa2_2)\n",
        "  \n",
        "  flatten_2 = Flatten()(pooling2_2)\n",
        "\n",
        "\n",
        "  capas = concatenate([flatten_1, flatten_2])\n",
        "\n",
        "  capas = Dropout(0.5)(capas)\n",
        "  \n",
        "  capas = Dense(pNumNeuronas[0], activation='relu')(capas)\n",
        "  capas = Dense(pNumNeuronas[1], activation='relu')(capas)\n",
        "\n",
        "  capaSalida = Dense(4, activation='softmax')(capas)\n",
        "\n",
        "  #modelo = Sequential()\n",
        "  modelo = Model(inputs = [capaEntrada_1, capaEntrada_2], outputs = capaSalida)\n",
        "\n",
        "  sgd = optimizers.SGD(lr = pTasa)#, momentum=0.9)\n",
        "  adam = optimizers.Adam(learning_rate = pTasa)\n",
        "  if pOptimizer == \"adam\":\n",
        "    opt=adam\n",
        "  elif pOptimizer ==\"sgd\":\n",
        "    opt=sgd\n",
        "  elif pOptimizer ==\"rmsprop\":\n",
        "    opt = \"rmsprop\"\n",
        "  \n",
        "  modelo.compile(loss='sparse_categorical_crossentropy', optimizer = opt, metrics = ['sparse_categorical_accuracy'])\n",
        "  modelo.summary()\n",
        "  \n",
        "  return modelo\n",
        "\n",
        "\n"
      ],
      "execution_count": 0,
      "outputs": []
    },
    {
      "cell_type": "code",
      "metadata": {
        "id": "wmDDpgu-_V7l",
        "colab_type": "code",
        "colab": {}
      },
      "source": [
        "#Esta celda construye los modelos, a partir de los parametros especificados por cada una de las siguientes variables.\n",
        "#Es el numero de filtros que cada capa convolucional utiliza.\n",
        "numFiltros = np.array([5, 10, 100, 100, 100, 10])\n",
        "\n",
        "#Es el tamaño de los filtros utilizados en cada capa convolucional.\n",
        "tamFiltros = np.array([10, 10, 10, 8, 8, 5])\n",
        "\n",
        "#Es el tamaño de cada capa de Pooling.\n",
        "tamPooling = np.array([5, 5, 3, 3, 3, 3])\n",
        "\n",
        "#Es el numero de neuronas en cada capa de la red neuronal que sigue despues de la parte convolucional.\n",
        "numNeuronas = np.array([4, 4, 10])\n",
        "\n",
        "#Es el tipo de optimizador a utilizar.\n",
        "#Se pueden especificar: \"sgd\", \"adam\" o \"rmsprop\"\n",
        "optimizer=\"rmsprop\"\n",
        "\n",
        "#Es la tasa de aprendizaje del optimizador.\n",
        "tasa = 0.1\n",
        "\n",
        "#Es el parametro de regularizacion a utilizar.\n",
        "alpha = 0.01"
      ],
      "execution_count": 0,
      "outputs": []
    },
    {
      "cell_type": "code",
      "metadata": {
        "id": "GlKCT9-R_cDz",
        "colab_type": "code",
        "colab": {}
      },
      "source": [
        "modelo3 = crearModelo_1D_y_2D(tasa, alpha, numFiltros, tamFiltros, tamPooling, numNeuronas, optimizer)\n",
        "\n",
        "#Esta linea muestra un diagrama de la red neuronal.\n",
        "SVG(model_to_dot(modelo3, show_shapes = True, expand_nested = True, dpi = 50).create(prog='dot', format='svg'))"
      ],
      "execution_count": 0,
      "outputs": []
    },
    {
      "cell_type": "code",
      "metadata": {
        "id": "j5MslqxyAg29",
        "colab_type": "code",
        "colab": {}
      },
      "source": [
        "epocas = 100\n",
        "batchSize = 5000\n",
        "\n",
        "#modelo1.compile(loss='sparse_categorical_crossentropy', optimizer = \"rmsprop\", metrics = ['sparse_categorical_accuracy'])\n",
        "\n",
        "for i in range(0,1):\n",
        "  #hist = modelo1.fit(x, y, verbose = 1, validation_data=(x, y), epochs = epocas, batch_size = batchSize)#, class_weight = pesosClases)\n",
        "  hist = modelo3.fit([x_train_1,x_train_2], y_train, validation_data=([x_test_1,x_test_2], y_test), epochs = epocas, batch_size = batchSize, class_weight = pesosClases)\n",
        " \n",
        "                        \n"
      ],
      "execution_count": 0,
      "outputs": []
    },
    {
      "cell_type": "code",
      "metadata": {
        "id": "-ZPM86uRAxgr",
        "colab_type": "code",
        "colab": {}
      },
      "source": [
        "y_prob = modelo3.predict ([x_test_1,x_test_2])\n",
        "y_pred_=y_prob.argmax(axis=-1)\n",
        "graficarMatrizConfusion(y_true=y_test, y_pred=y_pred_)"
      ],
      "execution_count": 0,
      "outputs": []
    },
    {
      "cell_type": "code",
      "metadata": {
        "id": "DCoBXf9oj9VB",
        "colab_type": "code",
        "colab": {}
      },
      "source": [
        "y_prob = modelo3.predict ([x_test_1,x_test_2])\n",
        "y_pred_=y_prob.argmax(axis=-1)\n",
        "graficarMatrizConfusion(y_true=y_test, y_pred=y_pred_)"
      ],
      "execution_count": 0,
      "outputs": []
    },
    {
      "cell_type": "markdown",
      "metadata": {
        "id": "0AGH0glMEJVQ",
        "colab_type": "text"
      },
      "source": [
        "# Perceptrón Multicapa\n",
        "Se intenta utilizar un perceptron multicapa como clasificador. El entrenamiento del mismo se puede apreciar en la gráfica \"Probabilidad de acierto contra número de iteraciones\". Cabe resaltar que este clasificador es entrenado con los descriptores obtenidos."
      ]
    },
    {
      "cell_type": "code",
      "metadata": {
        "id": "LJcTOeKHESvJ",
        "colab_type": "code",
        "colab": {}
      },
      "source": [
        "n=10\n",
        "error=[]\n",
        "Proba_error_prueba=100000\n",
        "error_actual=1000000\n",
        "Proba_error_prueba_tan=100000\n",
        "modeloPrueba = MLPClassifier(activation = 'relu',hidden_layer_sizes=(n,), max_iter=1, batch_size=1000, \n",
        "                             solver='adam', tol=0.001, warm_start =True,momentum=0.5, learning_rate_init=0.0001,\n",
        "                             learning_rate = 'adaptive', nesterovs_momentum=True, power_t=0.5)\n",
        "for i in range(0,100):\n",
        "    print(i)\n",
        "    modeloPrueba.fit(x_train[y_train!=0],y_train[y_train!=0])\n",
        "    error_actual = 1-modeloPrueba.score(x_train[y_train!=0],y_train[y_train!=0])\n",
        "    error.append(error_actual)\n",
        "    if(error_actual<Proba_error_prueba):\n",
        "        N_neuronas=n\n",
        "        fcn_activacion=\"tanh\"\n",
        "        modelo = modeloPrueba\n",
        "        Proba_error_prueba = error_actual\n",
        "    if(error_actual<Proba_error_prueba_tan):\n",
        "        N_neuronas_tan=n\n",
        "        modelo_tan = modeloPrueba\n",
        "        Proba_error_prueba_tan = error_actual\n",
        "print(\"Número de neuronas utilizadas para la mejor probabilidad de error\")\n",
        "print(\"Mejor probabilidad de acierto\")\n",
        "print(1-Proba_error_prueba_tan)"
      ],
      "execution_count": 0,
      "outputs": []
    },
    {
      "cell_type": "code",
      "metadata": {
        "id": "mRSA8NSwFP8W",
        "colab_type": "code",
        "colab": {}
      },
      "source": [
        "plt.plot(1-(np.array(error)), label = \"Entrenamiento modelo\") \n",
        "plt.xlabel('iteraciones') \n",
        "plt.ylabel('Probabilidad de acierto (%)') \n",
        "plt.title('Probabilidad de acierto contra número de iteraciones') \n",
        "plt.legend() \n",
        "plt.show()"
      ],
      "execution_count": 0,
      "outputs": []
    },
    {
      "cell_type": "markdown",
      "metadata": {
        "id": "9VxRH3Mb0TaM",
        "colab_type": "text"
      },
      "source": [
        "# Pruebas"
      ]
    },
    {
      "cell_type": "code",
      "metadata": {
        "id": "goaQsTYDEQ_S",
        "colab_type": "code",
        "outputId": "653d0f1d-f9a0-4076-e20d-60ac561bd803",
        "colab": {
          "base_uri": "https://localhost:8080/",
          "height": 313
        }
      },
      "source": [
        "frameData, fs = librosa.load(\"drive/My Drive/Proyecto Especial Italiano/MIVIA_DB4_dist/training/sounds/00001_6.wav\", sr=16000, res_type='kaiser_fast') #Audio seleccionado\n",
        "ps = librosa.feature.melspectrogram(y=frameData[0:1599], sr=fs, n_fft = 512, hop_length = int(512/4) )\n",
        "print(ps.shape)\n",
        "S_dB = librosa.power_to_db(ps, ref=np.max)\n",
        "librosa.display.specshow(S_dB, x_axis='time',\n",
        "                        y_axis='mel', sr=fs,hop_length=int(512/4),\n",
        "                          fmax=8000)\n",
        "\n"
      ],
      "execution_count": 0,
      "outputs": [
        {
          "output_type": "stream",
          "text": [
            "(128, 13)\n"
          ],
          "name": "stdout"
        },
        {
          "output_type": "execute_result",
          "data": {
            "text/plain": [
              "<matplotlib.axes._subplots.AxesSubplot at 0x7f360adf9ba8>"
            ]
          },
          "metadata": {
            "tags": []
          },
          "execution_count": 8
        },
        {
          "output_type": "display_data",
          "data": {
            "image/png": "[encoded data removed]",
            "text/plain": [
              "<Figure size 432x288 with 1 Axes>"
            ]
          },
          "metadata": {
            "tags": []
          }
        }
      ]
    },
    {
      "cell_type": "code",
      "metadata": {
        "id": "JOm0ZL2a-TYe",
        "colab_type": "code",
        "outputId": "458ba301-3129-4451-a371-7997bd952087",
        "colab": {
          "base_uri": "https://localhost:8080/",
          "height": 414
        }
      },
      "source": [
        "frameData, fs = librosa.load(\"drive/My Drive/Proyecto Especial Italiano/MIVIA_DB4_dist/training/sounds/00001_6.wav\", sr=16000, res_type='kaiser_fast') #Audio seleccionado\n",
        "ps = librosa.feature.mfcc(y=frameData[0:1600], sr=fs, n_mfcc=13, n_fft = 512, hop_length = 160,htk=True )\n",
        "ps = preprocessing.scale(ps, axis=1)\n",
        "print(fs)\n",
        "print(ps.shape)\n",
        "print (ps.mean(axis=1))\n",
        "print (ps.var(axis=1))\n",
        "\n",
        "#S_dB = librosa.power_to_db(ps, ref=np.max)\n",
        "librosa.display.specshow(ps, x_axis='time', sr=fs,hop_length=int(512/4))\n",
        "plt.colorbar()"
      ],
      "execution_count": 0,
      "outputs": [
        {
          "output_type": "stream",
          "text": [
            "16000\n",
            "(13, 11)\n",
            "[-5.23318762e-15  5.55111512e-16  2.62416351e-16  2.01858732e-17\n",
            "  2.85125459e-16 -1.19853622e-17 -1.41301112e-16  6.56040878e-17\n",
            " -1.81672859e-16  6.05576195e-17 -4.03717464e-17  9.08364293e-17\n",
            " -6.05576195e-17]\n",
            "[1. 1. 1. 1. 1. 1. 1. 1. 1. 1. 1. 1. 1.]\n"
          ],
          "name": "stdout"
        },
        {
          "output_type": "execute_result",
          "data": {
            "text/plain": [
              "<matplotlib.colorbar.Colorbar at 0x7fbc1ac972b0>"
            ]
          },
          "metadata": {
            "tags": []
          },
          "execution_count": 16
        },
        {
          "output_type": "display_data",
          "data": {
            "image/png": "[encoded data removed]",
            "text/plain": [
              "<Figure size 432x288 with 2 Axes>"
            ]
          },
          "metadata": {
            "tags": []
          }
        }
      ]
    },
    {
      "cell_type": "code",
      "metadata": {
        "id": "cyTYvB3LG3uZ",
        "colab_type": "code",
        "colab": {}
      },
      "source": [
        "# SVM\n",
        "# Ejemplo con datdabse de cancer para implementar un SVM\n",
        "from sklearn import datasets, svm, metrics, model_selection\n",
        "print('primera prueba SVM')\n",
        "\n",
        "cancer = datasets.load_breast_cancer()\n",
        "print(\"Features: \", cancer.feature_names)\n",
        "print(\"Labels: \", cancer.target_names)\n",
        "# Since our data is seperated by semicolons we need to do sep=\";\"\n",
        "\n",
        "x = cancer.data  # All of the features\n",
        "y = cancer.target  # All of the labels\n",
        "\n",
        "x_train, x_test, y_train, y_test = model_selection.train_test_split(x, y, test_size=0.2)\n",
        "\n",
        "clf = svm.SVC(kernel=\"linear\")\n",
        "clf.fit(x_train, y_train)\n",
        "\n",
        "y_pred = clf.predict(x_test)\n",
        "\n",
        "acc = metrics.accuracy_score(y_test, y_pred)\n",
        "\n",
        "print(acc)"
      ],
      "execution_count": 0,
      "outputs": []
    },
    {
      "cell_type": "code",
      "metadata": {
        "id": "pTcYiAOpzN8v",
        "colab_type": "code",
        "colab": {}
      },
      "source": [
        "\n",
        "# ignore warnings \n",
        "if not sys.warnoptions:\n",
        "    warnings.simplefilter(\"ignore\")\n",
        "warnings.filterwarnings(\"ignore\", category=DeprecationWarning)\n",
        "\n",
        "print('Necesito aprender a cargar datos a esta pagina !!')\n",
        "\n",
        "# Formas de extraer features\n",
        "###################### Entendiendo MFCC ##################\n",
        "# necesito agregar un path valido\n",
        "\n",
        "#mfcc = librosa.feature.mfcc(y=X, sr=sample_rate, n_mfcc=13)\n",
        "# Plots para entender lo que esta pasando\n",
        "# audio wave\n",
        "#plt.figure(figsize=(20, 15))\n",
        "#plt.subplot(3,1,1)\n",
        "#librosa.display.waveplot(X, sr=sample_rate)\n",
        "#plt.title('Audio sampled at 44100 hrz')\n",
        "\n",
        "# MFCC\n",
        "#plt.figure(figsize=(20, 15))\n",
        "#plt.subplot(3,1,1)\n",
        "#librosa.display.specshow(mfcc, x_axis='time')\n",
        "#plt.ylabel('MFCC')\n",
        "#plt.colorbar()\n",
        "\n",
        "#################### comparar 2 audios usando el MFCC ####################\n",
        "\n",
        "# Source - RAVDESS; Gender - Female; Emotion - Angry \n",
        "#path = \"/kaggle/input/ravdess-emotional-speech-audio/audio_speech_actors_01-24/Actor_08/03-01-05-02-01-01-08.wav\"\n",
        "#X, sample_rate = librosa.load(path, res_type='kaiser_fast',duration=2.5,sr=22050*2,offset=0.5)  \n",
        "#female = librosa.feature.mfcc(y=X, sr=sample_rate, n_mfcc=13)\n",
        "#female = np.mean(librosa.feature.mfcc(y=X, sr=sample_rate, n_mfcc=13), axis=0)\n",
        "#print(len(female))\n",
        "\n",
        "# Source - RAVDESS; Gender - Male; Emotion - Angry \n",
        "#path = \"/kaggle/input/ravdess-emotional-speech-audio/audio_speech_actors_01-24/Actor_09/03-01-05-01-01-01-09.wav\"\n",
        "#X, sample_rate = librosa.load(path, res_type='kaiser_fast',duration=2.5,sr=22050*2,offset=0.5)  \n",
        "#male = librosa.feature.mfcc(y=X, sr=sample_rate, n_mfcc=13)\n",
        "#male = np.mean(librosa.feature.mfcc(y=X, sr=sample_rate, n_mfcc=13), axis=0)\n",
        "#print(len(male))\n",
        "\n",
        "# audio wave\n",
        "#plt.figure(figsize=(20, 15))\n",
        "#plt.subplot(3,1,1)\n",
        "#plt.plot(female, label='female')\n",
        "#plt.plot(male, label='male')\n",
        "#plt.legend()\n",
        "\n",
        "#path = \"/kaggle/input/ravdess-emotional-speech-audio/audio_speech_actors_01-24/Actor_08/03-01-05-02-01-01-08.wav\"\n",
        "\n",
        "#Later on, during the accuracy improvement phase, we may expand our feature set to include Mel-Spectogram, Chroma, HPSS and etc... and not just a simple mean\n"
      ],
      "execution_count": 0,
      "outputs": []
    },
    {
      "cell_type": "code",
      "metadata": {
        "id": "j5cs_XJvkxET",
        "colab_type": "code",
        "colab": {}
      },
      "source": [
        "def features(X, sample_rate):\n",
        "    features_ = np.zeros((1,312))\n",
        "    with progressbar.ProgressBar(max_value=len(X[:,1])) as bar:\n",
        "      for j in range(0,len(X[:,1])):\n",
        "      # Se obtiene el Short time Fourier Transform\n",
        "      \n",
        "        stft = np.abs(librosa.stft(np.reshape(X[j,:], (1024), 'F')))\n",
        "\n",
        "        # fmin, se obtiene el tono\n",
        "        pitches, magnitudes = librosa.piptrack(np.reshape(X[j,:], (1024), 'F'), sr=sample_rate, S=stft, fmin=70, fmax=400)\n",
        "        pitch = []\n",
        "        for i in range(magnitudes.shape[1]):\n",
        "            index = magnitudes[:, 1].argmax()\n",
        "            pitch.append(pitches[index, i])\n",
        "\n",
        "        pitch_tuning_offset = librosa.pitch_tuning(pitches)\n",
        "        pitchmean = np.mean(pitch)\n",
        "        pitchstd = np.std(pitch)\n",
        "        pitchmax = np.max(pitch)\n",
        "        pitchmin = np.min(pitch)\n",
        "\n",
        "        # Se obtiene el centro de masa del espectro\n",
        "        cent = librosa.feature.spectral_centroid(y=np.reshape(X[j,:], (1024), 'F'), sr=sample_rate)\n",
        "        cent = cent / np.sum(cent)\n",
        "        meancent = np.mean(cent)\n",
        "        stdcent = np.std(cent)\n",
        "        maxcent = np.max(cent)\n",
        "\n",
        "        # Cuantifica que tan ruidoso o tonal es el sonido\n",
        "        flatness = np.mean(librosa.feature.spectral_flatness(y=np.reshape(X[j,:], (1024), 'F')))\n",
        "\n",
        "        # Mel Frequency Cepstral Coefficient. For automatic speech and speaker recognition\n",
        "        #Buen link para entender que es esto\n",
        "        #http://practicalcryptography.com/miscellaneous/machine-learning/guide-mel-frequency-cepstral-coefficients-mfccs/#computing-the-mel-filterbank\n",
        "        mfccs = np.mean(librosa.feature.mfcc(y=np.reshape(X[j,:], (1024), 'F'), sr=sample_rate, n_mfcc=50).T, axis=0)\n",
        "        mfccsstd = np.std(librosa.feature.mfcc(y=np.reshape(X[j,:], (1024), 'F'), sr=sample_rate, n_mfcc=50).T, axis=0)\n",
        "        mfccmax = np.max(librosa.feature.mfcc(y=np.reshape(X[j,:], (1024), 'F'), sr=sample_rate, n_mfcc=50).T, axis=0)\n",
        "\n",
        "        #\n",
        "        chroma = np.mean(librosa.feature.chroma_stft(S=stft, sr=sample_rate).T, axis=0)\n",
        "\n",
        "        #\n",
        "        mel = np.mean(librosa.feature.melspectrogram(np.reshape(X[j,:], (1024), 'F'), sr=sample_rate).T, axis=0)\n",
        "\n",
        "        # \n",
        "        contrast = np.mean(librosa.feature.spectral_contrast(S=stft, sr=sample_rate).T, axis=0)\n",
        "\n",
        "        # \n",
        "        zerocr = np.mean(librosa.feature.zero_crossing_rate(np.reshape(X[j,:], (1024), 'F')))\n",
        "        \n",
        "        S, phase = librosa.magphase(stft)\n",
        "        meanMagnitude = np.mean(S)\n",
        "        stdMagnitude = np.std(S)\n",
        "        maxMagnitude = np.max(S)\n",
        "\n",
        "        # \n",
        "        rmse = librosa.feature.rmse(S=S)[0]\n",
        "        meanrms = np.mean(rmse)\n",
        "        stdrms = np.std(rmse)\n",
        "        maxrms = np.max(rmse)\n",
        "\n",
        "        ext_features = np.array([\n",
        "            flatness, zerocr, meanMagnitude, maxMagnitude, meancent, stdcent,\n",
        "            maxcent, stdMagnitude, pitchmean, pitchmax, pitchstd,\n",
        "            pitch_tuning_offset, meanrms, maxrms, stdrms\n",
        "        ])\n",
        "\n",
        "        ext_features = np.concatenate((ext_features, mfccs, mfccsstd, mfccmax, chroma, mel, contrast))\n",
        "        ext_features = np.reshape(ext_features, (1, 312), 'F')\n",
        "        features_ = np.r_[ext_features,features_]\n",
        "        bar.update(j)\n",
        "    features_ = features_[0:-1,:]\n",
        "    return features_"
      ],
      "execution_count": 0,
      "outputs": []
    },
    {
      "cell_type": "code",
      "metadata": {
        "id": "JJR88Apkkx2X",
        "colab_type": "code",
        "colab": {}
      },
      "source": [
        ""
      ],
      "execution_count": 0,
      "outputs": []
    }
  ]
}