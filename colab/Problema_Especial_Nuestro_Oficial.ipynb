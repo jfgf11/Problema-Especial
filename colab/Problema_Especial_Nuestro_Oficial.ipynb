{
  "nbformat": 4,
  "nbformat_minor": 0,
  "metadata": {
    "colab": {
      "name": "Problema Especial Nuestro Oficial.ipynb",
      "provenance": [],
      "collapsed_sections": [],
      "toc_visible": true,
      "machine_shape": "hm",
      "include_colab_link": true
    },
    "kernelspec": {
      "name": "python3",
      "display_name": "Python 3"
    },
    "accelerator": "GPU"
  },
  "cells": [
    {
      "cell_type": "markdown",
      "metadata": {
        "id": "view-in-github",
        "colab_type": "text"
      },
      "source": [
        "<a href=\"https://colab.research.google.com/github/jfgf11/Problema-Especial/blob/master/Problema_Especial_Nuestro_Oficial.ipynb\" target=\"_parent\"><img src=\"https://colab.research.google.com/assets/colab-badge.svg\" alt=\"Open In Colab\"/></a>"
      ]
    },
    {
      "cell_type": "markdown",
      "metadata": {
        "id": "2Zzjdc17xBWh",
        "colab_type": "text"
      },
      "source": [
        "# Drive"
      ]
    },
    {
      "cell_type": "code",
      "metadata": {
        "id": "mtf-HdYxvLE9",
        "colab_type": "code",
        "outputId": "785e4b08-14bc-43f5-d875-0e46893b1fa3",
        "colab": {
          "base_uri": "https://localhost:8080/",
          "height": 131
        }
      },
      "source": [
        "#Se monta el Drive para importar y guardar los datos y modelos.\n",
        "from google.colab import drive\n",
        "drive.mount('/content/drive')#,force_remount = True)"
      ],
      "execution_count": 0,
      "outputs": [
        {
          "output_type": "stream",
          "text": [
            "Go to this URL in a browser: https://accounts.google.com/o/oauth2/auth?client_id=947318989803-6bn6qk8qdgf4n4g3pfee6491hc0brc4i.apps.googleusercontent.com&redirect_uri=urn%3aietf%3awg%3aoauth%3a2.0%3aoob&response_type=code&scope=email%20https%3a%2f%2fwww.googleapis.com%2fauth%2fdocs.test%20https%3a%2f%2fwww.googleapis.com%2fauth%2fdrive%20https%3a%2f%2fwww.googleapis.com%2fauth%2fdrive.photos.readonly%20https%3a%2f%2fwww.googleapis.com%2fauth%2fpeopleapi.readonly\n",
            "\n",
            "Enter your authorization code:\n",
            "··········\n",
            "Mounted at /content/drive\n"
          ],
          "name": "stdout"
        }
      ]
    },
    {
      "cell_type": "code",
      "metadata": {
        "id": "gKEEuc5e9DuD",
        "colab_type": "code",
        "outputId": "f3e4254b-5581-4d38-f47b-1a78edf3c389",
        "colab": {
          "base_uri": "https://localhost:8080/",
          "height": 298
        }
      },
      "source": [
        "# Se instalan las librerias necesarias\n",
        "!pip install librosa\n",
        "!pip install progressbar2"
      ],
      "execution_count": 0,
      "outputs": [
        {
          "output_type": "stream",
          "text": [
            "Requirement already satisfied: librosa in /usr/local/lib/python3.6/dist-packages (0.6.3)\n",
            "Requirement already satisfied: numpy>=1.8.0 in /usr/local/lib/python3.6/dist-packages (from librosa) (1.18.2)\n",
            "Requirement already satisfied: six>=1.3 in /usr/local/lib/python3.6/dist-packages (from librosa) (1.12.0)\n",
            "Requirement already satisfied: resampy>=0.2.0 in /usr/local/lib/python3.6/dist-packages (from librosa) (0.2.2)\n",
            "Requirement already satisfied: scikit-learn!=0.19.0,>=0.14.0 in /usr/local/lib/python3.6/dist-packages (from librosa) (0.22.2.post1)\n",
            "Requirement already satisfied: joblib>=0.12 in /usr/local/lib/python3.6/dist-packages (from librosa) (0.14.1)\n",
            "Requirement already satisfied: decorator>=3.0.0 in /usr/local/lib/python3.6/dist-packages (from librosa) (4.4.2)\n",
            "Requirement already satisfied: audioread>=2.0.0 in /usr/local/lib/python3.6/dist-packages (from librosa) (2.1.8)\n",
            "Requirement already satisfied: numba>=0.38.0 in /usr/local/lib/python3.6/dist-packages (from librosa) (0.48.0)\n",
            "Requirement already satisfied: scipy>=1.0.0 in /usr/local/lib/python3.6/dist-packages (from librosa) (1.4.1)\n",
            "Requirement already satisfied: setuptools in /usr/local/lib/python3.6/dist-packages (from numba>=0.38.0->librosa) (46.1.3)\n",
            "Requirement already satisfied: llvmlite<0.32.0,>=0.31.0dev0 in /usr/local/lib/python3.6/dist-packages (from numba>=0.38.0->librosa) (0.31.0)\n",
            "Requirement already satisfied: progressbar2 in /usr/local/lib/python3.6/dist-packages (3.38.0)\n",
            "Requirement already satisfied: python-utils>=2.3.0 in /usr/local/lib/python3.6/dist-packages (from progressbar2) (2.4.0)\n",
            "Requirement already satisfied: six in /usr/local/lib/python3.6/dist-packages (from progressbar2) (1.12.0)\n"
          ],
          "name": "stdout"
        }
      ]
    },
    {
      "cell_type": "markdown",
      "metadata": {
        "id": "cqWuMaqiELzW",
        "colab_type": "text"
      },
      "source": [
        "# Importar"
      ]
    },
    {
      "cell_type": "code",
      "metadata": {
        "id": "rV__vdiK4GUH",
        "colab_type": "code",
        "outputId": "db435f09-27bc-42de-a733-d79f05998d45",
        "colab": {
          "base_uri": "https://localhost:8080/",
          "height": 205
        }
      },
      "source": [
        "# Tensor Flow\n",
        "import tensorflow.compat.v1 as tf\n",
        "# Tensor Flow\n",
        "from tensorflow.keras import Sequential\n",
        "from tensorflow.keras.layers import Dense\n",
        "from tensorflow.keras.layers import Dropout\n",
        "from tensorflow.keras.layers import Conv2D\n",
        "from tensorflow.keras.layers import MaxPooling2D\n",
        "from tensorflow.keras.layers import Flatten\n",
        "from tensorflow.keras.layers import Input\n",
        "from tensorflow.keras import optimizers\n",
        "from tensorflow.keras.models import model_from_json\n",
        "from tensorflow.keras.utils import model_to_dot\n",
        "from tensorflow.keras.models import Model\n",
        "from tensorflow.keras.utils import plot_model\n",
        "from tensorflow.keras.layers import BatchNormalization\n",
        "\n",
        "from IPython.display import SVG\n",
        "\n",
        "# Recopilacion de datos\n",
        "import xml.dom.minidom\n",
        "import numpy as np\n",
        "\n",
        "# Para el preprocesamiento\n",
        "from sklearn.model_selection import train_test_split\n",
        "from imblearn.over_sampling import RandomOverSampler\n",
        "from imblearn.under_sampling import RandomUnderSampler\n",
        "from collections import Counter\n",
        "\n",
        "import librosa\n",
        "import progressbar\n",
        "\n",
        "# Import libraries \n",
        "from matplotlib.pyplot import specgram\n",
        "from sklearn.metrics import confusion_matrix\n",
        "from scipy import signal\n",
        "from scipy.fft import fftshift\n",
        "\n",
        "#Redes neuronales sklearn\n",
        "\n",
        "import matplotlib.pyplot as plt\n",
        "import seaborn as sns\n",
        "from scipy import stats\n",
        "\n",
        "from sklearn.utils.class_weight import compute_class_weight\n",
        "\n",
        "tf.disable_v2_behavior()"
      ],
      "execution_count": 0,
      "outputs": [
        {
          "output_type": "stream",
          "text": [
            "/usr/local/lib/python3.6/dist-packages/sklearn/externals/six.py:31: FutureWarning: The module is deprecated in version 0.21 and will be removed in version 0.23 since we've dropped support for Python 2.7. Please rely on the official version of six (https://pypi.org/project/six/).\n",
            "  \"(https://pypi.org/project/six/).\", FutureWarning)\n",
            "/usr/local/lib/python3.6/dist-packages/sklearn/utils/deprecation.py:144: FutureWarning: The sklearn.neighbors.base module is  deprecated in version 0.22 and will be removed in version 0.24. The corresponding classes / functions should instead be imported from sklearn.neighbors. Anything that cannot be imported from sklearn.neighbors is now part of the private API.\n",
            "  warnings.warn(message, FutureWarning)\n"
          ],
          "name": "stderr"
        },
        {
          "output_type": "stream",
          "text": [
            "WARNING:tensorflow:From /usr/local/lib/python3.6/dist-packages/tensorflow/python/compat/v2_compat.py:96: disable_resource_variables (from tensorflow.python.ops.variable_scope) is deprecated and will be removed in a future version.\n",
            "Instructions for updating:\n",
            "non-resource variables are not supported in the long term\n"
          ],
          "name": "stdout"
        },
        {
          "output_type": "stream",
          "text": [
            "/usr/local/lib/python3.6/dist-packages/statsmodels/tools/_testing.py:19: FutureWarning: pandas.util.testing is deprecated. Use the functions in the public API at pandas.testing instead.\n",
            "  import pandas.util.testing as tm\n"
          ],
          "name": "stderr"
        }
      ]
    },
    {
      "cell_type": "markdown",
      "metadata": {
        "id": "VhIXgu2x18kP",
        "colab_type": "text"
      },
      "source": [
        "# Funciones"
      ]
    },
    {
      "cell_type": "markdown",
      "metadata": {
        "id": "YGdTsl_nLMDG",
        "colab_type": "text"
      },
      "source": [
        "### Ruta en la que se guardan los archivos\n",
        "\n",
        "Siempre se debe ejecutar la siguiente celda de código"
      ]
    },
    {
      "cell_type": "code",
      "metadata": {
        "id": "PafxH9HrLOdF",
        "colab_type": "code",
        "colab": {}
      },
      "source": [
        "def dar_ruta(carpeta, str_variable, Inicial_pNXML, Final_pNXML,\n",
        "             ventana_Tiempo_string,\n",
        "             sample_rate, Sin_Background, Solo_Background, Espectogram_, MFCC_,acoplados):\n",
        "\n",
        "    sample_rate_String = str(sample_rate)\n",
        "    if str_variable=='y_':\n",
        "        MFCC_,Espectogram_=False,False\n",
        "    if Sin_Background:\n",
        "        Back = \"_SIN_BACK\"\n",
        "    elif Solo_Background:\n",
        "        Back = \"_SOLO_BACK\"\n",
        "    else:\n",
        "        Back = \"\"\n",
        "    if Espectogram_:\n",
        "        Esp_o_Mfcc = \"_spectrogram\"\n",
        "    elif MFCC_:\n",
        "        Esp_o_Mfcc = \"_MFCC\"\n",
        "    else:\n",
        "        Esp_o_Mfcc = \"\"\n",
        "\n",
        "    \n",
        "    if acoplados:\n",
        "        ruta = carpeta + 'Acoplados/'+str_variable \\\n",
        "           + str(Inicial_pNXML) + \"-\" + str(Final_pNXML) + \"_Audios_\"\\\n",
        "           + ventana_Tiempo_string + \"ms_\" + sample_rate_String + Back + Esp_o_Mfcc\n",
        "    else:\n",
        "        ruta = carpeta + str_variable \\\n",
        "           + str(Inicial_pNXML) + \"-\" + str(Final_pNXML) + \"_Audios_\" \\\n",
        "           + ventana_Tiempo_string + \"ms_\" + sample_rate_String + Back + Esp_o_Mfcc\n",
        "\n",
        "    return ruta"
      ],
      "execution_count": 0,
      "outputs": []
    },
    {
      "cell_type": "markdown",
      "metadata": {
        "id": "ySWZxsAsDvpV",
        "colab_type": "text"
      },
      "source": [
        "### Resultados"
      ]
    },
    {
      "cell_type": "code",
      "metadata": {
        "id": "1HF9cm7zJN8R",
        "colab_type": "code",
        "colab": {}
      },
      "source": [
        "# De los creadores de EntrenamientoModelo*\n",
        "def graficarMatrizConfusion(y_true, y_pred):\n",
        "  cm = confusion_matrix(y_true, y_pred)\n",
        "  cm = cm.astype('float') / cm.sum(axis=1)[:, np.newaxis]  \n",
        "\n",
        "  plt.figure(figsize=(8,8))\n",
        "\n",
        "  ax = sns.heatmap(cm, annot = True, cbar = False);\n",
        "      \n",
        "  ax.xaxis.tick_top()\n",
        "  ax.xaxis.set_label_position('top')\n",
        "      \n",
        "  plt.xlabel(\"Clase Prediccion\")\n",
        "  plt.ylabel(\"Clase Verdadera\")\n",
        "  plt.title(\"Matriz de Confusion\")\n",
        "\n",
        "  plt.show()\n",
        "  "
      ],
      "execution_count": 0,
      "outputs": []
    },
    {
      "cell_type": "markdown",
      "metadata": {
        "id": "bZzT8SSv8nzk",
        "colab_type": "text"
      },
      "source": [
        "### Cargar y guardar modelos"
      ]
    },
    {
      "cell_type": "code",
      "metadata": {
        "id": "YK5RLFzj4hu9",
        "colab_type": "code",
        "colab": {}
      },
      "source": [
        "# De los creadores de EntrenamientoModelo*\n",
        "#Estas funciones permiten guardar y cargar un modelo, a partir de las rutas indicadas por parametro.\n",
        "def guardarModelo(pModelo, pRutaModelo, pRutaPesos, pRutaDiagrama):\n",
        "  modelo_json = pModelo.to_json()\n",
        "\n",
        "  with open(pRutaModelo, \"w\") as archivo_json:\n",
        "      archivo_json.write(modelo_json)\n",
        "\n",
        "  pModelo.save_weights(pRutaPesos)\n",
        "\n",
        "  plot_model(pModelo, to_file = pRutaDiagrama, show_shapes = True)\n",
        "\n",
        "def cargarModelo(pRutaModelo, pRutaPesos):\n",
        "  archivo_json = open(pRutaModelo, 'r')\n",
        "  modelo_json = archivo_json.read()\n",
        "  archivo_json.close()\n",
        "  modelo = model_from_json(modelo_json)\n",
        "\n",
        "  modelo.load_weights(pRutaPesos)\n",
        "\n",
        "  return modelo"
      ],
      "execution_count": 0,
      "outputs": []
    },
    {
      "cell_type": "markdown",
      "metadata": {
        "id": "rJf6aq0g378c",
        "colab_type": "text"
      },
      "source": [
        "######Guardar modelo"
      ]
    },
    {
      "cell_type": "code",
      "metadata": {
        "id": "21Qz9FD_kWFx",
        "colab_type": "code",
        "colab": {}
      },
      "source": [
        "Nombre = \"\"\n",
        "Numero = \"100\"\n",
        "rutaModelo = \"drive/My Drive/Proyecto Especial/Modelos/Modelo_\"+Nombre+\"_\"+Numero+\".json\"\n",
        "rutaPesos = \"drive/My Drive/Proyecto Especial/Modelos/Pesos_Modelo_\"+Nombre+\"_\"+Numero+\".h5\"\n",
        "rutaDiagrama = \"drive/My Drive/Proyecto Especial/Modelos/Diagrama_Modelo_\"+Nombre+\"_\"+Numero+\".png\"\n",
        "\n",
        "guardarModelo(modelo2, rutaModelo, rutaPesos, rutaDiagrama)\n"
      ],
      "execution_count": 0,
      "outputs": []
    },
    {
      "cell_type": "markdown",
      "metadata": {
        "id": "_Saj0QSA3_eL",
        "colab_type": "text"
      },
      "source": [
        "######Cargar Modelo"
      ]
    },
    {
      "cell_type": "code",
      "metadata": {
        "id": "yYU5l-IiFdrH",
        "colab_type": "code",
        "outputId": "c476f38e-fa62-4440-dea3-0d4edaf2ba20",
        "colab": {
          "base_uri": "https://localhost:8080/",
          "height": 188
        }
      },
      "source": [
        "Nombre = \"\"\n",
        "Numero = \"100\"\n",
        "rutaModelo = \"drive/My Drive/Proyecto Especial/Modelos/Modelo_\"+Nombre+\"_\"+Numero+\"_Spetopgram.json\"\n",
        "rutaPesos =  \"drive/My Drive/Proyecto Especial/Modelos/Pesos_Modelo_\"+Nombre+\"_\"+Numero+\"_Spetopgram.h5\"\n",
        "modelo2 = cargarModelo(pRutaModelo=rutaModelo, pRutaPesos=rutaPesos)"
      ],
      "execution_count": 0,
      "outputs": [
        {
          "output_type": "stream",
          "text": [
            "WARNING:tensorflow:From /usr/local/lib/python3.6/dist-packages/tensorflow/python/ops/init_ops.py:97: calling GlorotUniform.__init__ (from tensorflow.python.ops.init_ops) with dtype is deprecated and will be removed in a future version.\n",
            "Instructions for updating:\n",
            "Call initializer instance with the dtype argument instead of passing it to the constructor\n",
            "WARNING:tensorflow:From /usr/local/lib/python3.6/dist-packages/tensorflow/python/ops/init_ops.py:97: calling Zeros.__init__ (from tensorflow.python.ops.init_ops) with dtype is deprecated and will be removed in a future version.\n",
            "Instructions for updating:\n",
            "Call initializer instance with the dtype argument instead of passing it to the constructor\n",
            "WARNING:tensorflow:From /usr/local/lib/python3.6/dist-packages/tensorflow/python/ops/resource_variable_ops.py:1666: calling BaseResourceVariable.__init__ (from tensorflow.python.ops.resource_variable_ops) with constraint is deprecated and will be removed in a future version.\n",
            "Instructions for updating:\n",
            "If using Keras pass *_constraint arguments to layers.\n"
          ],
          "name": "stdout"
        }
      ]
    },
    {
      "cell_type": "markdown",
      "metadata": {
        "id": "aC7AhRawKodD",
        "colab_type": "text"
      },
      "source": [
        "### Filtrado de Datos"
      ]
    },
    {
      "cell_type": "code",
      "metadata": {
        "id": "OWNTiJ8PK0MK",
        "colab_type": "code",
        "colab": {}
      },
      "source": [
        "#Se definenen los parametros, las frecuencias se dan en Hz\n",
        "def Filtrar(Audio,F_s,F_cut):\n",
        "    sos=signal.butter(9, 2*np.pi*F_cut, 'lowpass', fs=2*np.pi*F_s, output='sos')\n",
        "    filtered = signal.sosfilt(sos, Audio)\n",
        "    return(filtered)"
      ],
      "execution_count": 0,
      "outputs": []
    },
    {
      "cell_type": "markdown",
      "metadata": {
        "id": "NLQEssmxVerC",
        "colab_type": "text"
      },
      "source": [
        "# Recopilación de Datos"
      ]
    },
    {
      "cell_type": "markdown",
      "metadata": {
        "id": "6aw57j4IUqtd",
        "colab_type": "text"
      },
      "source": [
        "###Obtener sonidos"
      ]
    },
    {
      "cell_type": "code",
      "metadata": {
        "id": "KwMARXzLvh-F",
        "colab_type": "code",
        "colab": {}
      },
      "source": [
        "def ObtenerSonidos(Inicial_pNXML,   Final_pNXML, ventana_Tiempo=0.1,         salto_de_ventana=4,        Sin_Background = False,\n",
        "                  rutaDatosXML=\"drive/My Drive/Proyecto Especial/xml\",\n",
        "                  rutaDatosSounds = \"drive/My Drive/Proyecto Especial/Data/audios\", Solo_Background = False,\n",
        "                  sample_rate = 32000, MFCC = False, window_length_stft= 0.032, Step_size_stft=0.01, Espectogram = False , Frecuencia_Corte=4000):\n",
        "\n",
        "\n",
        "\n",
        "  NMV = round(ventana_Tiempo*sample_rate) # Numero de muestras por ventana\n",
        "  NMV_advance = round(NMV/salto_de_ventana) # Numero de muestras por las cuales se avanza\n",
        "\n",
        "  # 190 representa que cada audio dura aproximadamente 3 minutos y 10 segundos\n",
        "  datos_x_totales=np.zeros((int(((190/ventana_Tiempo)*salto_de_ventana)*(Final_pNXML-Inicial_pNXML+1)),NMV))\n",
        "  datos_y_totales=np.zeros(int(((190/ventana_Tiempo)*salto_de_ventana)*(Final_pNXML-Inicial_pNXML+1)))\n",
        "  contador=0\n",
        "\n",
        "  with progressbar.ProgressBar(max_value=(Final_pNXML-Inicial_pNXML+1)) as bar:\n",
        "    longitud_actual = 0\n",
        "    for i in range(Inicial_pNXML,(Final_pNXML+1)):\n",
        "        \n",
        "        if i<10:  h=\"0\" # Se hace esto debido que en los audios hay elementos 00001_01 y 00010_1\n",
        "        else: h=\"\"\n",
        "\n",
        "        doc = xml.dom.minidom.parse(rutaDatosXML + \"/00\" + h + str(i) + \".xml\")\n",
        "        start = doc.getElementsByTagName(\"STARTSECOND\") #Vector que contiene el tiempo en segundos de inicio de todos los eventos \n",
        "        finish = doc.getElementsByTagName(\"ENDSECOND\") #Vector que contiene el tiempo en segundos de finalizacion de todos los eventos\n",
        "        ID = doc.getElementsByTagName(\"CLASS_ID\") # Vector que contiene la etiqueta de cada uno de los eventos\n",
        "        events = doc.getElementsByTagName(\"events\") # Indica informacion de todos los eventos en un archivo xml (tamaño)\n",
        "        a, b, c, d=(events[0].attributes[\"size\"].value) #Se obtiene el numero de eventos en un audio\n",
        "        nEventos = int(c+d) # numero de eventos en un audio\n",
        "\n",
        "\n",
        "        frameData, fs = librosa.load(rutaDatosSounds + '/00'+ h + str(i) +'.wav', sr=sample_rate, res_type='kaiser_fast') #Audio seleccionado\n",
        "        datos_x = (librosa.util.frame(frameData, frame_length=NMV, hop_length=NMV_advance)).T # Reorganiza los datos dándole saltos de tiempo de NMV_advance y el número de muestras por ventana NMV\n",
        "        datos_y = np.zeros(len(frameData)) #Etiquetas de cada uno de los datos, los datos no asignados serán 0 y corresponderan a sonido ambiente\n",
        "\n",
        "        for j in range(0,nEventos): # Se recorre el numero de eventos para cada xml\n",
        "          startFrame = float(str(start[j].firstChild.data))*fs #Posicion inicial de evento con respecto a frameData\n",
        "          endFrame = float(str(finish[j].firstChild.data))*fs #Posicion final de evento con respecto a frameData\n",
        "          label = ID[j].firstChild.data #etiqueta del evento\n",
        "\n",
        "          datos_y[round(startFrame):round(endFrame)]=int(label) # Se asigna la etiqueta a cada uno de los datos recopilados\n",
        "\n",
        "        datos_y = (((stats.mode(librosa.util.frame(datos_y, frame_length=NMV, hop_length=NMV_advance)))[0]).T)# Con esto se asigna la etiqueta a datos desplazados en el tiempo\n",
        "        datos_y = np.reshape(datos_y, (-1), 'F')\n",
        "        if Sin_Background: # Si se quieren datos sin background\n",
        "          datos_x = datos_x[datos_y!=0,:]\n",
        "          datos_y =  datos_y[datos_y!=0]\n",
        "          \n",
        "        if Solo_Background:\n",
        "          datos_x = (datos_x[datos_y==0,:])[0:round(len(datos_y[datos_y==0])),:]\n",
        "          datos_y =  (datos_y[datos_y==0])[0:round(len(datos_y[datos_y==0]))]\n",
        "\n",
        "        longitud_siguiente = longitud_actual + len(datos_y)\n",
        "        datos_y_totales[longitud_actual:longitud_siguiente] = datos_y\n",
        "        datos_x_totales[longitud_actual:longitud_siguiente,:] = datos_x\n",
        "        longitud_actual = longitud_siguiente\n",
        "          \n",
        "\n",
        "        contador+=1\n",
        "        bar.update(contador) #Se actualiza la barra de progreso\n",
        "          \n",
        "    datos_x_totales = datos_x_totales[0:longitud_siguiente,:]\n",
        "    datos_y_totales = datos_y_totales[0:longitud_siguiente]\n",
        "\n",
        "    dato_x2_totales = None\n",
        "    if MFCC or Espectogram: # Se crea el Spectogram para cada dato\n",
        "      dato_x2_totales = Crear_Datos_MFCC_o_Espectogram(datos_x_totales ,fs, window_length_stft, Step_size_stft,MFCC, Espectogram, ventana_Tiempo)\n",
        "    datos_x_totales = []\n",
        "    \n",
        "  return dato_x2_totales ,datos_y_totales"
      ],
      "execution_count": 0,
      "outputs": []
    },
    {
      "cell_type": "markdown",
      "metadata": {
        "id": "gITetZEsAM8B",
        "colab_type": "text"
      },
      "source": [
        "###Datos Espectograma"
      ]
    },
    {
      "cell_type": "code",
      "metadata": {
        "id": "mo3wD4ALNroy",
        "colab_type": "code",
        "colab": {}
      },
      "source": [
        "def Crear_Datos_MFCC_o_Espectogram(pX,sr_, window_length_stft, Step_size_stft,MFCC, Espectogram,ventana_Tiempo):\n",
        "  contador=0\n",
        "  with progressbar.ProgressBar(max_value=(len(pX))) as bar:\n",
        "    if Espectogram:\n",
        "      if ventana_Tiempo>=0.05 and window_length_stft>=0.025: ps = librosa.feature.melspectrogram(y=pX[0],  sr=sr_, n_fft = int(window_length_stft*sr_), hop_length = int(Step_size_stft*sr_))\n",
        "      else: ps = librosa.feature.melspectrogram(y=pX[0],  sr=sr_)\n",
        "    elif MFCC:\n",
        "      if ventana_Tiempo>=0.05 and window_length_stft>=0.03125: ps = librosa.feature.mfcc(y=pX[0], sr=sr_, n_mfcc=13, n_fft = int(window_length_stft*sr_), hop_length = int(Step_size_stft*sr_), htk=True )\n",
        "      else: ps = librosa.feature.mfcc(y=pX[0], sr=sr_, n_mfcc=13)\n",
        "\n",
        "    x_2 = np.zeros((len(pX)+1,len(ps),len(ps[0])))\n",
        "    for i in range(0,len(pX)):\n",
        "      if Espectogram:\n",
        "        if ventana_Tiempo>=0.05 and window_length_stft>=0.025: ps = librosa.feature.melspectrogram(y=pX[i],  sr=sr_, n_fft = int(window_length_stft*sr_), hop_length = int(Step_size_stft*sr_))\n",
        "        else: ps = librosa.feature.melspectrogram(y=pX[i],  sr=sr_)\n",
        "        ps = librosa.power_to_db(ps, ref=np.max)\n",
        "      elif MFCC:\n",
        "        if ventana_Tiempo>=0.05 and window_length_stft>=0.03152: ps = librosa.feature.mfcc(y=pX[i], sr=sr_, n_mfcc=13, n_fft = int(window_length_stft*sr_), hop_length = int(Step_size_stft*sr_), htk=True )\n",
        "        else: ps = librosa.feature.mfcc(y=pX[i], sr=sr_, n_mfcc=13)\n",
        "      x_2[i] = ps\n",
        "      contador+=1\n",
        "      bar.update(contador) #Se actualiza la barra de progreso\n",
        "  x_2 = x_2[0:-1,:]\n",
        "  return x_2"
      ],
      "execution_count": 0,
      "outputs": []
    },
    {
      "cell_type": "markdown",
      "metadata": {
        "id": "UGTD_0DpUJjR",
        "colab_type": "text"
      },
      "source": [
        "###Funciones para unir datos"
      ]
    },
    {
      "cell_type": "code",
      "metadata": {
        "id": "_MQ6LyfLRq1V",
        "colab_type": "code",
        "colab": {}
      },
      "source": [
        "def join(variable,lista,ruta_resultados,Inicial_pNXML,Final_pNXML,\n",
        "         ventana_Tiempo_str,sample_rate,Sin_Background,Solo_Background,MFCC,Espectogram):\n",
        "\n",
        "    acoplados_ =True\n",
        "    if variable=='y_':\n",
        "\n",
        "        print('guardando y')\n",
        "        y_def = None\n",
        "        anterior=0\n",
        "        for i in range(len(lista)):\n",
        "            y = np.load(lista[i])\n",
        "            print('cargo archivo '+str(i), y.shape)\n",
        "\n",
        "            if i==0:\n",
        "                y_def = np.zeros(y.size*(len(lista)+1))\n",
        "\n",
        "            y_def[anterior:anterior+y.size] = y\n",
        "            anterior+=y.size\n",
        "        ruta = dar_ruta(ruta_resultados, 'y_', Inicial_pNXML, Final_pNXML,\n",
        "            ventana_Tiempo_str, sample_rate, Sin_Background, Solo_Background,\n",
        "            Espectogram, MFCC,acoplados_)\n",
        "        y_def=y_def[0:anterior]\n",
        "        np.save(ruta, y_def)\n",
        "        print('Termino ', y_def.shape)\n",
        "        y = None\n",
        "        y_def=None\n",
        "\n",
        "    elif variable=='x2_':\n",
        "\n",
        "        print('guardando x2')\n",
        "        x2_def=None\n",
        "        anterior = 0\n",
        "        for i in range(len(lista)):\n",
        "            x2 = np.load(lista[i])\n",
        "            print('cargo archivo '+str(i), x2.shape)\n",
        "            if i==0:\n",
        "                x2_def = np.zeros([x2.shape[0]*(len(lista)+1),x2.shape[1],x2.shape[2]])\n",
        "            x2_def[anterior:anterior + x2.shape[0],:,:]=x2\n",
        "            anterior += x2.shape[0]\n",
        "        ruta = dar_ruta(ruta_resultados, 'x2_', Inicial_pNXML,\n",
        "                        ventana_Tiempo_str, sample_rate, Sin_Background, Solo_Background,\n",
        "                        Espectogram, MFCC, acoplados_)\n",
        "        x2_def = x2_def[0:anterior,:,:]\n",
        "        np.save(ruta, x2_def)\n",
        "        print(x2_def.shape)\n",
        "        x2 = None\n",
        "        x2_def = None\n",
        "\n",
        "    print('----- Guardado -----')\n"
      ],
      "execution_count": 0,
      "outputs": []
    },
    {
      "cell_type": "markdown",
      "metadata": {
        "id": "yw8G-HTuEpRI",
        "colab_type": "text"
      },
      "source": [
        "###Obtener los datos de sonido y guardarlos\n",
        "\n",
        "Al final se obtiene y se guarda lo siguiente:\n",
        "\n",
        "x: Vector que contiene datos crudos de sonido pasados por una ventana de hammin\n",
        "\n",
        "x2: Vector que contiene MFCC o Espectogramas\n",
        "\n",
        "y: Vector que contiene las etiquetas de todos los datos\n"
      ]
    },
    {
      "cell_type": "code",
      "metadata": {
        "id": "INB19Yue-LQT",
        "colab_type": "code",
        "outputId": "c04f4b7b-a1e9-4d7d-abda-90352f8c572e",
        "colab": {
          "base_uri": "https://localhost:8080/",
          "height": 249
        }
      },
      "source": [
        "ventana_Tiempo_ = 0.9 # La ventana de tiempo de cada muestra (XX_s) \n",
        "#Frecuencia_Corte= 11000 #Se define la frecuencia de Corte en Hz, la frecuencia minima que tiene sentido es 4000, si se quiere que el filtro no haga nada setear a 11000Hz\n",
        "ventana_Tiempo_String_ = \"900\" # La ventana de tiempo de cada muestra (XX_s) \n",
        "salto_de_ventana_ = 4  # Corrimiento en tiempo (XXs/4)\n",
        "sample_rate_ = 22050 # Tasa remuestreo\n",
        "sample_rate_String = str(sample_rate_)\n",
        "# Si se está obteniendo el espectogramo, el valor de la ventana no puede ser menor a 0.025s\n",
        "# Si se está obteniendo el MFCC, el valor de la ventana no puede ser menor a 0.03125s\n",
        "window_length_stft_ = 0.025 # Ventana de tiempo para la short-Time Fourier Transform\n",
        "Step_size_stft_ = 0.010 # Saltos el en tiempo para la transformada de Fourier, fíjenlo menor a la ventana stft, si quieren pueden aumentar\n",
        "\n",
        "Sin_Background_ = False # True: no se obtienen datos de background; False: No se obtienen datos de background  NO MOVER\n",
        "Features_ = False # Obtener o no features NO MOVER\n",
        "Inicial_pNXML_ = 1 # Número inicial de archivos XML utilizados  NO MOVER, a menos de que se quiera obtener 45 a 55\n",
        "Final_pNXML_ = 6 # Número final de archivos XML utilizados  NO MOVER, a menos de que se quiera obtener 45 a 55\n",
        "rutaDatosXML_ = \"drive/My Drive/Proyecto Especial/xml\" #Ruta para encontrar archivos xml  NO MOVER\n",
        "rutaDatosSounds_ = \"drive/My Drive/Proyecto Especial/Data/audios\"  #Ruta para encontrar Audios  NO MOVER\n",
        "Solo_Background_ = False #Solo obtener datos de background  NO MOVER\n",
        "\n",
        "\n",
        "ruta_datos_parciales= \"drive/My Drive/Proyecto Especial/Data/Datos Procesados/\"\n",
        "acoplados_=False\n",
        "\n",
        "# Si ambos son True, se obtendrá únicamente el espectogram\n",
        "Espectogram_ = True #Calcular el espectograma\n",
        "MFCC_ = False #Calcular el MFCC  \n",
        "\n",
        "lista_de_Listas = [[1, 8],[],[]]\n",
        "\n",
        "x2, y =ObtenerSonidos(Inicial_pNXML = Inicial_pNXML_, Final_pNXML = Final_pNXML_, \n",
        "                      ventana_Tiempo=ventana_Tiempo_, salto_de_ventana=salto_de_ventana_, \n",
        "                      Sin_Background =Sin_Background_, \n",
        "                      rutaDatosXML = rutaDatosXML_,   rutaDatosSounds=rutaDatosSounds_, Solo_Background = Solo_Background_, \n",
        "                      sample_rate=sample_rate_,        MFCC=MFCC_, window_length_stft= window_length_stft_, Step_size_stft=Step_size_stft_\n",
        "                      ,Espectogram = Espectogram_, Frecuencia_Corte=Frecuencia_Corte)\n",
        "\n",
        "if MFCC_ or Espectogram_:\n",
        "  ruta = dar_ruta(ruta_datos_parciales, 'x2_', Inicial_pNXML_, Final_pNXML_,\n",
        "                  ventana_Tiempo_String_, sample_rate_,\n",
        "                  Sin_Background_,Solo_Background_, Espectogram_, MFCC_,acoplados_)\n",
        "np.save(ruta , x2)\n",
        "\n",
        "ruta = dar_ruta(ruta_datos_parciales, 'y_', Inicial_pNXML_, Final_pNXML_,\n",
        "                ventana_Tiempo_String_, sample_rate_,\n",
        "                Sin_Background_,Solo_Background_, Espectogram_, MFCC_,acoplados_)\n",
        "np.save(ruta, y)\n",
        "x2, y= None,None\n",
        "print(\"Se acabo\")"
      ],
      "execution_count": 0,
      "outputs": [
        {
          "output_type": "error",
          "ename": "NameError",
          "evalue": "ignored",
          "traceback": [
            "\u001b[0;31m---------------------------------------------------------------------------\u001b[0m",
            "\u001b[0;31mNameError\u001b[0m                                 Traceback (most recent call last)",
            "\u001b[0;32m<ipython-input-10-c745c1f1426c>\u001b[0m in \u001b[0;36m<module>\u001b[0;34m()\u001b[0m\n\u001b[1;32m     33\u001b[0m                       \u001b[0mrutaDatosXML\u001b[0m \u001b[0;34m=\u001b[0m \u001b[0mrutaDatosXML_\u001b[0m\u001b[0;34m,\u001b[0m   \u001b[0mrutaDatosSounds\u001b[0m\u001b[0;34m=\u001b[0m\u001b[0mrutaDatosSounds_\u001b[0m\u001b[0;34m,\u001b[0m \u001b[0mSolo_Background\u001b[0m \u001b[0;34m=\u001b[0m \u001b[0mSolo_Background_\u001b[0m\u001b[0;34m,\u001b[0m\u001b[0;34m\u001b[0m\u001b[0;34m\u001b[0m\u001b[0m\n\u001b[1;32m     34\u001b[0m                       \u001b[0msample_rate\u001b[0m\u001b[0;34m=\u001b[0m\u001b[0msample_rate_\u001b[0m\u001b[0;34m,\u001b[0m        \u001b[0mMFCC\u001b[0m\u001b[0;34m=\u001b[0m\u001b[0mMFCC_\u001b[0m\u001b[0;34m,\u001b[0m \u001b[0mwindow_length_stft\u001b[0m\u001b[0;34m=\u001b[0m \u001b[0mwindow_length_stft_\u001b[0m\u001b[0;34m,\u001b[0m \u001b[0mStep_size_stft\u001b[0m\u001b[0;34m=\u001b[0m\u001b[0mStep_size_stft_\u001b[0m\u001b[0;34m\u001b[0m\u001b[0;34m\u001b[0m\u001b[0m\n\u001b[0;32m---> 35\u001b[0;31m                       ,Espectogram = Espectogram_, Frecuencia_Corte=Frecuencia_Corte)\n\u001b[0m\u001b[1;32m     36\u001b[0m \u001b[0;34m\u001b[0m\u001b[0m\n\u001b[1;32m     37\u001b[0m \u001b[0;32mif\u001b[0m \u001b[0mMFCC_\u001b[0m \u001b[0;32mor\u001b[0m \u001b[0mEspectogram_\u001b[0m\u001b[0;34m:\u001b[0m\u001b[0;34m\u001b[0m\u001b[0;34m\u001b[0m\u001b[0m\n",
            "\u001b[0;31mNameError\u001b[0m: name 'Frecuencia_Corte' is not defined"
          ]
        }
      ]
    },
    {
      "cell_type": "markdown",
      "metadata": {
        "id": "LIl_AhUDU3Gj",
        "colab_type": "text"
      },
      "source": [
        "###Unir datos"
      ]
    },
    {
      "cell_type": "code",
      "metadata": {
        "id": "H2wsIkYdR2LP",
        "colab_type": "code",
        "colab": {}
      },
      "source": [
        "ventana_Tiempo_String_ = \"100\" # La ventana de tiempo de cada muestra (XX_s)\n",
        "sample_rate_=22050\n",
        "sample_rate_String = \"22050\"\n",
        "Sin_Background_ = False # True: no se obtienen datos de background; False: No se obtienen datos de background  NO MOVER\n",
        "Solo_Background_ = False #Solo obtener datos de background  NO MOVER\n",
        "ruta_datos_parciales= \"drive/My Drive/Proyecto Especial/Data/Datos Procesados/\"\n",
        "acoplados_=False\n",
        "# Si ambos son True, se obtendrá únicamente el espectogram\n",
        "Espectogram_ = True #Calcular el espectograma\n",
        "MFCC_ = False #Calcular el MFCC\n",
        "variable = 'x2_' # Cambiar para sacar y o x2\n",
        "\n",
        "lista=[] # Lista en la que se guardaran las rutas de los archivos a unir\n",
        "\n",
        "Inicial_pNXML_ = 56\n",
        "Inicial_pNXML_guardar = Inicial_pNXML_ # Se guarda el xml desde donde inicia\n",
        "Final_pNXML_ = 60\n",
        "ruta = dar_ruta(ruta_datos_parciales, variable, Inicial_pNXML_, Final_pNXML_,\n",
        "                  ventana_Tiempo_String_, sample_rate_,\n",
        "                  Sin_Background_,Solo_Background_, Espectogram_, MFCC_,acoplados_)\n",
        "lista.append(ruta+'.npy')\n",
        "\n",
        "# En teoria entre archivos a unir solo deberia de cambiar el xml inicial y final.\n",
        "Inicial_pNXML_ = 61 \n",
        "Final_pNXML_ = 66\n",
        "Final_pNXML_guardar=Final_pNXML_\n",
        "ruta = dar_ruta(ruta_datos_parciales, variable, Inicial_pNXML_, Final_pNXML_,\n",
        "                  ventana_Tiempo_String_, sample_rate_,\n",
        "                  Sin_Background_,Solo_Background_, Espectogram_, MFCC_,acoplados_)\n",
        "lista.append(ruta+'.npy')\n",
        "\n",
        "#copie y pegue lo de arriba si quiere un archivo mas grande\n",
        "\n",
        "#print(lista)\n",
        "join(variable,lista,ruta_datos_parciales,Inicial_pNXML_guardar,Final_pNXML_guardar,\n",
        "         ventana_Tiempo_String_,sample_rate_,Sin_Background_,Solo_Background_,MFCC_,Espectogram_)\n"
      ],
      "execution_count": 0,
      "outputs": []
    },
    {
      "cell_type": "markdown",
      "metadata": {
        "id": "leHL4EhjsoqB",
        "colab_type": "text"
      },
      "source": [
        "El objetivo de la siguiente función es acoplar los datos de los descriptores o de los datos raw obtenidos en un solo vector."
      ]
    },
    {
      "cell_type": "markdown",
      "metadata": {
        "id": "zlXJ9xvrWOvH",
        "colab_type": "text"
      },
      "source": [
        "# Preprocesamiento de los datos\n",
        "Aquí se debe realizar todo el preprocesamiento de los datos. Se debe considerar el desbalance en los datos de entrenamiento. Primero se separan los datos de entrenamiento y validación."
      ]
    },
    {
      "cell_type": "markdown",
      "metadata": {
        "id": "UgWAcY2YVhvk",
        "colab_type": "text"
      },
      "source": [
        "###Extraer Datos Guardados"
      ]
    },
    {
      "cell_type": "code",
      "metadata": {
        "id": "zWugq59BGzlD",
        "colab_type": "code",
        "colab": {}
      },
      "source": [
        "def extrar_datos(Inicial_pNXML, Final_pNXML,Espectogram, MFCC,acoplados,carpeta = \"drive/My Drive/Proyecto Especial/Data/Datos Procesados/\",\n",
        "             ventana_Tiempo_string = \"100\", sample_rate = 22050, Sin_Background = False, Solo_Background =False\n",
        "             ):\n",
        "  x_Spect = None\n",
        "  x_MFCC = None\n",
        "  y = None\n",
        "  if Espectogram:\n",
        "    Ruta = dar_ruta(carpeta, \"x2_\", Inicial_pNXML, Final_pNXML,\n",
        "              ventana_Tiempo_string, sample_rate, Sin_Background, Solo_Background, True, False,acoplados)\n",
        "    x_Spect = np.load(Ruta+\".npy\")\n",
        "  if MFCC:\n",
        "    Ruta = dar_ruta(carpeta, \"x2_\", Inicial_pNXML, Final_pNXML,\n",
        "                    ventana_Tiempo_string, sample_rate, Sin_Background, Solo_Background, False, True,acoplados)\n",
        "    x_MFCC = np.load(Ruta+\".npy\")\n",
        "  Ruta = dar_ruta(carpeta, \"y_\", Inicial_pNXML, Final_pNXML,\n",
        "              ventana_Tiempo_string, sample_rate, Sin_Background, Solo_Background, True, False,acoplados)\n",
        "  y = np.load(Ruta+\".npy\")\n",
        "  return x_Spect,x_MFCC,y"
      ],
      "execution_count": 0,
      "outputs": []
    },
    {
      "cell_type": "code",
      "metadata": {
        "id": "DQoKMBQLerjf",
        "colab_type": "code",
        "colab": {}
      },
      "source": [
        "def reshape_data(x_train, x_test):\n",
        "  Numero_Datos, alto_2, ancho_2=x_train.shape\n",
        "  x_train = np.reshape(x_train, (-1,1, alto_2, ancho_2), 'F')\n",
        "  x_test = np.reshape(x_test, (-1,1, alto_2, ancho_2), 'F')\n",
        "  return x_train, x_test "
      ],
      "execution_count": 0,
      "outputs": []
    },
    {
      "cell_type": "markdown",
      "metadata": {
        "id": "Ae2TIwGBBo5A",
        "colab_type": "text"
      },
      "source": [
        "La siguiente celda permite dividir los datos en datos de entrenamiento y datos de validación"
      ]
    },
    {
      "cell_type": "code",
      "metadata": {
        "id": "_1OKZiZQVnUN",
        "colab_type": "code",
        "colab": {}
      },
      "source": [
        "\n",
        "def train_test(Espectogram,MFCC):\n",
        "  global x1,x2,y\n",
        "  x_train_2 = None\n",
        "  x_test_2 =None\n",
        "  if Espectogram_ and MFCC_:\n",
        "    x_train_1, x_test_1, y_train, y_test = train_test_split(x1, y , random_state = 0, test_size=0.04)\n",
        "    x1=None\n",
        "    #x_train_1, x_test_1 = reshape_data(x_train_1, x_test_1)\n",
        "    x_train_2, x_test_2, y_train, y_test = train_test_split(x2, y , random_state = 0, test_size=0.04)\n",
        "    x2=None\n",
        "    #x_train_2, x_test_2 = reshape_data(x_train_2, x_test_2)\n",
        "  elif Espectogram_:\n",
        "    x_train_1, x_test_1, y_train, y_test = train_test_split(x1, y , random_state = 0, test_size=0.04)\n",
        "    x1=None\n",
        "    #x_train_1, x_test_1 = reshape_data(x_train_1, x_test_1)\n",
        "  elif MFCC_:\n",
        "    x_train_1, x_test_1, y_train, y_test = train_test_split(x2, y , random_state = 0, test_size=0.04)\n",
        "    x1=None\n",
        "    #x_train_1, x_test_1 = reshape_data(x_train_1, x_test_1)\n",
        "  return x_train_1, x_test_1,x_train_2, x_test_2, y_train, y_test"
      ],
      "execution_count": 0,
      "outputs": []
    },
    {
      "cell_type": "code",
      "metadata": {
        "id": "BXg5dqOSKwu0",
        "colab_type": "code",
        "colab": {}
      },
      "source": [
        "Inicial_pNXML_ = 1 # Número inicial de archivos XML utilizados  NO MOVER, a menos de que se quiera obtener 45 a 55\n",
        "Final_pNXML_ = 21 # Número final de archivos XML utilizados  NO MOVER, a menos de que se quiera obtener 45 a 55\n",
        "#acoplados_=False\n",
        "Espectogram_ = True #Obtener datos de spectrogram\n",
        "MFCC_ = True #Obtener Datos de MFCC MFCC\n",
        "x_train_1, x_test_1,x_train_2, x_test_2, y_train, y_test = None,None,None,None,None,None\n",
        "global x1, x2, y\n",
        "x1, x2, y = None, None, None"
      ],
      "execution_count": 0,
      "outputs": []
    },
    {
      "cell_type": "code",
      "metadata": {
        "id": "TwW9MBVt_j_6",
        "colab_type": "code",
        "colab": {}
      },
      "source": [
        "x1 , x2 , y = extrar_datos(Inicial_pNXML = Inicial_pNXML_, Final_pNXML = Final_pNXML_,Espectogram = Espectogram_, MFCC =MFCC_ ,\n",
        "                           acoplados= acoplados_,)\n",
        "\n",
        "#x_train_1, x_test_1,x_train_2, x_test_2, y_train, y_test = train_test(Espectogram_,MFCC_)"
      ],
      "execution_count": 0,
      "outputs": []
    },
    {
      "cell_type": "markdown",
      "metadata": {
        "id": "OAJyv65Qy3cG",
        "colab_type": "text"
      },
      "source": [
        "### Random Under Sampling"
      ]
    },
    {
      "cell_type": "markdown",
      "metadata": {
        "id": "PHwtoLlHzAQD",
        "colab_type": "text"
      },
      "source": [
        "Esto quita datos en exceso."
      ]
    },
    {
      "cell_type": "code",
      "metadata": {
        "id": "rULXB4t3y8Rw",
        "colab_type": "code",
        "colab": {}
      },
      "source": [
        "Numero_Datos, alto_1, ancho_1=x_train_1.shape\n",
        "Numero_Datos, alto_2, ancho_2=x_train_2.shape\n",
        "\n",
        "x_train_1 = np.reshape(x_train_1, (-1, alto_1*ancho_1), 'F')\n",
        "#x_train_2 = np.reshape(x_train_2, (-1, alto_2*ancho_2), 'F')\n",
        "\n",
        "print('Original dataset shape %s' % Counter(y_train))\n",
        "\n",
        "rus = RandomUnderSampler(random_state=42)\n",
        "x_train_1, y_train = rus.fit_resample(x_train_1, y_train)\n",
        "#x_train_2, y_train = rus.fit_resample(x_train_2, y_train)\n",
        "\n",
        "print('Resampled dataset shape %s' % Counter(y_train))\n",
        "\n",
        "x_train_1 = np.reshape(x_train_1, (-1, alto_1, ancho_1), 'F')\n",
        "#x_train_2 = np.reshape(x_train_2, (-1, alto_2, ancho_2), 'F')"
      ],
      "execution_count": 0,
      "outputs": []
    },
    {
      "cell_type": "markdown",
      "metadata": {
        "id": "WikXZdpQ0KcM",
        "colab_type": "text"
      },
      "source": [
        "###Random Over Sampler.\n",
        "\n",
        "\n",
        "Esto va a hacer que todo colapse si hay muchos datos.\n"
      ]
    },
    {
      "cell_type": "code",
      "metadata": {
        "id": "Uhj_BjWU0EbV",
        "colab_type": "code",
        "outputId": "c7ed36d3-2aa6-4824-c00e-188d4e7160e2",
        "colab": {
          "base_uri": "https://localhost:8080/",
          "height": 104
        }
      },
      "source": [
        "Numero_Datos, alto_1, ancho_1=x_train_1.shape\n",
        "#Numero_Datos, alto_2, ancho_2=x_train_2.shape\n",
        "\n",
        "x_train_1 = np.reshape(x_train_1, (-1, alto_1*ancho_1), 'F')\n",
        "#x_train_2 = np.reshape(x_train_2, (-1, alto_2*ancho_2), 'F')\n",
        "\n",
        "print('Original dataset shape %s' % Counter(y_train))\n",
        "\n",
        "randomOverSampler = RandomOverSampler(sampling_strategy = 'not majority', random_state = 0)\n",
        "x_train_1, y_train = randomOverSampler.fit_resample(x_train_1, y_train)\n",
        "#x_train_2, y_train = randomOverSampler.fit_resample(x_train_2, y_train)\n",
        "\n",
        "print('Resampled dataset shape %s' % Counter(y_train))\n",
        "\n",
        "x_train_1 = np.reshape(x_train_1, (-1, alto_1, ancho_1), 'F')\n",
        "#x_train_2 = np.reshape(x_train_2, (-1, alto_2, ancho_2), 'F')"
      ],
      "execution_count": 0,
      "outputs": [
        {
          "output_type": "stream",
          "text": [
            "Original dataset shape Counter({0.0: 74754, 2.0: 6262, 3.0: 5352, 1.0: 4446})\n"
          ],
          "name": "stdout"
        },
        {
          "output_type": "stream",
          "text": [
            "/usr/local/lib/python3.6/dist-packages/sklearn/utils/deprecation.py:87: FutureWarning: Function safe_indexing is deprecated; safe_indexing is deprecated in version 0.22 and will be removed in version 0.24.\n",
            "  warnings.warn(msg, category=FutureWarning)\n"
          ],
          "name": "stderr"
        },
        {
          "output_type": "stream",
          "text": [
            "Resampled dataset shape Counter({0.0: 74754, 2.0: 74754, 3.0: 74754, 1.0: 74754})\n"
          ],
          "name": "stdout"
        }
      ]
    },
    {
      "cell_type": "markdown",
      "metadata": {
        "id": "u0Bftbff1o2_",
        "colab_type": "text"
      },
      "source": [
        "### Reshape"
      ]
    },
    {
      "cell_type": "code",
      "metadata": {
        "id": "YWhyqJ8iwsod",
        "colab_type": "code",
        "colab": {}
      },
      "source": [
        "x_train_1, x_test_1 = reshape_data(x_train_1, x_test_1)\n",
        "#x_train_2, x_test_2 = reshape_data(x_train_2, x_test_2)"
      ],
      "execution_count": 0,
      "outputs": []
    },
    {
      "cell_type": "markdown",
      "metadata": {
        "id": "puzIWlNSbH4n",
        "colab_type": "text"
      },
      "source": [
        "A continuación se muestra el número de datos de cada etiqueta para datos de entrenamiento."
      ]
    },
    {
      "cell_type": "code",
      "metadata": {
        "id": "zobiHSMjhnVo",
        "colab_type": "code",
        "outputId": "ad5a47ca-73fe-4e53-c063-b475454bd563",
        "colab": {
          "base_uri": "https://localhost:8080/",
          "height": 34
        }
      },
      "source": [
        "print('Original dataset shape %s' % Counter(y_train))"
      ],
      "execution_count": 0,
      "outputs": [
        {
          "output_type": "stream",
          "text": [
            "Original dataset shape Counter({0.0: 74754, 2.0: 74754, 3.0: 74754, 1.0: 74754})\n"
          ],
          "name": "stdout"
        }
      ]
    },
    {
      "cell_type": "code",
      "metadata": {
        "id": "UkmHOPrUnHpF",
        "colab_type": "code",
        "colab": {}
      },
      "source": [
        "#Numero_Datos, alto_2, ancho_2=x2.shape\n",
        "#x2 = np.reshape(x2, (-1,1, alto_2, ancho_2), 'F')\n"
      ],
      "execution_count": 0,
      "outputs": []
    },
    {
      "cell_type": "markdown",
      "metadata": {
        "id": "sTJNaRepVFKw",
        "colab_type": "text"
      },
      "source": [
        "### Pesos de las clases\n",
        "En esta celda se calculan los pesos de cada clase, a partir de la cantidad de cada una en los datos de entrenamiento.Estos pesos también pueden ser variados manualmente."
      ]
    },
    {
      "cell_type": "code",
      "metadata": {
        "id": "MjS9Cr4GVD_F",
        "colab_type": "code",
        "outputId": "1c5342a9-b76a-460c-aa4e-22cc622fac59",
        "colab": {
          "base_uri": "https://localhost:8080/",
          "height": 34
        }
      },
      "source": [
        "pesosClases = compute_class_weight(class_weight = 'balanced', classes = np.array([0, 1, 2,3]), y = y_train)\n",
        "PesosClases = {0: pesosClases[0],\n",
        "               1: pesosClases[1],\n",
        "               2: pesosClases[2],\n",
        "               3: pesosClases[3]}\n",
        "print(PesosClases)"
      ],
      "execution_count": 0,
      "outputs": [
        {
          "output_type": "stream",
          "text": [
            "{0: 1.0, 1: 1.0, 2: 1.0, 3: 1.0}\n"
          ],
          "name": "stdout"
        }
      ]
    },
    {
      "cell_type": "markdown",
      "metadata": {
        "id": "FiQv5-M_HV7X",
        "colab_type": "text"
      },
      "source": [
        "# Modelos Convolucionales"
      ]
    },
    {
      "cell_type": "markdown",
      "metadata": {
        "id": "dxisMR-rIPke",
        "colab_type": "text"
      },
      "source": [
        "Trabajo a futuro, agregar parámetros de regularización..."
      ]
    },
    {
      "cell_type": "markdown",
      "metadata": {
        "id": "vDtsAO4oE9I9",
        "colab_type": "text"
      },
      "source": [
        "### Modelo CNN 2D"
      ]
    },
    {
      "cell_type": "code",
      "metadata": {
        "id": "Dv1RWDQcYdv1",
        "colab_type": "code",
        "colab": {}
      },
      "source": [
        "def crearModelo2D(pTasa, pAlpha, pNumFiltros, pTamFiltros, pTamPooling, pNumNeuronas, pOptimizer, T_entrada_1, T_entrada_2):\n",
        "\n",
        "  modelo = Sequential()\n",
        "\n",
        "  modelo.add(Input(shape = (1,T_entrada_1,T_entrada_2)))\n",
        "\n",
        "  modelo.add(Conv2D(pNumFiltros[0], (int(pTamFiltros[0]),int(pTamFiltros[0])), padding='same', activation = 'relu'))\n",
        "  modelo.add(MaxPooling2D((int(pTamFiltros[0]),int(pTamFiltros[0])), padding='same'))\n",
        "\n",
        "  modelo.add(Conv2D(pNumFiltros[1], (int(pTamFiltros[1]),int(pTamFiltros[1])), padding='same', activation = 'relu'))\n",
        "  modelo.add(MaxPooling2D((int(pTamFiltros[1]),int(pTamFiltros[1])), padding='same'))\n",
        "\n",
        "  modelo.add(Conv2D(pNumFiltros[2], (int(pTamFiltros[2]),int(pTamFiltros[2])), padding='same', activation = 'relu'))\n",
        "  modelo.add(MaxPooling2D((int(pTamFiltros[2]),int(pTamFiltros[2])), padding='same'))\n",
        "\n",
        "  modelo.add(Conv2D(pNumFiltros[3], (int(pTamFiltros[3]),int(pTamFiltros[3])), padding='same', activation = 'relu'))\n",
        "  modelo.add(MaxPooling2D((int(pTamFiltros[3]),int(pTamFiltros[3])), padding='same'))\n",
        "\n",
        "\n",
        "  modelo.add(Dropout(0.5))\n",
        "  modelo.add(Flatten())\n",
        "\n",
        "  modelo.add(Dense(pNumNeuronas[0], activation='relu'))\n",
        "  modelo.add(Dense(pNumNeuronas[1], activation='relu'))\n",
        "  modelo.add(Dense(pNumNeuronas[2], activation='relu'))\n",
        "  #modelo.add(Dense(pNumNeuronas[3], activation='relu'))\n",
        "\n",
        "  modelo.add(Dense(4, activation='softmax'))\n",
        "\n",
        "\n",
        "  sgd = optimizers.SGD(lr = pTasa)#, momentum=0.9)\n",
        "  adam = optimizers.Adam(learning_rate = pTasa)\n",
        "  if pOptimizer == \"adam\":\n",
        "    opt=adam\n",
        "  elif pOptimizer ==\"sgd\":\n",
        "    opt=sgd\n",
        "  elif pOptimizer ==\"rmsprop\":\n",
        "    opt = \"rmsprop\"\n",
        "  \n",
        "  modelo.compile(loss='sparse_categorical_crossentropy', optimizer = opt, metrics = ['sparse_categorical_accuracy'])\n",
        "  modelo.summary()\n",
        "  \n",
        "  return modelo"
      ],
      "execution_count": 0,
      "outputs": []
    },
    {
      "cell_type": "code",
      "metadata": {
        "id": "3WMqRdTt2U2h",
        "colab_type": "code",
        "colab": {}
      },
      "source": [
        "#Esta celda construye los modelos, a partir de los parametros especificados por cada una de las siguientes variables.\n",
        "#Es el numero de filtros que cada capa convolucional utiliza.\n",
        "numFiltros = np.array([15, 25, 25, 15, 10, 5])\n",
        "\n",
        "#Es el tamaño de los filtros utilizados en cada capa convolucional.\n",
        "tamFiltros = np.array([5, 5, 5, 5, 3, 5])\n",
        "\n",
        "#Es el tamaño de cada capa de Pooling.\n",
        "tamPooling = np.array([3, 3, 3, 3, 3, 3])\n",
        "\n",
        "#Es el numero de neuronas en cada capa de la red neuronal que sigue despues de la parte convolucional.\n",
        "numNeuronas = np.array([10, 10, 10, 16])\n",
        "\n",
        "#Es el tipo de optimizador a utilizar.\n",
        "#Se pueden especificar: \"sgd\", \"adam\" o \"rmsprop\"\n",
        "optimizer=\"rmsprop\"\n",
        "\n",
        "#Es la tasa de aprendizaje del optimizador.\n",
        "tasa = 0.1\n",
        "\n",
        "#Es el parametro de regularizacion a utilizar.\n",
        "alpha = 0.01"
      ],
      "execution_count": 0,
      "outputs": []
    },
    {
      "cell_type": "code",
      "metadata": {
        "id": "3LJXcB-i2fQb",
        "colab_type": "code",
        "outputId": "109d4173-6340-40f0-f2cb-9dc93da90691",
        "colab": {
          "base_uri": "https://localhost:8080/",
          "height": 1000
        }
      },
      "source": [
        "\n",
        "Numero_Datos, uno, alto_2, ancho_2=x_train_1.shape\n",
        "\n",
        "modelo2 = crearModelo2D(tasa, alpha, numFiltros, tamFiltros, tamPooling, numNeuronas, optimizer, T_entrada_1 = alto_2 , T_entrada_2 = ancho_2 )\n",
        "\n",
        "#Esta linea muestra un diagrama de la red neuronal.\n",
        "SVG(model_to_dot(modelo2, show_shapes = True, expand_nested = True, dpi = 50).create(prog='dot', format='svg'))"
      ],
      "execution_count": 0,
      "outputs": [
        {
          "output_type": "stream",
          "text": [
            "WARNING:tensorflow:From /usr/local/lib/python3.6/dist-packages/tensorflow/python/ops/resource_variable_ops.py:1666: calling BaseResourceVariable.__init__ (from tensorflow.python.ops.resource_variable_ops) with constraint is deprecated and will be removed in a future version.\n",
            "Instructions for updating:\n",
            "If using Keras pass *_constraint arguments to layers.\n",
            "Model: \"sequential\"\n",
            "_________________________________________________________________\n",
            "Layer (type)                 Output Shape              Param #   \n",
            "=================================================================\n",
            "conv2d (Conv2D)              (None, 1, 128, 15)        4140      \n",
            "_________________________________________________________________\n",
            "max_pooling2d (MaxPooling2D) (None, 1, 26, 15)         0         \n",
            "_________________________________________________________________\n",
            "conv2d_1 (Conv2D)            (None, 1, 26, 25)         9400      \n",
            "_________________________________________________________________\n",
            "max_pooling2d_1 (MaxPooling2 (None, 1, 6, 25)          0         \n",
            "_________________________________________________________________\n",
            "conv2d_2 (Conv2D)            (None, 1, 6, 25)          15650     \n",
            "_________________________________________________________________\n",
            "max_pooling2d_2 (MaxPooling2 (None, 1, 2, 25)          0         \n",
            "_________________________________________________________________\n",
            "conv2d_3 (Conv2D)            (None, 1, 2, 15)          9390      \n",
            "_________________________________________________________________\n",
            "max_pooling2d_3 (MaxPooling2 (None, 1, 1, 15)          0         \n",
            "_________________________________________________________________\n",
            "dropout (Dropout)            (None, 1, 1, 15)          0         \n",
            "_________________________________________________________________\n",
            "flatten (Flatten)            (None, 15)                0         \n",
            "_________________________________________________________________\n",
            "dense (Dense)                (None, 10)                160       \n",
            "_________________________________________________________________\n",
            "dense_1 (Dense)              (None, 10)                110       \n",
            "_________________________________________________________________\n",
            "dense_2 (Dense)              (None, 10)                110       \n",
            "_________________________________________________________________\n",
            "dense_3 (Dense)              (None, 4)                 44        \n",
            "=================================================================\n",
            "Total params: 39,004\n",
            "Trainable params: 39,004\n",
            "Non-trainable params: 0\n",
            "_________________________________________________________________\n"
          ],
          "name": "stdout"
        },
        {
          "output_type": "execute_result",
          "data": {
            "text/plain": [
              "<IPython.core.display.SVG object>"
            ],
            "image/svg+xml": "<svg height=\"845pt\" viewBox=\"0.00 0.00 379.00 1217.00\" width=\"263pt\" xmlns=\"http://www.w3.org/2000/svg\" xmlns:xlink=\"http://www.w3.org/1999/xlink\">\n<g class=\"graph\" id=\"graph0\" transform=\"scale(.6944 .6944) rotate(0) translate(4 1213)\">\n<title>G</title>\n<polygon fill=\"#ffffff\" points=\"-4,4 -4,-1213 375,-1213 375,4 -4,4\" stroke=\"transparent\"/>\n<!-- 140616908778912 -->\n<g class=\"node\" id=\"node1\">\n<title>140616908778912</title>\n<polygon fill=\"none\" points=\"36.5,-1162.5 36.5,-1208.5 334.5,-1208.5 334.5,-1162.5 36.5,-1162.5\" stroke=\"#000000\"/>\n<text fill=\"#000000\" font-family=\"Times,serif\" font-size=\"14.00\" text-anchor=\"middle\" x=\"103\" y=\"-1181.8\">input_1: InputLayer</text>\n<polyline fill=\"none\" points=\"169.5,-1162.5 169.5,-1208.5 \" stroke=\"#000000\"/>\n<text fill=\"#000000\" font-family=\"Times,serif\" font-size=\"14.00\" text-anchor=\"middle\" x=\"198.5\" y=\"-1193.3\">input:</text>\n<polyline fill=\"none\" points=\"169.5,-1185.5 227.5,-1185.5 \" stroke=\"#000000\"/>\n<text fill=\"#000000\" font-family=\"Times,serif\" font-size=\"14.00\" text-anchor=\"middle\" x=\"198.5\" y=\"-1170.3\">output:</text>\n<polyline fill=\"none\" points=\"227.5,-1162.5 227.5,-1208.5 \" stroke=\"#000000\"/>\n<text fill=\"#000000\" font-family=\"Times,serif\" font-size=\"14.00\" text-anchor=\"middle\" x=\"281\" y=\"-1193.3\">[(?, 1, 128, 11)]</text>\n<polyline fill=\"none\" points=\"227.5,-1185.5 334.5,-1185.5 \" stroke=\"#000000\"/>\n<text fill=\"#000000\" font-family=\"Times,serif\" font-size=\"14.00\" text-anchor=\"middle\" x=\"281\" y=\"-1170.3\">[(?, 1, 128, 11)]</text>\n</g>\n<!-- 140616912186728 -->\n<g class=\"node\" id=\"node2\">\n<title>140616912186728</title>\n<polygon fill=\"none\" points=\"48,-1079.5 48,-1125.5 323,-1125.5 323,-1079.5 48,-1079.5\" stroke=\"#000000\"/>\n<text fill=\"#000000\" font-family=\"Times,serif\" font-size=\"14.00\" text-anchor=\"middle\" x=\"107\" y=\"-1098.8\">conv2d: Conv2D</text>\n<polyline fill=\"none\" points=\"166,-1079.5 166,-1125.5 \" stroke=\"#000000\"/>\n<text fill=\"#000000\" font-family=\"Times,serif\" font-size=\"14.00\" text-anchor=\"middle\" x=\"195\" y=\"-1110.3\">input:</text>\n<polyline fill=\"none\" points=\"166,-1102.5 224,-1102.5 \" stroke=\"#000000\"/>\n<text fill=\"#000000\" font-family=\"Times,serif\" font-size=\"14.00\" text-anchor=\"middle\" x=\"195\" y=\"-1087.3\">output:</text>\n<polyline fill=\"none\" points=\"224,-1079.5 224,-1125.5 \" stroke=\"#000000\"/>\n<text fill=\"#000000\" font-family=\"Times,serif\" font-size=\"14.00\" text-anchor=\"middle\" x=\"273.5\" y=\"-1110.3\">(?, 1, 128, 11)</text>\n<polyline fill=\"none\" points=\"224,-1102.5 323,-1102.5 \" stroke=\"#000000\"/>\n<text fill=\"#000000\" font-family=\"Times,serif\" font-size=\"14.00\" text-anchor=\"middle\" x=\"273.5\" y=\"-1087.3\">(?, 1, 128, 15)</text>\n</g>\n<!-- 140616908778912&#45;&gt;140616912186728 -->\n<g class=\"edge\" id=\"edge1\">\n<title>140616908778912-&gt;140616912186728</title>\n<path d=\"M185.5,-1162.3799C185.5,-1154.1745 185.5,-1144.7679 185.5,-1135.8786\" fill=\"none\" stroke=\"#000000\"/>\n<polygon fill=\"#000000\" points=\"189.0001,-1135.784 185.5,-1125.784 182.0001,-1135.784 189.0001,-1135.784\" stroke=\"#000000\"/>\n</g>\n<!-- 140616908236784 -->\n<g class=\"node\" id=\"node3\">\n<title>140616908236784</title>\n<polygon fill=\"none\" points=\"4,-996.5 4,-1042.5 367,-1042.5 367,-996.5 4,-996.5\" stroke=\"#000000\"/>\n<text fill=\"#000000\" font-family=\"Times,serif\" font-size=\"14.00\" text-anchor=\"middle\" x=\"107\" y=\"-1015.8\">max_pooling2d: MaxPooling2D</text>\n<polyline fill=\"none\" points=\"210,-996.5 210,-1042.5 \" stroke=\"#000000\"/>\n<text fill=\"#000000\" font-family=\"Times,serif\" font-size=\"14.00\" text-anchor=\"middle\" x=\"239\" y=\"-1027.3\">input:</text>\n<polyline fill=\"none\" points=\"210,-1019.5 268,-1019.5 \" stroke=\"#000000\"/>\n<text fill=\"#000000\" font-family=\"Times,serif\" font-size=\"14.00\" text-anchor=\"middle\" x=\"239\" y=\"-1004.3\">output:</text>\n<polyline fill=\"none\" points=\"268,-996.5 268,-1042.5 \" stroke=\"#000000\"/>\n<text fill=\"#000000\" font-family=\"Times,serif\" font-size=\"14.00\" text-anchor=\"middle\" x=\"317.5\" y=\"-1027.3\">(?, 1, 128, 15)</text>\n<polyline fill=\"none\" points=\"268,-1019.5 367,-1019.5 \" stroke=\"#000000\"/>\n<text fill=\"#000000\" font-family=\"Times,serif\" font-size=\"14.00\" text-anchor=\"middle\" x=\"317.5\" y=\"-1004.3\">(?, 1, 26, 15)</text>\n</g>\n<!-- 140616912186728&#45;&gt;140616908236784 -->\n<g class=\"edge\" id=\"edge2\">\n<title>140616912186728-&gt;140616908236784</title>\n<path d=\"M185.5,-1079.3799C185.5,-1071.1745 185.5,-1061.7679 185.5,-1052.8786\" fill=\"none\" stroke=\"#000000\"/>\n<polygon fill=\"#000000\" points=\"189.0001,-1052.784 185.5,-1042.784 182.0001,-1052.784 189.0001,-1052.784\" stroke=\"#000000\"/>\n</g>\n<!-- 140616913075392 -->\n<g class=\"node\" id=\"node4\">\n<title>140616913075392</title>\n<polygon fill=\"none\" points=\"44,-913.5 44,-959.5 327,-959.5 327,-913.5 44,-913.5\" stroke=\"#000000\"/>\n<text fill=\"#000000\" font-family=\"Times,serif\" font-size=\"14.00\" text-anchor=\"middle\" x=\"110.5\" y=\"-932.8\">conv2d_1: Conv2D</text>\n<polyline fill=\"none\" points=\"177,-913.5 177,-959.5 \" stroke=\"#000000\"/>\n<text fill=\"#000000\" font-family=\"Times,serif\" font-size=\"14.00\" text-anchor=\"middle\" x=\"206\" y=\"-944.3\">input:</text>\n<polyline fill=\"none\" points=\"177,-936.5 235,-936.5 \" stroke=\"#000000\"/>\n<text fill=\"#000000\" font-family=\"Times,serif\" font-size=\"14.00\" text-anchor=\"middle\" x=\"206\" y=\"-921.3\">output:</text>\n<polyline fill=\"none\" points=\"235,-913.5 235,-959.5 \" stroke=\"#000000\"/>\n<text fill=\"#000000\" font-family=\"Times,serif\" font-size=\"14.00\" text-anchor=\"middle\" x=\"281\" y=\"-944.3\">(?, 1, 26, 15)</text>\n<polyline fill=\"none\" points=\"235,-936.5 327,-936.5 \" stroke=\"#000000\"/>\n<text fill=\"#000000\" font-family=\"Times,serif\" font-size=\"14.00\" text-anchor=\"middle\" x=\"281\" y=\"-921.3\">(?, 1, 26, 25)</text>\n</g>\n<!-- 140616908236784&#45;&gt;140616913075392 -->\n<g class=\"edge\" id=\"edge3\">\n<title>140616908236784-&gt;140616913075392</title>\n<path d=\"M185.5,-996.3799C185.5,-988.1745 185.5,-978.7679 185.5,-969.8786\" fill=\"none\" stroke=\"#000000\"/>\n<polygon fill=\"#000000\" points=\"189.0001,-969.784 185.5,-959.784 182.0001,-969.784 189.0001,-969.784\" stroke=\"#000000\"/>\n</g>\n<!-- 140616847310296 -->\n<g class=\"node\" id=\"node5\">\n<title>140616847310296</title>\n<polygon fill=\"none\" points=\"0,-830.5 0,-876.5 371,-876.5 371,-830.5 0,-830.5\" stroke=\"#000000\"/>\n<text fill=\"#000000\" font-family=\"Times,serif\" font-size=\"14.00\" text-anchor=\"middle\" x=\"110.5\" y=\"-849.8\">max_pooling2d_1: MaxPooling2D</text>\n<polyline fill=\"none\" points=\"221,-830.5 221,-876.5 \" stroke=\"#000000\"/>\n<text fill=\"#000000\" font-family=\"Times,serif\" font-size=\"14.00\" text-anchor=\"middle\" x=\"250\" y=\"-861.3\">input:</text>\n<polyline fill=\"none\" points=\"221,-853.5 279,-853.5 \" stroke=\"#000000\"/>\n<text fill=\"#000000\" font-family=\"Times,serif\" font-size=\"14.00\" text-anchor=\"middle\" x=\"250\" y=\"-838.3\">output:</text>\n<polyline fill=\"none\" points=\"279,-830.5 279,-876.5 \" stroke=\"#000000\"/>\n<text fill=\"#000000\" font-family=\"Times,serif\" font-size=\"14.00\" text-anchor=\"middle\" x=\"325\" y=\"-861.3\">(?, 1, 26, 25)</text>\n<polyline fill=\"none\" points=\"279,-853.5 371,-853.5 \" stroke=\"#000000\"/>\n<text fill=\"#000000\" font-family=\"Times,serif\" font-size=\"14.00\" text-anchor=\"middle\" x=\"325\" y=\"-838.3\">(?, 1, 6, 25)</text>\n</g>\n<!-- 140616913075392&#45;&gt;140616847310296 -->\n<g class=\"edge\" id=\"edge4\">\n<title>140616913075392-&gt;140616847310296</title>\n<path d=\"M185.5,-913.3799C185.5,-905.1745 185.5,-895.7679 185.5,-886.8786\" fill=\"none\" stroke=\"#000000\"/>\n<polygon fill=\"#000000\" points=\"189.0001,-886.784 185.5,-876.784 182.0001,-886.784 189.0001,-886.784\" stroke=\"#000000\"/>\n</g>\n<!-- 140616846837688 -->\n<g class=\"node\" id=\"node6\">\n<title>140616846837688</title>\n<polygon fill=\"none\" points=\"48,-747.5 48,-793.5 323,-793.5 323,-747.5 48,-747.5\" stroke=\"#000000\"/>\n<text fill=\"#000000\" font-family=\"Times,serif\" font-size=\"14.00\" text-anchor=\"middle\" x=\"114.5\" y=\"-766.8\">conv2d_2: Conv2D</text>\n<polyline fill=\"none\" points=\"181,-747.5 181,-793.5 \" stroke=\"#000000\"/>\n<text fill=\"#000000\" font-family=\"Times,serif\" font-size=\"14.00\" text-anchor=\"middle\" x=\"210\" y=\"-778.3\">input:</text>\n<polyline fill=\"none\" points=\"181,-770.5 239,-770.5 \" stroke=\"#000000\"/>\n<text fill=\"#000000\" font-family=\"Times,serif\" font-size=\"14.00\" text-anchor=\"middle\" x=\"210\" y=\"-755.3\">output:</text>\n<polyline fill=\"none\" points=\"239,-747.5 239,-793.5 \" stroke=\"#000000\"/>\n<text fill=\"#000000\" font-family=\"Times,serif\" font-size=\"14.00\" text-anchor=\"middle\" x=\"281\" y=\"-778.3\">(?, 1, 6, 25)</text>\n<polyline fill=\"none\" points=\"239,-770.5 323,-770.5 \" stroke=\"#000000\"/>\n<text fill=\"#000000\" font-family=\"Times,serif\" font-size=\"14.00\" text-anchor=\"middle\" x=\"281\" y=\"-755.3\">(?, 1, 6, 25)</text>\n</g>\n<!-- 140616847310296&#45;&gt;140616846837688 -->\n<g class=\"edge\" id=\"edge5\">\n<title>140616847310296-&gt;140616846837688</title>\n<path d=\"M185.5,-830.3799C185.5,-822.1745 185.5,-812.7679 185.5,-803.8786\" fill=\"none\" stroke=\"#000000\"/>\n<polygon fill=\"#000000\" points=\"189.0001,-803.784 185.5,-793.784 182.0001,-803.784 189.0001,-803.784\" stroke=\"#000000\"/>\n</g>\n<!-- 140616910732704 -->\n<g class=\"node\" id=\"node7\">\n<title>140616910732704</title>\n<polygon fill=\"none\" points=\"4,-664.5 4,-710.5 367,-710.5 367,-664.5 4,-664.5\" stroke=\"#000000\"/>\n<text fill=\"#000000\" font-family=\"Times,serif\" font-size=\"14.00\" text-anchor=\"middle\" x=\"114.5\" y=\"-683.8\">max_pooling2d_2: MaxPooling2D</text>\n<polyline fill=\"none\" points=\"225,-664.5 225,-710.5 \" stroke=\"#000000\"/>\n<text fill=\"#000000\" font-family=\"Times,serif\" font-size=\"14.00\" text-anchor=\"middle\" x=\"254\" y=\"-695.3\">input:</text>\n<polyline fill=\"none\" points=\"225,-687.5 283,-687.5 \" stroke=\"#000000\"/>\n<text fill=\"#000000\" font-family=\"Times,serif\" font-size=\"14.00\" text-anchor=\"middle\" x=\"254\" y=\"-672.3\">output:</text>\n<polyline fill=\"none\" points=\"283,-664.5 283,-710.5 \" stroke=\"#000000\"/>\n<text fill=\"#000000\" font-family=\"Times,serif\" font-size=\"14.00\" text-anchor=\"middle\" x=\"325\" y=\"-695.3\">(?, 1, 6, 25)</text>\n<polyline fill=\"none\" points=\"283,-687.5 367,-687.5 \" stroke=\"#000000\"/>\n<text fill=\"#000000\" font-family=\"Times,serif\" font-size=\"14.00\" text-anchor=\"middle\" x=\"325\" y=\"-672.3\">(?, 1, 2, 25)</text>\n</g>\n<!-- 140616846837688&#45;&gt;140616910732704 -->\n<g class=\"edge\" id=\"edge6\">\n<title>140616846837688-&gt;140616910732704</title>\n<path d=\"M185.5,-747.3799C185.5,-739.1745 185.5,-729.7679 185.5,-720.8786\" fill=\"none\" stroke=\"#000000\"/>\n<polygon fill=\"#000000\" points=\"189.0001,-720.784 185.5,-710.784 182.0001,-720.784 189.0001,-720.784\" stroke=\"#000000\"/>\n</g>\n<!-- 140616910729904 -->\n<g class=\"node\" id=\"node8\">\n<title>140616910729904</title>\n<polygon fill=\"none\" points=\"48,-581.5 48,-627.5 323,-627.5 323,-581.5 48,-581.5\" stroke=\"#000000\"/>\n<text fill=\"#000000\" font-family=\"Times,serif\" font-size=\"14.00\" text-anchor=\"middle\" x=\"114.5\" y=\"-600.8\">conv2d_3: Conv2D</text>\n<polyline fill=\"none\" points=\"181,-581.5 181,-627.5 \" stroke=\"#000000\"/>\n<text fill=\"#000000\" font-family=\"Times,serif\" font-size=\"14.00\" text-anchor=\"middle\" x=\"210\" y=\"-612.3\">input:</text>\n<polyline fill=\"none\" points=\"181,-604.5 239,-604.5 \" stroke=\"#000000\"/>\n<text fill=\"#000000\" font-family=\"Times,serif\" font-size=\"14.00\" text-anchor=\"middle\" x=\"210\" y=\"-589.3\">output:</text>\n<polyline fill=\"none\" points=\"239,-581.5 239,-627.5 \" stroke=\"#000000\"/>\n<text fill=\"#000000\" font-family=\"Times,serif\" font-size=\"14.00\" text-anchor=\"middle\" x=\"281\" y=\"-612.3\">(?, 1, 2, 25)</text>\n<polyline fill=\"none\" points=\"239,-604.5 323,-604.5 \" stroke=\"#000000\"/>\n<text fill=\"#000000\" font-family=\"Times,serif\" font-size=\"14.00\" text-anchor=\"middle\" x=\"281\" y=\"-589.3\">(?, 1, 2, 15)</text>\n</g>\n<!-- 140616910732704&#45;&gt;140616910729904 -->\n<g class=\"edge\" id=\"edge7\">\n<title>140616910732704-&gt;140616910729904</title>\n<path d=\"M185.5,-664.3799C185.5,-656.1745 185.5,-646.7679 185.5,-637.8786\" fill=\"none\" stroke=\"#000000\"/>\n<polygon fill=\"#000000\" points=\"189.0001,-637.784 185.5,-627.784 182.0001,-637.784 189.0001,-637.784\" stroke=\"#000000\"/>\n</g>\n<!-- 140616846413896 -->\n<g class=\"node\" id=\"node9\">\n<title>140616846413896</title>\n<polygon fill=\"none\" points=\"4,-498.5 4,-544.5 367,-544.5 367,-498.5 4,-498.5\" stroke=\"#000000\"/>\n<text fill=\"#000000\" font-family=\"Times,serif\" font-size=\"14.00\" text-anchor=\"middle\" x=\"114.5\" y=\"-517.8\">max_pooling2d_3: MaxPooling2D</text>\n<polyline fill=\"none\" points=\"225,-498.5 225,-544.5 \" stroke=\"#000000\"/>\n<text fill=\"#000000\" font-family=\"Times,serif\" font-size=\"14.00\" text-anchor=\"middle\" x=\"254\" y=\"-529.3\">input:</text>\n<polyline fill=\"none\" points=\"225,-521.5 283,-521.5 \" stroke=\"#000000\"/>\n<text fill=\"#000000\" font-family=\"Times,serif\" font-size=\"14.00\" text-anchor=\"middle\" x=\"254\" y=\"-506.3\">output:</text>\n<polyline fill=\"none\" points=\"283,-498.5 283,-544.5 \" stroke=\"#000000\"/>\n<text fill=\"#000000\" font-family=\"Times,serif\" font-size=\"14.00\" text-anchor=\"middle\" x=\"325\" y=\"-529.3\">(?, 1, 2, 15)</text>\n<polyline fill=\"none\" points=\"283,-521.5 367,-521.5 \" stroke=\"#000000\"/>\n<text fill=\"#000000\" font-family=\"Times,serif\" font-size=\"14.00\" text-anchor=\"middle\" x=\"325\" y=\"-506.3\">(?, 1, 1, 15)</text>\n</g>\n<!-- 140616910729904&#45;&gt;140616846413896 -->\n<g class=\"edge\" id=\"edge8\">\n<title>140616910729904-&gt;140616846413896</title>\n<path d=\"M185.5,-581.3799C185.5,-573.1745 185.5,-563.7679 185.5,-554.8786\" fill=\"none\" stroke=\"#000000\"/>\n<polygon fill=\"#000000\" points=\"189.0001,-554.784 185.5,-544.784 182.0001,-554.784 189.0001,-554.784\" stroke=\"#000000\"/>\n</g>\n<!-- 140616846417088 -->\n<g class=\"node\" id=\"node10\">\n<title>140616846417088</title>\n<polygon fill=\"none\" points=\"55,-415.5 55,-461.5 316,-461.5 316,-415.5 55,-415.5\" stroke=\"#000000\"/>\n<text fill=\"#000000\" font-family=\"Times,serif\" font-size=\"14.00\" text-anchor=\"middle\" x=\"114.5\" y=\"-434.8\">dropout: Dropout</text>\n<polyline fill=\"none\" points=\"174,-415.5 174,-461.5 \" stroke=\"#000000\"/>\n<text fill=\"#000000\" font-family=\"Times,serif\" font-size=\"14.00\" text-anchor=\"middle\" x=\"203\" y=\"-446.3\">input:</text>\n<polyline fill=\"none\" points=\"174,-438.5 232,-438.5 \" stroke=\"#000000\"/>\n<text fill=\"#000000\" font-family=\"Times,serif\" font-size=\"14.00\" text-anchor=\"middle\" x=\"203\" y=\"-423.3\">output:</text>\n<polyline fill=\"none\" points=\"232,-415.5 232,-461.5 \" stroke=\"#000000\"/>\n<text fill=\"#000000\" font-family=\"Times,serif\" font-size=\"14.00\" text-anchor=\"middle\" x=\"274\" y=\"-446.3\">(?, 1, 1, 15)</text>\n<polyline fill=\"none\" points=\"232,-438.5 316,-438.5 \" stroke=\"#000000\"/>\n<text fill=\"#000000\" font-family=\"Times,serif\" font-size=\"14.00\" text-anchor=\"middle\" x=\"274\" y=\"-423.3\">(?, 1, 1, 15)</text>\n</g>\n<!-- 140616846413896&#45;&gt;140616846417088 -->\n<g class=\"edge\" id=\"edge9\">\n<title>140616846413896-&gt;140616846417088</title>\n<path d=\"M185.5,-498.3799C185.5,-490.1745 185.5,-480.7679 185.5,-471.8786\" fill=\"none\" stroke=\"#000000\"/>\n<polygon fill=\"#000000\" points=\"189.0001,-471.784 185.5,-461.784 182.0001,-471.784 189.0001,-471.784\" stroke=\"#000000\"/>\n</g>\n<!-- 140616846415072 -->\n<g class=\"node\" id=\"node11\">\n<title>140616846415072</title>\n<polygon fill=\"none\" points=\"65.5,-332.5 65.5,-378.5 305.5,-378.5 305.5,-332.5 65.5,-332.5\" stroke=\"#000000\"/>\n<text fill=\"#000000\" font-family=\"Times,serif\" font-size=\"14.00\" text-anchor=\"middle\" x=\"114.5\" y=\"-351.8\">flatten: Flatten</text>\n<polyline fill=\"none\" points=\"163.5,-332.5 163.5,-378.5 \" stroke=\"#000000\"/>\n<text fill=\"#000000\" font-family=\"Times,serif\" font-size=\"14.00\" text-anchor=\"middle\" x=\"192.5\" y=\"-363.3\">input:</text>\n<polyline fill=\"none\" points=\"163.5,-355.5 221.5,-355.5 \" stroke=\"#000000\"/>\n<text fill=\"#000000\" font-family=\"Times,serif\" font-size=\"14.00\" text-anchor=\"middle\" x=\"192.5\" y=\"-340.3\">output:</text>\n<polyline fill=\"none\" points=\"221.5,-332.5 221.5,-378.5 \" stroke=\"#000000\"/>\n<text fill=\"#000000\" font-family=\"Times,serif\" font-size=\"14.00\" text-anchor=\"middle\" x=\"263.5\" y=\"-363.3\">(?, 1, 1, 15)</text>\n<polyline fill=\"none\" points=\"221.5,-355.5 305.5,-355.5 \" stroke=\"#000000\"/>\n<text fill=\"#000000\" font-family=\"Times,serif\" font-size=\"14.00\" text-anchor=\"middle\" x=\"263.5\" y=\"-340.3\">(?, 15)</text>\n</g>\n<!-- 140616846417088&#45;&gt;140616846415072 -->\n<g class=\"edge\" id=\"edge10\">\n<title>140616846417088-&gt;140616846415072</title>\n<path d=\"M185.5,-415.3799C185.5,-407.1745 185.5,-397.7679 185.5,-388.8786\" fill=\"none\" stroke=\"#000000\"/>\n<polygon fill=\"#000000\" points=\"189.0001,-388.784 185.5,-378.784 182.0001,-388.784 189.0001,-388.784\" stroke=\"#000000\"/>\n</g>\n<!-- 140616846414232 -->\n<g class=\"node\" id=\"node12\">\n<title>140616846414232</title>\n<polygon fill=\"none\" points=\"83.5,-249.5 83.5,-295.5 287.5,-295.5 287.5,-249.5 83.5,-249.5\" stroke=\"#000000\"/>\n<text fill=\"#000000\" font-family=\"Times,serif\" font-size=\"14.00\" text-anchor=\"middle\" x=\"129.5\" y=\"-268.8\">dense: Dense</text>\n<polyline fill=\"none\" points=\"175.5,-249.5 175.5,-295.5 \" stroke=\"#000000\"/>\n<text fill=\"#000000\" font-family=\"Times,serif\" font-size=\"14.00\" text-anchor=\"middle\" x=\"204.5\" y=\"-280.3\">input:</text>\n<polyline fill=\"none\" points=\"175.5,-272.5 233.5,-272.5 \" stroke=\"#000000\"/>\n<text fill=\"#000000\" font-family=\"Times,serif\" font-size=\"14.00\" text-anchor=\"middle\" x=\"204.5\" y=\"-257.3\">output:</text>\n<polyline fill=\"none\" points=\"233.5,-249.5 233.5,-295.5 \" stroke=\"#000000\"/>\n<text fill=\"#000000\" font-family=\"Times,serif\" font-size=\"14.00\" text-anchor=\"middle\" x=\"260.5\" y=\"-280.3\">(?, 15)</text>\n<polyline fill=\"none\" points=\"233.5,-272.5 287.5,-272.5 \" stroke=\"#000000\"/>\n<text fill=\"#000000\" font-family=\"Times,serif\" font-size=\"14.00\" text-anchor=\"middle\" x=\"260.5\" y=\"-257.3\">(?, 10)</text>\n</g>\n<!-- 140616846415072&#45;&gt;140616846414232 -->\n<g class=\"edge\" id=\"edge11\">\n<title>140616846415072-&gt;140616846414232</title>\n<path d=\"M185.5,-332.3799C185.5,-324.1745 185.5,-314.7679 185.5,-305.8786\" fill=\"none\" stroke=\"#000000\"/>\n<polygon fill=\"#000000\" points=\"189.0001,-305.784 185.5,-295.784 182.0001,-305.784 189.0001,-305.784\" stroke=\"#000000\"/>\n</g>\n<!-- 140616846442448 -->\n<g class=\"node\" id=\"node13\">\n<title>140616846442448</title>\n<polygon fill=\"none\" points=\"76,-166.5 76,-212.5 295,-212.5 295,-166.5 76,-166.5\" stroke=\"#000000\"/>\n<text fill=\"#000000\" font-family=\"Times,serif\" font-size=\"14.00\" text-anchor=\"middle\" x=\"129.5\" y=\"-185.8\">dense_1: Dense</text>\n<polyline fill=\"none\" points=\"183,-166.5 183,-212.5 \" stroke=\"#000000\"/>\n<text fill=\"#000000\" font-family=\"Times,serif\" font-size=\"14.00\" text-anchor=\"middle\" x=\"212\" y=\"-197.3\">input:</text>\n<polyline fill=\"none\" points=\"183,-189.5 241,-189.5 \" stroke=\"#000000\"/>\n<text fill=\"#000000\" font-family=\"Times,serif\" font-size=\"14.00\" text-anchor=\"middle\" x=\"212\" y=\"-174.3\">output:</text>\n<polyline fill=\"none\" points=\"241,-166.5 241,-212.5 \" stroke=\"#000000\"/>\n<text fill=\"#000000\" font-family=\"Times,serif\" font-size=\"14.00\" text-anchor=\"middle\" x=\"268\" y=\"-197.3\">(?, 10)</text>\n<polyline fill=\"none\" points=\"241,-189.5 295,-189.5 \" stroke=\"#000000\"/>\n<text fill=\"#000000\" font-family=\"Times,serif\" font-size=\"14.00\" text-anchor=\"middle\" x=\"268\" y=\"-174.3\">(?, 10)</text>\n</g>\n<!-- 140616846414232&#45;&gt;140616846442448 -->\n<g class=\"edge\" id=\"edge12\">\n<title>140616846414232-&gt;140616846442448</title>\n<path d=\"M185.5,-249.3799C185.5,-241.1745 185.5,-231.7679 185.5,-222.8786\" fill=\"none\" stroke=\"#000000\"/>\n<polygon fill=\"#000000\" points=\"189.0001,-222.784 185.5,-212.784 182.0001,-222.784 189.0001,-222.784\" stroke=\"#000000\"/>\n</g>\n<!-- 140616846413104 -->\n<g class=\"node\" id=\"node14\">\n<title>140616846413104</title>\n<polygon fill=\"none\" points=\"76,-83.5 76,-129.5 295,-129.5 295,-83.5 76,-83.5\" stroke=\"#000000\"/>\n<text fill=\"#000000\" font-family=\"Times,serif\" font-size=\"14.00\" text-anchor=\"middle\" x=\"129.5\" y=\"-102.8\">dense_2: Dense</text>\n<polyline fill=\"none\" points=\"183,-83.5 183,-129.5 \" stroke=\"#000000\"/>\n<text fill=\"#000000\" font-family=\"Times,serif\" font-size=\"14.00\" text-anchor=\"middle\" x=\"212\" y=\"-114.3\">input:</text>\n<polyline fill=\"none\" points=\"183,-106.5 241,-106.5 \" stroke=\"#000000\"/>\n<text fill=\"#000000\" font-family=\"Times,serif\" font-size=\"14.00\" text-anchor=\"middle\" x=\"212\" y=\"-91.3\">output:</text>\n<polyline fill=\"none\" points=\"241,-83.5 241,-129.5 \" stroke=\"#000000\"/>\n<text fill=\"#000000\" font-family=\"Times,serif\" font-size=\"14.00\" text-anchor=\"middle\" x=\"268\" y=\"-114.3\">(?, 10)</text>\n<polyline fill=\"none\" points=\"241,-106.5 295,-106.5 \" stroke=\"#000000\"/>\n<text fill=\"#000000\" font-family=\"Times,serif\" font-size=\"14.00\" text-anchor=\"middle\" x=\"268\" y=\"-91.3\">(?, 10)</text>\n</g>\n<!-- 140616846442448&#45;&gt;140616846413104 -->\n<g class=\"edge\" id=\"edge13\">\n<title>140616846442448-&gt;140616846413104</title>\n<path d=\"M185.5,-166.3799C185.5,-158.1745 185.5,-148.7679 185.5,-139.8786\" fill=\"none\" stroke=\"#000000\"/>\n<polygon fill=\"#000000\" points=\"189.0001,-139.784 185.5,-129.784 182.0001,-139.784 189.0001,-139.784\" stroke=\"#000000\"/>\n</g>\n<!-- 140616846474544 -->\n<g class=\"node\" id=\"node15\">\n<title>140616846474544</title>\n<polygon fill=\"none\" points=\"76,-.5 76,-46.5 295,-46.5 295,-.5 76,-.5\" stroke=\"#000000\"/>\n<text fill=\"#000000\" font-family=\"Times,serif\" font-size=\"14.00\" text-anchor=\"middle\" x=\"129.5\" y=\"-19.8\">dense_3: Dense</text>\n<polyline fill=\"none\" points=\"183,-.5 183,-46.5 \" stroke=\"#000000\"/>\n<text fill=\"#000000\" font-family=\"Times,serif\" font-size=\"14.00\" text-anchor=\"middle\" x=\"212\" y=\"-31.3\">input:</text>\n<polyline fill=\"none\" points=\"183,-23.5 241,-23.5 \" stroke=\"#000000\"/>\n<text fill=\"#000000\" font-family=\"Times,serif\" font-size=\"14.00\" text-anchor=\"middle\" x=\"212\" y=\"-8.3\">output:</text>\n<polyline fill=\"none\" points=\"241,-.5 241,-46.5 \" stroke=\"#000000\"/>\n<text fill=\"#000000\" font-family=\"Times,serif\" font-size=\"14.00\" text-anchor=\"middle\" x=\"268\" y=\"-31.3\">(?, 10)</text>\n<polyline fill=\"none\" points=\"241,-23.5 295,-23.5 \" stroke=\"#000000\"/>\n<text fill=\"#000000\" font-family=\"Times,serif\" font-size=\"14.00\" text-anchor=\"middle\" x=\"268\" y=\"-8.3\">(?, 4)</text>\n</g>\n<!-- 140616846413104&#45;&gt;140616846474544 -->\n<g class=\"edge\" id=\"edge14\">\n<title>140616846413104-&gt;140616846474544</title>\n<path d=\"M185.5,-83.3799C185.5,-75.1745 185.5,-65.7679 185.5,-56.8786\" fill=\"none\" stroke=\"#000000\"/>\n<polygon fill=\"#000000\" points=\"189.0001,-56.784 185.5,-46.784 182.0001,-56.784 189.0001,-56.784\" stroke=\"#000000\"/>\n</g>\n</g>\n</svg>"
          },
          "metadata": {
            "tags": []
          },
          "execution_count": 64
        }
      ]
    },
    {
      "cell_type": "code",
      "metadata": {
        "id": "Uj-oLbXqqEdW",
        "colab_type": "code",
        "outputId": "0a2058e2-653c-4b32-9ba0-693966b17aac",
        "colab": {
          "base_uri": "https://localhost:8080/",
          "height": 726
        }
      },
      "source": [
        "epocas = 20\n",
        "batchSize = 5000\n",
        "\n",
        "#modelo1.compile(loss='sparse_categorical_crossentropy', optimizer = \"rmsprop\", metrics = ['sparse_categorical_accuracy'])\n",
        "\n",
        "for i in range(0,1):\n",
        "  #hist = modelo1.fit(x, y, verbose = 1, validation_data=(x, y), epochs = epocas, batch_size = batchSize)#, class_weight = pesosClases)\n",
        "  hist = modelo2.fit(x_train_1, y_train, validation_data=(x_test_1, y_test), epochs = epocas, batch_size = batchSize, class_weight = pesosClases)\n",
        " \n",
        "\n",
        "  #SVG(model_to_dot(modelo1, show_shapes = True, expand_nested = True, dpi = 60).create(prog='dot', format='svg'))"
      ],
      "execution_count": 0,
      "outputs": [
        {
          "output_type": "stream",
          "text": [
            "Train on 299016 samples, validate on 10091 samples\n",
            "Epoch 1/20\n",
            "299016/299016 [==============================] - 4s 14us/sample - loss: 0.5800 - sparse_categorical_accuracy: 0.7906 - val_loss: 0.5940 - val_sparse_categorical_accuracy: 0.8790\n",
            "Epoch 2/20\n",
            "299016/299016 [==============================] - 4s 14us/sample - loss: 0.5746 - sparse_categorical_accuracy: 0.7920 - val_loss: 0.4970 - val_sparse_categorical_accuracy: 0.9037\n",
            "Epoch 3/20\n",
            "299016/299016 [==============================] - 4s 13us/sample - loss: 0.5714 - sparse_categorical_accuracy: 0.7936 - val_loss: 0.6483 - val_sparse_categorical_accuracy: 0.8693\n",
            "Epoch 4/20\n",
            "299016/299016 [==============================] - 4s 13us/sample - loss: 0.5654 - sparse_categorical_accuracy: 0.7964 - val_loss: 0.5951 - val_sparse_categorical_accuracy: 0.8803\n",
            "Epoch 5/20\n",
            "299016/299016 [==============================] - 4s 13us/sample - loss: 0.5643 - sparse_categorical_accuracy: 0.7977 - val_loss: 0.5611 - val_sparse_categorical_accuracy: 0.8975\n",
            "Epoch 6/20\n",
            "299016/299016 [==============================] - 4s 13us/sample - loss: 0.5623 - sparse_categorical_accuracy: 0.7975 - val_loss: 0.5609 - val_sparse_categorical_accuracy: 0.8881\n",
            "Epoch 7/20\n",
            "299016/299016 [==============================] - 4s 13us/sample - loss: 0.5562 - sparse_categorical_accuracy: 0.8007 - val_loss: 0.6626 - val_sparse_categorical_accuracy: 0.8741\n",
            "Epoch 8/20\n",
            "299016/299016 [==============================] - 4s 13us/sample - loss: 0.5540 - sparse_categorical_accuracy: 0.8011 - val_loss: 0.5039 - val_sparse_categorical_accuracy: 0.8956\n",
            "Epoch 9/20\n",
            "299016/299016 [==============================] - 4s 13us/sample - loss: 0.5513 - sparse_categorical_accuracy: 0.8030 - val_loss: 0.6240 - val_sparse_categorical_accuracy: 0.8756\n",
            "Epoch 10/20\n",
            "299016/299016 [==============================] - 4s 13us/sample - loss: 0.5459 - sparse_categorical_accuracy: 0.8053 - val_loss: 0.4712 - val_sparse_categorical_accuracy: 0.9019\n",
            "Epoch 11/20\n",
            "299016/299016 [==============================] - 4s 14us/sample - loss: 0.5444 - sparse_categorical_accuracy: 0.8075 - val_loss: 0.6086 - val_sparse_categorical_accuracy: 0.8573\n",
            "Epoch 12/20\n",
            "299016/299016 [==============================] - 4s 13us/sample - loss: 0.5367 - sparse_categorical_accuracy: 0.8110 - val_loss: 0.5820 - val_sparse_categorical_accuracy: 0.8666\n",
            "Epoch 13/20\n",
            "299016/299016 [==============================] - 4s 14us/sample - loss: 0.5336 - sparse_categorical_accuracy: 0.8118 - val_loss: 0.5318 - val_sparse_categorical_accuracy: 0.8865\n",
            "Epoch 14/20\n",
            "299016/299016 [==============================] - 4s 13us/sample - loss: 0.5317 - sparse_categorical_accuracy: 0.8127 - val_loss: 0.4961 - val_sparse_categorical_accuracy: 0.8939\n",
            "Epoch 15/20\n",
            "299016/299016 [==============================] - 4s 13us/sample - loss: 0.5277 - sparse_categorical_accuracy: 0.8146 - val_loss: 0.4973 - val_sparse_categorical_accuracy: 0.8954\n",
            "Epoch 16/20\n",
            "299016/299016 [==============================] - 4s 14us/sample - loss: 0.5226 - sparse_categorical_accuracy: 0.8170 - val_loss: 0.6280 - val_sparse_categorical_accuracy: 0.8515\n",
            "Epoch 17/20\n",
            "299016/299016 [==============================] - 4s 14us/sample - loss: 0.5199 - sparse_categorical_accuracy: 0.8181 - val_loss: 0.4965 - val_sparse_categorical_accuracy: 0.8851\n",
            "Epoch 18/20\n",
            "299016/299016 [==============================] - 4s 13us/sample - loss: 0.5195 - sparse_categorical_accuracy: 0.8185 - val_loss: 0.5355 - val_sparse_categorical_accuracy: 0.8860\n",
            "Epoch 19/20\n",
            "299016/299016 [==============================] - 4s 14us/sample - loss: 0.5142 - sparse_categorical_accuracy: 0.8208 - val_loss: 0.6674 - val_sparse_categorical_accuracy: 0.8398\n",
            "Epoch 20/20\n",
            "299016/299016 [==============================] - 4s 14us/sample - loss: 0.5159 - sparse_categorical_accuracy: 0.8196 - val_loss: 0.4999 - val_sparse_categorical_accuracy: 0.8939\n"
          ],
          "name": "stdout"
        }
      ]
    },
    {
      "cell_type": "code",
      "metadata": {
        "id": "SdyWApH34tHk",
        "colab_type": "code",
        "outputId": "911738ad-b2e5-4271-f392-f2c8477a25b5",
        "colab": {
          "base_uri": "https://localhost:8080/",
          "height": 511
        }
      },
      "source": [
        "graficarMatrizConfusion(y_true=y_test, y_pred=modelo2.predict_classes(x_test_1))"
      ],
      "execution_count": 0,
      "outputs": [
        {
          "output_type": "display_data",
          "data": {
            "image/png": "[encoded data removed]",
            "text/plain": [
              "<Figure size 576x576 with 1 Axes>"
            ]
          },
          "metadata": {
            "tags": [],
            "needs_background": "light"
          }
        }
      ]
    },
    {
      "cell_type": "code",
      "metadata": {
        "id": "OQWpeq3ShE7J",
        "colab_type": "code",
        "outputId": "6cbcddac-9c00-4864-c30a-a86605f501b9",
        "colab": {
          "base_uri": "https://localhost:8080/",
          "height": 511
        }
      },
      "source": [
        "graficarMatrizConfusion(y_true=y, y_pred=modelo2.predict_classes(x2))"
      ],
      "execution_count": 0,
      "outputs": [
        {
          "output_type": "display_data",
          "data": {
            "image/png": "[encoded data removed]",
            "text/plain": [
              "<Figure size 576x576 with 1 Axes>"
            ]
          },
          "metadata": {
            "tags": [],
            "needs_background": "light"
          }
        }
      ]
    },
    {
      "cell_type": "markdown",
      "metadata": {
        "id": "f8gAttxY9S12",
        "colab_type": "text"
      },
      "source": [
        "### Modelo CNN 2D y 2D"
      ]
    },
    {
      "cell_type": "code",
      "metadata": {
        "id": "l7VWpqoH9Sjf",
        "colab_type": "code",
        "colab": {}
      },
      "source": [
        "def crearModelo_2D_y_2D(pTasa, pAlpha, pNumFiltros, pTamFiltros, pTamPooling, pNumNeuronas, pOptimizer, T_entrada_1, T_entrada_2, T_entrada_3):\n",
        "  # CONV 1D\n",
        "  capaEntrada_1 = Input(shape = (T_entrada_3,1))\n",
        "\n",
        "  capa1_1 = Conv2D(pNumFiltros[0], int(pTamFiltros[0]), padding='same', activation = 'relu')(capaEntrada_1)\n",
        "  pooling1_1 = MaxPooling2D(int(pTamPooling[0]), padding='same')(capa1_1)\n",
        "\n",
        "  capa2_1 = Conv2D(pNumFiltros[1], int(pTamFiltros[1]), padding='same', activation = 'relu')(pooling1_1)\n",
        "  pooling2_1 = MaxPooling2D(int(pTamPooling[1]), padding='same')(capa2_1)\n",
        "  \n",
        "  flatten_1 = Flatten()(pooling2_1)\n",
        "\n",
        "  # CONV 2D\n",
        "  capaEntrada_2 = Input(shape = (1,T_entrada_1,T_entrada_2))\n",
        "\n",
        "  capa1_2 = Conv2D(pNumFiltros[0], int(pTamFiltros[0]), padding='same', activation = 'relu')(capaEntrada_2)\n",
        "  pooling1_2 = MaxPooling2D(int(pTamPooling[0]), padding='same')(capa1_2)\n",
        "\n",
        "  capa2_2 = Conv2D(pNumFiltros[1], int(pTamFiltros[1]), padding='same', activation = 'relu')(pooling1_2)\n",
        "  pooling2_2 = MaxPooling2D(int(pTamPooling[1]), padding='same')(capa2_2)\n",
        "  \n",
        "  flatten_2 = Flatten()(pooling2_2)\n",
        "\n",
        "\n",
        "  capas = concatenate([flatten_1, flatten_2])\n",
        "\n",
        "  capas = Dropout(0.5)(capas)\n",
        "  \n",
        "  capas = Dense(pNumNeuronas[0], activation='relu')(capas)\n",
        "  capas = Dense(pNumNeuronas[1], activation='relu')(capas)\n",
        "\n",
        "  capaSalida = Dense(4, activation='softmax')(capas)\n",
        "\n",
        "  #modelo = Sequential()\n",
        "  modelo = Model(inputs = [capaEntrada_1, capaEntrada_2], outputs = capaSalida)\n",
        "\n",
        "  sgd = optimizers.SGD(lr = pTasa)#, momentum=0.9)\n",
        "  adam = optimizers.Adam(learning_rate = pTasa)\n",
        "  if pOptimizer == \"adam\":\n",
        "    opt=adam\n",
        "  elif pOptimizer ==\"sgd\":\n",
        "    opt=sgd\n",
        "  elif pOptimizer ==\"rmsprop\":\n",
        "    opt = \"rmsprop\"\n",
        "  \n",
        "  modelo.compile(loss='sparse_categorical_crossentropy', optimizer = opt, metrics = ['sparse_categorical_accuracy'])\n",
        "  modelo.summary()\n",
        "  \n",
        "  return modelo"
      ],
      "execution_count": 0,
      "outputs": []
    },
    {
      "cell_type": "code",
      "metadata": {
        "id": "wmDDpgu-_V7l",
        "colab_type": "code",
        "colab": {}
      },
      "source": [
        "#Esta celda construye los modelos, a partir de los parametros especificados por cada una de las siguientes variables.\n",
        "#Es el numero de filtros que cada capa convolucional utiliza.\n",
        "numFiltros = np.array([5, 10, 10, 10, 10, 10])\n",
        "\n",
        "#Es el tamaño de los filtros utilizados en cada capa convolucional.\n",
        "tamFiltros = np.array([10, 10, 10, 8, 8, 5])\n",
        "\n",
        "#Es el tamaño de cada capa de Pooling.\n",
        "tamPooling = np.array([5, 5, 3, 3, 3, 3])\n",
        "\n",
        "#Es el numero de neuronas en cada capa de la red neuronal que sigue despues de la parte convolucional.\n",
        "numNeuronas = np.array([4, 4, 10])\n",
        "\n",
        "#Es el tipo de optimizador a utilizar.\n",
        "#Se pueden especificar: \"sgd\", \"adam\" o \"rmsprop\"\n",
        "optimizer=\"rmsprop\"\n",
        "\n",
        "#Es la tasa de aprendizaje del optimizador.\n",
        "tasa = 0.1\n",
        "\n",
        "#Es el parametro de regularizacion a utilizar.\n",
        "alpha = 0.01"
      ],
      "execution_count": 0,
      "outputs": []
    },
    {
      "cell_type": "code",
      "metadata": {
        "id": "GlKCT9-R_cDz",
        "colab_type": "code",
        "colab": {}
      },
      "source": [
        "Numero_Datos, uno, alto_1, ancho_1=x_train_1.shape\n",
        "Numero_Datos, uno, alto_2, ancho_2=x_train_2.shape\n",
        "\n",
        "modelo3 = crearModelo_2D_y_2D(tasa, alpha, numFiltros, tamFiltros, tamPooling, numNeuronas, optimizer,T_entrada_1=alto_2, T_entrada_2=ancho_2, T_entrada_3=ancho_1)\n",
        "\n",
        "#Esta linea muestra un diagrama de la red neuronal.\n",
        "SVG(model_to_dot(modelo3, show_shapes = True, expand_nested = True, dpi = 50).create(prog='dot', format='svg'))"
      ],
      "execution_count": 0,
      "outputs": []
    },
    {
      "cell_type": "code",
      "metadata": {
        "id": "j5MslqxyAg29",
        "colab_type": "code",
        "colab": {}
      },
      "source": [
        "epocas = 100\n",
        "batchSize = 5000\n",
        "\n",
        "#modelo1.compile(loss='sparse_categorical_crossentropy', optimizer = \"rmsprop\", metrics = ['sparse_categorical_accuracy'])\n",
        "\n",
        "for i in range(0,1):\n",
        "  #hist = modelo1.fit(x, y, verbose = 1, validation_data=(x, y), epochs = epocas, batch_size = batchSize)#, class_weight = pesosClases)\n",
        "  hist = modelo3.fit([x_train_1,x_train_2], y_train, validation_data=([x_test_1,x_test_2], y_test), epochs = epocas, batch_size = batchSize, class_weight = pesosClases)\n",
        " \n",
        "                        \n"
      ],
      "execution_count": 0,
      "outputs": []
    },
    {
      "cell_type": "code",
      "metadata": {
        "id": "-ZPM86uRAxgr",
        "colab_type": "code",
        "colab": {}
      },
      "source": [
        "y_prob = modelo3.predict ([x_test_1,x_test_2])\n",
        "y_pred_=y_prob.argmax(axis=-1)\n",
        "graficarMatrizConfusion(y_true=y_test, y_pred=y_pred_)"
      ],
      "execution_count": 0,
      "outputs": []
    },
    {
      "cell_type": "code",
      "metadata": {
        "id": "DCoBXf9oj9VB",
        "colab_type": "code",
        "colab": {}
      },
      "source": [
        "y_prob = modelo3.predict ([x_test_1,x_test_2])\n",
        "y_pred_=y_prob.argmax(axis=-1)\n",
        "graficarMatrizConfusion(y_true=y_test, y_pred=y_pred_)"
      ],
      "execution_count": 0,
      "outputs": []
    },
    {
      "cell_type": "markdown",
      "metadata": {
        "id": "9VxRH3Mb0TaM",
        "colab_type": "text"
      },
      "source": [
        "# Pruebas"
      ]
    },
    {
      "cell_type": "code",
      "metadata": {
        "id": "wFAPlXWNmj07",
        "colab_type": "code",
        "colab": {}
      },
      "source": [
        "import timeit"
      ],
      "execution_count": 0,
      "outputs": []
    },
    {
      "cell_type": "code",
      "metadata": {
        "id": "goaQsTYDEQ_S",
        "colab_type": "code",
        "outputId": "25721f05-bbfd-4a86-b06c-36f461d7d96e",
        "colab": {
          "base_uri": "https://localhost:8080/",
          "height": 286
        }
      },
      "source": [
        "frameData, fs = librosa.load(\"drive/My Drive/Proyecto Especial Italiano/MIVIA_DB4_dist/training/sounds/00001_6.wav\", sr=16000, res_type='kaiser_fast') #Audio seleccionado\n",
        "start = timeit.timeit()\n",
        "x,y,ps =  signal.spectrogram(x=frameData[0:1600], fs=fs, window = np.hamming(400), nperseg =400 , nfft = 400, noverlap = int(200) )\n",
        "S_dB = 10*np.log10(ps)\n",
        "end = timeit.timeit()\n",
        "\n",
        "#librosa.display.specshow(S_dB, x_axis='time',\n",
        " #                       y_axis='mel', sr=fs,hop_length=int(512/4),\n",
        "  #                        fmax=8000)\n",
        "\n",
        "plt.pcolormesh(y,x,S_dB)\n",
        "hola_1 = (end - start)\n",
        "print(hola_1)"
      ],
      "execution_count": 0,
      "outputs": [
        {
          "output_type": "stream",
          "text": [
            "0.00018936300000405026\n"
          ],
          "name": "stdout"
        },
        {
          "output_type": "display_data",
          "data": {
            "image/png": "[encoded data removed]",
            "text/plain": [
              "<Figure size 432x288 with 1 Axes>"
            ]
          },
          "metadata": {
            "tags": []
          }
        }
      ]
    },
    {
      "cell_type": "code",
      "metadata": {
        "id": "r-IVd_XjhaaV",
        "colab_type": "code",
        "outputId": "0d0cfbd1-406e-449c-ddf5-846b63587ef6",
        "colab": {
          "base_uri": "https://localhost:8080/",
          "height": 313
        }
      },
      "source": [
        "frameData, fs = librosa.load(\"drive/My Drive/Proyecto Especial Italiano/MIVIA_DB4_dist/training/sounds/00001_6.wav\", sr=16000, res_type='kaiser_fast') #Audio seleccionado\n",
        "start = timeit.timeit()\n",
        "ps = librosa.feature.melspectrogram(y=frameData[0:1600], sr=fs, n_fft = 400, hop_length = int(200)  )\n",
        "S_dB = librosa.power_to_db(ps, ref=np.max)\n",
        "end = timeit.timeit()\n",
        "\n",
        "\n",
        "hola_2 = (end - start)\n",
        "librosa.display.specshow(S_dB, x_axis='time',\n",
        "                        y_axis='mel', sr=fs,hop_length=int(200),\n",
        "                          fmax=16000)\n",
        "print(hola_2)\n",
        "hola_2-hola_1"
      ],
      "execution_count": 0,
      "outputs": [
        {
          "output_type": "stream",
          "text": [
            "0.00039489700009198714\n"
          ],
          "name": "stdout"
        },
        {
          "output_type": "execute_result",
          "data": {
            "text/plain": [
              "0.00020553400008793687"
            ]
          },
          "metadata": {
            "tags": []
          },
          "execution_count": 19
        },
        {
          "output_type": "display_data",
          "data": {
            "image/png": "[encoded data removed]",
            "text/plain": [
              "<Figure size 432x288 with 1 Axes>"
            ]
          },
          "metadata": {
            "tags": []
          }
        }
      ]
    },
    {
      "cell_type": "code",
      "metadata": {
        "id": "JOm0ZL2a-TYe",
        "colab_type": "code",
        "outputId": "134eee98-77fa-4d72-d000-ad0db16caf10",
        "colab": {
          "base_uri": "https://localhost:8080/",
          "height": 430
        }
      },
      "source": [
        "= frameData, fs = librosa.load(\"drive/My Drive/Proyecto Especial Italiano/MIVIA_DB4_dist/training/sounds/00001_6.wav\", sr=16000, res_type='kaiser_fast') #Audio seleccionado\n",
        "ps = librosa.feature.mfcc(y=frameData[0:800], sr=fs, n_mfcc=13, n_fft = 490, hop_length = 10, htk=True )\n",
        "#ps = preprocessing.scale(ps, axis=1)\n",
        "print(fs)\n",
        "print(ps.shape)\n",
        "print (ps.mean(axis=1))\n",
        "print (ps.var(axis=1))\n",
        "\n",
        "#S_dB = librosa.power_to_db(ps, ref=np.max)\n",
        "librosa.display.specshow(ps, x_axis='time', sr=fs,hop_length=int(512/4))\n",
        "plt.colorbar()"
      ],
      "execution_count": 0,
      "outputs": [
        {
          "output_type": "stream",
          "text": [
            "16000\n",
            "(13, 81)\n",
            "[-636.97328165  112.89538908  -55.27235917  -39.35811879  -26.96385187\n",
            "   14.45549824  -17.89835475   14.50935849  -10.4594912    -2.75587904\n",
            "  -11.64079737    4.61169338  -23.34611949]\n",
            "[148.17815613  50.86374099  84.80027241  17.56353333 103.31218257\n",
            "  39.67582151  38.52561358  55.89333215  26.13029353  23.96737997\n",
            "  26.78672775  43.68347741  23.70562007]\n"
          ],
          "name": "stdout"
        },
        {
          "output_type": "execute_result",
          "data": {
            "text/plain": [
              "<matplotlib.colorbar.Colorbar at 0x7f5ba6d5b208>"
            ]
          },
          "metadata": {
            "tags": []
          },
          "execution_count": 51
        },
        {
          "output_type": "display_data",
          "data": {
            "image/png": "[encoded data removed]",
            "text/plain": [
              "<Figure size 432x288 with 2 Axes>"
            ]
          },
          "metadata": {
            "tags": []
          }
        }
      ]
    }
  ]
}